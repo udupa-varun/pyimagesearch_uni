{
  "nbformat": 4,
  "nbformat_minor": 0,
  "metadata": {
    "colab": {
      "provenance": [],
      "authorship_tag": "ABX9TyOYldTeiUq4hWWI1qepHvYc",
      "include_colab_link": true
    },
    "kernelspec": {
      "name": "python3",
      "display_name": "Python 3"
    },
    "language_info": {
      "name": "python"
    },
    "accelerator": "GPU",
    "gpuClass": "standard"
  },
  "cells": [
    {
      "cell_type": "markdown",
      "metadata": {
        "id": "view-in-github",
        "colab_type": "text"
      },
      "source": [
        "<a href=\"https://colab.research.google.com/github/udupa-varun/pyimagesearch_uni/blob/main/deep_learning/106/keras_learning_rates.ipynb\" target=\"_parent\"><img src=\"https://colab.research.google.com/assets/colab-badge.svg\" alt=\"Open In Colab\"/></a>"
      ]
    },
    {
      "cell_type": "code",
      "execution_count": 1,
      "metadata": {
        "colab": {
          "base_uri": "https://localhost:8080/"
        },
        "id": "YoPeB7xVLB72",
        "outputId": "e5b46192-3258-407a-9608-775669566d2f"
      },
      "outputs": [
        {
          "output_type": "stream",
          "name": "stdout",
          "text": [
            "--2023-02-27 10:04:04--  https://pyimagesearch-code-downloads.s3-us-west-2.amazonaws.com/keras-learning-rates/keras-learning-rates.zip\n",
            "Resolving pyimagesearch-code-downloads.s3-us-west-2.amazonaws.com (pyimagesearch-code-downloads.s3-us-west-2.amazonaws.com)... 52.218.152.201, 52.92.132.242, 52.92.251.162, ...\n",
            "Connecting to pyimagesearch-code-downloads.s3-us-west-2.amazonaws.com (pyimagesearch-code-downloads.s3-us-west-2.amazonaws.com)|52.218.152.201|:443... connected.\n",
            "HTTP request sent, awaiting response... 200 OK\n",
            "Length: 293805 (287K) [binary/octet-stream]\n",
            "Saving to: ‘keras-learning-rates.zip’\n",
            "\n",
            "keras-learning-rate 100%[===================>] 286.92K   855KB/s    in 0.3s    \n",
            "\n",
            "2023-02-27 10:04:05 (855 KB/s) - ‘keras-learning-rates.zip’ saved [293805/293805]\n",
            "\n",
            "/content/keras-learning-rates\n"
          ]
        }
      ],
      "source": [
        "!wget https://pyimagesearch-code-downloads.s3-us-west-2.amazonaws.com/keras-learning-rates/keras-learning-rates.zip\n",
        "!unzip -qq keras-learning-rates.zip\n",
        "%cd keras-learning-rates"
      ]
    },
    {
      "cell_type": "code",
      "source": [
        "import argparse\n",
        "\n",
        "from sklearn.preprocessing import LabelBinarizer\n",
        "from sklearn.metrics import classification_report\n",
        "from tensorflow.keras.callbacks import LearningRateScheduler\n",
        "from tensorflow.keras.optimizers import SGD\n",
        "from tensorflow.keras.datasets import cifar10\n",
        "import matplotlib.pyplot as plt\n",
        "import numpy as np\n",
        "\n",
        "from pyimagesearch.resnet import ResNet"
      ],
      "metadata": {
        "id": "INDz3MhYLZxF"
      },
      "execution_count": 2,
      "outputs": []
    },
    {
      "cell_type": "code",
      "source": [
        "class LearningRateDecay:\n",
        "    def plot(self, epochs, title=\"Learning Rate Schedule\"):\n",
        "        # compute set of learning rates for each epoch\n",
        "        lrs = [self(i) for i in epochs]\n",
        "\n",
        "        # plot the learning rate schedule\n",
        "        plt.style.use(\"ggplot\")\n",
        "        plt.figure()\n",
        "        plt.plot(epochs, lrs)\n",
        "        plt.title(title)\n",
        "        plt.xlabel(\"Epoch #\")\n",
        "        plt.ylabel(\"Learning Rate\")"
      ],
      "metadata": {
        "id": "br4jZK-ZM2w9"
      },
      "execution_count": 3,
      "outputs": []
    },
    {
      "cell_type": "markdown",
      "source": [
        "### Step-based Learning Rate schedules"
      ],
      "metadata": {
        "id": "UtLnAzTON1ii"
      }
    },
    {
      "cell_type": "code",
      "source": [
        "class StepDecay(LearningRateDecay):\n",
        "    def __init__(self, init_alpha=0.1, factor=0.25, drop_every=10):\n",
        "        # store base learning rate, drop factor, drop period\n",
        "        self.init_alpha = init_alpha\n",
        "        self.factor = factor\n",
        "        self.drop_every = drop_every\n",
        "    \n",
        "    def __call__(self, epoch):\n",
        "        # compute learning rate for current epoch\n",
        "        exp = np.floor((1 + epoch) / self.drop_every)\n",
        "        alpha = self.init_alpha * (self.factor ** exp)\n",
        "\n",
        "        return float(alpha)"
      ],
      "metadata": {
        "id": "GpDubztuOFo7"
      },
      "execution_count": 4,
      "outputs": []
    },
    {
      "cell_type": "markdown",
      "source": [
        "### Linear and Polynomial Learning Rate schedules"
      ],
      "metadata": {
        "id": "lk0_Pqi-Q3GG"
      }
    },
    {
      "cell_type": "code",
      "source": [
        "class PolynomialDecay(LearningRateDecay):\n",
        "    def __init__(self, max_epochs=100, init_alpha=0.01, power=1.0):\n",
        "        # store params\n",
        "        self.max_epochs = max_epochs\n",
        "        self.init_alpha = init_alpha\n",
        "        self.power = power\n",
        "\n",
        "    def __call__(self, epoch):\n",
        "        # compute new learning rate based on polynomial decay\n",
        "        decay = (1 - (epoch / float(self.max_epochs))) ** self.power\n",
        "        alpha = self.init_alpha * decay\n",
        "\n",
        "        return float(alpha)"
      ],
      "metadata": {
        "id": "P9eSkZgqQ8-Q"
      },
      "execution_count": 5,
      "outputs": []
    },
    {
      "cell_type": "code",
      "source": [
        "args = {\n",
        "    \"schedule\": \"poly\",\n",
        "    \"epochs\": 100,\n",
        "    \"lr_plot\": \"output/my_lr_poly_schedule.png\",\n",
        "    \"train_plot\": \"output/my_train_poly_schedule.png\",\n",
        "}"
      ],
      "metadata": {
        "id": "QrSav4HURlZN"
      },
      "execution_count": 11,
      "outputs": []
    },
    {
      "cell_type": "code",
      "source": [
        "# init\n",
        "epochs = args[\"epochs\"]\n",
        "callbacks = []\n",
        "schedule = None\n",
        "\n",
        "# check to see if step based learning rate decay is to be used\n",
        "if args[\"schedule\"] == \"step\":\n",
        "    print(\"[INFO] using step-based learning rate decay...\")\n",
        "    schedule = StepDecay(init_alpha=1e-1, factor=0.25, drop_every=15)\n",
        "\n",
        "# or, linear learning rate decay\n",
        "elif args[\"schedule\"] == \"linear\":\n",
        "    print(\"[INFO] using linear learning rate decay...\")\n",
        "    schedule = PolynomialDecay(max_epochs=epochs, init_alpha=1e-1, power=1)\n",
        "\n",
        "# or, poly learning rate decay\n",
        "elif args[\"schedule\"] == \"poly\":\n",
        "    print(\"[INFO] using polynomial learning rate decay...\")\n",
        "    schedule = PolynomialDecay(max_epochs=epochs, init_alpha=1e-1, power=5)\n",
        "\n",
        "# if schedule is not empty, add it to list of callbacks\n",
        "if schedule is not None:\n",
        "    callbacks = [LearningRateScheduler(schedule)]\n"
      ],
      "metadata": {
        "colab": {
          "base_uri": "https://localhost:8080/"
        },
        "id": "QneZoCswRzhm",
        "outputId": "d6477065-bf37-47e3-93d4-f43d0b5df246"
      },
      "execution_count": 7,
      "outputs": [
        {
          "output_type": "stream",
          "name": "stdout",
          "text": [
            "[INFO] using polynomial learning rate decay...\n"
          ]
        }
      ]
    },
    {
      "cell_type": "code",
      "source": [
        "# load data and scale to [0, 1]\n",
        "print(\"[INFO] loading CIFAR-10 data...\")\n",
        "((train_x, train_y), (test_x, test_y)) = cifar10.load_data()\n",
        "train_x = train_x.astype(\"float\") / 255.0\n",
        "test_x = test_x.astype(\"float\") / 255.0\n",
        "\n",
        "# convert labels from integers to vectors\n",
        "lb = LabelBinarizer()\n",
        "train_y = lb.fit_transform(train_y)\n",
        "test_y = lb.fit_transform(test_y)\n",
        "\n",
        "# initialize the label names for the CIFAR-10 dataset\n",
        "label_names = [\"airplane\", \"automobile\", \"bird\", \"cat\", \"deer\",\n",
        "\t\"dog\", \"frog\", \"horse\", \"ship\", \"truck\"]"
      ],
      "metadata": {
        "colab": {
          "base_uri": "https://localhost:8080/"
        },
        "id": "poPlpDCZSxEw",
        "outputId": "2646ac4d-b33d-49e0-edc8-f423910d2d7d"
      },
      "execution_count": 8,
      "outputs": [
        {
          "output_type": "stream",
          "name": "stdout",
          "text": [
            "[INFO] loading CIFAR-10 data...\n",
            "Downloading data from https://www.cs.toronto.edu/~kriz/cifar-10-python.tar.gz\n",
            "170498071/170498071 [==============================] - 3s 0us/step\n"
          ]
        }
      ]
    },
    {
      "cell_type": "code",
      "source": [
        "# init decay for optimizer\n",
        "decay = 0.0\n",
        "\n",
        "# keras 'standard' decay\n",
        "# deprecated?\n",
        "if args[\"schedule\"] == \"standard\":\n",
        "    print(\"[INFO] using keras standard learning rate decay...\")\n",
        "    decay = 1e-1 / epochs\n",
        "\n",
        "# otherwise, no schedule being used\n",
        "elif schedule is None:\n",
        "    print(\"[INFO] no learning rate decay being used...\")"
      ],
      "metadata": {
        "id": "YITU-oxDS5r0"
      },
      "execution_count": 9,
      "outputs": []
    },
    {
      "cell_type": "code",
      "source": [
        "# init optimizer and model\n",
        "opt = SGD(learning_rate=1e-1, momentum=0.9)\n",
        "model = ResNet.build(32, 32, 3, 10, (9, 9, 9), (64, 64, 128, 256), reg=0.0005)\n",
        "\n",
        "# compile model\n",
        "model.compile(loss=\"categorical_crossentropy\", optimizer=opt, metrics=[\"accuracy\"])\n",
        "\n",
        "# train network\n",
        "H = model.fit(\n",
        "    train_x,\n",
        "    train_y,\n",
        "    validation_data=(test_x, test_y),\n",
        "    batch_size=128,\n",
        "    epochs=epochs,\n",
        "    callbacks=callbacks,\n",
        "    verbose=1\n",
        ")"
      ],
      "metadata": {
        "colab": {
          "base_uri": "https://localhost:8080/"
        },
        "id": "EyCkCLTwTVTh",
        "outputId": "1a2ffbb3-c7a5-43eb-fd91-d8243e8466c0"
      },
      "execution_count": 10,
      "outputs": [
        {
          "output_type": "stream",
          "name": "stdout",
          "text": [
            "Epoch 1/100\n",
            "391/391 [==============================] - 106s 172ms/step - loss: 2.1388 - accuracy: 0.4582 - val_loss: 1.8073 - val_accuracy: 0.5692 - lr: 0.1000\n",
            "Epoch 2/100\n",
            "391/391 [==============================] - 58s 149ms/step - loss: 1.5062 - accuracy: 0.6590 - val_loss: 1.5862 - val_accuracy: 0.6339 - lr: 0.0951\n",
            "Epoch 3/100\n",
            "391/391 [==============================] - 62s 157ms/step - loss: 1.2061 - accuracy: 0.7460 - val_loss: 1.1881 - val_accuracy: 0.7498 - lr: 0.0904\n",
            "Epoch 4/100\n",
            "391/391 [==============================] - 63s 161ms/step - loss: 1.0300 - accuracy: 0.7962 - val_loss: 1.1315 - val_accuracy: 0.7610 - lr: 0.0859\n",
            "Epoch 5/100\n",
            "391/391 [==============================] - 62s 160ms/step - loss: 0.9163 - accuracy: 0.8262 - val_loss: 1.0517 - val_accuracy: 0.7839 - lr: 0.0815\n",
            "Epoch 6/100\n",
            "391/391 [==============================] - 61s 157ms/step - loss: 0.8323 - accuracy: 0.8487 - val_loss: 1.0310 - val_accuracy: 0.7874 - lr: 0.0774\n",
            "Epoch 7/100\n",
            "391/391 [==============================] - 63s 160ms/step - loss: 0.7677 - accuracy: 0.8667 - val_loss: 0.9255 - val_accuracy: 0.8108 - lr: 0.0734\n",
            "Epoch 8/100\n",
            "391/391 [==============================] - 56s 144ms/step - loss: 0.7118 - accuracy: 0.8825 - val_loss: 0.9844 - val_accuracy: 0.7964 - lr: 0.0696\n",
            "Epoch 9/100\n",
            "391/391 [==============================] - 57s 145ms/step - loss: 0.6674 - accuracy: 0.8960 - val_loss: 1.1441 - val_accuracy: 0.7647 - lr: 0.0659\n",
            "Epoch 10/100\n",
            "391/391 [==============================] - 58s 149ms/step - loss: 0.6254 - accuracy: 0.9088 - val_loss: 0.9676 - val_accuracy: 0.8132 - lr: 0.0624\n",
            "Epoch 11/100\n",
            "391/391 [==============================] - 56s 144ms/step - loss: 0.5852 - accuracy: 0.9214 - val_loss: 1.0028 - val_accuracy: 0.8046 - lr: 0.0590\n",
            "Epoch 12/100\n",
            "391/391 [==============================] - 56s 144ms/step - loss: 0.5459 - accuracy: 0.9333 - val_loss: 0.9519 - val_accuracy: 0.8153 - lr: 0.0558\n",
            "Epoch 13/100\n",
            "391/391 [==============================] - 59s 150ms/step - loss: 0.5247 - accuracy: 0.9390 - val_loss: 0.9235 - val_accuracy: 0.8224 - lr: 0.0528\n",
            "Epoch 14/100\n",
            "391/391 [==============================] - 56s 144ms/step - loss: 0.4971 - accuracy: 0.9461 - val_loss: 0.9771 - val_accuracy: 0.8106 - lr: 0.0498\n",
            "Epoch 15/100\n",
            "391/391 [==============================] - 56s 144ms/step - loss: 0.4681 - accuracy: 0.9550 - val_loss: 1.0062 - val_accuracy: 0.8094 - lr: 0.0470\n",
            "Epoch 16/100\n",
            "391/391 [==============================] - 57s 145ms/step - loss: 0.4458 - accuracy: 0.9598 - val_loss: 0.9953 - val_accuracy: 0.8156 - lr: 0.0444\n",
            "Epoch 17/100\n",
            "391/391 [==============================] - 59s 150ms/step - loss: 0.4306 - accuracy: 0.9639 - val_loss: 0.9833 - val_accuracy: 0.8238 - lr: 0.0418\n",
            "Epoch 18/100\n",
            "391/391 [==============================] - 56s 144ms/step - loss: 0.3994 - accuracy: 0.9734 - val_loss: 0.9707 - val_accuracy: 0.8252 - lr: 0.0394\n",
            "Epoch 19/100\n",
            "391/391 [==============================] - 56s 144ms/step - loss: 0.3793 - accuracy: 0.9773 - val_loss: 1.0136 - val_accuracy: 0.8230 - lr: 0.0371\n",
            "Epoch 20/100\n",
            "391/391 [==============================] - 56s 144ms/step - loss: 0.3597 - accuracy: 0.9823 - val_loss: 0.9860 - val_accuracy: 0.8198 - lr: 0.0349\n",
            "Epoch 21/100\n",
            "391/391 [==============================] - 59s 150ms/step - loss: 0.3412 - accuracy: 0.9852 - val_loss: 1.0044 - val_accuracy: 0.8273 - lr: 0.0328\n",
            "Epoch 22/100\n",
            "391/391 [==============================] - 57s 145ms/step - loss: 0.3234 - accuracy: 0.9879 - val_loss: 0.9370 - val_accuracy: 0.8349 - lr: 0.0308\n",
            "Epoch 23/100\n",
            "391/391 [==============================] - 56s 143ms/step - loss: 0.3023 - accuracy: 0.9925 - val_loss: 0.9266 - val_accuracy: 0.8416 - lr: 0.0289\n",
            "Epoch 24/100\n",
            "391/391 [==============================] - 56s 143ms/step - loss: 0.2877 - accuracy: 0.9943 - val_loss: 0.8943 - val_accuracy: 0.8515 - lr: 0.0271\n",
            "Epoch 25/100\n",
            "391/391 [==============================] - 58s 149ms/step - loss: 0.2776 - accuracy: 0.9947 - val_loss: 0.8879 - val_accuracy: 0.8513 - lr: 0.0254\n",
            "Epoch 26/100\n",
            "391/391 [==============================] - 59s 150ms/step - loss: 0.2596 - accuracy: 0.9981 - val_loss: 0.8411 - val_accuracy: 0.8555 - lr: 0.0237\n",
            "Epoch 27/100\n",
            "391/391 [==============================] - 56s 143ms/step - loss: 0.2471 - accuracy: 0.9993 - val_loss: 0.8130 - val_accuracy: 0.8645 - lr: 0.0222\n",
            "Epoch 28/100\n",
            "391/391 [==============================] - 56s 144ms/step - loss: 0.2358 - accuracy: 0.9998 - val_loss: 0.8036 - val_accuracy: 0.8635 - lr: 0.0207\n",
            "Epoch 29/100\n",
            "391/391 [==============================] - 58s 150ms/step - loss: 0.2274 - accuracy: 0.9999 - val_loss: 0.7877 - val_accuracy: 0.8630 - lr: 0.0193\n",
            "Epoch 30/100\n",
            "391/391 [==============================] - 56s 144ms/step - loss: 0.2200 - accuracy: 0.9999 - val_loss: 0.7662 - val_accuracy: 0.8667 - lr: 0.0180\n",
            "Epoch 31/100\n",
            "391/391 [==============================] - 56s 144ms/step - loss: 0.2132 - accuracy: 1.0000 - val_loss: 0.7553 - val_accuracy: 0.8661 - lr: 0.0168\n",
            "Epoch 32/100\n",
            "391/391 [==============================] - 56s 144ms/step - loss: 0.2074 - accuracy: 1.0000 - val_loss: 0.7486 - val_accuracy: 0.8653 - lr: 0.0156\n",
            "Epoch 33/100\n",
            "391/391 [==============================] - 56s 144ms/step - loss: 0.2022 - accuracy: 1.0000 - val_loss: 0.7434 - val_accuracy: 0.8665 - lr: 0.0145\n",
            "Epoch 34/100\n",
            "391/391 [==============================] - 59s 150ms/step - loss: 0.1975 - accuracy: 1.0000 - val_loss: 0.7292 - val_accuracy: 0.8661 - lr: 0.0135\n",
            "Epoch 35/100\n",
            "391/391 [==============================] - 56s 144ms/step - loss: 0.1932 - accuracy: 1.0000 - val_loss: 0.7203 - val_accuracy: 0.8660 - lr: 0.0125\n",
            "Epoch 36/100\n",
            "391/391 [==============================] - 59s 150ms/step - loss: 0.1893 - accuracy: 1.0000 - val_loss: 0.7174 - val_accuracy: 0.8647 - lr: 0.0116\n",
            "Epoch 37/100\n",
            "391/391 [==============================] - 59s 150ms/step - loss: 0.1860 - accuracy: 1.0000 - val_loss: 0.7216 - val_accuracy: 0.8631 - lr: 0.0107\n",
            "Epoch 38/100\n",
            "391/391 [==============================] - 59s 150ms/step - loss: 0.1829 - accuracy: 1.0000 - val_loss: 0.7206 - val_accuracy: 0.8655 - lr: 0.0099\n",
            "Epoch 39/100\n",
            "391/391 [==============================] - 56s 144ms/step - loss: 0.1800 - accuracy: 1.0000 - val_loss: 0.7132 - val_accuracy: 0.8653 - lr: 0.0092\n",
            "Epoch 40/100\n",
            "391/391 [==============================] - 56s 144ms/step - loss: 0.1776 - accuracy: 1.0000 - val_loss: 0.7087 - val_accuracy: 0.8672 - lr: 0.0084\n",
            "Epoch 41/100\n",
            "391/391 [==============================] - 59s 150ms/step - loss: 0.1752 - accuracy: 1.0000 - val_loss: 0.7066 - val_accuracy: 0.8662 - lr: 0.0078\n",
            "Epoch 42/100\n",
            "391/391 [==============================] - 56s 144ms/step - loss: 0.1731 - accuracy: 1.0000 - val_loss: 0.7061 - val_accuracy: 0.8646 - lr: 0.0071\n",
            "Epoch 43/100\n",
            "391/391 [==============================] - 59s 150ms/step - loss: 0.1711 - accuracy: 1.0000 - val_loss: 0.7025 - val_accuracy: 0.8647 - lr: 0.0066\n",
            "Epoch 44/100\n",
            "391/391 [==============================] - 56s 144ms/step - loss: 0.1695 - accuracy: 1.0000 - val_loss: 0.7005 - val_accuracy: 0.8656 - lr: 0.0060\n",
            "Epoch 45/100\n",
            "391/391 [==============================] - 56s 144ms/step - loss: 0.1680 - accuracy: 1.0000 - val_loss: 0.7001 - val_accuracy: 0.8669 - lr: 0.0055\n",
            "Epoch 46/100\n",
            "391/391 [==============================] - 56s 144ms/step - loss: 0.1664 - accuracy: 1.0000 - val_loss: 0.7007 - val_accuracy: 0.8654 - lr: 0.0050\n",
            "Epoch 47/100\n",
            "391/391 [==============================] - 56s 144ms/step - loss: 0.1652 - accuracy: 1.0000 - val_loss: 0.7017 - val_accuracy: 0.8652 - lr: 0.0046\n",
            "Epoch 48/100\n",
            "391/391 [==============================] - 56s 144ms/step - loss: 0.1640 - accuracy: 1.0000 - val_loss: 0.7051 - val_accuracy: 0.8640 - lr: 0.0042\n",
            "Epoch 49/100\n",
            "391/391 [==============================] - 59s 150ms/step - loss: 0.1630 - accuracy: 1.0000 - val_loss: 0.7003 - val_accuracy: 0.8650 - lr: 0.0038\n",
            "Epoch 50/100\n",
            "391/391 [==============================] - 56s 144ms/step - loss: 0.1620 - accuracy: 1.0000 - val_loss: 0.7022 - val_accuracy: 0.8649 - lr: 0.0035\n",
            "Epoch 51/100\n",
            "391/391 [==============================] - 56s 144ms/step - loss: 0.1611 - accuracy: 1.0000 - val_loss: 0.7005 - val_accuracy: 0.8640 - lr: 0.0031\n",
            "Epoch 52/100\n",
            "391/391 [==============================] - 59s 150ms/step - loss: 0.1604 - accuracy: 1.0000 - val_loss: 0.6994 - val_accuracy: 0.8647 - lr: 0.0028\n",
            "Epoch 53/100\n",
            "391/391 [==============================] - 56s 144ms/step - loss: 0.1597 - accuracy: 1.0000 - val_loss: 0.6972 - val_accuracy: 0.8658 - lr: 0.0025\n",
            "Epoch 54/100\n",
            "391/391 [==============================] - 56s 144ms/step - loss: 0.1591 - accuracy: 1.0000 - val_loss: 0.7027 - val_accuracy: 0.8641 - lr: 0.0023\n",
            "Epoch 55/100\n",
            "391/391 [==============================] - 59s 150ms/step - loss: 0.1586 - accuracy: 1.0000 - val_loss: 0.6984 - val_accuracy: 0.8640 - lr: 0.0021\n",
            "Epoch 56/100\n",
            "391/391 [==============================] - 57s 147ms/step - loss: 0.1581 - accuracy: 1.0000 - val_loss: 0.7037 - val_accuracy: 0.8642 - lr: 0.0018\n",
            "Epoch 57/100\n",
            "391/391 [==============================] - 59s 150ms/step - loss: 0.1576 - accuracy: 1.0000 - val_loss: 0.7004 - val_accuracy: 0.8641 - lr: 0.0016\n",
            "Epoch 58/100\n",
            "391/391 [==============================] - 56s 144ms/step - loss: 0.1573 - accuracy: 1.0000 - val_loss: 0.6978 - val_accuracy: 0.8627 - lr: 0.0015\n",
            "Epoch 59/100\n",
            "391/391 [==============================] - 59s 152ms/step - loss: 0.1569 - accuracy: 1.0000 - val_loss: 0.6942 - val_accuracy: 0.8637 - lr: 0.0013\n",
            "Epoch 60/100\n",
            "391/391 [==============================] - 59s 150ms/step - loss: 0.1566 - accuracy: 1.0000 - val_loss: 0.7011 - val_accuracy: 0.8635 - lr: 0.0012\n",
            "Epoch 61/100\n",
            "391/391 [==============================] - 57s 145ms/step - loss: 0.1563 - accuracy: 1.0000 - val_loss: 0.7000 - val_accuracy: 0.8645 - lr: 0.0010\n",
            "Epoch 62/100\n",
            "391/391 [==============================] - 59s 150ms/step - loss: 0.1561 - accuracy: 1.0000 - val_loss: 0.6933 - val_accuracy: 0.8644 - lr: 9.0224e-04\n",
            "Epoch 63/100\n",
            "391/391 [==============================] - 56s 144ms/step - loss: 0.1558 - accuracy: 1.0000 - val_loss: 0.7015 - val_accuracy: 0.8639 - lr: 7.9235e-04\n",
            "Epoch 64/100\n",
            "391/391 [==============================] - 59s 151ms/step - loss: 0.1557 - accuracy: 1.0000 - val_loss: 0.6977 - val_accuracy: 0.8646 - lr: 6.9344e-04\n",
            "Epoch 65/100\n",
            "391/391 [==============================] - 56s 144ms/step - loss: 0.1555 - accuracy: 1.0000 - val_loss: 0.6972 - val_accuracy: 0.8648 - lr: 6.0466e-04\n",
            "Epoch 66/100\n",
            "391/391 [==============================] - 56s 144ms/step - loss: 0.1554 - accuracy: 1.0000 - val_loss: 0.7004 - val_accuracy: 0.8631 - lr: 5.2522e-04\n",
            "Epoch 67/100\n",
            "391/391 [==============================] - 56s 144ms/step - loss: 0.1553 - accuracy: 1.0000 - val_loss: 0.6971 - val_accuracy: 0.8631 - lr: 4.5435e-04\n",
            "Epoch 68/100\n",
            "391/391 [==============================] - 59s 150ms/step - loss: 0.1551 - accuracy: 1.0000 - val_loss: 0.6963 - val_accuracy: 0.8637 - lr: 3.9135e-04\n",
            "Epoch 69/100\n",
            "391/391 [==============================] - 56s 144ms/step - loss: 0.1550 - accuracy: 1.0000 - val_loss: 0.6968 - val_accuracy: 0.8626 - lr: 3.3554e-04\n",
            "Epoch 70/100\n",
            "391/391 [==============================] - 56s 144ms/step - loss: 0.1550 - accuracy: 1.0000 - val_loss: 0.6979 - val_accuracy: 0.8653 - lr: 2.8629e-04\n",
            "Epoch 71/100\n",
            "391/391 [==============================] - 57s 145ms/step - loss: 0.1549 - accuracy: 1.0000 - val_loss: 0.6979 - val_accuracy: 0.8643 - lr: 2.4300e-04\n",
            "Epoch 72/100\n",
            "391/391 [==============================] - 56s 144ms/step - loss: 0.1549 - accuracy: 1.0000 - val_loss: 0.7019 - val_accuracy: 0.8629 - lr: 2.0511e-04\n",
            "Epoch 73/100\n",
            "391/391 [==============================] - 56s 144ms/step - loss: 0.1547 - accuracy: 1.0000 - val_loss: 0.6956 - val_accuracy: 0.8647 - lr: 1.7210e-04\n",
            "Epoch 74/100\n",
            "391/391 [==============================] - 56s 144ms/step - loss: 0.1547 - accuracy: 1.0000 - val_loss: 0.6965 - val_accuracy: 0.8645 - lr: 1.4349e-04\n",
            "Epoch 75/100\n",
            "391/391 [==============================] - 59s 150ms/step - loss: 0.1547 - accuracy: 1.0000 - val_loss: 0.7000 - val_accuracy: 0.8642 - lr: 1.1881e-04\n",
            "Epoch 76/100\n",
            "391/391 [==============================] - 59s 150ms/step - loss: 0.1547 - accuracy: 1.0000 - val_loss: 0.6982 - val_accuracy: 0.8640 - lr: 9.7656e-05\n",
            "Epoch 77/100\n",
            "391/391 [==============================] - 56s 144ms/step - loss: 0.1548 - accuracy: 1.0000 - val_loss: 0.6900 - val_accuracy: 0.8631 - lr: 7.9626e-05\n",
            "Epoch 78/100\n",
            "391/391 [==============================] - 56s 144ms/step - loss: 0.1546 - accuracy: 1.0000 - val_loss: 0.6957 - val_accuracy: 0.8647 - lr: 6.4363e-05\n",
            "Epoch 79/100\n",
            "391/391 [==============================] - 59s 150ms/step - loss: 0.1547 - accuracy: 1.0000 - val_loss: 0.6988 - val_accuracy: 0.8645 - lr: 5.1536e-05\n",
            "Epoch 80/100\n",
            "391/391 [==============================] - 56s 144ms/step - loss: 0.1546 - accuracy: 1.0000 - val_loss: 0.6999 - val_accuracy: 0.8638 - lr: 4.0841e-05\n",
            "Epoch 81/100\n",
            "391/391 [==============================] - 59s 151ms/step - loss: 0.1546 - accuracy: 1.0000 - val_loss: 0.6949 - val_accuracy: 0.8653 - lr: 3.2000e-05\n",
            "Epoch 82/100\n",
            "391/391 [==============================] - 59s 151ms/step - loss: 0.1546 - accuracy: 1.0000 - val_loss: 0.6979 - val_accuracy: 0.8630 - lr: 2.4761e-05\n",
            "Epoch 83/100\n",
            "391/391 [==============================] - 59s 150ms/step - loss: 0.1546 - accuracy: 1.0000 - val_loss: 0.6951 - val_accuracy: 0.8640 - lr: 1.8896e-05\n",
            "Epoch 84/100\n",
            "391/391 [==============================] - 56s 144ms/step - loss: 0.1546 - accuracy: 1.0000 - val_loss: 0.6959 - val_accuracy: 0.8641 - lr: 1.4199e-05\n",
            "Epoch 85/100\n",
            "391/391 [==============================] - 59s 150ms/step - loss: 0.1546 - accuracy: 1.0000 - val_loss: 0.6969 - val_accuracy: 0.8634 - lr: 1.0486e-05\n",
            "Epoch 86/100\n",
            "391/391 [==============================] - 59s 151ms/step - loss: 0.1546 - accuracy: 1.0000 - val_loss: 0.6956 - val_accuracy: 0.8637 - lr: 7.5938e-06\n",
            "Epoch 87/100\n",
            "391/391 [==============================] - 57s 145ms/step - loss: 0.1546 - accuracy: 1.0000 - val_loss: 0.6985 - val_accuracy: 0.8638 - lr: 5.3782e-06\n",
            "Epoch 88/100\n",
            "391/391 [==============================] - 59s 150ms/step - loss: 0.1547 - accuracy: 1.0000 - val_loss: 0.6976 - val_accuracy: 0.8647 - lr: 3.7129e-06\n",
            "Epoch 89/100\n",
            "391/391 [==============================] - 59s 150ms/step - loss: 0.1547 - accuracy: 1.0000 - val_loss: 0.6926 - val_accuracy: 0.8635 - lr: 2.4883e-06\n",
            "Epoch 90/100\n",
            "391/391 [==============================] - 59s 150ms/step - loss: 0.1546 - accuracy: 1.0000 - val_loss: 0.6921 - val_accuracy: 0.8628 - lr: 1.6105e-06\n",
            "Epoch 91/100\n",
            "391/391 [==============================] - 59s 150ms/step - loss: 0.1546 - accuracy: 1.0000 - val_loss: 0.6922 - val_accuracy: 0.8643 - lr: 1.0000e-06\n",
            "Epoch 92/100\n",
            "391/391 [==============================] - 59s 151ms/step - loss: 0.1546 - accuracy: 1.0000 - val_loss: 0.6965 - val_accuracy: 0.8635 - lr: 5.9049e-07\n",
            "Epoch 93/100\n",
            "391/391 [==============================] - 56s 144ms/step - loss: 0.1546 - accuracy: 1.0000 - val_loss: 0.6938 - val_accuracy: 0.8652 - lr: 3.2768e-07\n",
            "Epoch 94/100\n",
            "391/391 [==============================] - 56s 144ms/step - loss: 0.1547 - accuracy: 1.0000 - val_loss: 0.6982 - val_accuracy: 0.8637 - lr: 1.6807e-07\n",
            "Epoch 95/100\n",
            "391/391 [==============================] - 59s 150ms/step - loss: 0.1546 - accuracy: 1.0000 - val_loss: 0.6915 - val_accuracy: 0.8638 - lr: 7.7760e-08\n",
            "Epoch 96/100\n",
            "391/391 [==============================] - 56s 144ms/step - loss: 0.1546 - accuracy: 1.0000 - val_loss: 0.6962 - val_accuracy: 0.8634 - lr: 3.1250e-08\n",
            "Epoch 97/100\n",
            "391/391 [==============================] - 57s 145ms/step - loss: 0.1546 - accuracy: 1.0000 - val_loss: 0.6968 - val_accuracy: 0.8649 - lr: 1.0240e-08\n",
            "Epoch 98/100\n",
            "391/391 [==============================] - 59s 150ms/step - loss: 0.1546 - accuracy: 1.0000 - val_loss: 0.6943 - val_accuracy: 0.8626 - lr: 2.4300e-09\n",
            "Epoch 99/100\n",
            "391/391 [==============================] - 56s 144ms/step - loss: 0.1546 - accuracy: 1.0000 - val_loss: 0.6956 - val_accuracy: 0.8634 - lr: 3.2000e-10\n",
            "Epoch 100/100\n",
            "391/391 [==============================] - 60s 153ms/step - loss: 0.1545 - accuracy: 1.0000 - val_loss: 0.6938 - val_accuracy: 0.8637 - lr: 1.0000e-11\n"
          ]
        }
      ]
    },
    {
      "cell_type": "code",
      "source": [
        "# evaluate network\n",
        "print(\"[INFO] evaluating network...\")\n",
        "predictions = model.predict(test_x, batch_size=128)\n",
        "print(\n",
        "    classification_report(\n",
        "        test_y.argmax(axis=1),\n",
        "        predictions.argmax(axis=1),\n",
        "        target_names=label_names\n",
        "    )\n",
        ")\n",
        "\n",
        "\n",
        "# plot learning curves\n",
        "N = np.arange(0, args[\"epochs\"])\n",
        "plt.style.use(\"ggplot\")\n",
        "# fig = plt.figure(figsize=(12,6))\n",
        "\n",
        "fig, ax = plt.subplots(ncols=2, nrows=1, figsize=(12, 6))\n",
        "\n",
        "# plt.subplot(1, 2, 1)\n",
        "ax[0].plot(N, H.history[\"accuracy\"], label=\"train_acc\")\n",
        "ax[0].plot(N, H.history[\"val_accuracy\"], label=\"val_acc\")\n",
        "ax[0].set_title(\"Accuracy on CIFAR-10\")\n",
        "ax[0].set_xlabel(\"Epoch #\")\n",
        "ax[0].set_ylabel(\"Accuracy\")\n",
        "ax[0].grid(True)\n",
        "ax[0].legend(loc=\"lower right\")\n",
        "\n",
        "# ax[1].subplot(1, 2, 2)\n",
        "ax[1].plot(N, H.history[\"loss\"], label=\"train_loss\")\n",
        "ax[1].plot(N, H.history[\"val_loss\"], label=\"val_loss\")\n",
        "ax[1].set_title(\"Loss on CIFAR-10\")\n",
        "ax[1].set_xlabel(\"Epoch #\")\n",
        "ax[1].set_ylabel(\"Loss\")\n",
        "ax[1].grid(True)\n",
        "ax[1].legend(loc=\"upper right\")\n",
        "\n",
        "fig.tight_layout()\n",
        "plt.savefig(args[\"train_plot\"])\n",
        "\n",
        "if schedule is not None:\n",
        "    schedule.plot(N)\n",
        "    plt.savefig(args[\"lr_plot\"])"
      ],
      "metadata": {
        "colab": {
          "base_uri": "https://localhost:8080/",
          "height": 1000
        },
        "id": "kaMyZgCJVHr7",
        "outputId": "aee06bbb-68cc-464a-a32c-dd5fd5d5e24d"
      },
      "execution_count": 14,
      "outputs": [
        {
          "output_type": "stream",
          "name": "stdout",
          "text": [
            "[INFO] evaluating network...\n",
            "79/79 [==============================] - 3s 33ms/step\n",
            "              precision    recall  f1-score   support\n",
            "\n",
            "    airplane       0.87      0.89      0.88      1000\n",
            "  automobile       0.92      0.94      0.93      1000\n",
            "        bird       0.83      0.79      0.81      1000\n",
            "         cat       0.75      0.72      0.74      1000\n",
            "        deer       0.83      0.87      0.85      1000\n",
            "         dog       0.81      0.78      0.79      1000\n",
            "        frog       0.86      0.92      0.89      1000\n",
            "       horse       0.91      0.90      0.90      1000\n",
            "        ship       0.92      0.92      0.92      1000\n",
            "       truck       0.92      0.91      0.91      1000\n",
            "\n",
            "    accuracy                           0.86     10000\n",
            "   macro avg       0.86      0.86      0.86     10000\n",
            "weighted avg       0.86      0.86      0.86     10000\n",
            "\n"
          ]
        },
        {
          "output_type": "display_data",
          "data": {
            "text/plain": [
              "<Figure size 864x432 with 2 Axes>"
            ],
            "image/png": "[encoded data removed]"
          },
          "metadata": {}
        },
        {
          "output_type": "display_data",
          "data": {
            "text/plain": [
              "<Figure size 432x288 with 1 Axes>"
            ],
            "image/png": "[encoded data removed]"
          },
          "metadata": {}
        }
      ]
    },
    {
      "cell_type": "code",
      "source": [],
      "metadata": {
        "id": "Xe7tHQxFrl_5"
      },
      "execution_count": null,
      "outputs": []
    }
  ]
}