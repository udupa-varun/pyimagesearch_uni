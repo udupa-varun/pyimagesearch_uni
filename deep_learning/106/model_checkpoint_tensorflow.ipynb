{
  "nbformat": 4,
  "nbformat_minor": 0,
  "metadata": {
    "colab": {
      "provenance": [],
      "authorship_tag": "ABX9TyPcfgZ7cylhjQo2qtQBjZIf",
      "include_colab_link": true
    },
    "kernelspec": {
      "name": "python3",
      "display_name": "Python 3"
    },
    "language_info": {
      "name": "python"
    },
    "accelerator": "GPU",
    "gpuClass": "standard"
  },
  "cells": [
    {
      "cell_type": "markdown",
      "metadata": {
        "id": "view-in-github",
        "colab_type": "text"
      },
      "source": [
        "<a href=\"https://colab.research.google.com/github/udupa-varun/pyimagesearch_uni/blob/main/deep_learning/106/model_checkpoint_tensorflow.ipynb\" target=\"_parent\"><img src=\"https://colab.research.google.com/assets/colab-badge.svg\" alt=\"Open In Colab\"/></a>"
      ]
    },
    {
      "cell_type": "code",
      "execution_count": 1,
      "metadata": {
        "colab": {
          "base_uri": "https://localhost:8080/"
        },
        "id": "LeW5aQqj2iNm",
        "outputId": "d2bf7dce-f3c8-478c-dad5-0a43e718f35d"
      },
      "outputs": [
        {
          "output_type": "stream",
          "name": "stdout",
          "text": [
            "/content/model-checkpoint-tensorflow\n"
          ]
        }
      ],
      "source": [
        "!wget -qq https://pyimagesearch-code-downloads.s3-us-west-2.amazonaws.com/model-checkpoint-tensorflow/model-checkpoint-tensorflow.zip\n",
        "!unzip -qq model-checkpoint-tensorflow.zip\n",
        "%cd model-checkpoint-tensorflow"
      ]
    },
    {
      "cell_type": "code",
      "source": [
        "import argparse\n",
        "import os\n",
        "\n",
        "from sklearn.preprocessing import LabelBinarizer\n",
        "from tensorflow.keras.callbacks import ModelCheckpoint\n",
        "from tensorflow.keras.datasets import cifar10\n",
        "from tensorflow.keras.optimizers import SGD\n",
        "from tensorflow.keras.optimizers.schedules import ExponentialDecay\n",
        "import cv2\n",
        "import matplotlib.pyplot as plt\n",
        "\n",
        "from pyimagesearch.nn.conv import MiniVGGNet"
      ],
      "metadata": {
        "id": "-3HVBO6F2oNt"
      },
      "execution_count": 8,
      "outputs": []
    },
    {
      "cell_type": "code",
      "source": [
        "def plt_imshow(title, image):\n",
        "    # convert from BGR to RBG and display image\n",
        "    image = cv2.cvtColor(image, cv2.COLOR_BGR2RBG)\n",
        "    plt.imshow(image)\n",
        "    plt.title(title)\n",
        "    plt.grid(False)\n",
        "    plt.show()"
      ],
      "metadata": {
        "id": "LUyUyQh83DQ_"
      },
      "execution_count": 3,
      "outputs": []
    },
    {
      "cell_type": "code",
      "source": [
        "args = {\n",
        "    \"weights\": \"weights/improvements\"\n",
        "}"
      ],
      "metadata": {
        "id": "ZDzn5Qot3qvx"
      },
      "execution_count": 4,
      "outputs": []
    },
    {
      "cell_type": "code",
      "source": [
        "# load data and scale to [0, 1]\n",
        "print(\"[INFO] loading CIFAR-10 data...\")\n",
        "((train_x, train_y), (test_x, test_y)) = cifar10.load_data()\n",
        "train_x = train_x.astype(\"float\") / 255.0\n",
        "test_x = test_x.astype(\"float\") / 255.0\n",
        "\n",
        "# convert labels from integers to vectors\n",
        "lb = LabelBinarizer()\n",
        "train_y = lb.fit_transform(train_y)\n",
        "test_y = lb.fit_transform(test_y)\n"
      ],
      "metadata": {
        "colab": {
          "base_uri": "https://localhost:8080/"
        },
        "id": "-vlN56qn3v4Q",
        "outputId": "44911452-7efa-40cf-c19f-7d7687c59f0f"
      },
      "execution_count": 5,
      "outputs": [
        {
          "output_type": "stream",
          "name": "stdout",
          "text": [
            "[INFO] loading CIFAR-10 data...\n",
            "Downloading data from https://www.cs.toronto.edu/~kriz/cifar-10-python.tar.gz\n",
            "170498071/170498071 [==============================] - 3s 0us/step\n"
          ]
        }
      ]
    },
    {
      "cell_type": "code",
      "source": [
        "# init optimizer and model\n",
        "print(\"[INFO] compiling model...\")\n",
        "lr = 0.01\n",
        "NUM_EPOCHS = 40\n",
        "lr_schedule = ExponentialDecay(\n",
        "    initial_learning_rate=lr,\n",
        "    decay_steps=10000,\n",
        "    decay_rate=0.96\n",
        ")\n",
        "opt = SGD(learning_rate=lr_schedule, momentum=0.9, nesterov=True)\n",
        "model = MiniVGGNet.build(width=32, height=32, depth=3, classes=10)\n",
        "model.compile(\n",
        "    loss=\"categorical_crossentropy\",\n",
        "    optimizer=opt,\n",
        "    metrics=[\"accuracy\"]\n",
        ")"
      ],
      "metadata": {
        "colab": {
          "base_uri": "https://localhost:8080/"
        },
        "id": "KiTxtF-54PWl",
        "outputId": "3034ba3c-d479-45a0-c56b-ab0e5aeabdac"
      },
      "execution_count": 10,
      "outputs": [
        {
          "output_type": "stream",
          "name": "stdout",
          "text": [
            "[INFO] compiling model...\n"
          ]
        }
      ]
    },
    {
      "cell_type": "code",
      "source": [
        "# construct the callback to save only the *best* model to disk\n",
        "# based on validation loss\n",
        "checkpoint = ModelCheckpoint(\n",
        "    args[\"weights\"], \n",
        "    monitor=\"val_loss\",\n",
        "    save_best_only=True,\n",
        "    verbose=1\n",
        ")\n",
        "callbacks = [checkpoint]"
      ],
      "metadata": {
        "id": "mK-7XYDH4-hV"
      },
      "execution_count": 11,
      "outputs": []
    },
    {
      "cell_type": "code",
      "source": [
        "# train network\n",
        "print(\"[INFO] training network...\")\n",
        "H = model.fit(\n",
        "    train_x,\n",
        "    train_y,\n",
        "    validation_data=(test_x, test_y),\n",
        "    batch_size=64,\n",
        "    epochs=NUM_EPOCHS,\n",
        "    callbacks=callbacks,\n",
        "    verbose=2\n",
        ")"
      ],
      "metadata": {
        "colab": {
          "base_uri": "https://localhost:8080/"
        },
        "id": "_1m84T0O8csp",
        "outputId": "9624777d-8ec9-43a4-ee55-667bc4518d99"
      },
      "execution_count": 12,
      "outputs": [
        {
          "output_type": "stream",
          "name": "stdout",
          "text": [
            "[INFO] training network...\n",
            "Epoch 1/40\n",
            "\n",
            "Epoch 1: val_loss improved from inf to 1.32795, saving model to weights/improvements\n"
          ]
        },
        {
          "output_type": "stream",
          "name": "stderr",
          "text": [
            "WARNING:absl:Found untraced functions such as _jit_compiled_convolution_op, _jit_compiled_convolution_op, _jit_compiled_convolution_op, _jit_compiled_convolution_op while saving (showing 4 of 4). These functions will not be directly callable after loading.\n"
          ]
        },
        {
          "output_type": "stream",
          "name": "stdout",
          "text": [
            "782/782 - 23s - loss: 1.6733 - accuracy: 0.4442 - val_loss: 1.3279 - val_accuracy: 0.5270 - 23s/epoch - 30ms/step\n",
            "Epoch 2/40\n",
            "\n",
            "Epoch 2: val_loss improved from 1.32795 to 0.98891, saving model to weights/improvements\n"
          ]
        },
        {
          "output_type": "stream",
          "name": "stderr",
          "text": [
            "WARNING:absl:Found untraced functions such as _jit_compiled_convolution_op, _jit_compiled_convolution_op, _jit_compiled_convolution_op, _jit_compiled_convolution_op while saving (showing 4 of 4). These functions will not be directly callable after loading.\n"
          ]
        },
        {
          "output_type": "stream",
          "name": "stdout",
          "text": [
            "782/782 - 11s - loss: 1.2192 - accuracy: 0.5777 - val_loss: 0.9889 - val_accuracy: 0.6523 - 11s/epoch - 14ms/step\n",
            "Epoch 3/40\n",
            "\n",
            "Epoch 3: val_loss did not improve from 0.98891\n",
            "782/782 - 8s - loss: 1.0201 - accuracy: 0.6475 - val_loss: 1.0568 - val_accuracy: 0.6417 - 8s/epoch - 10ms/step\n",
            "Epoch 4/40\n",
            "\n",
            "Epoch 4: val_loss improved from 0.98891 to 0.89252, saving model to weights/improvements\n"
          ]
        },
        {
          "output_type": "stream",
          "name": "stderr",
          "text": [
            "WARNING:absl:Found untraced functions such as _jit_compiled_convolution_op, _jit_compiled_convolution_op, _jit_compiled_convolution_op, _jit_compiled_convolution_op while saving (showing 4 of 4). These functions will not be directly callable after loading.\n"
          ]
        },
        {
          "output_type": "stream",
          "name": "stdout",
          "text": [
            "782/782 - 10s - loss: 0.9042 - accuracy: 0.6839 - val_loss: 0.8925 - val_accuracy: 0.6798 - 10s/epoch - 13ms/step\n",
            "Epoch 5/40\n",
            "\n",
            "Epoch 5: val_loss improved from 0.89252 to 0.75581, saving model to weights/improvements\n"
          ]
        },
        {
          "output_type": "stream",
          "name": "stderr",
          "text": [
            "WARNING:absl:Found untraced functions such as _jit_compiled_convolution_op, _jit_compiled_convolution_op, _jit_compiled_convolution_op, _jit_compiled_convolution_op while saving (showing 4 of 4). These functions will not be directly callable after loading.\n"
          ]
        },
        {
          "output_type": "stream",
          "name": "stdout",
          "text": [
            "782/782 - 12s - loss: 0.8142 - accuracy: 0.7182 - val_loss: 0.7558 - val_accuracy: 0.7366 - 12s/epoch - 15ms/step\n",
            "Epoch 6/40\n",
            "\n",
            "Epoch 6: val_loss did not improve from 0.75581\n",
            "782/782 - 8s - loss: 0.7473 - accuracy: 0.7376 - val_loss: 0.7579 - val_accuracy: 0.7455 - 8s/epoch - 10ms/step\n",
            "Epoch 7/40\n",
            "\n",
            "Epoch 7: val_loss did not improve from 0.75581\n",
            "782/782 - 8s - loss: 0.6942 - accuracy: 0.7569 - val_loss: 0.8745 - val_accuracy: 0.7101 - 8s/epoch - 10ms/step\n",
            "Epoch 8/40\n",
            "\n",
            "Epoch 8: val_loss improved from 0.75581 to 0.72124, saving model to weights/improvements\n"
          ]
        },
        {
          "output_type": "stream",
          "name": "stderr",
          "text": [
            "WARNING:absl:Found untraced functions such as _jit_compiled_convolution_op, _jit_compiled_convolution_op, _jit_compiled_convolution_op, _jit_compiled_convolution_op while saving (showing 4 of 4). These functions will not be directly callable after loading.\n"
          ]
        },
        {
          "output_type": "stream",
          "name": "stdout",
          "text": [
            "782/782 - 10s - loss: 0.6535 - accuracy: 0.7704 - val_loss: 0.7212 - val_accuracy: 0.7528 - 10s/epoch - 13ms/step\n",
            "Epoch 9/40\n",
            "\n",
            "Epoch 9: val_loss improved from 0.72124 to 0.62879, saving model to weights/improvements\n"
          ]
        },
        {
          "output_type": "stream",
          "name": "stderr",
          "text": [
            "WARNING:absl:Found untraced functions such as _jit_compiled_convolution_op, _jit_compiled_convolution_op, _jit_compiled_convolution_op, _jit_compiled_convolution_op while saving (showing 4 of 4). These functions will not be directly callable after loading.\n"
          ]
        },
        {
          "output_type": "stream",
          "name": "stdout",
          "text": [
            "782/782 - 11s - loss: 0.6030 - accuracy: 0.7885 - val_loss: 0.6288 - val_accuracy: 0.7876 - 11s/epoch - 14ms/step\n",
            "Epoch 10/40\n",
            "\n",
            "Epoch 10: val_loss did not improve from 0.62879\n",
            "782/782 - 8s - loss: 0.5662 - accuracy: 0.8005 - val_loss: 0.6397 - val_accuracy: 0.7835 - 8s/epoch - 11ms/step\n",
            "Epoch 11/40\n",
            "\n",
            "Epoch 11: val_loss improved from 0.62879 to 0.60501, saving model to weights/improvements\n"
          ]
        },
        {
          "output_type": "stream",
          "name": "stderr",
          "text": [
            "WARNING:absl:Found untraced functions such as _jit_compiled_convolution_op, _jit_compiled_convolution_op, _jit_compiled_convolution_op, _jit_compiled_convolution_op while saving (showing 4 of 4). These functions will not be directly callable after loading.\n"
          ]
        },
        {
          "output_type": "stream",
          "name": "stdout",
          "text": [
            "782/782 - 11s - loss: 0.5307 - accuracy: 0.8138 - val_loss: 0.6050 - val_accuracy: 0.7954 - 11s/epoch - 14ms/step\n",
            "Epoch 12/40\n",
            "\n",
            "Epoch 12: val_loss did not improve from 0.60501\n",
            "782/782 - 9s - loss: 0.5013 - accuracy: 0.8231 - val_loss: 0.6725 - val_accuracy: 0.7735 - 9s/epoch - 11ms/step\n",
            "Epoch 13/40\n",
            "\n",
            "Epoch 13: val_loss did not improve from 0.60501\n",
            "782/782 - 8s - loss: 0.4821 - accuracy: 0.8316 - val_loss: 0.6392 - val_accuracy: 0.7931 - 8s/epoch - 10ms/step\n",
            "Epoch 14/40\n",
            "\n",
            "Epoch 14: val_loss did not improve from 0.60501\n",
            "782/782 - 8s - loss: 0.4500 - accuracy: 0.8424 - val_loss: 0.6501 - val_accuracy: 0.7879 - 8s/epoch - 10ms/step\n",
            "Epoch 15/40\n",
            "\n",
            "Epoch 15: val_loss did not improve from 0.60501\n",
            "782/782 - 8s - loss: 0.4271 - accuracy: 0.8496 - val_loss: 0.6655 - val_accuracy: 0.7814 - 8s/epoch - 10ms/step\n",
            "Epoch 16/40\n",
            "\n",
            "Epoch 16: val_loss did not improve from 0.60501\n",
            "782/782 - 8s - loss: 0.4035 - accuracy: 0.8547 - val_loss: 0.6371 - val_accuracy: 0.7971 - 8s/epoch - 10ms/step\n",
            "Epoch 17/40\n",
            "\n",
            "Epoch 17: val_loss did not improve from 0.60501\n",
            "782/782 - 8s - loss: 0.3875 - accuracy: 0.8633 - val_loss: 0.8693 - val_accuracy: 0.7318 - 8s/epoch - 10ms/step\n",
            "Epoch 18/40\n",
            "\n",
            "Epoch 18: val_loss did not improve from 0.60501\n",
            "782/782 - 8s - loss: 0.3821 - accuracy: 0.8641 - val_loss: 0.6348 - val_accuracy: 0.7987 - 8s/epoch - 10ms/step\n",
            "Epoch 19/40\n",
            "\n",
            "Epoch 19: val_loss did not improve from 0.60501\n",
            "782/782 - 8s - loss: 0.3497 - accuracy: 0.8742 - val_loss: 0.6168 - val_accuracy: 0.8035 - 8s/epoch - 10ms/step\n",
            "Epoch 20/40\n",
            "\n",
            "Epoch 20: val_loss improved from 0.60501 to 0.59219, saving model to weights/improvements\n"
          ]
        },
        {
          "output_type": "stream",
          "name": "stderr",
          "text": [
            "WARNING:absl:Found untraced functions such as _jit_compiled_convolution_op, _jit_compiled_convolution_op, _jit_compiled_convolution_op, _jit_compiled_convolution_op while saving (showing 4 of 4). These functions will not be directly callable after loading.\n"
          ]
        },
        {
          "output_type": "stream",
          "name": "stdout",
          "text": [
            "782/782 - 11s - loss: 0.3343 - accuracy: 0.8796 - val_loss: 0.5922 - val_accuracy: 0.8122 - 11s/epoch - 14ms/step\n",
            "Epoch 21/40\n",
            "\n",
            "Epoch 21: val_loss improved from 0.59219 to 0.58888, saving model to weights/improvements\n"
          ]
        },
        {
          "output_type": "stream",
          "name": "stderr",
          "text": [
            "WARNING:absl:Found untraced functions such as _jit_compiled_convolution_op, _jit_compiled_convolution_op, _jit_compiled_convolution_op, _jit_compiled_convolution_op while saving (showing 4 of 4). These functions will not be directly callable after loading.\n"
          ]
        },
        {
          "output_type": "stream",
          "name": "stdout",
          "text": [
            "782/782 - 10s - loss: 0.3169 - accuracy: 0.8866 - val_loss: 0.5889 - val_accuracy: 0.8104 - 10s/epoch - 13ms/step\n",
            "Epoch 22/40\n",
            "\n",
            "Epoch 22: val_loss did not improve from 0.58888\n",
            "782/782 - 8s - loss: 0.3066 - accuracy: 0.8908 - val_loss: 0.6253 - val_accuracy: 0.8053 - 8s/epoch - 11ms/step\n",
            "Epoch 23/40\n",
            "\n",
            "Epoch 23: val_loss improved from 0.58888 to 0.56335, saving model to weights/improvements\n"
          ]
        },
        {
          "output_type": "stream",
          "name": "stderr",
          "text": [
            "WARNING:absl:Found untraced functions such as _jit_compiled_convolution_op, _jit_compiled_convolution_op, _jit_compiled_convolution_op, _jit_compiled_convolution_op while saving (showing 4 of 4). These functions will not be directly callable after loading.\n"
          ]
        },
        {
          "output_type": "stream",
          "name": "stdout",
          "text": [
            "782/782 - 11s - loss: 0.2952 - accuracy: 0.8948 - val_loss: 0.5633 - val_accuracy: 0.8190 - 11s/epoch - 14ms/step\n",
            "Epoch 24/40\n",
            "\n",
            "Epoch 24: val_loss did not improve from 0.56335\n",
            "782/782 - 8s - loss: 0.2800 - accuracy: 0.8997 - val_loss: 0.5931 - val_accuracy: 0.8205 - 8s/epoch - 10ms/step\n",
            "Epoch 25/40\n",
            "\n",
            "Epoch 25: val_loss did not improve from 0.56335\n",
            "782/782 - 8s - loss: 0.2731 - accuracy: 0.9022 - val_loss: 0.6054 - val_accuracy: 0.8138 - 8s/epoch - 10ms/step\n",
            "Epoch 26/40\n",
            "\n",
            "Epoch 26: val_loss did not improve from 0.56335\n",
            "782/782 - 9s - loss: 0.2565 - accuracy: 0.9094 - val_loss: 0.6064 - val_accuracy: 0.8149 - 9s/epoch - 11ms/step\n",
            "Epoch 27/40\n",
            "\n",
            "Epoch 27: val_loss did not improve from 0.56335\n",
            "782/782 - 8s - loss: 0.2530 - accuracy: 0.9096 - val_loss: 0.6061 - val_accuracy: 0.8148 - 8s/epoch - 10ms/step\n",
            "Epoch 28/40\n",
            "\n",
            "Epoch 28: val_loss did not improve from 0.56335\n",
            "782/782 - 8s - loss: 0.2372 - accuracy: 0.9151 - val_loss: 0.6156 - val_accuracy: 0.8146 - 8s/epoch - 10ms/step\n",
            "Epoch 29/40\n",
            "\n",
            "Epoch 29: val_loss did not improve from 0.56335\n",
            "782/782 - 8s - loss: 0.2354 - accuracy: 0.9156 - val_loss: 0.6137 - val_accuracy: 0.8150 - 8s/epoch - 10ms/step\n",
            "Epoch 30/40\n",
            "\n",
            "Epoch 30: val_loss did not improve from 0.56335\n",
            "782/782 - 8s - loss: 0.2258 - accuracy: 0.9186 - val_loss: 0.6723 - val_accuracy: 0.8064 - 8s/epoch - 10ms/step\n",
            "Epoch 31/40\n",
            "\n",
            "Epoch 31: val_loss did not improve from 0.56335\n",
            "782/782 - 8s - loss: 0.2193 - accuracy: 0.9205 - val_loss: 0.7062 - val_accuracy: 0.7973 - 8s/epoch - 10ms/step\n",
            "Epoch 32/40\n",
            "\n",
            "Epoch 32: val_loss did not improve from 0.56335\n",
            "782/782 - 9s - loss: 0.2176 - accuracy: 0.9218 - val_loss: 0.6166 - val_accuracy: 0.8241 - 9s/epoch - 11ms/step\n",
            "Epoch 33/40\n",
            "\n",
            "Epoch 33: val_loss did not improve from 0.56335\n",
            "782/782 - 8s - loss: 0.2074 - accuracy: 0.9260 - val_loss: 0.5876 - val_accuracy: 0.8248 - 8s/epoch - 10ms/step\n",
            "Epoch 34/40\n",
            "\n",
            "Epoch 34: val_loss did not improve from 0.56335\n",
            "782/782 - 8s - loss: 0.2001 - accuracy: 0.9288 - val_loss: 0.6068 - val_accuracy: 0.8290 - 8s/epoch - 10ms/step\n",
            "Epoch 35/40\n",
            "\n",
            "Epoch 35: val_loss did not improve from 0.56335\n",
            "782/782 - 8s - loss: 0.1994 - accuracy: 0.9292 - val_loss: 0.6940 - val_accuracy: 0.8140 - 8s/epoch - 10ms/step\n",
            "Epoch 36/40\n",
            "\n",
            "Epoch 36: val_loss did not improve from 0.56335\n",
            "782/782 - 8s - loss: 0.1920 - accuracy: 0.9313 - val_loss: 0.6245 - val_accuracy: 0.8248 - 8s/epoch - 10ms/step\n",
            "Epoch 37/40\n",
            "\n",
            "Epoch 37: val_loss did not improve from 0.56335\n",
            "782/782 - 8s - loss: 0.1868 - accuracy: 0.9332 - val_loss: 0.6124 - val_accuracy: 0.8265 - 8s/epoch - 10ms/step\n",
            "Epoch 38/40\n",
            "\n",
            "Epoch 38: val_loss did not improve from 0.56335\n",
            "782/782 - 8s - loss: 0.1789 - accuracy: 0.9363 - val_loss: 0.6157 - val_accuracy: 0.8284 - 8s/epoch - 10ms/step\n",
            "Epoch 39/40\n",
            "\n",
            "Epoch 39: val_loss did not improve from 0.56335\n",
            "782/782 - 8s - loss: 0.1709 - accuracy: 0.9410 - val_loss: 0.6299 - val_accuracy: 0.8257 - 8s/epoch - 10ms/step\n",
            "Epoch 40/40\n",
            "\n",
            "Epoch 40: val_loss did not improve from 0.56335\n",
            "782/782 - 8s - loss: 0.1741 - accuracy: 0.9392 - val_loss: 0.6162 - val_accuracy: 0.8237 - 8s/epoch - 10ms/step\n"
          ]
        }
      ]
    },
    {
      "cell_type": "code",
      "source": [
        "def display_learning_curves(history):\n",
        "    acc = history.history[\"accuracy\"]\n",
        "    val_acc = history.history[\"val_accuracy\"]\n",
        "\n",
        "    loss = history.history[\"loss\"]\n",
        "    val_loss = history.history[\"val_loss\"]\n",
        "\n",
        "    epochs_range = range(NUM_EPOCHS)\n",
        "\n",
        "    fig = plt.figure(figsize=(12,6))\n",
        "\n",
        "    plt.subplot(1,2,1)\n",
        "    plt.plot(epochs_range, acc, label=\"train accuracy\")\n",
        "    plt.plot(epochs_range, val_acc, label=\"validataion accuracy\")\n",
        "    plt.title(\"Accuracy\")\n",
        "    plt.xlabel(\"Epoch\")\n",
        "    plt.ylabel(\"Accuracy\")\n",
        "    plt.grid()\n",
        "    plt.legend(loc=\"lower right\")\n",
        "\n",
        "    plt.subplot(1,2,2)\n",
        "    plt.plot(epochs_range, loss, label=\"train loss\")\n",
        "    plt.plot(epochs_range, val_loss, label=\"validataion loss\")\n",
        "    plt.title(\"Loss\")\n",
        "    plt.xlabel(\"Epoch\")\n",
        "    plt.ylabel(\"Loss\")\n",
        "    plt.grid()\n",
        "    plt.legend(loc=\"upper right\")\n",
        "\n",
        "    fig.tight_layout()\n",
        "    plt.show()"
      ],
      "metadata": {
        "id": "61f2BTav8vuS"
      },
      "execution_count": 15,
      "outputs": []
    },
    {
      "cell_type": "code",
      "source": [
        "display_learning_curves(H)"
      ],
      "metadata": {
        "colab": {
          "base_uri": "https://localhost:8080/",
          "height": 441
        },
        "id": "gbeU3N6vEK3Y",
        "outputId": "502a2ad4-7af4-44b3-b328-592fd61065f0"
      },
      "execution_count": 16,
      "outputs": [
        {
          "output_type": "display_data",
          "data": {
            "text/plain": [
              "<Figure size 864x432 with 2 Axes>"
            ],
            "image/png": "[encoded data removed]"
          },
          "metadata": {
            "needs_background": "light"
          }
        }
      ]
    },
    {
      "cell_type": "code",
      "source": [],
      "metadata": {
        "id": "dYM1pWhhEYr0"
      },
      "execution_count": null,
      "outputs": []
    }
  ]
}