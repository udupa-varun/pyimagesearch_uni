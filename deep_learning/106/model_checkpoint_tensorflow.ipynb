{
  "nbformat": 4,
  "nbformat_minor": 0,
  "metadata": {
    "colab": {
      "provenance": [],
      "authorship_tag": "ABX9TyOqGlPO89TIAG/uKbmIBd2t",
      "include_colab_link": true
    },
    "kernelspec": {
      "name": "python3",
      "display_name": "Python 3"
    },
    "language_info": {
      "name": "python"
    },
    "accelerator": "GPU",
    "gpuClass": "standard"
  },
  "cells": [
    {
      "cell_type": "markdown",
      "metadata": {
        "id": "view-in-github",
        "colab_type": "text"
      },
      "source": [
        "<a href=\"https://colab.research.google.com/github/udupa-varun/pyimagesearch_uni/blob/main/deep_learning/106/model_checkpoint_tensorflow.ipynb\" target=\"_parent\"><img src=\"https://colab.research.google.com/assets/colab-badge.svg\" alt=\"Open In Colab\"/></a>"
      ]
    },
    {
      "cell_type": "code",
      "execution_count": 1,
      "metadata": {
        "colab": {
          "base_uri": "https://localhost:8080/"
        },
        "id": "LeW5aQqj2iNm",
        "outputId": "d2bf7dce-f3c8-478c-dad5-0a43e718f35d"
      },
      "outputs": [
        {
          "output_type": "stream",
          "name": "stdout",
          "text": [
            "/content/model-checkpoint-tensorflow\n"
          ]
        }
      ],
      "source": [
        "!wget -qq https://pyimagesearch-code-downloads.s3-us-west-2.amazonaws.com/model-checkpoint-tensorflow/model-checkpoint-tensorflow.zip\n",
        "!unzip -qq model-checkpoint-tensorflow.zip\n",
        "%cd model-checkpoint-tensorflow"
      ]
    },
    {
      "cell_type": "code",
      "source": [
        "import argparse\n",
        "import os\n",
        "\n",
        "from sklearn.preprocessing import LabelBinarizer\n",
        "from tensorflow.keras.callbacks import ModelCheckpoint\n",
        "from tensorflow.keras.datasets import cifar10\n",
        "from tensorflow.keras.optimizers import SGD\n",
        "from tensorflow.keras.optimizers.schedules import ExponentialDecay\n",
        "import cv2\n",
        "import matplotlib.pyplot as plt\n",
        "\n",
        "from pyimagesearch.nn.conv import MiniVGGNet"
      ],
      "metadata": {
        "id": "-3HVBO6F2oNt"
      },
      "execution_count": 8,
      "outputs": []
    },
    {
      "cell_type": "code",
      "source": [
        "def plt_imshow(title, image):\n",
        "    # convert from BGR to RBG and display image\n",
        "    image = cv2.cvtColor(image, cv2.COLOR_BGR2RBG)\n",
        "    plt.imshow(image)\n",
        "    plt.title(title)\n",
        "    plt.grid(False)\n",
        "    plt.show()"
      ],
      "metadata": {
        "id": "LUyUyQh83DQ_"
      },
      "execution_count": 3,
      "outputs": []
    },
    {
      "cell_type": "code",
      "source": [
        "args = {\n",
        "    \"weights\": \"weights/improvements/best_model.hdf5\"\n",
        "}"
      ],
      "metadata": {
        "id": "ZDzn5Qot3qvx"
      },
      "execution_count": 19,
      "outputs": []
    },
    {
      "cell_type": "code",
      "source": [
        "# load data and scale to [0, 1]\n",
        "print(\"[INFO] loading CIFAR-10 data...\")\n",
        "((train_x, train_y), (test_x, test_y)) = cifar10.load_data()\n",
        "train_x = train_x.astype(\"float\") / 255.0\n",
        "test_x = test_x.astype(\"float\") / 255.0\n",
        "\n",
        "# convert labels from integers to vectors\n",
        "lb = LabelBinarizer()\n",
        "train_y = lb.fit_transform(train_y)\n",
        "test_y = lb.fit_transform(test_y)\n"
      ],
      "metadata": {
        "colab": {
          "base_uri": "https://localhost:8080/"
        },
        "id": "-vlN56qn3v4Q",
        "outputId": "8479c995-698c-4adc-9524-6bae72079b33"
      },
      "execution_count": 20,
      "outputs": [
        {
          "output_type": "stream",
          "name": "stdout",
          "text": [
            "[INFO] loading CIFAR-10 data...\n"
          ]
        }
      ]
    },
    {
      "cell_type": "code",
      "source": [
        "# init optimizer and model\n",
        "print(\"[INFO] compiling model...\")\n",
        "lr = 0.01\n",
        "NUM_EPOCHS = 40\n",
        "lr_schedule = ExponentialDecay(\n",
        "    initial_learning_rate=lr,\n",
        "    decay_steps=10000,\n",
        "    decay_rate=0.96\n",
        ")\n",
        "opt = SGD(learning_rate=lr_schedule, momentum=0.9, nesterov=True)\n",
        "model = MiniVGGNet.build(width=32, height=32, depth=3, classes=10)\n",
        "model.compile(\n",
        "    loss=\"categorical_crossentropy\",\n",
        "    optimizer=opt,\n",
        "    metrics=[\"accuracy\"]\n",
        ")"
      ],
      "metadata": {
        "colab": {
          "base_uri": "https://localhost:8080/"
        },
        "id": "KiTxtF-54PWl",
        "outputId": "caffa339-1ce9-4524-e6ea-9f26dd342d94"
      },
      "execution_count": 21,
      "outputs": [
        {
          "output_type": "stream",
          "name": "stdout",
          "text": [
            "[INFO] compiling model...\n"
          ]
        }
      ]
    },
    {
      "cell_type": "code",
      "source": [
        "# construct the callback to save only the *best* model to disk\n",
        "# based on validation loss\n",
        "checkpoint = ModelCheckpoint(\n",
        "    args[\"weights\"], \n",
        "    monitor=\"val_loss\",\n",
        "    save_best_only=True,\n",
        "    verbose=1\n",
        ")\n",
        "callbacks = [checkpoint]"
      ],
      "metadata": {
        "id": "mK-7XYDH4-hV"
      },
      "execution_count": 22,
      "outputs": []
    },
    {
      "cell_type": "code",
      "source": [
        "# train network\n",
        "print(\"[INFO] training network...\")\n",
        "H = model.fit(\n",
        "    train_x,\n",
        "    train_y,\n",
        "    validation_data=(test_x, test_y),\n",
        "    batch_size=64,\n",
        "    epochs=NUM_EPOCHS,\n",
        "    callbacks=callbacks,\n",
        "    verbose=2\n",
        ")"
      ],
      "metadata": {
        "colab": {
          "base_uri": "https://localhost:8080/"
        },
        "id": "_1m84T0O8csp",
        "outputId": "718ebbd0-84fa-43ef-e5c1-70d68708e0df"
      },
      "execution_count": 23,
      "outputs": [
        {
          "output_type": "stream",
          "name": "stdout",
          "text": [
            "[INFO] training network...\n",
            "Epoch 1/40\n",
            "\n",
            "Epoch 1: val_loss improved from inf to 1.50039, saving model to weights/improvements/best_model.hdf5\n",
            "782/782 - 10s - loss: 1.6979 - accuracy: 0.4360 - val_loss: 1.5004 - val_accuracy: 0.4976 - 10s/epoch - 13ms/step\n",
            "Epoch 2/40\n",
            "\n",
            "Epoch 2: val_loss improved from 1.50039 to 0.99723, saving model to weights/improvements/best_model.hdf5\n",
            "782/782 - 8s - loss: 1.2099 - accuracy: 0.5817 - val_loss: 0.9972 - val_accuracy: 0.6484 - 8s/epoch - 10ms/step\n",
            "Epoch 3/40\n",
            "\n",
            "Epoch 3: val_loss did not improve from 0.99723\n",
            "782/782 - 8s - loss: 1.0045 - accuracy: 0.6520 - val_loss: 1.2188 - val_accuracy: 0.6006 - 8s/epoch - 10ms/step\n",
            "Epoch 4/40\n",
            "\n",
            "Epoch 4: val_loss improved from 0.99723 to 0.78750, saving model to weights/improvements/best_model.hdf5\n",
            "782/782 - 8s - loss: 0.8925 - accuracy: 0.6913 - val_loss: 0.7875 - val_accuracy: 0.7277 - 8s/epoch - 11ms/step\n",
            "Epoch 5/40\n",
            "\n",
            "Epoch 5: val_loss did not improve from 0.78750\n",
            "782/782 - 8s - loss: 0.8073 - accuracy: 0.7188 - val_loss: 0.8100 - val_accuracy: 0.7229 - 8s/epoch - 10ms/step\n",
            "Epoch 6/40\n",
            "\n",
            "Epoch 6: val_loss did not improve from 0.78750\n",
            "782/782 - 8s - loss: 0.7460 - accuracy: 0.7372 - val_loss: 0.8835 - val_accuracy: 0.6997 - 8s/epoch - 10ms/step\n",
            "Epoch 7/40\n",
            "\n",
            "Epoch 7: val_loss improved from 0.78750 to 0.76673, saving model to weights/improvements/best_model.hdf5\n",
            "782/782 - 9s - loss: 0.6920 - accuracy: 0.7558 - val_loss: 0.7667 - val_accuracy: 0.7355 - 9s/epoch - 12ms/step\n",
            "Epoch 8/40\n",
            "\n",
            "Epoch 8: val_loss improved from 0.76673 to 0.68019, saving model to weights/improvements/best_model.hdf5\n",
            "782/782 - 8s - loss: 0.6448 - accuracy: 0.7746 - val_loss: 0.6802 - val_accuracy: 0.7690 - 8s/epoch - 10ms/step\n",
            "Epoch 9/40\n",
            "\n",
            "Epoch 9: val_loss improved from 0.68019 to 0.65141, saving model to weights/improvements/best_model.hdf5\n",
            "782/782 - 8s - loss: 0.6048 - accuracy: 0.7872 - val_loss: 0.6514 - val_accuracy: 0.7777 - 8s/epoch - 11ms/step\n",
            "Epoch 10/40\n",
            "\n",
            "Epoch 10: val_loss improved from 0.65141 to 0.61050, saving model to weights/improvements/best_model.hdf5\n",
            "782/782 - 8s - loss: 0.5666 - accuracy: 0.8016 - val_loss: 0.6105 - val_accuracy: 0.7882 - 8s/epoch - 10ms/step\n",
            "Epoch 11/40\n",
            "\n",
            "Epoch 11: val_loss improved from 0.61050 to 0.59326, saving model to weights/improvements/best_model.hdf5\n",
            "782/782 - 8s - loss: 0.5332 - accuracy: 0.8115 - val_loss: 0.5933 - val_accuracy: 0.7926 - 8s/epoch - 10ms/step\n",
            "Epoch 12/40\n",
            "\n",
            "Epoch 12: val_loss did not improve from 0.59326\n",
            "782/782 - 8s - loss: 0.5060 - accuracy: 0.8218 - val_loss: 0.5948 - val_accuracy: 0.8040 - 8s/epoch - 10ms/step\n",
            "Epoch 13/40\n",
            "\n",
            "Epoch 13: val_loss did not improve from 0.59326\n",
            "782/782 - 8s - loss: 0.4774 - accuracy: 0.8322 - val_loss: 0.6228 - val_accuracy: 0.7928 - 8s/epoch - 10ms/step\n",
            "Epoch 14/40\n",
            "\n",
            "Epoch 14: val_loss did not improve from 0.59326\n",
            "782/782 - 8s - loss: 0.4455 - accuracy: 0.8437 - val_loss: 0.6099 - val_accuracy: 0.7960 - 8s/epoch - 10ms/step\n",
            "Epoch 15/40\n",
            "\n",
            "Epoch 15: val_loss improved from 0.59326 to 0.58437, saving model to weights/improvements/best_model.hdf5\n",
            "782/782 - 8s - loss: 0.4277 - accuracy: 0.8480 - val_loss: 0.5844 - val_accuracy: 0.8108 - 8s/epoch - 10ms/step\n",
            "Epoch 16/40\n",
            "\n",
            "Epoch 16: val_loss did not improve from 0.58437\n",
            "782/782 - 8s - loss: 0.3939 - accuracy: 0.8578 - val_loss: 0.5910 - val_accuracy: 0.8068 - 8s/epoch - 10ms/step\n",
            "Epoch 17/40\n",
            "\n",
            "Epoch 17: val_loss improved from 0.58437 to 0.56859, saving model to weights/improvements/best_model.hdf5\n",
            "782/782 - 8s - loss: 0.3810 - accuracy: 0.8655 - val_loss: 0.5686 - val_accuracy: 0.8133 - 8s/epoch - 10ms/step\n",
            "Epoch 18/40\n",
            "\n",
            "Epoch 18: val_loss improved from 0.56859 to 0.55873, saving model to weights/improvements/best_model.hdf5\n",
            "782/782 - 8s - loss: 0.3655 - accuracy: 0.8682 - val_loss: 0.5587 - val_accuracy: 0.8163 - 8s/epoch - 10ms/step\n",
            "Epoch 19/40\n",
            "\n",
            "Epoch 19: val_loss did not improve from 0.55873\n",
            "782/782 - 8s - loss: 0.3498 - accuracy: 0.8740 - val_loss: 0.5672 - val_accuracy: 0.8184 - 8s/epoch - 10ms/step\n",
            "Epoch 20/40\n",
            "\n",
            "Epoch 20: val_loss did not improve from 0.55873\n",
            "782/782 - 8s - loss: 0.3333 - accuracy: 0.8806 - val_loss: 0.5740 - val_accuracy: 0.8173 - 8s/epoch - 10ms/step\n",
            "Epoch 21/40\n",
            "\n",
            "Epoch 21: val_loss did not improve from 0.55873\n",
            "782/782 - 8s - loss: 0.3211 - accuracy: 0.8862 - val_loss: 0.6187 - val_accuracy: 0.8075 - 8s/epoch - 10ms/step\n",
            "Epoch 22/40\n",
            "\n",
            "Epoch 22: val_loss improved from 0.55873 to 0.55861, saving model to weights/improvements/best_model.hdf5\n",
            "782/782 - 8s - loss: 0.3006 - accuracy: 0.8924 - val_loss: 0.5586 - val_accuracy: 0.8219 - 8s/epoch - 10ms/step\n",
            "Epoch 23/40\n",
            "\n",
            "Epoch 23: val_loss did not improve from 0.55861\n",
            "782/782 - 8s - loss: 0.2899 - accuracy: 0.8949 - val_loss: 0.5698 - val_accuracy: 0.8244 - 8s/epoch - 10ms/step\n",
            "Epoch 24/40\n",
            "\n",
            "Epoch 24: val_loss did not improve from 0.55861\n",
            "782/782 - 8s - loss: 0.2748 - accuracy: 0.9018 - val_loss: 0.5765 - val_accuracy: 0.8234 - 8s/epoch - 10ms/step\n",
            "Epoch 25/40\n",
            "\n",
            "Epoch 25: val_loss did not improve from 0.55861\n",
            "782/782 - 9s - loss: 0.2664 - accuracy: 0.9051 - val_loss: 0.6776 - val_accuracy: 0.8014 - 9s/epoch - 11ms/step\n",
            "Epoch 26/40\n",
            "\n",
            "Epoch 26: val_loss did not improve from 0.55861\n",
            "782/782 - 8s - loss: 0.2539 - accuracy: 0.9088 - val_loss: 0.6074 - val_accuracy: 0.8207 - 8s/epoch - 10ms/step\n",
            "Epoch 27/40\n",
            "\n",
            "Epoch 27: val_loss did not improve from 0.55861\n",
            "782/782 - 8s - loss: 0.2497 - accuracy: 0.9117 - val_loss: 0.5707 - val_accuracy: 0.8235 - 8s/epoch - 10ms/step\n",
            "Epoch 28/40\n",
            "\n",
            "Epoch 28: val_loss did not improve from 0.55861\n",
            "782/782 - 9s - loss: 0.2400 - accuracy: 0.9149 - val_loss: 0.6107 - val_accuracy: 0.8168 - 9s/epoch - 11ms/step\n",
            "Epoch 29/40\n",
            "\n",
            "Epoch 29: val_loss did not improve from 0.55861\n",
            "782/782 - 8s - loss: 0.2297 - accuracy: 0.9184 - val_loss: 0.6088 - val_accuracy: 0.8192 - 8s/epoch - 10ms/step\n",
            "Epoch 30/40\n",
            "\n",
            "Epoch 30: val_loss did not improve from 0.55861\n",
            "782/782 - 8s - loss: 0.2281 - accuracy: 0.9208 - val_loss: 0.5831 - val_accuracy: 0.8278 - 8s/epoch - 10ms/step\n",
            "Epoch 31/40\n",
            "\n",
            "Epoch 31: val_loss did not improve from 0.55861\n",
            "782/782 - 8s - loss: 0.2192 - accuracy: 0.9217 - val_loss: 0.6059 - val_accuracy: 0.8275 - 8s/epoch - 10ms/step\n",
            "Epoch 32/40\n",
            "\n",
            "Epoch 32: val_loss did not improve from 0.55861\n",
            "782/782 - 8s - loss: 0.2109 - accuracy: 0.9246 - val_loss: 0.6675 - val_accuracy: 0.8144 - 8s/epoch - 10ms/step\n",
            "Epoch 33/40\n",
            "\n",
            "Epoch 33: val_loss did not improve from 0.55861\n",
            "782/782 - 8s - loss: 0.2055 - accuracy: 0.9274 - val_loss: 0.5722 - val_accuracy: 0.8311 - 8s/epoch - 10ms/step\n",
            "Epoch 34/40\n",
            "\n",
            "Epoch 34: val_loss did not improve from 0.55861\n",
            "782/782 - 8s - loss: 0.1964 - accuracy: 0.9306 - val_loss: 0.6252 - val_accuracy: 0.8254 - 8s/epoch - 10ms/step\n",
            "Epoch 35/40\n",
            "\n",
            "Epoch 35: val_loss did not improve from 0.55861\n",
            "782/782 - 8s - loss: 0.1972 - accuracy: 0.9303 - val_loss: 0.6219 - val_accuracy: 0.8228 - 8s/epoch - 10ms/step\n",
            "Epoch 36/40\n",
            "\n",
            "Epoch 36: val_loss did not improve from 0.55861\n",
            "782/782 - 8s - loss: 0.1898 - accuracy: 0.9327 - val_loss: 0.6323 - val_accuracy: 0.8257 - 8s/epoch - 10ms/step\n",
            "Epoch 37/40\n",
            "\n",
            "Epoch 37: val_loss did not improve from 0.55861\n",
            "782/782 - 9s - loss: 0.1783 - accuracy: 0.9351 - val_loss: 0.6087 - val_accuracy: 0.8232 - 9s/epoch - 11ms/step\n",
            "Epoch 38/40\n",
            "\n",
            "Epoch 38: val_loss did not improve from 0.55861\n",
            "782/782 - 8s - loss: 0.1743 - accuracy: 0.9376 - val_loss: 0.6500 - val_accuracy: 0.8258 - 8s/epoch - 10ms/step\n",
            "Epoch 39/40\n",
            "\n",
            "Epoch 39: val_loss did not improve from 0.55861\n",
            "782/782 - 8s - loss: 0.1740 - accuracy: 0.9387 - val_loss: 0.6222 - val_accuracy: 0.8266 - 8s/epoch - 10ms/step\n",
            "Epoch 40/40\n",
            "\n",
            "Epoch 40: val_loss did not improve from 0.55861\n",
            "782/782 - 8s - loss: 0.1649 - accuracy: 0.9404 - val_loss: 0.6548 - val_accuracy: 0.8250 - 8s/epoch - 10ms/step\n"
          ]
        }
      ]
    },
    {
      "cell_type": "code",
      "source": [
        "def display_learning_curves(history):\n",
        "    acc = history.history[\"accuracy\"]\n",
        "    val_acc = history.history[\"val_accuracy\"]\n",
        "\n",
        "    loss = history.history[\"loss\"]\n",
        "    val_loss = history.history[\"val_loss\"]\n",
        "\n",
        "    epochs_range = range(NUM_EPOCHS)\n",
        "\n",
        "    fig = plt.figure(figsize=(12,6))\n",
        "\n",
        "    plt.subplot(1,2,1)\n",
        "    plt.plot(epochs_range, acc, label=\"train accuracy\")\n",
        "    plt.plot(epochs_range, val_acc, label=\"validation accuracy\")\n",
        "    plt.title(\"Accuracy\")\n",
        "    plt.xlabel(\"Epoch\")\n",
        "    plt.ylabel(\"Accuracy\")\n",
        "    plt.grid()\n",
        "    plt.legend(loc=\"lower right\")\n",
        "\n",
        "    plt.subplot(1,2,2)\n",
        "    plt.plot(epochs_range, loss, label=\"train loss\")\n",
        "    plt.plot(epochs_range, val_loss, label=\"validation loss\")\n",
        "    plt.title(\"Loss\")\n",
        "    plt.xlabel(\"Epoch\")\n",
        "    plt.ylabel(\"Loss\")\n",
        "    plt.grid()\n",
        "    plt.legend(loc=\"upper right\")\n",
        "\n",
        "    fig.tight_layout()\n",
        "    plt.show()"
      ],
      "metadata": {
        "id": "61f2BTav8vuS"
      },
      "execution_count": 24,
      "outputs": []
    },
    {
      "cell_type": "code",
      "source": [
        "display_learning_curves(H)"
      ],
      "metadata": {
        "colab": {
          "base_uri": "https://localhost:8080/",
          "height": 434
        },
        "id": "gbeU3N6vEK3Y",
        "outputId": "733a0982-f2a9-4bff-c014-d20b11249cee"
      },
      "execution_count": 25,
      "outputs": [
        {
          "output_type": "display_data",
          "data": {
            "text/plain": [
              "<Figure size 864x432 with 2 Axes>"
            ],
            "image/png": "[encoded data removed]"
          },
          "metadata": {
            "needs_background": "light"
          }
        }
      ]
    },
    {
      "cell_type": "code",
      "source": [],
      "metadata": {
        "id": "dYM1pWhhEYr0"
      },
      "execution_count": null,
      "outputs": []
    }
  ]
}