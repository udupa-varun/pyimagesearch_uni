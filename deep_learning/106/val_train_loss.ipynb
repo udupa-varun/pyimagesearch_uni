{
  "nbformat": 4,
  "nbformat_minor": 0,
  "metadata": {
    "colab": {
      "provenance": [],
      "authorship_tag": "ABX9TyP8EqnWKuNxg8QLv7zhQLDK",
      "include_colab_link": true
    },
    "kernelspec": {
      "name": "python3",
      "display_name": "Python 3"
    },
    "language_info": {
      "name": "python"
    },
    "accelerator": "GPU",
    "gpuClass": "standard"
  },
  "cells": [
    {
      "cell_type": "markdown",
      "metadata": {
        "id": "view-in-github",
        "colab_type": "text"
      },
      "source": [
        "<a href=\"https://colab.research.google.com/github/udupa-varun/pyimagesearch_uni/blob/main/deep_learning/106/val_train_loss.ipynb\" target=\"_parent\"><img src=\"https://colab.research.google.com/assets/colab-badge.svg\" alt=\"Open In Colab\"/></a>"
      ]
    },
    {
      "cell_type": "code",
      "execution_count": 1,
      "metadata": {
        "colab": {
          "base_uri": "https://localhost:8080/"
        },
        "id": "KR9G77bmxCbm",
        "outputId": "9087be7f-59ab-49f1-e967-70ebfa974a0c"
      },
      "outputs": [
        {
          "output_type": "stream",
          "name": "stdout",
          "text": [
            "--2023-02-27 12:11:28--  https://pyimagesearch-code-downloads.s3-us-west-2.amazonaws.com/val-train-loss/val-train-loss.zip\n",
            "Resolving pyimagesearch-code-downloads.s3-us-west-2.amazonaws.com (pyimagesearch-code-downloads.s3-us-west-2.amazonaws.com)... 52.92.249.218, 3.5.82.199, 3.5.81.139, ...\n",
            "Connecting to pyimagesearch-code-downloads.s3-us-west-2.amazonaws.com (pyimagesearch-code-downloads.s3-us-west-2.amazonaws.com)|52.92.249.218|:443... connected.\n",
            "HTTP request sent, awaiting response... 200 OK\n",
            "Length: 4996 (4.9K) [binary/octet-stream]\n",
            "Saving to: ‘val-train-loss.zip’\n",
            "\n",
            "val-train-loss.zip  100%[===================>]   4.88K  --.-KB/s    in 0s      \n",
            "\n",
            "2023-02-27 12:11:29 (14.9 MB/s) - ‘val-train-loss.zip’ saved [4996/4996]\n",
            "\n",
            "/content/val-train-loss\n"
          ]
        }
      ],
      "source": [
        "!wget https://pyimagesearch-code-downloads.s3-us-west-2.amazonaws.com/val-train-loss/val-train-loss.zip\n",
        "!unzip -qq val-train-loss.zip\n",
        "%cd val-train-loss"
      ]
    },
    {
      "cell_type": "code",
      "source": [
        "import argparse\n",
        "import pickle\n",
        "\n",
        "from sklearn.metrics import classification_report\n",
        "from tensorflow.keras.datasets import fashion_mnist\n",
        "from tensorflow.keras.optimizers import SGD\n",
        "from tensorflow.keras.optimizers.schedules import PolynomialDecay\n",
        "from tensorflow.keras.utils import to_categorical\n",
        "import cv2\n",
        "import matplotlib.pyplot as plt\n",
        "import numpy as np\n",
        "\n",
        "from pyimagesearch.minivggnet import MiniVGGNet"
      ],
      "metadata": {
        "id": "xekVYrb8xDnU"
      },
      "execution_count": 19,
      "outputs": []
    },
    {
      "cell_type": "code",
      "source": [
        "def plt_imshow(title, image):\n",
        "\t# convert the image frame BGR to RGB color space and display it\n",
        "\timage = cv2.cvtColor(image, cv2.COLOR_BGR2RGB)\n",
        "\tplt.imshow(image)\n",
        "\tplt.title(title)\n",
        "\tplt.grid(False)\n",
        "\tplt.show()"
      ],
      "metadata": {
        "id": "dfzGT7vLxhqJ"
      },
      "execution_count": 3,
      "outputs": []
    },
    {
      "cell_type": "markdown",
      "source": [
        "### Reason 2: Training loss is measured during each epoch, validation loss is measured after each epoch"
      ],
      "metadata": {
        "id": "7uLxir0Exu97"
      }
    },
    {
      "cell_type": "code",
      "source": [
        "args = {\n",
        "    \"history\": \"my_training.pickle\"\n",
        "}"
      ],
      "metadata": {
        "id": "dgiNYq0Oxn5H"
      },
      "execution_count": 22,
      "outputs": []
    },
    {
      "cell_type": "code",
      "source": [
        "# config\n",
        "NUM_EPOCHS = 25\n",
        "INIT_LR = 1e-2\n",
        "BATCH_SIZE = 32"
      ],
      "metadata": {
        "id": "4bPHSYT0x8H0"
      },
      "execution_count": 5,
      "outputs": []
    },
    {
      "cell_type": "code",
      "source": [
        "# grab dataset\n",
        "print(\"[INFO] loading Fashion MNIST dataset...\")\n",
        "((train_x, train_y), (test_x, test_y)) = fashion_mnist.load_data()\n",
        "\n",
        "# using channels-last ordering\n",
        "# design matrix shape: num_samples x rows x cols x depth\n",
        "train_x = train_x.reshape((train_x.shape[0], 28, 28, 1))\n",
        "test_x = test_x.reshape((test_x.shape[0], 28, 28, 1))\n",
        "\n",
        "# scale to [0, 1]\n",
        "train_x = train_x.astype(\"float32\") / 255.0\n",
        "test_x = test_x.astype(\"float32\") / 255.0\n",
        "\n",
        "# one-hot encoding for labels\n",
        "train_y = to_categorical(train_y, 10)\n",
        "test_y = to_categorical(test_y, 10)\n",
        "\n",
        "# init label_names\n",
        "label_names = [\"top\", \"trouser\", \"pullover\", \"dress\", \"coat\",\n",
        "\t\"sandal\", \"shirt\", \"sneaker\", \"bag\", \"ankle boot\"]"
      ],
      "metadata": {
        "colab": {
          "base_uri": "https://localhost:8080/"
        },
        "id": "OoaTCPCyyP3O",
        "outputId": "aed60ab3-a152-436c-c0c9-675dd40792af"
      },
      "execution_count": 6,
      "outputs": [
        {
          "output_type": "stream",
          "name": "stdout",
          "text": [
            "[INFO] loading Fashion MNIST dataset...\n",
            "Downloading data from https://storage.googleapis.com/tensorflow/tf-keras-datasets/train-labels-idx1-ubyte.gz\n",
            "29515/29515 [==============================] - 0s 0us/step\n",
            "Downloading data from https://storage.googleapis.com/tensorflow/tf-keras-datasets/train-images-idx3-ubyte.gz\n",
            "26421880/26421880 [==============================] - 3s 0us/step\n",
            "Downloading data from https://storage.googleapis.com/tensorflow/tf-keras-datasets/t10k-labels-idx1-ubyte.gz\n",
            "5148/5148 [==============================] - 0s 0us/step\n",
            "Downloading data from https://storage.googleapis.com/tensorflow/tf-keras-datasets/t10k-images-idx3-ubyte.gz\n",
            "4422102/4422102 [==============================] - 0s 0us/step\n"
          ]
        }
      ]
    },
    {
      "cell_type": "code",
      "source": [
        "# init optimizer and model\n",
        "print(\"[INFO] compiling model...\")\n",
        "\n",
        "lr_schedule = PolynomialDecay(initial_learning_rate=INIT_LR, decay_steps=10000)\n",
        "opt = SGD(learning_rate=lr_schedule, momentum=0.9, nesterov=False)\n",
        "model = MiniVGGNet.build(width=28, height=28, depth=1, classes=10)\n",
        "# compile model\n",
        "model.compile(\n",
        "    loss=\"categorical_crossentropy\",\n",
        "    optimizer=opt,\n",
        "    metrics=[\"accuracy\"]\n",
        ")\n",
        "\n",
        "# train network\n",
        "print(\"[INFO] training network...\")\n",
        "H = model.fit(\n",
        "    train_x,\n",
        "    train_y,\n",
        "    validation_data=(test_x, test_y),\n",
        "    batch_size=BATCH_SIZE,\n",
        "    epochs=NUM_EPOCHS\n",
        ")"
      ],
      "metadata": {
        "colab": {
          "base_uri": "https://localhost:8080/"
        },
        "id": "bPlJ9xFLzHPG",
        "outputId": "f00485f6-4ea8-4bc3-d9e3-7862f6b01bd4"
      },
      "execution_count": 20,
      "outputs": [
        {
          "output_type": "stream",
          "name": "stdout",
          "text": [
            "[INFO] compiling model...\n",
            "[INFO] training network...\n",
            "Epoch 1/25\n",
            "1875/1875 [==============================] - 16s 8ms/step - loss: 0.5504 - accuracy: 0.8196 - val_loss: 0.3510 - val_accuracy: 0.8751\n",
            "Epoch 2/25\n",
            "1875/1875 [==============================] - 15s 8ms/step - loss: 0.3476 - accuracy: 0.8789 - val_loss: 0.2714 - val_accuracy: 0.9022\n",
            "Epoch 3/25\n",
            "1875/1875 [==============================] - 14s 8ms/step - loss: 0.2931 - accuracy: 0.8957 - val_loss: 0.2604 - val_accuracy: 0.9058\n",
            "Epoch 4/25\n",
            "1875/1875 [==============================] - 14s 7ms/step - loss: 0.2600 - accuracy: 0.9065 - val_loss: 0.2494 - val_accuracy: 0.9088\n",
            "Epoch 5/25\n",
            "1875/1875 [==============================] - 14s 7ms/step - loss: 0.2339 - accuracy: 0.9156 - val_loss: 0.2168 - val_accuracy: 0.9212\n",
            "Epoch 6/25\n",
            "1875/1875 [==============================] - 14s 8ms/step - loss: 0.2203 - accuracy: 0.9203 - val_loss: 0.2130 - val_accuracy: 0.9240\n",
            "Epoch 7/25\n",
            "1875/1875 [==============================] - 14s 8ms/step - loss: 0.2200 - accuracy: 0.9199 - val_loss: 0.2125 - val_accuracy: 0.9227\n",
            "Epoch 8/25\n",
            "1875/1875 [==============================] - 14s 8ms/step - loss: 0.2183 - accuracy: 0.9215 - val_loss: 0.2120 - val_accuracy: 0.9229\n",
            "Epoch 9/25\n",
            "1875/1875 [==============================] - 14s 7ms/step - loss: 0.2191 - accuracy: 0.9203 - val_loss: 0.2128 - val_accuracy: 0.9221\n",
            "Epoch 10/25\n",
            "1875/1875 [==============================] - 14s 8ms/step - loss: 0.2204 - accuracy: 0.9209 - val_loss: 0.2116 - val_accuracy: 0.9239\n",
            "Epoch 11/25\n",
            "1875/1875 [==============================] - 14s 7ms/step - loss: 0.2185 - accuracy: 0.9215 - val_loss: 0.2103 - val_accuracy: 0.9231\n",
            "Epoch 12/25\n",
            "1875/1875 [==============================] - 14s 8ms/step - loss: 0.2172 - accuracy: 0.9208 - val_loss: 0.2099 - val_accuracy: 0.9235\n",
            "Epoch 13/25\n",
            "1875/1875 [==============================] - 14s 8ms/step - loss: 0.2171 - accuracy: 0.9215 - val_loss: 0.2092 - val_accuracy: 0.9240\n",
            "Epoch 14/25\n",
            "1875/1875 [==============================] - 14s 8ms/step - loss: 0.2153 - accuracy: 0.9211 - val_loss: 0.2093 - val_accuracy: 0.9241\n",
            "Epoch 15/25\n",
            "1875/1875 [==============================] - 14s 7ms/step - loss: 0.2170 - accuracy: 0.9221 - val_loss: 0.2092 - val_accuracy: 0.9244\n",
            "Epoch 16/25\n",
            "1875/1875 [==============================] - 14s 7ms/step - loss: 0.2161 - accuracy: 0.9216 - val_loss: 0.2086 - val_accuracy: 0.9237\n",
            "Epoch 17/25\n",
            "1875/1875 [==============================] - 14s 7ms/step - loss: 0.2128 - accuracy: 0.9226 - val_loss: 0.2095 - val_accuracy: 0.9242\n",
            "Epoch 18/25\n",
            "1875/1875 [==============================] - 13s 7ms/step - loss: 0.2132 - accuracy: 0.9224 - val_loss: 0.2079 - val_accuracy: 0.9253\n",
            "Epoch 19/25\n",
            "1875/1875 [==============================] - 14s 8ms/step - loss: 0.2128 - accuracy: 0.9234 - val_loss: 0.2077 - val_accuracy: 0.9251\n",
            "Epoch 20/25\n",
            "1875/1875 [==============================] - 14s 8ms/step - loss: 0.2123 - accuracy: 0.9220 - val_loss: 0.2074 - val_accuracy: 0.9241\n",
            "Epoch 21/25\n",
            "1875/1875 [==============================] - 14s 8ms/step - loss: 0.2142 - accuracy: 0.9230 - val_loss: 0.2078 - val_accuracy: 0.9239\n",
            "Epoch 22/25\n",
            "1875/1875 [==============================] - 14s 8ms/step - loss: 0.2136 - accuracy: 0.9226 - val_loss: 0.2071 - val_accuracy: 0.9243\n",
            "Epoch 23/25\n",
            "1875/1875 [==============================] - 14s 7ms/step - loss: 0.2108 - accuracy: 0.9238 - val_loss: 0.2070 - val_accuracy: 0.9245\n",
            "Epoch 24/25\n",
            "1875/1875 [==============================] - 14s 7ms/step - loss: 0.2106 - accuracy: 0.9234 - val_loss: 0.2068 - val_accuracy: 0.9248\n",
            "Epoch 25/25\n",
            "1875/1875 [==============================] - 14s 7ms/step - loss: 0.2111 - accuracy: 0.9234 - val_loss: 0.2069 - val_accuracy: 0.9246\n"
          ]
        }
      ]
    },
    {
      "cell_type": "code",
      "source": [
        "# evaluate model\n",
        "print(\"[INFO] evaluating network...\")\n",
        "preds = model.predict(test_x, batch_size=BATCH_SIZE)\n",
        "print(\n",
        "    classification_report(\n",
        "        test_y.argmax(axis=1),\n",
        "        preds.argmax(axis=1),\n",
        "        target_names=label_names\n",
        "    )\n",
        ")\n",
        "\n",
        "# serialize training history to disk\n",
        "print(\"[INFO] serializing training history...\")\n",
        "with open(args[\"history\"], \"wb\") as f:\n",
        "    f.write(pickle.dumps(H.history))"
      ],
      "metadata": {
        "colab": {
          "base_uri": "https://localhost:8080/"
        },
        "id": "DvuPErsQz37o",
        "outputId": "5306b8b4-bfaf-4c6a-b5e7-ebdeefa7d6f9"
      },
      "execution_count": 23,
      "outputs": [
        {
          "output_type": "stream",
          "name": "stdout",
          "text": [
            "[INFO] evaluating network...\n",
            "313/313 [==============================] - 1s 3ms/step\n",
            "              precision    recall  f1-score   support\n",
            "\n",
            "         top       0.88      0.87      0.87      1000\n",
            "     trouser       1.00      0.98      0.99      1000\n",
            "    pullover       0.89      0.90      0.89      1000\n",
            "       dress       0.92      0.93      0.92      1000\n",
            "        coat       0.87      0.91      0.89      1000\n",
            "      sandal       0.99      0.98      0.99      1000\n",
            "       shirt       0.78      0.75      0.77      1000\n",
            "     sneaker       0.95      0.99      0.97      1000\n",
            "         bag       0.99      0.98      0.99      1000\n",
            "  ankle boot       0.98      0.96      0.97      1000\n",
            "\n",
            "    accuracy                           0.92     10000\n",
            "   macro avg       0.92      0.92      0.92     10000\n",
            "weighted avg       0.92      0.92      0.92     10000\n",
            "\n",
            "[INFO] serializing training history...\n"
          ]
        }
      ]
    },
    {
      "cell_type": "markdown",
      "source": [
        "### Shifting our training losses"
      ],
      "metadata": {
        "id": "ZwfDBzH62EfQ"
      }
    },
    {
      "cell_type": "code",
      "source": [
        "args = {\n",
        "    \"input\": \"my_training.pickle\"\n",
        "}"
      ],
      "metadata": {
        "id": "oW0qfFOj1_JQ"
      },
      "execution_count": 24,
      "outputs": []
    },
    {
      "cell_type": "code",
      "source": [
        "# load training history\n",
        "H = pickle.loads(open(args[\"input\"], \"rb\").read())\n",
        "\n",
        "epochs = np.arange(0, len(H[\"loss\"]))\n",
        "plt.style.use(\"ggplot\")\n",
        "(fig, ax) = plt.subplots(ncols=1, nrows=2, figsize=(12, 6))\n",
        "\n",
        "# plot unshifted training and validation losses\n",
        "ax[0].plot(epochs, H[\"loss\"], \"-o\", label=\"train_loss\")\n",
        "ax[0].plot(epochs, H[\"val_loss\"], \"-o\", label=\"val_loss\")\n",
        "ax[0].set_title(\"Unshifted Loss Plot\")\n",
        "ax[0].set_xlabel(\"Epoch #\")\n",
        "ax[0].set_ylabel(\"Loss\")\n",
        "ax[0].legend(loc=\"upper right\")\n",
        "\n",
        "# plot shifted training and validation losses\n",
        "ax[1].plot(epochs - 0.5, H[\"loss\"], \"-o\", label=\"train_loss\")\n",
        "ax[1].plot(epochs, H[\"val_loss\"], \"-o\", label=\"val_loss\")\n",
        "ax[1].set_title(\"Shifted Loss Plot\")\n",
        "ax[1].set_xlabel(\"Epoch #\")\n",
        "ax[1].set_ylabel(\"Loss\")\n",
        "ax[1].legend(loc=\"upper right\")\n",
        "\n",
        "fig.tight_layout()\n",
        "plt.show()"
      ],
      "metadata": {
        "colab": {
          "base_uri": "https://localhost:8080/",
          "height": 441
        },
        "id": "pKKCJ0Tb2LlB",
        "outputId": "1d585fe7-fdf9-4ad6-da8e-57f467ecad34"
      },
      "execution_count": 25,
      "outputs": [
        {
          "output_type": "display_data",
          "data": {
            "text/plain": [
              "<Figure size 864x432 with 2 Axes>"
            ],
            "image/png": "[encoded data removed]"
          },
          "metadata": {}
        }
      ]
    },
    {
      "cell_type": "code",
      "source": [],
      "metadata": {
        "id": "78vfttru3C95"
      },
      "execution_count": null,
      "outputs": []
    }
  ]
}