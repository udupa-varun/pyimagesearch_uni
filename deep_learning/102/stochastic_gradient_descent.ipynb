{
  "nbformat": 4,
  "nbformat_minor": 0,
  "metadata": {
    "colab": {
      "provenance": [],
      "authorship_tag": "ABX9TyNfYLmlvGigfFd3ae5RVSq6",
      "include_colab_link": true
    },
    "kernelspec": {
      "name": "python3",
      "display_name": "Python 3"
    },
    "language_info": {
      "name": "python"
    }
  },
  "cells": [
    {
      "cell_type": "markdown",
      "metadata": {
        "id": "view-in-github",
        "colab_type": "text"
      },
      "source": [
        "<a href=\"https://colab.research.google.com/github/udupa-varun/pyimagesearch_uni/blob/main/deep_learning/102/stochastic_gradient_descent.ipynb\" target=\"_parent\"><img src=\"https://colab.research.google.com/assets/colab-badge.svg\" alt=\"Open In Colab\"/></a>"
      ]
    },
    {
      "cell_type": "code",
      "execution_count": 1,
      "metadata": {
        "id": "w9wXoIke3PF3",
        "colab": {
          "base_uri": "https://localhost:8080/"
        },
        "outputId": "2c24c413-0108-4533-f85f-cab0cc4b1569"
      },
      "outputs": [
        {
          "output_type": "stream",
          "name": "stdout",
          "text": [
            "--2023-01-31 09:21:03--  https://pyimagesearch-code-downloads.s3.us-west-2.amazonaws.com/stochastic-gradient-descent/stochastic-gradient-descent.zip\n",
            "Resolving pyimagesearch-code-downloads.s3.us-west-2.amazonaws.com (pyimagesearch-code-downloads.s3.us-west-2.amazonaws.com)... 52.92.146.106, 52.92.213.106, 3.5.80.168, ...\n",
            "Connecting to pyimagesearch-code-downloads.s3.us-west-2.amazonaws.com (pyimagesearch-code-downloads.s3.us-west-2.amazonaws.com)|52.92.146.106|:443... connected.\n",
            "HTTP request sent, awaiting response... 200 OK\n",
            "Length: 2163 (2.1K) [application/zip]\n",
            "Saving to: ‘stochastic-gradient-descent.zip’\n",
            "\n",
            "stochastic-gradient 100%[===================>]   2.11K  --.-KB/s    in 0s      \n",
            "\n",
            "2023-01-31 09:21:04 (129 MB/s) - ‘stochastic-gradient-descent.zip’ saved [2163/2163]\n",
            "\n",
            "/content/stochastic-gradient-descent\n"
          ]
        }
      ],
      "source": [
        "!wget https://pyimagesearch-code-downloads.s3.us-west-2.amazonaws.com/stochastic-gradient-descent/stochastic-gradient-descent.zip\n",
        "!unzip -qq stochastic-gradient-descent.zip\n",
        "%cd stochastic-gradient-descent"
      ]
    },
    {
      "cell_type": "code",
      "source": [
        "from sklearn.model_selection import train_test_split\n",
        "from sklearn.metrics import classification_report\n",
        "from sklearn.datasets import make_blobs\n",
        "import matplotlib.pyplot as plt\n",
        "import numpy as np"
      ],
      "metadata": {
        "id": "SnoOzLFugIAH"
      },
      "execution_count": 2,
      "outputs": []
    },
    {
      "cell_type": "markdown",
      "source": [
        "Gradient descent functions"
      ],
      "metadata": {
        "id": "Zz47DyhCgrJv"
      }
    },
    {
      "cell_type": "code",
      "source": [
        "def sigmoid_activation(x):\n",
        "    # compute sigmoid activation value for input\n",
        "    return 1.0 / (1 + np.exp(-x))\n",
        "\n",
        "def sigmoid_deriv(x):\n",
        "    # compute derivative of sigmoid function ASSUMING\n",
        "    # input x is the output sigmoid activation value\n",
        "    return x * (1 - x)\n",
        "\n",
        "def predict(X, W):\n",
        "    # take dot product between features and weight matrix\n",
        "    preds = sigmoid_activation(X.dot(W))\n",
        "\n",
        "    # apply step function to threshold outputs to binary\n",
        "    preds[preds <= 0.5] = 0\n",
        "    preds[preds > 0.5] = 1\n",
        "\n",
        "    return preds\n",
        "\n",
        "def next_batch(X, y, batch_size):\n",
        "    # loop over dataset \"X\" in mini-batches,\n",
        "    # yielding current batch data and labels\n",
        "    for i in np.arange(0, X.shape[0], batch_size):\n",
        "        yield (X[i:i + batch_size], y[i:i + batch_size])"
      ],
      "metadata": {
        "id": "8zFaUiu-hJIl"
      },
      "execution_count": 7,
      "outputs": []
    },
    {
      "cell_type": "code",
      "source": [
        "args = {\n",
        "    \"epochs\": 100,\n",
        "    \"alpha\": 0.01,\n",
        "    \"batch_size\": 32\n",
        "}"
      ],
      "metadata": {
        "id": "qKqElKUOh2BT"
      },
      "execution_count": 8,
      "outputs": []
    },
    {
      "cell_type": "code",
      "source": [
        "# generate a 2-class classification problem with 1000 data points\n",
        "# where each data point is a 2D feature vector\n",
        "(X, y) = make_blobs(n_samples=1000, n_features=2, centers=2, cluster_std=1.5, random_state=1)\n",
        "y = y.reshape((y.shape[0], 1))\n",
        "\n",
        "# insert a column of 1s as the last entry in feature matrix (bias trick)\n",
        "X = np.c_[X, np.ones((X.shape[0]))]\n",
        "\n",
        "# partition data\n",
        "(train_x, test_x, train_y, test_y) = train_test_split(X, y, test_size=0.5, random_state=42)\n",
        "\n",
        "# init weight matrix and list of losses\n",
        "print(\"[INFO] training...\")\n",
        "W = np.random.randn(X.shape[1], 1)\n",
        "losses = []"
      ],
      "metadata": {
        "colab": {
          "base_uri": "https://localhost:8080/"
        },
        "id": "AemHHskih8xj",
        "outputId": "ec9feae2-dc0a-4b98-ee5b-44fb927af6f0"
      },
      "execution_count": 9,
      "outputs": [
        {
          "output_type": "stream",
          "name": "stdout",
          "text": [
            "[INFO] training...\n"
          ]
        }
      ]
    },
    {
      "cell_type": "code",
      "source": [
        "# loop over number of epochs\n",
        "for epoch in np.arange(0, args[\"epochs\"]):\n",
        "    # init total loss for the epoch\n",
        "    epoch_loss = []\n",
        "\n",
        "    # loop over data in batches\n",
        "    for (batch_x, batch_y) in next_batch(train_x, train_y, args[\"batch_size\"]):\n",
        "        # take dot product between features X and weight W\n",
        "        # pass product to sigmoid activation, get predictions\n",
        "        preds = sigmoid_activation(batch_x.dot(W))\n",
        "\n",
        "        # compute error\n",
        "        error = preds - batch_y\n",
        "        epoch_loss.append(np.sum(error ** 2))\n",
        "\n",
        "        # gradient descent update\n",
        "        # dot product between features and error of sigmoid deriv of predictions\n",
        "        d = error * sigmoid_deriv(preds)\n",
        "        gradient = batch_x.T.dot(d)\n",
        "\n",
        "        # nudge weight matrix in the negative direction of gradient\n",
        "        W += -args[\"alpha\"] * gradient\n",
        "\n",
        "    # update loss history by taking average loss across all batches\n",
        "    loss = np.average(epoch_loss)\n",
        "    losses.append(loss)\n",
        "\n",
        "    # check if update should be displayed\n",
        "    if epoch == 0 or (epoch + 1) % 5 == 0:\n",
        "        print(f\"[INFO] epoch={int(epoch+1)}, loss={loss:.5f}\")\n"
      ],
      "metadata": {
        "colab": {
          "base_uri": "https://localhost:8080/"
        },
        "id": "3jWLKMdpi6Jb",
        "outputId": "8c52862f-e7bf-4608-b386-656e241d5512"
      },
      "execution_count": 10,
      "outputs": [
        {
          "output_type": "stream",
          "name": "stdout",
          "text": [
            "[INFO] epoch=1, loss=23.45195\n",
            "[INFO] epoch=5, loss=15.96979\n",
            "[INFO] epoch=10, loss=15.77182\n",
            "[INFO] epoch=15, loss=15.71772\n",
            "[INFO] epoch=20, loss=15.69072\n",
            "[INFO] epoch=25, loss=15.67289\n",
            "[INFO] epoch=30, loss=15.65886\n",
            "[INFO] epoch=35, loss=15.64591\n",
            "[INFO] epoch=40, loss=15.63024\n",
            "[INFO] epoch=45, loss=15.58810\n",
            "[INFO] epoch=50, loss=0.07354\n",
            "[INFO] epoch=55, loss=0.01499\n",
            "[INFO] epoch=60, loss=0.01144\n",
            "[INFO] epoch=65, loss=0.01034\n",
            "[INFO] epoch=70, loss=0.00982\n",
            "[INFO] epoch=75, loss=0.00953\n",
            "[INFO] epoch=80, loss=0.00932\n",
            "[INFO] epoch=85, loss=0.00916\n",
            "[INFO] epoch=90, loss=0.00903\n",
            "[INFO] epoch=95, loss=0.00891\n",
            "[INFO] epoch=100, loss=0.00880\n"
          ]
        }
      ]
    },
    {
      "cell_type": "code",
      "source": [
        "# evaluate model\n",
        "print(\"[INFO] evaluating...\")\n",
        "preds = predict(test_x, W)\n",
        "print(classification_report(test_y, preds))\n",
        "\n",
        "# plot testing data\n",
        "plt.style.use(\"ggplot\")\n",
        "plt.figure()\n",
        "plt.title(\"Data\")\n",
        "plt.scatter(test_x[:, 0], test_x[:, 1], marker=\"o\", c=test_y[:, 0], s=30)\n",
        "\n",
        "# figure that plots loss over time\n",
        "plt.style.use(\"ggplot\")\n",
        "plt.figure()\n",
        "plt.title(\"Training loss\")\n",
        "plt.plot(np.arange(0, args[\"epochs\"]), losses)\n",
        "plt.xlabel(\"Epoch\")\n",
        "plt.ylabel(\"Loss\")\n",
        "\n",
        "plt.show()"
      ],
      "metadata": {
        "colab": {
          "base_uri": "https://localhost:8080/",
          "height": 743
        },
        "id": "6t9oI63VkDRN",
        "outputId": "8127383f-e8e3-46b2-8881-e1e2fb6e6559"
      },
      "execution_count": 11,
      "outputs": [
        {
          "output_type": "stream",
          "name": "stdout",
          "text": [
            "[INFO] evaluating...\n",
            "              precision    recall  f1-score   support\n",
            "\n",
            "           0       1.00      1.00      1.00       250\n",
            "           1       1.00      1.00      1.00       250\n",
            "\n",
            "    accuracy                           1.00       500\n",
            "   macro avg       1.00      1.00      1.00       500\n",
            "weighted avg       1.00      1.00      1.00       500\n",
            "\n"
          ]
        },
        {
          "output_type": "display_data",
          "data": {
            "text/plain": [
              "<Figure size 432x288 with 1 Axes>"
            ],
            "image/png": "[encoded data removed]"
          },
          "metadata": {}
        },
        {
          "output_type": "display_data",
          "data": {
            "text/plain": [
              "<Figure size 432x288 with 1 Axes>"
            ],
            "image/png": "[encoded data removed]"
          },
          "metadata": {}
        }
      ]
    },
    {
      "cell_type": "code",
      "source": [],
      "metadata": {
        "id": "lz0UCQ_Xksq2"
      },
      "execution_count": null,
      "outputs": []
    }
  ]
}