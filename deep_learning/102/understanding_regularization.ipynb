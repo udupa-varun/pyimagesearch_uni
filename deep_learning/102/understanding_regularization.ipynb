{
  "nbformat": 4,
  "nbformat_minor": 0,
  "metadata": {
    "colab": {
      "provenance": [],
      "authorship_tag": "ABX9TyMpTU9wVh+l4C7f2YlBXVqH",
      "include_colab_link": true
    },
    "kernelspec": {
      "name": "python3",
      "display_name": "Python 3"
    },
    "language_info": {
      "name": "python"
    }
  },
  "cells": [
    {
      "cell_type": "markdown",
      "metadata": {
        "id": "view-in-github",
        "colab_type": "text"
      },
      "source": [
        "<a href=\"https://colab.research.google.com/github/udupa-varun/pyimagesearch_uni/blob/main/deep_learning/102/understanding_regularization.ipynb\" target=\"_parent\"><img src=\"https://colab.research.google.com/assets/colab-badge.svg\" alt=\"Open In Colab\"/></a>"
      ]
    },
    {
      "cell_type": "code",
      "execution_count": 1,
      "metadata": {
        "colab": {
          "base_uri": "https://localhost:8080/"
        },
        "id": "LESApcyEELXC",
        "outputId": "f4e0692f-ead8-4156-9bc8-fbdbbe6d4784"
      },
      "outputs": [
        {
          "output_type": "stream",
          "name": "stdout",
          "text": [
            "--2023-01-31 13:43:06--  https://pyimagesearch-code-downloads.s3.us-west-2.amazonaws.com/understanding-regularization/understanding-regularization.zip\n",
            "Resolving pyimagesearch-code-downloads.s3.us-west-2.amazonaws.com (pyimagesearch-code-downloads.s3.us-west-2.amazonaws.com)... 3.5.80.127, 52.92.181.146, 52.92.248.138, ...\n",
            "Connecting to pyimagesearch-code-downloads.s3.us-west-2.amazonaws.com (pyimagesearch-code-downloads.s3.us-west-2.amazonaws.com)|3.5.80.127|:443... connected.\n",
            "HTTP request sent, awaiting response... 200 OK\n",
            "Length: 197007501 (188M) [application/zip]\n",
            "Saving to: ‘understanding-regularization.zip’\n",
            "\n",
            "understanding-regul 100%[===================>] 187.88M  43.3MB/s    in 8.7s    \n",
            "\n",
            "2023-01-31 13:43:15 (21.5 MB/s) - ‘understanding-regularization.zip’ saved [197007501/197007501]\n",
            "\n",
            "/content/understanding-regularization\n"
          ]
        }
      ],
      "source": [
        "!wget https://pyimagesearch-code-downloads.s3.us-west-2.amazonaws.com/understanding-regularization/understanding-regularization.zip\n",
        "!unzip -qq understanding-regularization.zip\n",
        "%cd understanding-regularization"
      ]
    },
    {
      "cell_type": "code",
      "source": [
        "from sklearn.linear_model import SGDClassifier\n",
        "from sklearn.preprocessing import LabelEncoder\n",
        "from sklearn.model_selection import train_test_split\n",
        "from pyimagesearch.preprocessing import SimplePreprocessor\n",
        "from pyimagesearch.datasets import SimpleDatasetLoader\n",
        "from imutils import paths"
      ],
      "metadata": {
        "id": "C4w1RC2gEMT_"
      },
      "execution_count": 2,
      "outputs": []
    },
    {
      "cell_type": "code",
      "source": [
        "args = {\n",
        "    \"dataset\": \"dataset/animals\"\n",
        "}"
      ],
      "metadata": {
        "id": "pdHEmfyhElqx"
      },
      "execution_count": 3,
      "outputs": []
    },
    {
      "cell_type": "code",
      "source": [
        "print(\"[INFO] loading images...\")\n",
        "image_paths = list(paths.list_images(args[\"dataset\"]))\n",
        "\n",
        "# init image preprocessor and load dataset from disk\n",
        "sp = SimplePreprocessor(32, 32)\n",
        "sdl = SimpleDatasetLoader(preprocessors=[sp])\n",
        "(data, labels) = sdl.load(image_paths, verbose=500)\n",
        "\n",
        "# reshape data matrix\n",
        "data = data.reshape((data.shape[0], 3072))\n"
      ],
      "metadata": {
        "colab": {
          "base_uri": "https://localhost:8080/"
        },
        "id": "4oszPU4KEpfo",
        "outputId": "6274b42a-4c1a-4c33-e84b-401205780186"
      },
      "execution_count": 5,
      "outputs": [
        {
          "output_type": "stream",
          "name": "stdout",
          "text": [
            "[INFO] loading images...\n",
            "[INFO] processed 500/3000\n",
            "[INFO] processed 1000/3000\n",
            "[INFO] processed 1500/3000\n",
            "[INFO] processed 2000/3000\n",
            "[INFO] processed 2500/3000\n",
            "[INFO] processed 3000/3000\n"
          ]
        }
      ]
    },
    {
      "cell_type": "code",
      "source": [
        "# encode labels as integers\n",
        "le = LabelEncoder()\n",
        "labels = le.fit_transform(labels)\n",
        "\n",
        "# partition the data\n",
        "(train_x, test_x, train_y, test_y) = train_test_split(\n",
        "    data, \n",
        "    labels,\n",
        "    test_size=0.25,\n",
        "    random_state=42\n",
        "    )\n"
      ],
      "metadata": {
        "id": "_8tkltNVFNv8"
      },
      "execution_count": 6,
      "outputs": []
    },
    {
      "cell_type": "code",
      "source": [
        "# loop over set of regularizers\n",
        "for r in (None, \"l1\", \"l2\"):\n",
        "    # train an SGD classifier using a softmax loss function\n",
        "    # and the specified regularization function, for 10 epochs\n",
        "    print(f\"[INFO] training model with {r} penalty...\")\n",
        "    model = SGDClassifier(\n",
        "        loss=\"log\", \n",
        "        penalty=r, \n",
        "        max_iter=10,\n",
        "        learning_rate=\"constant\",\n",
        "        tol=1e-3,\n",
        "        eta0=0.01,\n",
        "        random_state=12\n",
        "        )\n",
        "    model.fit(train_x, train_y)\n",
        "\n",
        "    # evaluate classifier\n",
        "    acc = model.score(test_x, test_y)\n",
        "    print(f\"[INFO] {r} penalty accuracy: {acc * 100:.2f}%\")"
      ],
      "metadata": {
        "colab": {
          "base_uri": "https://localhost:8080/"
        },
        "id": "ZCQa95SjF0KK",
        "outputId": "f7455a6e-20d2-47b5-f940-ff3ffb2ed86e"
      },
      "execution_count": 8,
      "outputs": [
        {
          "output_type": "stream",
          "name": "stdout",
          "text": [
            "[INFO] training model with None penalty...\n"
          ]
        },
        {
          "output_type": "stream",
          "name": "stderr",
          "text": [
            "/usr/local/lib/python3.8/dist-packages/sklearn/linear_model/_stochastic_gradient.py:696: ConvergenceWarning: Maximum number of iteration reached before convergence. Consider increasing max_iter to improve the fit.\n",
            "  warnings.warn(\n"
          ]
        },
        {
          "output_type": "stream",
          "name": "stdout",
          "text": [
            "[INFO] None penalty accuracy: 55.47%\n",
            "[INFO] training model with l1 penalty...\n"
          ]
        },
        {
          "output_type": "stream",
          "name": "stderr",
          "text": [
            "/usr/local/lib/python3.8/dist-packages/sklearn/linear_model/_stochastic_gradient.py:696: ConvergenceWarning: Maximum number of iteration reached before convergence. Consider increasing max_iter to improve the fit.\n",
            "  warnings.warn(\n"
          ]
        },
        {
          "output_type": "stream",
          "name": "stdout",
          "text": [
            "[INFO] l1 penalty accuracy: 54.80%\n",
            "[INFO] training model with l2 penalty...\n",
            "[INFO] l2 penalty accuracy: 55.33%\n"
          ]
        },
        {
          "output_type": "stream",
          "name": "stderr",
          "text": [
            "/usr/local/lib/python3.8/dist-packages/sklearn/linear_model/_stochastic_gradient.py:696: ConvergenceWarning: Maximum number of iteration reached before convergence. Consider increasing max_iter to improve the fit.\n",
            "  warnings.warn(\n"
          ]
        }
      ]
    },
    {
      "cell_type": "code",
      "source": [],
      "metadata": {
        "id": "JNb0xUnsGn2r"
      },
      "execution_count": null,
      "outputs": []
    }
  ]
}