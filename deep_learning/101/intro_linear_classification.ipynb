{
  "nbformat": 4,
  "nbformat_minor": 0,
  "metadata": {
    "colab": {
      "name": "intro_linear_classification.ipynb",
      "provenance": [],
      "authorship_tag": "ABX9TyPvfiSOp+eRfACkAv3k3PeD",
      "include_colab_link": true
    },
    "kernelspec": {
      "name": "python3",
      "display_name": "Python 3"
    },
    "language_info": {
      "name": "python"
    }
  },
  "cells": [
    {
      "cell_type": "markdown",
      "metadata": {
        "id": "view-in-github",
        "colab_type": "text"
      },
      "source": [
        "<a href=\"https://colab.research.google.com/github/udupa-varun/pyimagesearch_uni/blob/main/deep_learning/101/intro_linear_classification.ipynb\" target=\"_parent\"><img src=\"https://colab.research.google.com/assets/colab-badge.svg\" alt=\"Open In Colab\"/></a>"
      ]
    },
    {
      "cell_type": "code",
      "execution_count": 1,
      "metadata": {
        "colab": {
          "base_uri": "https://localhost:8080/"
        },
        "id": "UVkwLuePeBlq",
        "outputId": "7ae5387e-f6b1-4ee8-c8ab-7ac01386852f"
      },
      "outputs": [
        {
          "output_type": "stream",
          "name": "stdout",
          "text": [
            "Looking in indexes: https://pypi.org/simple, https://us-python.pkg.dev/colab-wheels/public/simple/\n",
            "Collecting kaggle\n",
            "  Downloading kaggle-1.5.12.tar.gz (58 kB)\n",
            "\u001b[K     |████████████████████████████████| 58 kB 2.8 MB/s \n",
            "\u001b[?25hBuilding wheels for collected packages: kaggle\n",
            "  Building wheel for kaggle (setup.py) ... \u001b[?25l\u001b[?25hdone\n",
            "  Created wheel for kaggle: filename=kaggle-1.5.12-py3-none-any.whl size=73051 sha256=b55101e35e34f4e26de1462226de6bd638b1e1094defcf30834bf490569b86ea\n",
            "  Stored in directory: /root/.cache/pip/wheels/62/d6/58/5853130f941e75b2177d281eb7e44b4a98ed46dd155f556dc5\n",
            "Successfully built kaggle\n",
            "Installing collected packages: kaggle\n",
            "  Attempting uninstall: kaggle\n",
            "    Found existing installation: kaggle 1.5.12\n",
            "    Uninstalling kaggle-1.5.12:\n",
            "      Successfully uninstalled kaggle-1.5.12\n",
            "Successfully installed kaggle-1.5.12\n"
          ]
        }
      ],
      "source": [
        "!pip install --upgrade --force-reinstall --no-deps kaggle"
      ]
    },
    {
      "cell_type": "code",
      "source": [
        "!wget https://pyimagesearch-code-downloads.s3-us-west-2.amazonaws.com/intro-linear-classification/intro-linear-classification.zip\n",
        "!unzip -qq intro-linear-classification.zip\n",
        "%cd intro-linear-classification"
      ],
      "metadata": {
        "colab": {
          "base_uri": "https://localhost:8080/"
        },
        "id": "v4FIqoc1eE4i",
        "outputId": "e2c3a6a9-6386-40bf-dc4d-392e751f7791"
      },
      "execution_count": 2,
      "outputs": [
        {
          "output_type": "stream",
          "name": "stdout",
          "text": [
            "--2022-06-07 14:01:36--  https://pyimagesearch-code-downloads.s3-us-west-2.amazonaws.com/intro-linear-classification/intro-linear-classification.zip\n",
            "Resolving pyimagesearch-code-downloads.s3-us-west-2.amazonaws.com (pyimagesearch-code-downloads.s3-us-west-2.amazonaws.com)... 52.218.209.217\n",
            "Connecting to pyimagesearch-code-downloads.s3-us-west-2.amazonaws.com (pyimagesearch-code-downloads.s3-us-west-2.amazonaws.com)|52.218.209.217|:443... connected.\n",
            "HTTP request sent, awaiting response... 200 OK\n",
            "Length: 1956 (1.9K) [binary/octet-stream]\n",
            "Saving to: ‘intro-linear-classification.zip’\n",
            "\n",
            "intro-linear-classi 100%[===================>]   1.91K  --.-KB/s    in 0s      \n",
            "\n",
            "2022-06-07 14:01:37 (122 MB/s) - ‘intro-linear-classification.zip’ saved [1956/1956]\n",
            "\n",
            "/content/intro-linear-classification\n"
          ]
        }
      ]
    },
    {
      "cell_type": "markdown",
      "source": [
        "### Using Kaggle API to download dataset into Colab environment"
      ],
      "metadata": {
        "id": "NBFXE-_TeIvB"
      }
    },
    {
      "cell_type": "code",
      "source": [
        "from google.colab import drive\n",
        "drive.mount(\"/content/gdrive\", force_remount=True)"
      ],
      "metadata": {
        "colab": {
          "base_uri": "https://localhost:8080/"
        },
        "id": "0bq3iBWKgcBM",
        "outputId": "a1eccbee-48fd-4cdb-e4bf-b7ab90cabb0d"
      },
      "execution_count": 11,
      "outputs": [
        {
          "output_type": "stream",
          "name": "stdout",
          "text": [
            "Mounted at /content/gdrive\n"
          ]
        }
      ]
    },
    {
      "cell_type": "code",
      "source": [
        "!mkdir ~/.kaggle\n",
        "!cp \"/content/gdrive/MyDrive/Colab Notebooks/kaggle.json\" ~/.kaggle\n",
        "!chmod 600 ~/.kaggle/kaggle.json"
      ],
      "metadata": {
        "colab": {
          "base_uri": "https://localhost:8080/"
        },
        "id": "hwWxGLiKeU4q",
        "outputId": "640b95bc-6056-48f2-d9b2-24ddb6b792ec"
      },
      "execution_count": 13,
      "outputs": [
        {
          "output_type": "stream",
          "name": "stdout",
          "text": [
            "mkdir: cannot create directory ‘/root/.kaggle’: File exists\n"
          ]
        }
      ]
    },
    {
      "cell_type": "code",
      "source": [
        "!kaggle competitions download -c dogs-vs-cats"
      ],
      "metadata": {
        "colab": {
          "base_uri": "https://localhost:8080/"
        },
        "id": "8OVF2pBOespB",
        "outputId": "725ca73b-153f-4471-8d91-44e7e7281435"
      },
      "execution_count": 20,
      "outputs": [
        {
          "output_type": "stream",
          "name": "stdout",
          "text": [
            "Downloading dogs-vs-cats.zip to /content/intro-linear-classification\n",
            " 97% 790M/812M [00:16<00:00, 79.7MB/s]\n",
            "100% 812M/812M [00:16<00:00, 50.9MB/s]\n"
          ]
        }
      ]
    },
    {
      "cell_type": "code",
      "source": [
        "!mkdir kaggle_dogs_vs_cats\n",
        "!unzip --qq dogs-vs-cats.zip\n",
        "!unzip --qq train.zip -d kaggle_dogs_vs_cats"
      ],
      "metadata": {
        "id": "D9bCVg7jpqVD"
      },
      "execution_count": 29,
      "outputs": []
    },
    {
      "cell_type": "code",
      "source": [
        "# import the necessary packages\n",
        "import argparse\n",
        "import os\n",
        "\n",
        "import cv2\n",
        "import imutils\n",
        "import numpy as np\n",
        "from imutils import paths\n",
        "from sklearn.preprocessing import LabelEncoder\n",
        "from sklearn.svm import LinearSVC\n",
        "from sklearn.metrics import classification_report\n",
        "from sklearn.model_selection import train_test_split"
      ],
      "metadata": {
        "id": "EbIFY3V5g-zS"
      },
      "execution_count": 23,
      "outputs": []
    },
    {
      "cell_type": "code",
      "source": [
        "def extract_color_histogram(image, bins=(8, 8, 8)):\n",
        "    # extract a 3D color hist from HSV space\n",
        "    hsv = cv2.cvtColor(image, cv2.COLOR_BGR2HSV)\n",
        "    hist = cv2.calcHist([hsv], [0, 1, 2], None, bins, [0, 180, 0, 256, 0, 256])\n",
        "\n",
        "    # normalize histogram\n",
        "    if imutils.is_cv2():\n",
        "        hist = cv2.normalize(hist)\n",
        "    else:\n",
        "        cv2.normalize(hist, hist)\n",
        "\n",
        "    # return flattened hist as the feature vector\n",
        "    return hist.flatten()"
      ],
      "metadata": {
        "id": "YpVm-eChjwHy"
      },
      "execution_count": 24,
      "outputs": []
    },
    {
      "cell_type": "code",
      "source": [
        "# construct the argument parse and parse the arguments\n",
        "# ap = argparse.ArgumentParser()\n",
        "# ap.add_argument(\"-d\", \"--dataset\", required=True,\n",
        "# \thelp=\"path to input dataset\")\n",
        "# args = vars(ap.parse_args())\n",
        "\n",
        "# since we are using Jupyter Notebooks we can replace our argument\n",
        "# parsing code with *hard coded* arguments and values\n",
        "args = {\n",
        "\t\"dataset\": \"kaggle_dogs_vs_cats\"\n",
        "}"
      ],
      "metadata": {
        "id": "tmk642-aoXHk"
      },
      "execution_count": 25,
      "outputs": []
    },
    {
      "cell_type": "code",
      "source": [
        "# grab the list of images that we'll be describing\n",
        "print(\"[INFO] describing images...\")\n",
        "image_paths = list(paths.list_images(args[\"dataset\"]))\n",
        "\n",
        "# initialize the data matrix and labels list\n",
        "data = []\n",
        "labels = []\n",
        "\n",
        "# loop over input images\n",
        "for (i, image_path) in enumerate(image_paths):\n",
        "    # load image and extract class label\n",
        "    # assumes path format /path/to/dataset/{class}.{image_num}.jpg\n",
        "    image = cv2.imread(image_path)\n",
        "    label = image_path.split(os.path.sep)[-1].split(\".\")[0]\n",
        "\n",
        "    # extract color histogram\n",
        "    hist = extract_color_histogram(image)\n",
        "    # update data matrix and labels list\n",
        "    data.append(hist)\n",
        "    labels.append(label)\n",
        "\n",
        "    # update progress\n",
        "    if (i > 0 and i % 1000 == 0) or ((i + 1) == len(image_paths)):\n",
        "        print(f\"[INFO] processed {i + 1}/{len(image_paths)}\")"
      ],
      "metadata": {
        "colab": {
          "base_uri": "https://localhost:8080/"
        },
        "id": "o8NoZQ1yoc00",
        "outputId": "bb47efb1-c6e2-4029-e3b8-a83d528c36e7"
      },
      "execution_count": 33,
      "outputs": [
        {
          "output_type": "stream",
          "name": "stdout",
          "text": [
            "[INFO] describing images...\n",
            "[INFO] processed 1001/25000\n",
            "[INFO] processed 2001/25000\n",
            "[INFO] processed 3001/25000\n",
            "[INFO] processed 4001/25000\n",
            "[INFO] processed 5001/25000\n",
            "[INFO] processed 6001/25000\n",
            "[INFO] processed 7001/25000\n",
            "[INFO] processed 8001/25000\n",
            "[INFO] processed 9001/25000\n",
            "[INFO] processed 10001/25000\n",
            "[INFO] processed 11001/25000\n",
            "[INFO] processed 12001/25000\n",
            "[INFO] processed 13001/25000\n",
            "[INFO] processed 14001/25000\n",
            "[INFO] processed 15001/25000\n",
            "[INFO] processed 16001/25000\n",
            "[INFO] processed 17001/25000\n",
            "[INFO] processed 18001/25000\n",
            "[INFO] processed 19001/25000\n",
            "[INFO] processed 20001/25000\n",
            "[INFO] processed 21001/25000\n",
            "[INFO] processed 22001/25000\n",
            "[INFO] processed 23001/25000\n",
            "[INFO] processed 24001/25000\n",
            "[INFO] processed 25000/25000\n"
          ]
        }
      ]
    },
    {
      "cell_type": "code",
      "source": [
        "# encode labels, converting from strings to integers\n",
        "le = LabelEncoder()\n",
        "labels = le.fit_transform(labels)\n",
        "\n",
        "# train/test split (75/25)\n",
        "(train_data, test_data, train_labels, test_labels) = train_test_split(\n",
        "    np.array(data), labels, test_size=0.25, random_state=42\n",
        ")\n",
        "\n",
        "# train linear regression classifier\n",
        "print(\"[INFO] training Linear SVM classifier...\")\n",
        "model = LinearSVC()\n",
        "model.fit(train_data, train_labels)"
      ],
      "metadata": {
        "colab": {
          "base_uri": "https://localhost:8080/"
        },
        "id": "Y-3ONxlspK2P",
        "outputId": "502244b6-d22d-4c51-ef15-18777de9fa83"
      },
      "execution_count": 34,
      "outputs": [
        {
          "output_type": "stream",
          "name": "stdout",
          "text": [
            "[INFO] training Linear SVM classifier...\n"
          ]
        },
        {
          "output_type": "execute_result",
          "data": {
            "text/plain": [
              "LinearSVC()"
            ]
          },
          "metadata": {},
          "execution_count": 34
        }
      ]
    },
    {
      "cell_type": "code",
      "source": [
        "# evaluate classifier\n",
        "print(\"[INFO] evaluating classifier...\")\n",
        "predictions = model.predict(test_data)\n",
        "print(classification_report(test_labels, predictions, target_names=le.classes_))"
      ],
      "metadata": {
        "colab": {
          "base_uri": "https://localhost:8080/"
        },
        "id": "yL4LCJKLqmlM",
        "outputId": "1c82a409-39c2-4a71-e9da-c321c62fd8a2"
      },
      "execution_count": 35,
      "outputs": [
        {
          "output_type": "stream",
          "name": "stdout",
          "text": [
            "[INFO] evaluating classifier...\n",
            "              precision    recall  f1-score   support\n",
            "\n",
            "         cat       0.62      0.67      0.65      3142\n",
            "         dog       0.64      0.58      0.61      3108\n",
            "\n",
            "    accuracy                           0.63      6250\n",
            "   macro avg       0.63      0.63      0.63      6250\n",
            "weighted avg       0.63      0.63      0.63      6250\n",
            "\n"
          ]
        }
      ]
    },
    {
      "cell_type": "markdown",
      "source": [
        "For a detailed walkthrough of the concepts and code, be sure to refer to the full tutorial, [*An intro to linear classification with Python*](https://www.pyimagesearch.com/2016/08/22/an-intro-to-linear-classification-with-python/) published on 2016-08-22."
      ],
      "metadata": {
        "id": "dkepXvILq4MO"
      }
    }
  ]
}