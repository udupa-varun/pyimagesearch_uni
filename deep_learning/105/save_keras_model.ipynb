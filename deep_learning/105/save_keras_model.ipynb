{
  "nbformat": 4,
  "nbformat_minor": 0,
  "metadata": {
    "colab": {
      "provenance": [],
      "authorship_tag": "ABX9TyMsg/L6E+0/hdjht5WEe/aY",
      "include_colab_link": true
    },
    "kernelspec": {
      "name": "python3",
      "display_name": "Python 3"
    },
    "language_info": {
      "name": "python"
    }
  },
  "cells": [
    {
      "cell_type": "markdown",
      "metadata": {
        "id": "view-in-github",
        "colab_type": "text"
      },
      "source": [
        "<a href=\"https://colab.research.google.com/github/udupa-varun/pyimagesearch_uni/blob/main/deep_learning/105/save_keras_model.ipynb\" target=\"_parent\"><img src=\"https://colab.research.google.com/assets/colab-badge.svg\" alt=\"Open In Colab\"/></a>"
      ]
    },
    {
      "cell_type": "code",
      "execution_count": 2,
      "metadata": {
        "colab": {
          "base_uri": "https://localhost:8080/"
        },
        "id": "e6R82Th2DhvJ",
        "outputId": "9ff126f7-9c22-40b3-d967-d09ef8eb4949"
      },
      "outputs": [
        {
          "output_type": "stream",
          "name": "stdout",
          "text": [
            "/content/save-keras-model\n"
          ]
        }
      ],
      "source": [
        "!wget -qq https://pyimagesearch-code-downloads.s3-us-west-2.amazonaws.com/save-keras-model/save-keras-model.zip\n",
        "!unzip -qq save-keras-model.zip\n",
        "%cd save-keras-model"
      ]
    },
    {
      "cell_type": "code",
      "source": [
        "from imutils import paths\n",
        "from sklearn.preprocessing import LabelBinarizer\n",
        "from sklearn.model_selection import train_test_split\n",
        "from sklearn.metrics import classification_report\n",
        "from tensorflow.keras.models import load_model\n",
        "from tensorflow.keras.optimizers import SGD\n",
        "import matplotlib.pyplot as plt\n",
        "import numpy as np\n",
        "\n",
        "from pyimagesearch.preprocessing import ImageToArrayPreprocessor\n",
        "from pyimagesearch.preprocessing import SimplePreprocessor\n",
        "from pyimagesearch.datasets import SimpleDatasetLoader\n",
        "from pyimagesearch.nn.conv import ShallowNet"
      ],
      "metadata": {
        "id": "il4TKgaCDsxd"
      },
      "execution_count": 3,
      "outputs": []
    },
    {
      "cell_type": "code",
      "source": [
        "args = {\n",
        "    \"dataset\": \"animals\",\n",
        "    \"model\": \"shallownet_weights.hdf5\"\n",
        "}"
      ],
      "metadata": {
        "id": "irrnlVD3ErtC"
      },
      "execution_count": 4,
      "outputs": []
    },
    {
      "cell_type": "code",
      "source": [
        "print(\"[INFO] loading images...\")\n",
        "image_paths = list(paths.list_images(args[\"dataset\"]))\n",
        "\n",
        "# init image processors\n",
        "sp = SimplePreprocessor(32, 32)\n",
        "iap = ImageToArrayPreprocessor()\n",
        "\n",
        "# load dataset and rescale to [0, 1]\n",
        "sdl = SimpleDatasetLoader(preprocessors=[sp, iap])\n",
        "(data, labels) = sdl.load(image_paths, verbose=500)\n",
        "data = data.astype(\"float\") / 255.0"
      ],
      "metadata": {
        "colab": {
          "base_uri": "https://localhost:8080/"
        },
        "id": "gzpIgy_lEzAR",
        "outputId": "885bb0c2-55ca-4259-b4df-09f70c939877"
      },
      "execution_count": 5,
      "outputs": [
        {
          "output_type": "stream",
          "name": "stdout",
          "text": [
            "[INFO] loading images...\n",
            "[INFO] processed 500/3000\n",
            "[INFO] processed 1000/3000\n",
            "[INFO] processed 1500/3000\n",
            "[INFO] processed 2000/3000\n",
            "[INFO] processed 2500/3000\n",
            "[INFO] processed 3000/3000\n"
          ]
        }
      ]
    },
    {
      "cell_type": "code",
      "source": [
        "# partition data into train and test splits (75/25)\n",
        "(train_x, test_x, train_y, test_y) = train_test_split(\n",
        "    data,\n",
        "    labels,\n",
        "    test_size=0.25,\n",
        "    random_state=42\n",
        ")\n",
        "\n",
        "# convert labels from integers to vectors\n",
        "train_y = LabelBinarizer().fit_transform(train_y)\n",
        "test_y = LabelBinarizer().fit_transform(test_y)"
      ],
      "metadata": {
        "id": "OIoOdbfkFTdc"
      },
      "execution_count": 6,
      "outputs": []
    },
    {
      "cell_type": "code",
      "source": [
        "# init optimizer and model\n",
        "print(\"[INFO] compiling model...\")\n",
        "opt = SGD(learning_rate=0.005)\n",
        "model = ShallowNet.build(width=32, height=32, depth=3, classes=3)\n",
        "model.compile(\n",
        "    loss=\"categorical_crossentropy\",\n",
        "    optimizer=opt,\n",
        "    metrics=[\"accuracy\"]\n",
        ")\n",
        "\n",
        "# train network\n",
        "print(\"[INFO] training network...\")\n",
        "H = model.fit(\n",
        "    train_x,\n",
        "    train_y,\n",
        "    validation_data=(test_x, test_y),\n",
        "    batch_size=32,\n",
        "    epochs=100,\n",
        "    verbose=1\n",
        ")"
      ],
      "metadata": {
        "colab": {
          "base_uri": "https://localhost:8080/"
        },
        "id": "A-n-8rjiFrl4",
        "outputId": "7e85a799-b67c-497c-a07f-7f257a0f5efb"
      },
      "execution_count": 7,
      "outputs": [
        {
          "output_type": "stream",
          "name": "stdout",
          "text": [
            "[INFO] compiling model...\n",
            "[INFO] training network...\n",
            "Epoch 1/100\n",
            "71/71 [==============================] - 3s 31ms/step - loss: 1.0194 - accuracy: 0.4649 - val_loss: 1.1594 - val_accuracy: 0.4400\n",
            "Epoch 2/100\n",
            "71/71 [==============================] - 2s 26ms/step - loss: 0.9349 - accuracy: 0.5249 - val_loss: 0.8869 - val_accuracy: 0.5533\n",
            "Epoch 3/100\n",
            "71/71 [==============================] - 2s 30ms/step - loss: 0.8937 - accuracy: 0.5564 - val_loss: 1.0038 - val_accuracy: 0.5067\n",
            "Epoch 4/100\n",
            "71/71 [==============================] - 2s 29ms/step - loss: 0.8796 - accuracy: 0.5613 - val_loss: 0.8599 - val_accuracy: 0.5920\n",
            "Epoch 5/100\n",
            "71/71 [==============================] - 3s 45ms/step - loss: 0.8617 - accuracy: 0.5609 - val_loss: 0.9616 - val_accuracy: 0.5347\n",
            "Epoch 6/100\n",
            "71/71 [==============================] - 3s 40ms/step - loss: 0.8304 - accuracy: 0.5947 - val_loss: 1.0000 - val_accuracy: 0.5400\n",
            "Epoch 7/100\n",
            "71/71 [==============================] - 2s 29ms/step - loss: 0.8236 - accuracy: 0.5871 - val_loss: 0.8373 - val_accuracy: 0.5973\n",
            "Epoch 8/100\n",
            "71/71 [==============================] - 3s 49ms/step - loss: 0.8040 - accuracy: 0.6062 - val_loss: 0.9192 - val_accuracy: 0.5400\n",
            "Epoch 9/100\n",
            "71/71 [==============================] - 2s 34ms/step - loss: 0.7928 - accuracy: 0.6160 - val_loss: 0.8266 - val_accuracy: 0.5680\n",
            "Epoch 10/100\n",
            "71/71 [==============================] - 2s 35ms/step - loss: 0.7896 - accuracy: 0.6107 - val_loss: 0.9154 - val_accuracy: 0.5413\n",
            "Epoch 11/100\n",
            "71/71 [==============================] - 2s 24ms/step - loss: 0.7770 - accuracy: 0.6249 - val_loss: 0.8411 - val_accuracy: 0.5787\n",
            "Epoch 12/100\n",
            "71/71 [==============================] - 2s 28ms/step - loss: 0.7719 - accuracy: 0.6298 - val_loss: 0.8906 - val_accuracy: 0.5760\n",
            "Epoch 13/100\n",
            "71/71 [==============================] - 2s 29ms/step - loss: 0.7686 - accuracy: 0.6320 - val_loss: 0.9134 - val_accuracy: 0.5600\n",
            "Epoch 14/100\n",
            "71/71 [==============================] - 2s 25ms/step - loss: 0.7555 - accuracy: 0.6280 - val_loss: 0.8118 - val_accuracy: 0.6120\n",
            "Epoch 15/100\n",
            "71/71 [==============================] - 2s 22ms/step - loss: 0.7483 - accuracy: 0.6360 - val_loss: 0.7932 - val_accuracy: 0.6213\n",
            "Epoch 16/100\n",
            "71/71 [==============================] - 3s 43ms/step - loss: 0.7399 - accuracy: 0.6502 - val_loss: 0.8335 - val_accuracy: 0.5853\n",
            "Epoch 17/100\n",
            "71/71 [==============================] - 2s 29ms/step - loss: 0.7400 - accuracy: 0.6507 - val_loss: 0.8006 - val_accuracy: 0.6227\n",
            "Epoch 18/100\n",
            "71/71 [==============================] - 2s 28ms/step - loss: 0.7315 - accuracy: 0.6560 - val_loss: 0.7795 - val_accuracy: 0.6373\n",
            "Epoch 19/100\n",
            "71/71 [==============================] - 2s 27ms/step - loss: 0.7286 - accuracy: 0.6618 - val_loss: 0.8291 - val_accuracy: 0.5907\n",
            "Epoch 20/100\n",
            "71/71 [==============================] - 2s 22ms/step - loss: 0.7182 - accuracy: 0.6676 - val_loss: 0.7922 - val_accuracy: 0.6013\n",
            "Epoch 21/100\n",
            "71/71 [==============================] - 2s 28ms/step - loss: 0.7158 - accuracy: 0.6596 - val_loss: 0.8229 - val_accuracy: 0.6040\n",
            "Epoch 22/100\n",
            "71/71 [==============================] - 3s 46ms/step - loss: 0.7041 - accuracy: 0.6720 - val_loss: 0.9245 - val_accuracy: 0.5707\n",
            "Epoch 23/100\n",
            "71/71 [==============================] - 3s 45ms/step - loss: 0.7022 - accuracy: 0.6751 - val_loss: 0.7638 - val_accuracy: 0.6440\n",
            "Epoch 24/100\n",
            "71/71 [==============================] - 3s 46ms/step - loss: 0.6938 - accuracy: 0.6764 - val_loss: 0.7771 - val_accuracy: 0.6320\n",
            "Epoch 25/100\n",
            "71/71 [==============================] - 4s 50ms/step - loss: 0.6934 - accuracy: 0.6911 - val_loss: 0.7809 - val_accuracy: 0.6213\n",
            "Epoch 26/100\n",
            "71/71 [==============================] - 4s 52ms/step - loss: 0.6795 - accuracy: 0.6938 - val_loss: 0.8308 - val_accuracy: 0.6053\n",
            "Epoch 27/100\n",
            "71/71 [==============================] - 2s 28ms/step - loss: 0.6759 - accuracy: 0.6929 - val_loss: 0.9600 - val_accuracy: 0.5533\n",
            "Epoch 28/100\n",
            "71/71 [==============================] - 2s 34ms/step - loss: 0.6664 - accuracy: 0.7027 - val_loss: 0.8302 - val_accuracy: 0.6093\n",
            "Epoch 29/100\n",
            "71/71 [==============================] - 2s 33ms/step - loss: 0.6628 - accuracy: 0.6933 - val_loss: 0.7581 - val_accuracy: 0.6227\n",
            "Epoch 30/100\n",
            "71/71 [==============================] - 2s 27ms/step - loss: 0.6560 - accuracy: 0.6964 - val_loss: 0.8048 - val_accuracy: 0.6080\n",
            "Epoch 31/100\n",
            "71/71 [==============================] - 3s 42ms/step - loss: 0.6521 - accuracy: 0.7169 - val_loss: 0.7531 - val_accuracy: 0.6360\n",
            "Epoch 32/100\n",
            "71/71 [==============================] - 3s 44ms/step - loss: 0.6401 - accuracy: 0.7160 - val_loss: 0.7791 - val_accuracy: 0.6000\n",
            "Epoch 33/100\n",
            "71/71 [==============================] - 3s 43ms/step - loss: 0.6341 - accuracy: 0.7102 - val_loss: 0.9201 - val_accuracy: 0.5747\n",
            "Epoch 34/100\n",
            "71/71 [==============================] - 3s 41ms/step - loss: 0.6370 - accuracy: 0.7129 - val_loss: 0.7878 - val_accuracy: 0.6333\n",
            "Epoch 35/100\n",
            "71/71 [==============================] - 3s 39ms/step - loss: 0.6223 - accuracy: 0.7244 - val_loss: 0.8344 - val_accuracy: 0.5947\n",
            "Epoch 36/100\n",
            "71/71 [==============================] - 4s 50ms/step - loss: 0.6173 - accuracy: 0.7218 - val_loss: 0.7523 - val_accuracy: 0.6347\n",
            "Epoch 37/100\n",
            "71/71 [==============================] - 4s 51ms/step - loss: 0.6063 - accuracy: 0.7422 - val_loss: 0.8120 - val_accuracy: 0.6027\n",
            "Epoch 38/100\n",
            "71/71 [==============================] - 2s 28ms/step - loss: 0.6026 - accuracy: 0.7311 - val_loss: 0.7838 - val_accuracy: 0.6227\n",
            "Epoch 39/100\n",
            "71/71 [==============================] - 2s 31ms/step - loss: 0.6043 - accuracy: 0.7356 - val_loss: 0.7444 - val_accuracy: 0.6400\n",
            "Epoch 40/100\n",
            "71/71 [==============================] - 2s 28ms/step - loss: 0.5929 - accuracy: 0.7502 - val_loss: 0.7825 - val_accuracy: 0.6347\n",
            "Epoch 41/100\n",
            "71/71 [==============================] - 3s 48ms/step - loss: 0.5912 - accuracy: 0.7413 - val_loss: 0.7430 - val_accuracy: 0.6413\n",
            "Epoch 42/100\n",
            "71/71 [==============================] - 2s 23ms/step - loss: 0.5875 - accuracy: 0.7498 - val_loss: 0.8073 - val_accuracy: 0.6027\n",
            "Epoch 43/100\n",
            "71/71 [==============================] - 2s 22ms/step - loss: 0.5842 - accuracy: 0.7476 - val_loss: 0.7596 - val_accuracy: 0.6307\n",
            "Epoch 44/100\n",
            "71/71 [==============================] - 2s 22ms/step - loss: 0.5741 - accuracy: 0.7538 - val_loss: 0.7346 - val_accuracy: 0.6653\n",
            "Epoch 45/100\n",
            "71/71 [==============================] - 2s 22ms/step - loss: 0.5726 - accuracy: 0.7529 - val_loss: 0.7537 - val_accuracy: 0.6440\n",
            "Epoch 46/100\n",
            "71/71 [==============================] - 2s 23ms/step - loss: 0.5586 - accuracy: 0.7671 - val_loss: 0.7152 - val_accuracy: 0.6600\n",
            "Epoch 47/100\n",
            "71/71 [==============================] - 2s 24ms/step - loss: 0.5548 - accuracy: 0.7729 - val_loss: 0.7107 - val_accuracy: 0.6627\n",
            "Epoch 48/100\n",
            "71/71 [==============================] - 3s 38ms/step - loss: 0.5522 - accuracy: 0.7716 - val_loss: 0.7141 - val_accuracy: 0.6680\n",
            "Epoch 49/100\n",
            "71/71 [==============================] - 2s 23ms/step - loss: 0.5407 - accuracy: 0.7693 - val_loss: 0.7028 - val_accuracy: 0.6693\n",
            "Epoch 50/100\n",
            "71/71 [==============================] - 2s 22ms/step - loss: 0.5353 - accuracy: 0.7738 - val_loss: 0.7037 - val_accuracy: 0.6787\n",
            "Epoch 51/100\n",
            "71/71 [==============================] - 2s 33ms/step - loss: 0.5321 - accuracy: 0.7787 - val_loss: 0.7098 - val_accuracy: 0.6520\n",
            "Epoch 52/100\n",
            "71/71 [==============================] - 3s 46ms/step - loss: 0.5252 - accuracy: 0.7827 - val_loss: 0.7231 - val_accuracy: 0.6773\n",
            "Epoch 53/100\n",
            "71/71 [==============================] - 4s 56ms/step - loss: 0.5304 - accuracy: 0.7836 - val_loss: 0.7506 - val_accuracy: 0.6360\n",
            "Epoch 54/100\n",
            "71/71 [==============================] - 4s 49ms/step - loss: 0.5224 - accuracy: 0.7862 - val_loss: 0.7014 - val_accuracy: 0.6773\n",
            "Epoch 55/100\n",
            "71/71 [==============================] - 2s 23ms/step - loss: 0.5196 - accuracy: 0.7840 - val_loss: 0.7607 - val_accuracy: 0.6427\n",
            "Epoch 56/100\n",
            "71/71 [==============================] - 2s 22ms/step - loss: 0.5139 - accuracy: 0.7902 - val_loss: 0.8154 - val_accuracy: 0.6333\n",
            "Epoch 57/100\n",
            "71/71 [==============================] - 2s 22ms/step - loss: 0.5089 - accuracy: 0.7942 - val_loss: 0.7472 - val_accuracy: 0.6307\n",
            "Epoch 58/100\n",
            "71/71 [==============================] - 2s 22ms/step - loss: 0.4983 - accuracy: 0.7916 - val_loss: 0.6874 - val_accuracy: 0.6827\n",
            "Epoch 59/100\n",
            "71/71 [==============================] - 2s 31ms/step - loss: 0.4912 - accuracy: 0.8049 - val_loss: 0.7263 - val_accuracy: 0.6720\n",
            "Epoch 60/100\n",
            "71/71 [==============================] - 2s 30ms/step - loss: 0.4936 - accuracy: 0.8044 - val_loss: 0.7214 - val_accuracy: 0.6707\n",
            "Epoch 61/100\n",
            "71/71 [==============================] - 2s 23ms/step - loss: 0.4866 - accuracy: 0.8044 - val_loss: 0.7403 - val_accuracy: 0.6547\n",
            "Epoch 62/100\n",
            "71/71 [==============================] - 2s 22ms/step - loss: 0.4795 - accuracy: 0.8027 - val_loss: 0.7438 - val_accuracy: 0.6653\n",
            "Epoch 63/100\n",
            "71/71 [==============================] - 2s 22ms/step - loss: 0.4744 - accuracy: 0.8062 - val_loss: 0.7094 - val_accuracy: 0.6907\n",
            "Epoch 64/100\n",
            "71/71 [==============================] - 2s 22ms/step - loss: 0.4689 - accuracy: 0.8164 - val_loss: 0.7131 - val_accuracy: 0.6720\n",
            "Epoch 65/100\n",
            "71/71 [==============================] - 2s 22ms/step - loss: 0.4629 - accuracy: 0.8156 - val_loss: 0.6976 - val_accuracy: 0.6933\n",
            "Epoch 66/100\n",
            "71/71 [==============================] - 2s 25ms/step - loss: 0.4573 - accuracy: 0.8204 - val_loss: 0.7030 - val_accuracy: 0.6880\n",
            "Epoch 67/100\n",
            "71/71 [==============================] - 3s 37ms/step - loss: 0.4561 - accuracy: 0.8164 - val_loss: 0.7274 - val_accuracy: 0.6707\n",
            "Epoch 68/100\n",
            "71/71 [==============================] - 2s 24ms/step - loss: 0.4530 - accuracy: 0.8209 - val_loss: 0.7221 - val_accuracy: 0.6787\n",
            "Epoch 69/100\n",
            "71/71 [==============================] - 2s 24ms/step - loss: 0.4516 - accuracy: 0.8227 - val_loss: 0.7597 - val_accuracy: 0.6800\n",
            "Epoch 70/100\n",
            "71/71 [==============================] - 2s 22ms/step - loss: 0.4456 - accuracy: 0.8253 - val_loss: 0.7493 - val_accuracy: 0.6520\n",
            "Epoch 71/100\n",
            "71/71 [==============================] - 2s 24ms/step - loss: 0.4396 - accuracy: 0.8236 - val_loss: 0.7299 - val_accuracy: 0.6493\n",
            "Epoch 72/100\n",
            "71/71 [==============================] - 2s 22ms/step - loss: 0.4342 - accuracy: 0.8391 - val_loss: 0.9392 - val_accuracy: 0.5960\n",
            "Epoch 73/100\n",
            "71/71 [==============================] - 3s 35ms/step - loss: 0.4313 - accuracy: 0.8351 - val_loss: 0.7276 - val_accuracy: 0.6613\n",
            "Epoch 74/100\n",
            "71/71 [==============================] - 3s 36ms/step - loss: 0.4259 - accuracy: 0.8378 - val_loss: 0.7503 - val_accuracy: 0.6560\n",
            "Epoch 75/100\n",
            "71/71 [==============================] - 2s 24ms/step - loss: 0.4279 - accuracy: 0.8351 - val_loss: 0.7949 - val_accuracy: 0.6307\n",
            "Epoch 76/100\n",
            "71/71 [==============================] - 2s 22ms/step - loss: 0.4189 - accuracy: 0.8391 - val_loss: 0.7542 - val_accuracy: 0.6787\n",
            "Epoch 77/100\n",
            "71/71 [==============================] - 2s 23ms/step - loss: 0.4192 - accuracy: 0.8387 - val_loss: 0.7436 - val_accuracy: 0.6440\n",
            "Epoch 78/100\n",
            "71/71 [==============================] - 2s 22ms/step - loss: 0.4129 - accuracy: 0.8356 - val_loss: 0.6957 - val_accuracy: 0.6827\n",
            "Epoch 79/100\n",
            "71/71 [==============================] - 2s 22ms/step - loss: 0.4084 - accuracy: 0.8480 - val_loss: 0.6919 - val_accuracy: 0.6800\n",
            "Epoch 80/100\n",
            "71/71 [==============================] - 2s 25ms/step - loss: 0.4040 - accuracy: 0.8551 - val_loss: 0.6834 - val_accuracy: 0.7040\n",
            "Epoch 81/100\n",
            "71/71 [==============================] - 3s 36ms/step - loss: 0.4009 - accuracy: 0.8542 - val_loss: 0.6854 - val_accuracy: 0.6987\n",
            "Epoch 82/100\n",
            "71/71 [==============================] - 2s 22ms/step - loss: 0.4037 - accuracy: 0.8400 - val_loss: 0.6930 - val_accuracy: 0.6867\n",
            "Epoch 83/100\n",
            "71/71 [==============================] - 2s 22ms/step - loss: 0.3884 - accuracy: 0.8538 - val_loss: 0.6849 - val_accuracy: 0.7000\n",
            "Epoch 84/100\n",
            "71/71 [==============================] - 2s 22ms/step - loss: 0.3916 - accuracy: 0.8529 - val_loss: 0.7592 - val_accuracy: 0.6747\n",
            "Epoch 85/100\n",
            "71/71 [==============================] - 2s 22ms/step - loss: 0.3865 - accuracy: 0.8653 - val_loss: 0.6910 - val_accuracy: 0.6867\n",
            "Epoch 86/100\n",
            "71/71 [==============================] - 2s 22ms/step - loss: 0.3838 - accuracy: 0.8596 - val_loss: 0.7532 - val_accuracy: 0.6760\n",
            "Epoch 87/100\n",
            "71/71 [==============================] - 2s 24ms/step - loss: 0.3828 - accuracy: 0.8653 - val_loss: 0.6937 - val_accuracy: 0.6907\n",
            "Epoch 88/100\n",
            "71/71 [==============================] - 3s 39ms/step - loss: 0.3775 - accuracy: 0.8604 - val_loss: 0.6958 - val_accuracy: 0.6947\n",
            "Epoch 89/100\n",
            "71/71 [==============================] - 2s 35ms/step - loss: 0.3758 - accuracy: 0.8671 - val_loss: 0.6997 - val_accuracy: 0.6840\n",
            "Epoch 90/100\n",
            "71/71 [==============================] - 2s 30ms/step - loss: 0.3686 - accuracy: 0.8680 - val_loss: 0.6997 - val_accuracy: 0.7027\n",
            "Epoch 91/100\n",
            "71/71 [==============================] - 2s 22ms/step - loss: 0.3634 - accuracy: 0.8724 - val_loss: 0.8304 - val_accuracy: 0.6573\n",
            "Epoch 92/100\n",
            "71/71 [==============================] - 2s 23ms/step - loss: 0.3672 - accuracy: 0.8662 - val_loss: 0.7712 - val_accuracy: 0.6693\n",
            "Epoch 93/100\n",
            "71/71 [==============================] - 2s 24ms/step - loss: 0.3625 - accuracy: 0.8658 - val_loss: 0.6953 - val_accuracy: 0.6973\n",
            "Epoch 94/100\n",
            "71/71 [==============================] - 2s 32ms/step - loss: 0.3577 - accuracy: 0.8729 - val_loss: 0.7090 - val_accuracy: 0.7013\n",
            "Epoch 95/100\n",
            "71/71 [==============================] - 2s 31ms/step - loss: 0.3516 - accuracy: 0.8720 - val_loss: 0.7319 - val_accuracy: 0.6853\n",
            "Epoch 96/100\n",
            "71/71 [==============================] - 2s 25ms/step - loss: 0.3515 - accuracy: 0.8778 - val_loss: 0.7632 - val_accuracy: 0.6693\n",
            "Epoch 97/100\n",
            "71/71 [==============================] - 2s 23ms/step - loss: 0.3509 - accuracy: 0.8751 - val_loss: 0.7002 - val_accuracy: 0.6933\n",
            "Epoch 98/100\n",
            "71/71 [==============================] - 2s 23ms/step - loss: 0.3438 - accuracy: 0.8782 - val_loss: 0.7371 - val_accuracy: 0.6707\n",
            "Epoch 99/100\n",
            "71/71 [==============================] - 2s 23ms/step - loss: 0.3395 - accuracy: 0.8827 - val_loss: 0.7538 - val_accuracy: 0.6587\n",
            "Epoch 100/100\n",
            "71/71 [==============================] - 2s 24ms/step - loss: 0.3368 - accuracy: 0.8867 - val_loss: 0.7099 - val_accuracy: 0.6973\n"
          ]
        }
      ]
    },
    {
      "cell_type": "code",
      "source": [
        "# save network to disk\n",
        "print(\"[INFO] serializing networl...\")\n",
        "model.save(args[\"model\"])\n",
        "\n",
        "# evaluate network\n",
        "print(\"[INFO] evaluating network...\")\n",
        "predictions = model.predict(test_x, batch_size=32)\n",
        "print(\n",
        "    classification_report(\n",
        "        test_y.argmax(axis=1),\n",
        "        predictions.argmax(axis=1),\n",
        "        target_names=[\"cat\", \"dog\", \"panda\"]\n",
        "    )\n",
        ")"
      ],
      "metadata": {
        "colab": {
          "base_uri": "https://localhost:8080/"
        },
        "id": "pc_C0Xq8GMpB",
        "outputId": "775eaa59-b0a4-4539-9629-5345c5aed7ed"
      },
      "execution_count": 8,
      "outputs": [
        {
          "output_type": "stream",
          "name": "stdout",
          "text": [
            "[INFO] serializing networl...\n",
            "[INFO] evaluating network...\n",
            "24/24 [==============================] - 0s 9ms/step\n",
            "              precision    recall  f1-score   support\n",
            "\n",
            "         cat       0.64      0.69      0.66       249\n",
            "         dog       0.59      0.60      0.59       239\n",
            "       panda       0.88      0.79      0.83       262\n",
            "\n",
            "    accuracy                           0.70       750\n",
            "   macro avg       0.70      0.69      0.70       750\n",
            "weighted avg       0.71      0.70      0.70       750\n",
            "\n"
          ]
        }
      ]
    },
    {
      "cell_type": "code",
      "source": [
        "# plot the training loss and accuracy\n",
        "plt.style.use(\"ggplot\")\n",
        "plt.figure()\n",
        "plt.plot(np.arange(0, 100), H.history[\"loss\"], label=\"train_loss\")\n",
        "plt.plot(np.arange(0, 100), H.history[\"val_loss\"], label=\"val_loss\")\n",
        "plt.plot(np.arange(0, 100), H.history[\"accuracy\"], label=\"train_acc\")\n",
        "plt.plot(np.arange(0, 100), H.history[\"val_accuracy\"], label=\"val_acc\")\n",
        "plt.title(\"Training Loss and Accuracy\")\n",
        "plt.xlabel(\"Epoch #\")\n",
        "plt.ylabel(\"Loss/Accuracy\")\n",
        "plt.legend()\n",
        "plt.show()"
      ],
      "metadata": {
        "colab": {
          "base_uri": "https://localhost:8080/",
          "height": 299
        },
        "id": "sGE1DN3EGqVQ",
        "outputId": "25056763-cf1e-4a26-f3c3-59ad7cb13b76"
      },
      "execution_count": 9,
      "outputs": [
        {
          "output_type": "display_data",
          "data": {
            "text/plain": [
              "<Figure size 432x288 with 1 Axes>"
            ],
            "image/png": "[encoded data removed]"
          },
          "metadata": {}
        }
      ]
    },
    {
      "cell_type": "code",
      "source": [],
      "metadata": {
        "id": "g4HpRJrMHMCi"
      },
      "execution_count": null,
      "outputs": []
    }
  ]
}