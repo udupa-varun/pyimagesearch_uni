{
  "nbformat": 4,
  "nbformat_minor": 0,
  "metadata": {
    "colab": {
      "provenance": [],
      "authorship_tag": "ABX9TyMY5i8pFPuo3g9//kekgjKW",
      "include_colab_link": true
    },
    "kernelspec": {
      "name": "python3",
      "display_name": "Python 3"
    },
    "language_info": {
      "name": "python"
    }
  },
  "cells": [
    {
      "cell_type": "markdown",
      "metadata": {
        "id": "view-in-github",
        "colab_type": "text"
      },
      "source": [
        "<a href=\"https://colab.research.google.com/github/udupa-varun/pyimagesearch_uni/blob/main/deep_learning/105/first_cnn.ipynb\" target=\"_parent\"><img src=\"https://colab.research.google.com/assets/colab-badge.svg\" alt=\"Open In Colab\"/></a>"
      ]
    },
    {
      "cell_type": "code",
      "execution_count": 1,
      "metadata": {
        "colab": {
          "base_uri": "https://localhost:8080/"
        },
        "id": "RaBqblWWl8JH",
        "outputId": "ff58311e-3719-4773-fb28-fc3a8700f829"
      },
      "outputs": [
        {
          "output_type": "stream",
          "name": "stdout",
          "text": [
            "--2023-02-22 10:10:27--  https://pyimagesearch-code-downloads.s3-us-west-2.amazonaws.com/first-cnn/first-cnn.zip\n",
            "Resolving pyimagesearch-code-downloads.s3-us-west-2.amazonaws.com (pyimagesearch-code-downloads.s3-us-west-2.amazonaws.com)... 52.218.132.185, 52.218.178.105, 3.5.87.149, ...\n",
            "Connecting to pyimagesearch-code-downloads.s3-us-west-2.amazonaws.com (pyimagesearch-code-downloads.s3-us-west-2.amazonaws.com)|52.218.132.185|:443... connected.\n",
            "HTTP request sent, awaiting response... 200 OK\n",
            "Length: 10378 (10K) [binary/octet-stream]\n",
            "Saving to: ‘first-cnn.zip’\n",
            "\n",
            "first-cnn.zip       100%[===================>]  10.13K  --.-KB/s    in 0s      \n",
            "\n",
            "2023-02-22 10:10:28 (158 MB/s) - ‘first-cnn.zip’ saved [10378/10378]\n",
            "\n",
            "/content/first-cnn\n",
            "--2023-02-22 10:10:28--  https://pis-datasets.s3.us-east-2.amazonaws.com/animals.zip\n",
            "Resolving pis-datasets.s3.us-east-2.amazonaws.com (pis-datasets.s3.us-east-2.amazonaws.com)... 52.219.100.250\n",
            "Connecting to pis-datasets.s3.us-east-2.amazonaws.com (pis-datasets.s3.us-east-2.amazonaws.com)|52.219.100.250|:443... connected.\n",
            "HTTP request sent, awaiting response... 200 OK\n",
            "Length: 196780870 (188M) [application/zip]\n",
            "Saving to: ‘animals.zip’\n",
            "\n",
            "animals.zip         100%[===================>] 187.66M  59.1MB/s    in 3.2s    \n",
            "\n",
            "2023-02-22 10:10:31 (59.1 MB/s) - ‘animals.zip’ saved [196780870/196780870]\n",
            "\n"
          ]
        }
      ],
      "source": [
        "!wget https://pyimagesearch-code-downloads.s3-us-west-2.amazonaws.com/first-cnn/first-cnn.zip\n",
        "!unzip -qq first-cnn.zip\n",
        "%cd first-cnn\n",
        "!wget https://pis-datasets.s3.us-east-2.amazonaws.com/animals.zip\n",
        "!unzip -qq animals.zip"
      ]
    },
    {
      "cell_type": "code",
      "source": [
        "from imutils import paths\n",
        "from sklearn.preprocessing import LabelBinarizer\n",
        "from sklearn.model_selection import train_test_split\n",
        "from sklearn.metrics import classification_report\n",
        "from tensorflow.keras.models import Sequential\n",
        "from tensorflow.keras.layers import Conv2D\n",
        "from tensorflow.keras.layers import Activation\n",
        "from tensorflow.keras.layers import Flatten\n",
        "from tensorflow.keras.layers import Dense\n",
        "from tensorflow.keras import backend as K\n",
        "from tensorflow.keras.optimizers import SGD\n",
        "from tensorflow.keras.datasets import cifar10\n",
        "import matplotlib.pyplot as plt\n",
        "import numpy as np\n",
        "\n",
        "\n",
        "from pyimagesearch.preprocessing import ImageToArrayPreprocessor\n",
        "from pyimagesearch.preprocessing import SimplePreprocessor\n",
        "from pyimagesearch.datasets import SimpleDatasetLoader"
      ],
      "metadata": {
        "id": "xKrUXPNVmlZ9"
      },
      "execution_count": 2,
      "outputs": []
    },
    {
      "cell_type": "code",
      "source": [
        "class ShallowNet:\n",
        "    @staticmethod\n",
        "    def build(width, height, depth, classes):\n",
        "        # init model along with input shape to be \"channels last\"\n",
        "        model = Sequential()\n",
        "        input_shape = (height, width, depth)\n",
        "\n",
        "        # if using \"channels first\", update input shape\n",
        "        if K.image_data_format() == \"channels_first\":\n",
        "            input_shape = (depth, height, width)\n",
        "\n",
        "        # define first and only CONV => RELU layer\n",
        "        model.add(\n",
        "            Conv2D(\n",
        "                filters=32, \n",
        "                kernel_size=(3, 3), \n",
        "                padding=\"same\", \n",
        "                input_shape=input_shape\n",
        "                )\n",
        "            )\n",
        "        model.add(Activation(\"relu\"))\n",
        "\n",
        "        # softmax classifier\n",
        "        model.add(Flatten())\n",
        "        model.add(Dense(classes))\n",
        "        model.add(Activation(\"softmax\"))\n",
        "\n",
        "        # return constructed network architecture\n",
        "        return model"
      ],
      "metadata": {
        "id": "QprFKKIyoM6z"
      },
      "execution_count": 3,
      "outputs": []
    },
    {
      "cell_type": "markdown",
      "source": [
        "### ShallowNet on Animals"
      ],
      "metadata": {
        "id": "dlddF2bjp4yY"
      }
    },
    {
      "cell_type": "code",
      "source": [
        "# grab list of images\n",
        "print(\"[INFO] loading images...\")\n",
        "image_paths = list(paths.list_images(\"animals\"))\n",
        "\n",
        "# init image preprocessors\n",
        "sp = SimplePreprocessor(32, 32)\n",
        "iap = ImageToArrayPreprocessor()\n",
        "\n",
        "# load dataset from disk and scale raw pixel intensities to [0, 1]\n",
        "sdl = SimpleDatasetLoader(preprocessors=[sp, iap])\n",
        "(data, labels) = sdl.load(image_paths, verbose=500)\n",
        "data = data.astype(\"float\") / 255.0"
      ],
      "metadata": {
        "colab": {
          "base_uri": "https://localhost:8080/"
        },
        "id": "O4u3gg8Cp9KF",
        "outputId": "79c9168b-f5cb-4681-b690-7dee83f56dd3"
      },
      "execution_count": 4,
      "outputs": [
        {
          "output_type": "stream",
          "name": "stdout",
          "text": [
            "[INFO] loading images...\n",
            "[INFO] processed 500/3000\n",
            "[INFO] processed 1000/3000\n",
            "[INFO] processed 1500/3000\n",
            "[INFO] processed 2000/3000\n",
            "[INFO] processed 2500/3000\n",
            "[INFO] processed 3000/3000\n"
          ]
        }
      ]
    },
    {
      "cell_type": "code",
      "source": [
        "# partition data into train test splits (75/25)\n",
        "(train_x, test_x, train_y, test_y) = train_test_split(\n",
        "    data,\n",
        "    labels,\n",
        "    test_size=0.25,\n",
        "    random_state=42\n",
        ")\n",
        "\n",
        "# convert labels from integers to vectors\n",
        "train_y = LabelBinarizer().fit_transform(train_y)\n",
        "test_y = LabelBinarizer().fit_transform(test_y)"
      ],
      "metadata": {
        "id": "luKlA15Wqeiy"
      },
      "execution_count": 5,
      "outputs": []
    },
    {
      "cell_type": "code",
      "source": [
        "# init optimizer and model\n",
        "print(\"[INFO] compiling model...\")\n",
        "opt = SGD(lr=0.005)\n",
        "model = ShallowNet.build(width=32, height=32, depth=3, classes=3)\n",
        "model.compile(\n",
        "    loss=\"categorical_crossentropy\", \n",
        "    optimizer=opt,\n",
        "    metrics=[\"accuracy\"]\n",
        "    )\n",
        "\n",
        "# train network\n",
        "print(\"[INFO] training network...\")\n",
        "H = model.fit(\n",
        "    train_x, \n",
        "    train_y, \n",
        "    validation_data=(test_x, test_y), \n",
        "    batch_size=32,\n",
        "    epochs=100,\n",
        "    verbose=1\n",
        "    )"
      ],
      "metadata": {
        "colab": {
          "base_uri": "https://localhost:8080/"
        },
        "id": "MXJNrYwQrR9q",
        "outputId": "c6a6a607-93bd-4325-cb82-1711d6f44004"
      },
      "execution_count": 6,
      "outputs": [
        {
          "output_type": "stream",
          "name": "stdout",
          "text": [
            "[INFO] compiling model...\n"
          ]
        },
        {
          "output_type": "stream",
          "name": "stderr",
          "text": [
            "WARNING:absl:`lr` is deprecated, please use `learning_rate` instead, or use the legacy optimizer, e.g.,tf.keras.optimizers.legacy.SGD.\n"
          ]
        },
        {
          "output_type": "stream",
          "name": "stdout",
          "text": [
            "[INFO] training network...\n",
            "Epoch 1/100\n",
            "71/71 [==============================] - 3s 30ms/step - loss: 1.0294 - accuracy: 0.4782 - val_loss: 0.9534 - val_accuracy: 0.5093\n",
            "Epoch 2/100\n",
            "71/71 [==============================] - 2s 23ms/step - loss: 0.8970 - accuracy: 0.5391 - val_loss: 0.8410 - val_accuracy: 0.5760\n",
            "Epoch 3/100\n",
            "71/71 [==============================] - 2s 25ms/step - loss: 0.8597 - accuracy: 0.5796 - val_loss: 0.9021 - val_accuracy: 0.5267\n",
            "Epoch 4/100\n",
            "71/71 [==============================] - 2s 23ms/step - loss: 0.8277 - accuracy: 0.5867 - val_loss: 0.8233 - val_accuracy: 0.5840\n",
            "Epoch 5/100\n",
            "71/71 [==============================] - 2s 23ms/step - loss: 0.8050 - accuracy: 0.5964 - val_loss: 0.9897 - val_accuracy: 0.5400\n",
            "Epoch 6/100\n",
            "71/71 [==============================] - 3s 38ms/step - loss: 0.7902 - accuracy: 0.6102 - val_loss: 0.8908 - val_accuracy: 0.5400\n",
            "Epoch 7/100\n",
            "71/71 [==============================] - 2s 27ms/step - loss: 0.7781 - accuracy: 0.6249 - val_loss: 0.7818 - val_accuracy: 0.6333\n",
            "Epoch 8/100\n",
            "71/71 [==============================] - 2s 28ms/step - loss: 0.7546 - accuracy: 0.6422 - val_loss: 0.8263 - val_accuracy: 0.5973\n",
            "Epoch 9/100\n",
            "71/71 [==============================] - 2s 29ms/step - loss: 0.7504 - accuracy: 0.6449 - val_loss: 0.7681 - val_accuracy: 0.6453\n",
            "Epoch 10/100\n",
            "71/71 [==============================] - 2s 25ms/step - loss: 0.7358 - accuracy: 0.6502 - val_loss: 0.8101 - val_accuracy: 0.6240\n",
            "Epoch 11/100\n",
            "71/71 [==============================] - 2s 24ms/step - loss: 0.7271 - accuracy: 0.6564 - val_loss: 0.8594 - val_accuracy: 0.5840\n",
            "Epoch 12/100\n",
            "71/71 [==============================] - 3s 42ms/step - loss: 0.7147 - accuracy: 0.6756 - val_loss: 0.7783 - val_accuracy: 0.6107\n",
            "Epoch 13/100\n",
            "71/71 [==============================] - 3s 36ms/step - loss: 0.7029 - accuracy: 0.6800 - val_loss: 0.7637 - val_accuracy: 0.6360\n",
            "Epoch 14/100\n",
            "71/71 [==============================] - 2s 27ms/step - loss: 0.6853 - accuracy: 0.6924 - val_loss: 0.7469 - val_accuracy: 0.6440\n",
            "Epoch 15/100\n",
            "71/71 [==============================] - 2s 29ms/step - loss: 0.6727 - accuracy: 0.7040 - val_loss: 0.7917 - val_accuracy: 0.6160\n",
            "Epoch 16/100\n",
            "71/71 [==============================] - 2s 27ms/step - loss: 0.6728 - accuracy: 0.6907 - val_loss: 0.7239 - val_accuracy: 0.6640\n",
            "Epoch 17/100\n",
            "71/71 [==============================] - 2s 31ms/step - loss: 0.6384 - accuracy: 0.7147 - val_loss: 0.8572 - val_accuracy: 0.5507\n",
            "Epoch 18/100\n",
            "71/71 [==============================] - 4s 55ms/step - loss: 0.6360 - accuracy: 0.7187 - val_loss: 0.8550 - val_accuracy: 0.5853\n",
            "Epoch 19/100\n",
            "71/71 [==============================] - 3s 40ms/step - loss: 0.6324 - accuracy: 0.7249 - val_loss: 0.7204 - val_accuracy: 0.6347\n",
            "Epoch 20/100\n",
            "71/71 [==============================] - 3s 41ms/step - loss: 0.6130 - accuracy: 0.7369 - val_loss: 0.7228 - val_accuracy: 0.6507\n",
            "Epoch 21/100\n",
            "71/71 [==============================] - 3s 37ms/step - loss: 0.5903 - accuracy: 0.7529 - val_loss: 0.8270 - val_accuracy: 0.6080\n",
            "Epoch 22/100\n",
            "71/71 [==============================] - 3s 40ms/step - loss: 0.5920 - accuracy: 0.7569 - val_loss: 0.7856 - val_accuracy: 0.6387\n",
            "Epoch 23/100\n",
            "71/71 [==============================] - 2s 35ms/step - loss: 0.5820 - accuracy: 0.7498 - val_loss: 0.7373 - val_accuracy: 0.6667\n",
            "Epoch 24/100\n",
            "71/71 [==============================] - 2s 23ms/step - loss: 0.5621 - accuracy: 0.7609 - val_loss: 0.7531 - val_accuracy: 0.6387\n",
            "Epoch 25/100\n",
            "71/71 [==============================] - 2s 23ms/step - loss: 0.5495 - accuracy: 0.7711 - val_loss: 0.7217 - val_accuracy: 0.6640\n",
            "Epoch 26/100\n",
            "71/71 [==============================] - 2s 32ms/step - loss: 0.5391 - accuracy: 0.7804 - val_loss: 0.8277 - val_accuracy: 0.6360\n",
            "Epoch 27/100\n",
            "71/71 [==============================] - 2s 24ms/step - loss: 0.5225 - accuracy: 0.7858 - val_loss: 0.7381 - val_accuracy: 0.6587\n",
            "Epoch 28/100\n",
            "71/71 [==============================] - 2s 23ms/step - loss: 0.5239 - accuracy: 0.7876 - val_loss: 0.6748 - val_accuracy: 0.7000\n",
            "Epoch 29/100\n",
            "71/71 [==============================] - 4s 52ms/step - loss: 0.5040 - accuracy: 0.7991 - val_loss: 0.6963 - val_accuracy: 0.6680\n",
            "Epoch 30/100\n",
            "71/71 [==============================] - 2s 32ms/step - loss: 0.4922 - accuracy: 0.8049 - val_loss: 0.7312 - val_accuracy: 0.6827\n",
            "Epoch 31/100\n",
            "71/71 [==============================] - 4s 54ms/step - loss: 0.4907 - accuracy: 0.8044 - val_loss: 0.7250 - val_accuracy: 0.6733\n",
            "Epoch 32/100\n",
            "71/71 [==============================] - 4s 59ms/step - loss: 0.4842 - accuracy: 0.7996 - val_loss: 0.7083 - val_accuracy: 0.6827\n",
            "Epoch 33/100\n",
            "71/71 [==============================] - 5s 65ms/step - loss: 0.4732 - accuracy: 0.8129 - val_loss: 0.6734 - val_accuracy: 0.7080\n",
            "Epoch 34/100\n",
            "71/71 [==============================] - 2s 35ms/step - loss: 0.4643 - accuracy: 0.8151 - val_loss: 0.7568 - val_accuracy: 0.6547\n",
            "Epoch 35/100\n",
            "71/71 [==============================] - 3s 44ms/step - loss: 0.4536 - accuracy: 0.8249 - val_loss: 0.7036 - val_accuracy: 0.6773\n",
            "Epoch 36/100\n",
            "71/71 [==============================] - 3s 45ms/step - loss: 0.4464 - accuracy: 0.8240 - val_loss: 0.7233 - val_accuracy: 0.6747\n",
            "Epoch 37/100\n",
            "71/71 [==============================] - 4s 53ms/step - loss: 0.4339 - accuracy: 0.8369 - val_loss: 0.6804 - val_accuracy: 0.6880\n",
            "Epoch 38/100\n",
            "71/71 [==============================] - 2s 32ms/step - loss: 0.4335 - accuracy: 0.8289 - val_loss: 0.6884 - val_accuracy: 0.7000\n",
            "Epoch 39/100\n",
            "71/71 [==============================] - 2s 24ms/step - loss: 0.4213 - accuracy: 0.8338 - val_loss: 0.7190 - val_accuracy: 0.6880\n",
            "Epoch 40/100\n",
            "71/71 [==============================] - 2s 26ms/step - loss: 0.4130 - accuracy: 0.8449 - val_loss: 0.7299 - val_accuracy: 0.6747\n",
            "Epoch 41/100\n",
            "71/71 [==============================] - 2s 24ms/step - loss: 0.4080 - accuracy: 0.8462 - val_loss: 0.7758 - val_accuracy: 0.6587\n",
            "Epoch 42/100\n",
            "71/71 [==============================] - 2s 26ms/step - loss: 0.4001 - accuracy: 0.8502 - val_loss: 0.7273 - val_accuracy: 0.6947\n",
            "Epoch 43/100\n",
            "71/71 [==============================] - 3s 40ms/step - loss: 0.3910 - accuracy: 0.8502 - val_loss: 0.7622 - val_accuracy: 0.6480\n",
            "Epoch 44/100\n",
            "71/71 [==============================] - 2s 32ms/step - loss: 0.3909 - accuracy: 0.8582 - val_loss: 0.7388 - val_accuracy: 0.6800\n",
            "Epoch 45/100\n",
            "71/71 [==============================] - 3s 37ms/step - loss: 0.3826 - accuracy: 0.8596 - val_loss: 0.7266 - val_accuracy: 0.6973\n",
            "Epoch 46/100\n",
            "71/71 [==============================] - 3s 47ms/step - loss: 0.3787 - accuracy: 0.8556 - val_loss: 0.7706 - val_accuracy: 0.6520\n",
            "Epoch 47/100\n",
            "71/71 [==============================] - 3s 39ms/step - loss: 0.3697 - accuracy: 0.8560 - val_loss: 0.6991 - val_accuracy: 0.7053\n",
            "Epoch 48/100\n",
            "71/71 [==============================] - 3s 46ms/step - loss: 0.3579 - accuracy: 0.8747 - val_loss: 0.8483 - val_accuracy: 0.6480\n",
            "Epoch 49/100\n",
            "71/71 [==============================] - 2s 28ms/step - loss: 0.3596 - accuracy: 0.8738 - val_loss: 0.7419 - val_accuracy: 0.6853\n",
            "Epoch 50/100\n",
            "71/71 [==============================] - 2s 27ms/step - loss: 0.3437 - accuracy: 0.8760 - val_loss: 0.6972 - val_accuracy: 0.7067\n",
            "Epoch 51/100\n",
            "71/71 [==============================] - 2s 25ms/step - loss: 0.3384 - accuracy: 0.8773 - val_loss: 0.7138 - val_accuracy: 0.6920\n",
            "Epoch 52/100\n",
            "71/71 [==============================] - 2s 28ms/step - loss: 0.3385 - accuracy: 0.8773 - val_loss: 0.7057 - val_accuracy: 0.6907\n",
            "Epoch 53/100\n",
            "71/71 [==============================] - 3s 38ms/step - loss: 0.3332 - accuracy: 0.8822 - val_loss: 0.7379 - val_accuracy: 0.6773\n",
            "Epoch 54/100\n",
            "71/71 [==============================] - 3s 39ms/step - loss: 0.3257 - accuracy: 0.8893 - val_loss: 0.7790 - val_accuracy: 0.6867\n",
            "Epoch 55/100\n",
            "71/71 [==============================] - 2s 27ms/step - loss: 0.3212 - accuracy: 0.8893 - val_loss: 0.8757 - val_accuracy: 0.6453\n",
            "Epoch 56/100\n",
            "71/71 [==============================] - 2s 27ms/step - loss: 0.3161 - accuracy: 0.8902 - val_loss: 0.7198 - val_accuracy: 0.7080\n",
            "Epoch 57/100\n",
            "71/71 [==============================] - 2s 28ms/step - loss: 0.3200 - accuracy: 0.8796 - val_loss: 0.7364 - val_accuracy: 0.7040\n",
            "Epoch 58/100\n",
            "71/71 [==============================] - 2s 25ms/step - loss: 0.3088 - accuracy: 0.8933 - val_loss: 0.9521 - val_accuracy: 0.6387\n",
            "Epoch 59/100\n",
            "71/71 [==============================] - 2s 33ms/step - loss: 0.3033 - accuracy: 0.8947 - val_loss: 0.7503 - val_accuracy: 0.6947\n",
            "Epoch 60/100\n",
            "71/71 [==============================] - 3s 46ms/step - loss: 0.2946 - accuracy: 0.8947 - val_loss: 0.7396 - val_accuracy: 0.6947\n",
            "Epoch 61/100\n",
            "71/71 [==============================] - 2s 24ms/step - loss: 0.2881 - accuracy: 0.9076 - val_loss: 0.7322 - val_accuracy: 0.7080\n",
            "Epoch 62/100\n",
            "71/71 [==============================] - 2s 24ms/step - loss: 0.2832 - accuracy: 0.8987 - val_loss: 0.7647 - val_accuracy: 0.6747\n",
            "Epoch 63/100\n",
            "71/71 [==============================] - 2s 24ms/step - loss: 0.2757 - accuracy: 0.9080 - val_loss: 0.7615 - val_accuracy: 0.7000\n",
            "Epoch 64/100\n",
            "71/71 [==============================] - 2s 25ms/step - loss: 0.2729 - accuracy: 0.9116 - val_loss: 0.8563 - val_accuracy: 0.6800\n",
            "Epoch 65/100\n",
            "71/71 [==============================] - 2s 24ms/step - loss: 0.2688 - accuracy: 0.9071 - val_loss: 0.7755 - val_accuracy: 0.6747\n",
            "Epoch 66/100\n",
            "71/71 [==============================] - 3s 46ms/step - loss: 0.2673 - accuracy: 0.9124 - val_loss: 0.9061 - val_accuracy: 0.6320\n",
            "Epoch 67/100\n",
            "71/71 [==============================] - 3s 43ms/step - loss: 0.2650 - accuracy: 0.9138 - val_loss: 0.8186 - val_accuracy: 0.6733\n",
            "Epoch 68/100\n",
            "71/71 [==============================] - 2s 25ms/step - loss: 0.2633 - accuracy: 0.9098 - val_loss: 0.7539 - val_accuracy: 0.7147\n",
            "Epoch 69/100\n",
            "71/71 [==============================] - 2s 24ms/step - loss: 0.2533 - accuracy: 0.9191 - val_loss: 0.8759 - val_accuracy: 0.6733\n",
            "Epoch 70/100\n",
            "71/71 [==============================] - 2s 24ms/step - loss: 0.2574 - accuracy: 0.9107 - val_loss: 0.7650 - val_accuracy: 0.7067\n",
            "Epoch 71/100\n",
            "71/71 [==============================] - 2s 24ms/step - loss: 0.2429 - accuracy: 0.9271 - val_loss: 0.8996 - val_accuracy: 0.6467\n",
            "Epoch 72/100\n",
            "71/71 [==============================] - 2s 25ms/step - loss: 0.2469 - accuracy: 0.9187 - val_loss: 0.8954 - val_accuracy: 0.6707\n",
            "Epoch 73/100\n",
            "71/71 [==============================] - 3s 43ms/step - loss: 0.2432 - accuracy: 0.9253 - val_loss: 0.7675 - val_accuracy: 0.6947\n",
            "Epoch 74/100\n",
            "71/71 [==============================] - 2s 25ms/step - loss: 0.2319 - accuracy: 0.9302 - val_loss: 0.7806 - val_accuracy: 0.7093\n",
            "Epoch 75/100\n",
            "71/71 [==============================] - 2s 25ms/step - loss: 0.2281 - accuracy: 0.9307 - val_loss: 0.7889 - val_accuracy: 0.6867\n",
            "Epoch 76/100\n",
            "71/71 [==============================] - 2s 24ms/step - loss: 0.2227 - accuracy: 0.9351 - val_loss: 0.8092 - val_accuracy: 0.7053\n",
            "Epoch 77/100\n",
            "71/71 [==============================] - 2s 25ms/step - loss: 0.2242 - accuracy: 0.9320 - val_loss: 0.8683 - val_accuracy: 0.6693\n",
            "Epoch 78/100\n",
            "71/71 [==============================] - 2s 34ms/step - loss: 0.2165 - accuracy: 0.9382 - val_loss: 0.7931 - val_accuracy: 0.6947\n",
            "Epoch 79/100\n",
            "71/71 [==============================] - 3s 36ms/step - loss: 0.2112 - accuracy: 0.9373 - val_loss: 0.8217 - val_accuracy: 0.6880\n",
            "Epoch 80/100\n",
            "71/71 [==============================] - 2s 30ms/step - loss: 0.2158 - accuracy: 0.9333 - val_loss: 0.8558 - val_accuracy: 0.6920\n",
            "Epoch 81/100\n",
            "71/71 [==============================] - 2s 25ms/step - loss: 0.2100 - accuracy: 0.9480 - val_loss: 0.8138 - val_accuracy: 0.6973\n",
            "Epoch 82/100\n",
            "71/71 [==============================] - 2s 25ms/step - loss: 0.2047 - accuracy: 0.9436 - val_loss: 0.8532 - val_accuracy: 0.6973\n",
            "Epoch 83/100\n",
            "71/71 [==============================] - 2s 24ms/step - loss: 0.2027 - accuracy: 0.9489 - val_loss: 0.8741 - val_accuracy: 0.6893\n",
            "Epoch 84/100\n",
            "71/71 [==============================] - 2s 25ms/step - loss: 0.1965 - accuracy: 0.9493 - val_loss: 0.8273 - val_accuracy: 0.6853\n",
            "Epoch 85/100\n",
            "71/71 [==============================] - 2s 25ms/step - loss: 0.1938 - accuracy: 0.9502 - val_loss: 0.8190 - val_accuracy: 0.6947\n",
            "Epoch 86/100\n",
            "71/71 [==============================] - 3s 44ms/step - loss: 0.1943 - accuracy: 0.9498 - val_loss: 0.8384 - val_accuracy: 0.6907\n",
            "Epoch 87/100\n",
            "71/71 [==============================] - 2s 25ms/step - loss: 0.1925 - accuracy: 0.9484 - val_loss: 0.8270 - val_accuracy: 0.6840\n",
            "Epoch 88/100\n",
            "71/71 [==============================] - 2s 25ms/step - loss: 0.1828 - accuracy: 0.9556 - val_loss: 0.9395 - val_accuracy: 0.6693\n",
            "Epoch 89/100\n",
            "71/71 [==============================] - 2s 24ms/step - loss: 0.1787 - accuracy: 0.9551 - val_loss: 1.5933 - val_accuracy: 0.6120\n",
            "Epoch 90/100\n",
            "71/71 [==============================] - 2s 25ms/step - loss: 0.1949 - accuracy: 0.9471 - val_loss: 0.8620 - val_accuracy: 0.6920\n",
            "Epoch 91/100\n",
            "71/71 [==============================] - 2s 25ms/step - loss: 0.1762 - accuracy: 0.9569 - val_loss: 0.8539 - val_accuracy: 0.6947\n",
            "Epoch 92/100\n",
            "71/71 [==============================] - 3s 36ms/step - loss: 0.1700 - accuracy: 0.9653 - val_loss: 0.8833 - val_accuracy: 0.7013\n",
            "Epoch 93/100\n",
            "71/71 [==============================] - 2s 32ms/step - loss: 0.1725 - accuracy: 0.9591 - val_loss: 0.8497 - val_accuracy: 0.6800\n",
            "Epoch 94/100\n",
            "71/71 [==============================] - 2s 25ms/step - loss: 0.1702 - accuracy: 0.9613 - val_loss: 0.8725 - val_accuracy: 0.6880\n",
            "Epoch 95/100\n",
            "71/71 [==============================] - 2s 25ms/step - loss: 0.1624 - accuracy: 0.9631 - val_loss: 0.8658 - val_accuracy: 0.6920\n",
            "Epoch 96/100\n",
            "71/71 [==============================] - 2s 24ms/step - loss: 0.1594 - accuracy: 0.9662 - val_loss: 0.8710 - val_accuracy: 0.6880\n",
            "Epoch 97/100\n",
            "71/71 [==============================] - 2s 24ms/step - loss: 0.1566 - accuracy: 0.9693 - val_loss: 0.8776 - val_accuracy: 0.6827\n",
            "Epoch 98/100\n",
            "71/71 [==============================] - 2s 25ms/step - loss: 0.1572 - accuracy: 0.9640 - val_loss: 0.9108 - val_accuracy: 0.6787\n",
            "Epoch 99/100\n",
            "71/71 [==============================] - 3s 44ms/step - loss: 0.1597 - accuracy: 0.9618 - val_loss: 0.9106 - val_accuracy: 0.6827\n",
            "Epoch 100/100\n",
            "71/71 [==============================] - 2s 24ms/step - loss: 0.1532 - accuracy: 0.9684 - val_loss: 0.9005 - val_accuracy: 0.6867\n"
          ]
        }
      ]
    },
    {
      "cell_type": "code",
      "source": [
        "# evaluate network\n",
        "print(\"[INFO] evaluating network...\")\n",
        "predictions = model.predict(test_x, batch_size=32)\n",
        "print(\n",
        "    classification_report(\n",
        "        test_y.argmax(axis=1), \n",
        "        predictions.argmax(axis=1), \n",
        "        target_names=[\"cat\", \"dog\", \"panda\"]\n",
        "        )\n",
        "    )"
      ],
      "metadata": {
        "colab": {
          "base_uri": "https://localhost:8080/"
        },
        "id": "dz3DEwFxsLwf",
        "outputId": "784eb0f0-7e59-4922-efc0-ce3a9b7c84a4"
      },
      "execution_count": 7,
      "outputs": [
        {
          "output_type": "stream",
          "name": "stdout",
          "text": [
            "[INFO] evaluating network...\n",
            "24/24 [==============================] - 0s 11ms/step\n",
            "              precision    recall  f1-score   support\n",
            "\n",
            "         cat       0.59      0.74      0.66       249\n",
            "         dog       0.62      0.47      0.54       239\n",
            "       panda       0.84      0.83      0.84       262\n",
            "\n",
            "    accuracy                           0.69       750\n",
            "   macro avg       0.69      0.68      0.68       750\n",
            "weighted avg       0.69      0.69      0.68       750\n",
            "\n"
          ]
        }
      ]
    },
    {
      "cell_type": "code",
      "source": [
        "plt.style.use(\"ggplot\")\n",
        "plt.figure()\n",
        "plt.plot(np.arange(0, 100), H.history[\"loss\"], label=\"train_loss\")\n",
        "plt.plot(np.arange(0, 100), H.history[\"val_loss\"], label=\"val_loss\")\n",
        "plt.plot(np.arange(0, 100), H.history[\"accuracy\"], label=\"train_acc\")\n",
        "plt.plot(np.arange(0, 100), H.history[\"val_accuracy\"], label=\"val_acc\")\n",
        "plt.title(\"Training Loss and Accuracy\")\n",
        "plt.xlabel(\"Epoch #\")\n",
        "plt.ylabel(\"Loss/Accuracy\")\n",
        "plt.legend()\n",
        "plt.show()"
      ],
      "metadata": {
        "colab": {
          "base_uri": "https://localhost:8080/",
          "height": 299
        },
        "id": "YB3pFqfFtQLJ",
        "outputId": "8860825f-351f-4099-8ceb-2c97efeb71d6"
      },
      "execution_count": 8,
      "outputs": [
        {
          "output_type": "display_data",
          "data": {
            "text/plain": [
              "<Figure size 432x288 with 1 Axes>"
            ],
            "image/png": "[encoded data removed]"
          },
          "metadata": {}
        }
      ]
    },
    {
      "cell_type": "markdown",
      "source": [
        "### ShallowNet on CIFAR-10"
      ],
      "metadata": {
        "id": "-3DoBQ7-wxyY"
      }
    },
    {
      "cell_type": "code",
      "source": [
        "# load data and rescale pixel intensities to [0, 1]\n",
        "print(\"[INFO] loading CIFAR-10 data...\")\n",
        "((train_x, train_y), (test_x, test_y)) = cifar10.load_data()\n",
        "train_x = train_x.astype(\"float\") / 255.0\n",
        "test_x = test_x.astype(\"float\") / 255.0\n",
        "\n",
        "# convert labels from integers to vectors\n",
        "lb = LabelBinarizer()\n",
        "train_y = lb.fit_transform(train_y)\n",
        "test_y = lb.fit_transform(test_y)\n",
        "\n",
        "# init label names for CIFAR-10 dataset\n",
        "label_names = [\"airplane\", \"automobile\", \"bird\", \"cat\", \"deer\",\n",
        "\t\"dog\", \"frog\", \"horse\", \"ship\", \"truck\"]"
      ],
      "metadata": {
        "colab": {
          "base_uri": "https://localhost:8080/"
        },
        "id": "XHDR1iKOxJn_",
        "outputId": "c8bcecfb-5286-457a-8b21-2c5e769f77bc"
      },
      "execution_count": 9,
      "outputs": [
        {
          "output_type": "stream",
          "name": "stdout",
          "text": [
            "[INFO] loading CIFAR-10 data...\n",
            "Downloading data from https://www.cs.toronto.edu/~kriz/cifar-10-python.tar.gz\n",
            "170498071/170498071 [==============================] - 2s 0us/step\n"
          ]
        }
      ]
    },
    {
      "cell_type": "code",
      "source": [
        "# init optimizer and model\n",
        "print(\"[INFO] compiling model...\")\n",
        "opt = SGD(learning_rate=0.01)\n",
        "model = ShallowNet.build(width=32, height=32, depth=3, classes=10)\n",
        "model.compile(\n",
        "    loss=\"categorical_crossentropy\", \n",
        "    optimizer=opt,\n",
        "    metrics=[\"accuracy\"]\n",
        ")\n",
        "\n",
        "# train network\n",
        "print(\"[INFO] training network...\")\n",
        "H = model.fit(\n",
        "    train_x, \n",
        "    train_y, \n",
        "    validation_data=(test_x, test_y), \n",
        "    batch_size=32,\n",
        "    epochs=40,\n",
        "    verbose=1\n",
        ")"
      ],
      "metadata": {
        "colab": {
          "base_uri": "https://localhost:8080/"
        },
        "id": "ad4B1Tx9xwV2",
        "outputId": "f6b5ee5b-0627-4a83-b613-2b9a086947c2"
      },
      "execution_count": 10,
      "outputs": [
        {
          "output_type": "stream",
          "name": "stdout",
          "text": [
            "[INFO] compiling model...\n",
            "[INFO] training network...\n",
            "Epoch 1/40\n",
            "1563/1563 [==============================] - 56s 36ms/step - loss: 1.7952 - accuracy: 0.3679 - val_loss: 1.6161 - val_accuracy: 0.4278\n",
            "Epoch 2/40\n",
            "1563/1563 [==============================] - 45s 29ms/step - loss: 1.5391 - accuracy: 0.4626 - val_loss: 1.4760 - val_accuracy: 0.4870\n",
            "Epoch 3/40\n",
            "1563/1563 [==============================] - 45s 29ms/step - loss: 1.4292 - accuracy: 0.4992 - val_loss: 1.4912 - val_accuracy: 0.4744\n",
            "Epoch 4/40\n",
            "1563/1563 [==============================] - 44s 28ms/step - loss: 1.3518 - accuracy: 0.5277 - val_loss: 1.4000 - val_accuracy: 0.5080\n",
            "Epoch 5/40\n",
            "1563/1563 [==============================] - 41s 26ms/step - loss: 1.2876 - accuracy: 0.5508 - val_loss: 1.3626 - val_accuracy: 0.5144\n",
            "Epoch 6/40\n",
            "1563/1563 [==============================] - 42s 27ms/step - loss: 1.2413 - accuracy: 0.5665 - val_loss: 1.3193 - val_accuracy: 0.5353\n",
            "Epoch 7/40\n",
            "1563/1563 [==============================] - 40s 26ms/step - loss: 1.2101 - accuracy: 0.5774 - val_loss: 1.2782 - val_accuracy: 0.5427\n",
            "Epoch 8/40\n",
            "1563/1563 [==============================] - 41s 26ms/step - loss: 1.1822 - accuracy: 0.5874 - val_loss: 1.2664 - val_accuracy: 0.5506\n",
            "Epoch 9/40\n",
            "1563/1563 [==============================] - 40s 25ms/step - loss: 1.1553 - accuracy: 0.5964 - val_loss: 1.2455 - val_accuracy: 0.5600\n",
            "Epoch 10/40\n",
            "1563/1563 [==============================] - 43s 28ms/step - loss: 1.1340 - accuracy: 0.6036 - val_loss: 1.3233 - val_accuracy: 0.5338\n",
            "Epoch 11/40\n",
            "1563/1563 [==============================] - 43s 28ms/step - loss: 1.1122 - accuracy: 0.6113 - val_loss: 1.2476 - val_accuracy: 0.5604\n",
            "Epoch 12/40\n",
            "1563/1563 [==============================] - 40s 26ms/step - loss: 1.0919 - accuracy: 0.6193 - val_loss: 1.3622 - val_accuracy: 0.5177\n",
            "Epoch 13/40\n",
            "1563/1563 [==============================] - 41s 26ms/step - loss: 1.0711 - accuracy: 0.6269 - val_loss: 1.2258 - val_accuracy: 0.5701\n",
            "Epoch 14/40\n",
            "1563/1563 [==============================] - 40s 26ms/step - loss: 1.0519 - accuracy: 0.6332 - val_loss: 1.2244 - val_accuracy: 0.5652\n",
            "Epoch 15/40\n",
            "1563/1563 [==============================] - 43s 27ms/step - loss: 1.0328 - accuracy: 0.6405 - val_loss: 1.2239 - val_accuracy: 0.5730\n",
            "Epoch 16/40\n",
            "1563/1563 [==============================] - 40s 25ms/step - loss: 1.0158 - accuracy: 0.6441 - val_loss: 1.2142 - val_accuracy: 0.5785\n",
            "Epoch 17/40\n",
            "1563/1563 [==============================] - 40s 26ms/step - loss: 0.9953 - accuracy: 0.6542 - val_loss: 1.1995 - val_accuracy: 0.5794\n",
            "Epoch 18/40\n",
            "1563/1563 [==============================] - 40s 26ms/step - loss: 0.9791 - accuracy: 0.6604 - val_loss: 1.2533 - val_accuracy: 0.5608\n",
            "Epoch 19/40\n",
            "1563/1563 [==============================] - 41s 26ms/step - loss: 0.9641 - accuracy: 0.6650 - val_loss: 1.1922 - val_accuracy: 0.5837\n",
            "Epoch 20/40\n",
            "1563/1563 [==============================] - 40s 26ms/step - loss: 0.9463 - accuracy: 0.6718 - val_loss: 1.2537 - val_accuracy: 0.5595\n",
            "Epoch 21/40\n",
            "1563/1563 [==============================] - 40s 26ms/step - loss: 0.9307 - accuracy: 0.6771 - val_loss: 1.2132 - val_accuracy: 0.5811\n",
            "Epoch 22/40\n",
            "1563/1563 [==============================] - 42s 27ms/step - loss: 0.9149 - accuracy: 0.6811 - val_loss: 1.1779 - val_accuracy: 0.5865\n",
            "Epoch 23/40\n",
            "1563/1563 [==============================] - 40s 25ms/step - loss: 0.8982 - accuracy: 0.6883 - val_loss: 1.2731 - val_accuracy: 0.5682\n",
            "Epoch 24/40\n",
            "1563/1563 [==============================] - 40s 25ms/step - loss: 0.8844 - accuracy: 0.6931 - val_loss: 1.1932 - val_accuracy: 0.5884\n",
            "Epoch 25/40\n",
            "1563/1563 [==============================] - 41s 26ms/step - loss: 0.8677 - accuracy: 0.7002 - val_loss: 1.2420 - val_accuracy: 0.5692\n",
            "Epoch 26/40\n",
            "1563/1563 [==============================] - 39s 25ms/step - loss: 0.8548 - accuracy: 0.7052 - val_loss: 1.2291 - val_accuracy: 0.5782\n",
            "Epoch 27/40\n",
            "1563/1563 [==============================] - 40s 25ms/step - loss: 0.8375 - accuracy: 0.7103 - val_loss: 1.2598 - val_accuracy: 0.5759\n",
            "Epoch 28/40\n",
            "1563/1563 [==============================] - 39s 25ms/step - loss: 0.8235 - accuracy: 0.7152 - val_loss: 1.1624 - val_accuracy: 0.6010\n",
            "Epoch 29/40\n",
            "1563/1563 [==============================] - 39s 25ms/step - loss: 0.8102 - accuracy: 0.7188 - val_loss: 1.1516 - val_accuracy: 0.6011\n",
            "Epoch 30/40\n",
            "1563/1563 [==============================] - 40s 25ms/step - loss: 0.7969 - accuracy: 0.7252 - val_loss: 1.2106 - val_accuracy: 0.5829\n",
            "Epoch 31/40\n",
            "1563/1563 [==============================] - 41s 26ms/step - loss: 0.7821 - accuracy: 0.7279 - val_loss: 1.2214 - val_accuracy: 0.5915\n",
            "Epoch 32/40\n",
            "1563/1563 [==============================] - 40s 25ms/step - loss: 0.7684 - accuracy: 0.7350 - val_loss: 1.1748 - val_accuracy: 0.5965\n",
            "Epoch 33/40\n",
            "1563/1563 [==============================] - 40s 25ms/step - loss: 0.7574 - accuracy: 0.7389 - val_loss: 1.1816 - val_accuracy: 0.6051\n",
            "Epoch 34/40\n",
            "1563/1563 [==============================] - 40s 25ms/step - loss: 0.7450 - accuracy: 0.7436 - val_loss: 1.2274 - val_accuracy: 0.5907\n",
            "Epoch 35/40\n",
            "1563/1563 [==============================] - 40s 26ms/step - loss: 0.7320 - accuracy: 0.7484 - val_loss: 1.1958 - val_accuracy: 0.6064\n",
            "Epoch 36/40\n",
            "1563/1563 [==============================] - 41s 26ms/step - loss: 0.7179 - accuracy: 0.7523 - val_loss: 1.1846 - val_accuracy: 0.6099\n",
            "Epoch 37/40\n",
            "1563/1563 [==============================] - 40s 25ms/step - loss: 0.7058 - accuracy: 0.7583 - val_loss: 1.1823 - val_accuracy: 0.6104\n",
            "Epoch 38/40\n",
            "1563/1563 [==============================] - 40s 25ms/step - loss: 0.6927 - accuracy: 0.7624 - val_loss: 1.1647 - val_accuracy: 0.6114\n",
            "Epoch 39/40\n",
            "1563/1563 [==============================] - 39s 25ms/step - loss: 0.6842 - accuracy: 0.7656 - val_loss: 1.2388 - val_accuracy: 0.6005\n",
            "Epoch 40/40\n",
            "1563/1563 [==============================] - 39s 25ms/step - loss: 0.6735 - accuracy: 0.7681 - val_loss: 1.2419 - val_accuracy: 0.5892\n"
          ]
        }
      ]
    },
    {
      "cell_type": "code",
      "source": [
        "# evaluate network\n",
        "print(\"[INFO] evaluating network...\")\n",
        "predictions = model.predict(test_x, batch_size=32)\n",
        "print(\n",
        "    classification_report(\n",
        "        test_y.argmax(axis=1), \n",
        "        predictions.argmax(axis=1), \n",
        "        target_names=label_names\n",
        "        )\n",
        "    )"
      ],
      "metadata": {
        "colab": {
          "base_uri": "https://localhost:8080/"
        },
        "id": "Hnk7yBCpyw-7",
        "outputId": "1d341405-c404-4277-a043-48a037fc7e16"
      },
      "execution_count": 11,
      "outputs": [
        {
          "output_type": "stream",
          "name": "stdout",
          "text": [
            "[INFO] evaluating network...\n",
            "313/313 [==============================] - 3s 9ms/step\n",
            "              precision    recall  f1-score   support\n",
            "\n",
            "    airplane       0.67      0.60      0.64      1000\n",
            "  automobile       0.59      0.84      0.70      1000\n",
            "        bird       0.40      0.55      0.46      1000\n",
            "         cat       0.38      0.53      0.45      1000\n",
            "        deer       0.57      0.48      0.52      1000\n",
            "         dog       0.50      0.52      0.51      1000\n",
            "        frog       0.79      0.61      0.69      1000\n",
            "       horse       0.82      0.54      0.65      1000\n",
            "        ship       0.76      0.68      0.72      1000\n",
            "       truck       0.76      0.54      0.63      1000\n",
            "\n",
            "    accuracy                           0.59     10000\n",
            "   macro avg       0.62      0.59      0.60     10000\n",
            "weighted avg       0.62      0.59      0.60     10000\n",
            "\n"
          ]
        }
      ]
    },
    {
      "cell_type": "code",
      "source": [
        "plt.style.use(\"ggplot\")\n",
        "plt.figure()\n",
        "plt.plot(np.arange(0, 40), H.history[\"loss\"], label=\"train_loss\")\n",
        "plt.plot(np.arange(0, 40), H.history[\"val_loss\"], label=\"val_loss\")\n",
        "plt.plot(np.arange(0, 40), H.history[\"accuracy\"], label=\"train_acc\")\n",
        "plt.plot(np.arange(0, 40), H.history[\"val_accuracy\"], label=\"val_acc\")\n",
        "plt.title(\"Training Loss and Accuracy\")\n",
        "plt.xlabel(\"Epoch #\")\n",
        "plt.ylabel(\"Loss/Accuracy\")\n",
        "plt.legend()\n",
        "plt.show()"
      ],
      "metadata": {
        "colab": {
          "base_uri": "https://localhost:8080/",
          "height": 299
        },
        "id": "LbG2ITRhzcEj",
        "outputId": "b78aeff1-d271-403a-f272-fbe6290dbdf7"
      },
      "execution_count": 12,
      "outputs": [
        {
          "output_type": "display_data",
          "data": {
            "text/plain": [
              "<Figure size 432x288 with 1 Axes>"
            ],
            "image/png": "[encoded data removed]"
          },
          "metadata": {}
        }
      ]
    },
    {
      "cell_type": "code",
      "source": [],
      "metadata": {
        "id": "6WweDT3l5WWt"
      },
      "execution_count": null,
      "outputs": []
    }
  ]
}