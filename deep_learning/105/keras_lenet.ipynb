{
  "nbformat": 4,
  "nbformat_minor": 0,
  "metadata": {
    "colab": {
      "provenance": [],
      "authorship_tag": "ABX9TyPr001lznyMIFXdrDgrILmu",
      "include_colab_link": true
    },
    "kernelspec": {
      "name": "python3",
      "display_name": "Python 3"
    },
    "language_info": {
      "name": "python"
    }
  },
  "cells": [
    {
      "cell_type": "markdown",
      "metadata": {
        "id": "view-in-github",
        "colab_type": "text"
      },
      "source": [
        "<a href=\"https://colab.research.google.com/github/udupa-varun/pyimagesearch_uni/blob/main/deep_learning/105/keras_lenet.ipynb\" target=\"_parent\"><img src=\"https://colab.research.google.com/assets/colab-badge.svg\" alt=\"Open In Colab\"/></a>"
      ]
    },
    {
      "cell_type": "code",
      "execution_count": 1,
      "metadata": {
        "id": "VKNetrrJBqur",
        "colab": {
          "base_uri": "https://localhost:8080/"
        },
        "outputId": "62112ffe-6e8a-40ad-a4ab-e02cbd2eb673"
      },
      "outputs": [
        {
          "output_type": "stream",
          "name": "stdout",
          "text": [
            "--2023-02-23 09:04:30--  https://pyimagesearch-code-downloads.s3-us-west-2.amazonaws.com/keras-lenet/keras-lenet.zip\n",
            "Resolving pyimagesearch-code-downloads.s3-us-west-2.amazonaws.com (pyimagesearch-code-downloads.s3-us-west-2.amazonaws.com)... 52.218.243.17, 3.5.81.129, 52.92.240.146, ...\n",
            "Connecting to pyimagesearch-code-downloads.s3-us-west-2.amazonaws.com (pyimagesearch-code-downloads.s3-us-west-2.amazonaws.com)|52.218.243.17|:443... connected.\n",
            "HTTP request sent, awaiting response... 200 OK\n",
            "Length: 3228 (3.2K) [application/zip]\n",
            "Saving to: ‘keras-lenet.zip’\n",
            "\n",
            "keras-lenet.zip     100%[===================>]   3.15K  --.-KB/s    in 0s      \n",
            "\n",
            "2023-02-23 09:04:31 (162 MB/s) - ‘keras-lenet.zip’ saved [3228/3228]\n",
            "\n",
            "/content/keras-lenet\n"
          ]
        }
      ],
      "source": [
        "!wget https://pyimagesearch-code-downloads.s3-us-west-2.amazonaws.com/keras-lenet/keras-lenet.zip\n",
        "!unzip -qq keras-lenet.zip\n",
        "%cd keras-lenet"
      ]
    },
    {
      "cell_type": "code",
      "source": [
        "from sklearn.preprocessing import LabelBinarizer\n",
        "from sklearn.metrics import classification_report\n",
        "from tensorflow.keras.datasets import mnist\n",
        "from tensorflow.keras.models import Sequential\n",
        "from tensorflow.keras.layers import Activation, Conv2D, Dense, Flatten, MaxPool2D\n",
        "from tensorflow.keras import backend as K\n",
        "from tensorflow.keras.optimizers import SGD\n",
        "\n",
        "import matplotlib.pyplot as plt\n",
        "import numpy as np"
      ],
      "metadata": {
        "id": "bQSBXYZPhBuF"
      },
      "execution_count": 3,
      "outputs": []
    },
    {
      "cell_type": "code",
      "source": [
        "class LeNet:\n",
        "    @staticmethod\n",
        "    def build(width, height, depth, classes):\n",
        "        # init model\n",
        "        model = Sequential()\n",
        "        input_shape = (height, width, depth)\n",
        "\n",
        "        if K.image_data_format == \"channels_first\":\n",
        "            input_shape = (depth, height, width)\n",
        "\n",
        "        # first set of CONV => RELU => POOL layers\n",
        "        model.add(\n",
        "            Conv2D(\n",
        "                filters=20,\n",
        "                kernel_size=(5, 5),\n",
        "                padding=\"same\",\n",
        "                input_shape=input_shape\n",
        "            )\n",
        "        )\n",
        "        model.add(Activation(\"relu\"))\n",
        "        model.add(MaxPool2D(pool_size=(2, 2), strides=(2, 2)))\n",
        "\n",
        "        # second set of CONV => RELU => POOL layers\n",
        "        model.add(\n",
        "            Conv2D(\n",
        "                filters=50,\n",
        "                kernel_size=(5, 5),\n",
        "                padding=\"same\",\n",
        "            )\n",
        "        )\n",
        "        model.add(Activation(\"relu\"))\n",
        "        model.add(MaxPool2D(pool_size=(2, 2), strides=(2, 2)))\n",
        "\n",
        "        # first and only set of FC => RELU layers\n",
        "        model.add(Flatten())\n",
        "        model.add(Dense(500))\n",
        "        model.add(Activation(\"relu\"))\n",
        "\n",
        "        # softmax classifier\n",
        "        model.add(Dense(classes))\n",
        "        model.add(Activation(\"softmax\"))\n",
        "\n",
        "        # return constructed network architecture\n",
        "        return model"
      ],
      "metadata": {
        "id": "nUWPOML6iDse"
      },
      "execution_count": 4,
      "outputs": []
    },
    {
      "cell_type": "markdown",
      "source": [
        "### LeNet on MNIST"
      ],
      "metadata": {
        "id": "ZY_TXKGVkpUx"
      }
    },
    {
      "cell_type": "code",
      "source": [
        "# grab MNIST data\n",
        "print(\"[INFO] accessing MNIST...\")\n",
        "((train_data, train_labels), (test_data, test_labels)) = mnist.load_data()"
      ],
      "metadata": {
        "colab": {
          "base_uri": "https://localhost:8080/"
        },
        "id": "RMXgxWEXkrbu",
        "outputId": "8018fcc6-6eec-43b6-d906-d8aae5122f40"
      },
      "execution_count": 5,
      "outputs": [
        {
          "output_type": "stream",
          "name": "stdout",
          "text": [
            "[INFO] accessing MNIST...\n",
            "Downloading data from https://storage.googleapis.com/tensorflow/tf-keras-datasets/mnist.npz\n",
            "11490434/11490434 [==============================] - 1s 0us/step\n"
          ]
        }
      ]
    },
    {
      "cell_type": "code",
      "source": [
        "# if channels first, reshape to num_samples x depth x rows x columns\n",
        "if K.image_data_format() == \"channels_first\":\n",
        "    train_data = train_data.reshape((train_data.shape[0], 1, 28, 28))\n",
        "    test_data = test_data.reshape((test_data.shape[0], 1, 28, 28))\n",
        "# channels last -> reshape to num_samples x rows x columns x depth\n",
        "else:\n",
        "    train_data = train_data.reshape((train_data.shape[0], 28, 28, 1))\n",
        "    test_data = test_data.reshape((test_data.shape[0], 28, 28, 1))\n"
      ],
      "metadata": {
        "id": "m-37xDoQk4R0"
      },
      "execution_count": 6,
      "outputs": []
    },
    {
      "cell_type": "code",
      "source": [
        "# scale data to [0, 1]\n",
        "train_data = train_data.astype(\"float\") / 255.0\n",
        "test_data = test_data.astype(\"float\") / 255.0\n",
        "\n",
        "# convert labels from integers to vectors\n",
        "le = LabelBinarizer()\n",
        "train_labels = le.fit_transform(train_labels)\n",
        "test_labels = le.fit_transform(test_labels)"
      ],
      "metadata": {
        "id": "Mi3iFwqWleg5"
      },
      "execution_count": 7,
      "outputs": []
    },
    {
      "cell_type": "code",
      "source": [
        "# init optimizer and model\n",
        "print(\"[INFO] compiling model...\")\n",
        "opt = SGD(learning_rate=0.01)\n",
        "model = LeNet.build(width=28, height=28, depth=1, classes=10)\n",
        "model.compile(\n",
        "    loss=\"categorical_crossentropy\",\n",
        "    optimizer=opt,\n",
        "    metrics=[\"accuracy\"]\n",
        ")\n",
        "\n",
        "# train network\n",
        "print(\"[INFO] training network...\")\n",
        "H = model.fit(\n",
        "    train_data,\n",
        "    train_labels,\n",
        "    validation_data=(test_data, test_labels),\n",
        "    batch_size=128,\n",
        "    epochs=20,\n",
        "    verbose=1\n",
        ")"
      ],
      "metadata": {
        "colab": {
          "base_uri": "https://localhost:8080/"
        },
        "id": "OZOKAbKrlzIG",
        "outputId": "762ef9c1-eba5-41ff-e687-fe7b5145481e"
      },
      "execution_count": 8,
      "outputs": [
        {
          "output_type": "stream",
          "name": "stdout",
          "text": [
            "[INFO] compiling model...\n",
            "[INFO] training network...\n",
            "Epoch 1/20\n",
            "469/469 [==============================] - 129s 273ms/step - loss: 1.0166 - accuracy: 0.7254 - val_loss: 0.3764 - val_accuracy: 0.8771\n",
            "Epoch 2/20\n",
            "469/469 [==============================] - 120s 255ms/step - loss: 0.2710 - accuracy: 0.9184 - val_loss: 0.2031 - val_accuracy: 0.9425\n",
            "Epoch 3/20\n",
            "469/469 [==============================] - 91s 194ms/step - loss: 0.1960 - accuracy: 0.9421 - val_loss: 0.1662 - val_accuracy: 0.9487\n",
            "Epoch 4/20\n",
            "469/469 [==============================] - 92s 197ms/step - loss: 0.1541 - accuracy: 0.9541 - val_loss: 0.1426 - val_accuracy: 0.9562\n",
            "Epoch 5/20\n",
            "469/469 [==============================] - 91s 195ms/step - loss: 0.1266 - accuracy: 0.9623 - val_loss: 0.1078 - val_accuracy: 0.9694\n",
            "Epoch 6/20\n",
            "469/469 [==============================] - 93s 199ms/step - loss: 0.1079 - accuracy: 0.9679 - val_loss: 0.1049 - val_accuracy: 0.9658\n",
            "Epoch 7/20\n",
            "469/469 [==============================] - 91s 194ms/step - loss: 0.0948 - accuracy: 0.9724 - val_loss: 0.0797 - val_accuracy: 0.9760\n",
            "Epoch 8/20\n",
            "469/469 [==============================] - 94s 200ms/step - loss: 0.0846 - accuracy: 0.9751 - val_loss: 0.0756 - val_accuracy: 0.9764\n",
            "Epoch 9/20\n",
            "469/469 [==============================] - 92s 196ms/step - loss: 0.0767 - accuracy: 0.9770 - val_loss: 0.0691 - val_accuracy: 0.9788\n",
            "Epoch 10/20\n",
            "469/469 [==============================] - 92s 197ms/step - loss: 0.0701 - accuracy: 0.9792 - val_loss: 0.0642 - val_accuracy: 0.9791\n",
            "Epoch 11/20\n",
            "469/469 [==============================] - 92s 195ms/step - loss: 0.0652 - accuracy: 0.9806 - val_loss: 0.0598 - val_accuracy: 0.9811\n",
            "Epoch 12/20\n",
            "469/469 [==============================] - 91s 193ms/step - loss: 0.0603 - accuracy: 0.9822 - val_loss: 0.0545 - val_accuracy: 0.9831\n",
            "Epoch 13/20\n",
            "469/469 [==============================] - 91s 195ms/step - loss: 0.0569 - accuracy: 0.9831 - val_loss: 0.0538 - val_accuracy: 0.9822\n",
            "Epoch 14/20\n",
            "469/469 [==============================] - 91s 195ms/step - loss: 0.0536 - accuracy: 0.9840 - val_loss: 0.0558 - val_accuracy: 0.9806\n",
            "Epoch 15/20\n",
            "469/469 [==============================] - 91s 194ms/step - loss: 0.0509 - accuracy: 0.9844 - val_loss: 0.0484 - val_accuracy: 0.9844\n",
            "Epoch 16/20\n",
            "469/469 [==============================] - 91s 194ms/step - loss: 0.0483 - accuracy: 0.9851 - val_loss: 0.0516 - val_accuracy: 0.9833\n",
            "Epoch 17/20\n",
            "469/469 [==============================] - 91s 193ms/step - loss: 0.0457 - accuracy: 0.9860 - val_loss: 0.0537 - val_accuracy: 0.9822\n",
            "Epoch 18/20\n",
            "469/469 [==============================] - 91s 195ms/step - loss: 0.0436 - accuracy: 0.9868 - val_loss: 0.0436 - val_accuracy: 0.9858\n",
            "Epoch 19/20\n",
            "469/469 [==============================] - 92s 195ms/step - loss: 0.0415 - accuracy: 0.9878 - val_loss: 0.0453 - val_accuracy: 0.9850\n",
            "Epoch 20/20\n",
            "469/469 [==============================] - 91s 194ms/step - loss: 0.0396 - accuracy: 0.9880 - val_loss: 0.0477 - val_accuracy: 0.9837\n"
          ]
        }
      ]
    },
    {
      "cell_type": "code",
      "source": [
        "# evaluate network\n",
        "print(\"[INFO] evaluating network...\")\n",
        "predictions = model.predict(test_data, batch_size=128)\n",
        "print(\n",
        "    classification_report(\n",
        "        test_labels.argmax(axis=1),\n",
        "        predictions.argmax(axis=1),\n",
        "        target_names=[str(x) for x in le.classes_]\n",
        "    )\n",
        ")\n",
        "\n",
        "# plot training loss and accuracy\n",
        "plt.style.use(\"ggplot\")\n",
        "plt.figure()\n",
        "plt.plot(np.arange(0, 20), H.history[\"loss\"], label=\"train_loss\")\n",
        "plt.plot(np.arange(0, 20), H.history[\"val_loss\"], label=\"val_loss\")\n",
        "plt.plot(np.arange(0, 20), H.history[\"accuracy\"], label=\"train_acc\")\n",
        "plt.plot(np.arange(0, 20), H.history[\"val_accuracy\"], label=\"val_acc\")\n",
        "plt.title(\"Training Loss and Accuracy\")\n",
        "plt.xlabel(\"Epoch #\")\n",
        "plt.ylabel(\"Loss/Accuracy\")\n",
        "plt.legend()\n",
        "plt.show()\n"
      ],
      "metadata": {
        "colab": {
          "base_uri": "https://localhost:8080/",
          "height": 638
        },
        "id": "iPzNWIV3mbSG",
        "outputId": "5112fa67-048d-4044-fd86-b1688064236a"
      },
      "execution_count": 9,
      "outputs": [
        {
          "output_type": "stream",
          "name": "stdout",
          "text": [
            "[INFO] evaluating network...\n",
            "79/79 [==============================] - 7s 84ms/step\n",
            "              precision    recall  f1-score   support\n",
            "\n",
            "           0       0.99      0.99      0.99       980\n",
            "           1       0.99      0.99      0.99      1135\n",
            "           2       0.99      0.99      0.99      1032\n",
            "           3       0.95      0.99      0.97      1010\n",
            "           4       0.99      0.98      0.99       982\n",
            "           5       0.99      0.97      0.98       892\n",
            "           6       0.98      0.99      0.99       958\n",
            "           7       0.98      0.98      0.98      1028\n",
            "           8       0.98      0.98      0.98       974\n",
            "           9       0.98      0.98      0.98      1009\n",
            "\n",
            "    accuracy                           0.98     10000\n",
            "   macro avg       0.98      0.98      0.98     10000\n",
            "weighted avg       0.98      0.98      0.98     10000\n",
            "\n"
          ]
        },
        {
          "output_type": "display_data",
          "data": {
            "text/plain": [
              "<Figure size 432x288 with 1 Axes>"
            ],
            "image/png": "[encoded data removed]"
          },
          "metadata": {}
        }
      ]
    },
    {
      "cell_type": "code",
      "source": [],
      "metadata": {
        "id": "VGcyokvAtsPz"
      },
      "execution_count": null,
      "outputs": []
    }
  ]
}