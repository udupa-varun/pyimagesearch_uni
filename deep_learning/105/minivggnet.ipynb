{
  "nbformat": 4,
  "nbformat_minor": 0,
  "metadata": {
    "colab": {
      "provenance": [],
      "authorship_tag": "ABX9TyOd6u4IwB6fo2NwrbgW8cR7",
      "include_colab_link": true
    },
    "kernelspec": {
      "name": "python3",
      "display_name": "Python 3"
    },
    "language_info": {
      "name": "python"
    }
  },
  "cells": [
    {
      "cell_type": "markdown",
      "metadata": {
        "id": "view-in-github",
        "colab_type": "text"
      },
      "source": [
        "<a href=\"https://colab.research.google.com/github/udupa-varun/pyimagesearch_uni/blob/main/deep_learning/105/minivggnet.ipynb\" target=\"_parent\"><img src=\"https://colab.research.google.com/assets/colab-badge.svg\" alt=\"Open In Colab\"/></a>"
      ]
    },
    {
      "cell_type": "code",
      "execution_count": 1,
      "metadata": {
        "colab": {
          "base_uri": "https://localhost:8080/"
        },
        "id": "lg9TjgVt7Wbc",
        "outputId": "df09f41f-6292-46cd-81a3-cc8122edeb1e"
      },
      "outputs": [
        {
          "output_type": "stream",
          "name": "stdout",
          "text": [
            "--2023-02-23 10:59:57--  https://pyimagesearch-code-downloads.s3-us-west-2.amazonaws.com/minivggnet/minivggnet.zip\n",
            "Resolving pyimagesearch-code-downloads.s3-us-west-2.amazonaws.com (pyimagesearch-code-downloads.s3-us-west-2.amazonaws.com)... 52.218.249.81, 3.5.76.197, 52.218.170.34, ...\n",
            "Connecting to pyimagesearch-code-downloads.s3-us-west-2.amazonaws.com (pyimagesearch-code-downloads.s3-us-west-2.amazonaws.com)|52.218.249.81|:443... connected.\n",
            "HTTP request sent, awaiting response... 200 OK\n",
            "Length: 10844 (11K) [binary/octet-stream]\n",
            "Saving to: ‘minivggnet.zip’\n",
            "\n",
            "minivggnet.zip      100%[===================>]  10.59K  --.-KB/s    in 0s      \n",
            "\n",
            "2023-02-23 10:59:58 (81.6 MB/s) - ‘minivggnet.zip’ saved [10844/10844]\n",
            "\n",
            "/content/minivggnet\n"
          ]
        }
      ],
      "source": [
        "!wget https://pyimagesearch-code-downloads.s3-us-west-2.amazonaws.com/minivggnet/minivggnet.zip\n",
        "!unzip -qq minivggnet.zip\n",
        "%cd minivggnet"
      ]
    },
    {
      "cell_type": "code",
      "source": [
        "from sklearn.preprocessing import LabelBinarizer\n",
        "from sklearn.metrics import classification_report\n",
        "from tensorflow.keras import backend as K\n",
        "from tensorflow.keras.datasets import cifar10\n",
        "from tensorflow.keras.models import Sequential\n",
        "from tensorflow.keras.layers import (\n",
        "    Activation, \n",
        "    BatchNormalization, \n",
        "    Conv2D, \n",
        "    Dense, \n",
        "    Dropout,\n",
        "    Flatten, \n",
        "    MaxPool2D\n",
        ")\n",
        "from tensorflow.keras.optimizers import SGD\n",
        "import matplotlib.pyplot as plt\n",
        "import numpy as np"
      ],
      "metadata": {
        "id": "iQ6SITOp7gWl"
      },
      "execution_count": 4,
      "outputs": []
    },
    {
      "cell_type": "markdown",
      "source": [
        "### Implementing MiniVGGNet"
      ],
      "metadata": {
        "id": "kcZXEQ_H8idU"
      }
    },
    {
      "cell_type": "code",
      "source": [
        "from sklearn.metrics.pairwise import kernel_metrics\n",
        "class MiniVGGNet:\n",
        "    @staticmethod\n",
        "    def build(width, height, depth, classes):\n",
        "        # init model\n",
        "        model = Sequential()\n",
        "        input_shape = (height, width, depth)\n",
        "        chan_dim = -1\n",
        "\n",
        "        if K.image_data_format == \"channels_first\":\n",
        "            input_shape = (depth, height, width)\n",
        "            chan_dim = 1\n",
        "\n",
        "        # first set of CONV => RELU => CONV => RELU => POOL\n",
        "        model.add(\n",
        "            Conv2D(\n",
        "                filters=32,\n",
        "                kernel_size=(3, 3),\n",
        "                padding=\"same\",\n",
        "                input_shape=input_shape\n",
        "            )\n",
        "        )\n",
        "        model.add(Activation(\"relu\"))\n",
        "        model.add(BatchNormalization(axis=chan_dim))\n",
        "        model.add(Conv2D(filters=32, kernel_size=(3, 3), padding=\"same\"))\n",
        "        model.add(Activation(\"relu\"))\n",
        "        model.add(BatchNormalization(axis=chan_dim))\n",
        "        model.add(MaxPool2D(pool_size=(2, 2), strides=(2, 2)))\n",
        "        model.add(Dropout(rate=0.25))\n",
        "\n",
        "        # second set of CONV => RELU => CONV => RELU => POOL\n",
        "        model.add(Conv2D(filters=64, kernel_size=(3, 3), padding=\"same\"))\n",
        "        model.add(Activation(\"relu\"))\n",
        "        model.add(BatchNormalization(axis=chan_dim))\n",
        "        model.add(Conv2D(filters=64, kernel_size=(3, 3), padding=\"same\"))\n",
        "        model.add(Activation(\"relu\"))\n",
        "        model.add(BatchNormalization(axis=chan_dim))\n",
        "        model.add(MaxPool2D(pool_size=(2, 2), strides=(2, 2)))\n",
        "        model.add(Dropout(rate=0.25))\n",
        "\n",
        "        # first and only set of FC => RELU layers\n",
        "        model.add(Flatten())\n",
        "        model.add(Dense(512))\n",
        "        model.add(Activation(\"relu\"))\n",
        "        model.add(BatchNormalization())\n",
        "        model.add(Dropout(rate=0.5))\n",
        "\n",
        "        # softmax classifier\n",
        "        model.add(Dense(classes))\n",
        "        model.add(Activation(\"softmax\"))\n",
        "\n",
        "        # return constructed network architecture\n",
        "        return model"
      ],
      "metadata": {
        "id": "Wdc5KR0o8lnF"
      },
      "execution_count": 5,
      "outputs": []
    },
    {
      "cell_type": "markdown",
      "source": [
        "### MiniVGGNet on CIFAR-10"
      ],
      "metadata": {
        "id": "ufUdpd6K_bKf"
      }
    },
    {
      "cell_type": "code",
      "source": [
        "# load data and rescale to [0, 1]\n",
        "print(\"[INFO] loading CIFAR-10 data...\")\n",
        "((train_x, train_y), (test_x, test_y)) = cifar10.load_data()\n",
        "train_x = train_x.astype(\"float\") / 255.0\n",
        "test_x = test_x.astype(\"float\") / 255.0\n",
        "\n",
        "# convert labels from integer to vectors\n",
        "le = LabelBinarizer()\n",
        "train_y = le.fit_transform(train_y)\n",
        "test_y = le.fit_transform(test_y)\n",
        "\n",
        "# init label names\n",
        "label_names = [\"airplane\", \"automobile\", \"bird\", \"cat\", \"deer\",\n",
        "\t\"dog\", \"frog\", \"horse\", \"ship\", \"truck\"]"
      ],
      "metadata": {
        "colab": {
          "base_uri": "https://localhost:8080/"
        },
        "id": "8xDouEMp_ee6",
        "outputId": "8bd063ff-5a88-48ec-ff7b-30c3b3918717"
      },
      "execution_count": 6,
      "outputs": [
        {
          "output_type": "stream",
          "name": "stdout",
          "text": [
            "[INFO] loading CIFAR-10 data...\n",
            "Downloading data from https://www.cs.toronto.edu/~kriz/cifar-10-python.tar.gz\n",
            "170498071/170498071 [==============================] - 2s 0us/step\n"
          ]
        }
      ]
    },
    {
      "cell_type": "code",
      "source": [
        "# init optimizer and model\n",
        "print(\"[INFO] compiling model...\")\n",
        "opt = SGD(learning_rate=0.01, momentum=0.9, nesterov=True)\n",
        "model = MiniVGGNet.build(width=32, height=32, depth=3, classes=10)\n",
        "model.compile(\n",
        "    loss=\"categorical_crossentropy\",\n",
        "    optimizer=opt,\n",
        "    metrics=[\"accuracy\"]\n",
        ")\n",
        "\n",
        "# train network\n",
        "print(\"[INFO] training network...\")\n",
        "H = model.fit(\n",
        "    train_x,\n",
        "    train_y,\n",
        "    validation_data=(test_x, test_y),\n",
        "    batch_size=64,\n",
        "    epochs=40,\n",
        "    verbose=1\n",
        ")"
      ],
      "metadata": {
        "colab": {
          "base_uri": "https://localhost:8080/"
        },
        "id": "Fid-yslJAG_V",
        "outputId": "857b2c53-b76b-4434-afc7-b10670ee29b6"
      },
      "execution_count": 7,
      "outputs": [
        {
          "output_type": "stream",
          "name": "stdout",
          "text": [
            "[INFO] compiling model...\n",
            "[INFO] training network...\n",
            "Epoch 1/40\n",
            "782/782 [==============================] - 359s 456ms/step - loss: 1.6735 - accuracy: 0.4446 - val_loss: 1.2607 - val_accuracy: 0.5629\n",
            "Epoch 2/40\n",
            "782/782 [==============================] - 355s 455ms/step - loss: 1.1822 - accuracy: 0.5927 - val_loss: 1.0970 - val_accuracy: 0.6148\n",
            "Epoch 3/40\n",
            "782/782 [==============================] - 352s 450ms/step - loss: 0.9862 - accuracy: 0.6610 - val_loss: 0.9154 - val_accuracy: 0.6744\n",
            "Epoch 4/40\n",
            "782/782 [==============================] - 351s 448ms/step - loss: 0.8834 - accuracy: 0.6959 - val_loss: 0.7999 - val_accuracy: 0.7226\n",
            "Epoch 5/40\n",
            "782/782 [==============================] - 352s 450ms/step - loss: 0.7991 - accuracy: 0.7219 - val_loss: 0.7553 - val_accuracy: 0.7331\n",
            "Epoch 6/40\n",
            "782/782 [==============================] - 350s 448ms/step - loss: 0.7336 - accuracy: 0.7447 - val_loss: 0.7659 - val_accuracy: 0.7352\n",
            "Epoch 7/40\n",
            "782/782 [==============================] - 344s 441ms/step - loss: 0.6860 - accuracy: 0.7611 - val_loss: 0.6285 - val_accuracy: 0.7778\n",
            "Epoch 8/40\n",
            "782/782 [==============================] - 347s 444ms/step - loss: 0.6334 - accuracy: 0.7791 - val_loss: 0.6549 - val_accuracy: 0.7728\n",
            "Epoch 9/40\n",
            "782/782 [==============================] - 352s 450ms/step - loss: 0.5977 - accuracy: 0.7913 - val_loss: 0.6214 - val_accuracy: 0.7861\n",
            "Epoch 10/40\n",
            "782/782 [==============================] - 350s 447ms/step - loss: 0.5555 - accuracy: 0.8054 - val_loss: 0.6409 - val_accuracy: 0.7830\n",
            "Epoch 11/40\n",
            "782/782 [==============================] - 353s 452ms/step - loss: 0.5245 - accuracy: 0.8148 - val_loss: 0.6255 - val_accuracy: 0.7856\n",
            "Epoch 12/40\n",
            "782/782 [==============================] - 450s 576ms/step - loss: 0.4978 - accuracy: 0.8233 - val_loss: 0.5982 - val_accuracy: 0.8019\n",
            "Epoch 13/40\n",
            "782/782 [==============================] - 350s 448ms/step - loss: 0.4659 - accuracy: 0.8347 - val_loss: 0.5999 - val_accuracy: 0.8030\n",
            "Epoch 14/40\n",
            "782/782 [==============================] - 351s 448ms/step - loss: 0.4370 - accuracy: 0.8452 - val_loss: 0.5986 - val_accuracy: 0.7959\n",
            "Epoch 15/40\n",
            "782/782 [==============================] - 351s 449ms/step - loss: 0.4158 - accuracy: 0.8526 - val_loss: 0.5804 - val_accuracy: 0.8045\n",
            "Epoch 16/40\n",
            "782/782 [==============================] - 352s 450ms/step - loss: 0.3964 - accuracy: 0.8590 - val_loss: 0.5832 - val_accuracy: 0.8162\n",
            "Epoch 17/40\n",
            "782/782 [==============================] - 347s 444ms/step - loss: 0.3774 - accuracy: 0.8663 - val_loss: 0.5690 - val_accuracy: 0.8100\n",
            "Epoch 18/40\n",
            "782/782 [==============================] - 346s 442ms/step - loss: 0.3586 - accuracy: 0.8699 - val_loss: 0.5548 - val_accuracy: 0.8190\n",
            "Epoch 19/40\n",
            "782/782 [==============================] - 352s 451ms/step - loss: 0.3424 - accuracy: 0.8782 - val_loss: 0.5672 - val_accuracy: 0.8134\n",
            "Epoch 20/40\n",
            "782/782 [==============================] - 353s 451ms/step - loss: 0.3243 - accuracy: 0.8840 - val_loss: 0.6263 - val_accuracy: 0.8100\n",
            "Epoch 21/40\n",
            "782/782 [==============================] - 353s 452ms/step - loss: 0.3087 - accuracy: 0.8904 - val_loss: 0.6109 - val_accuracy: 0.8064\n",
            "Epoch 22/40\n",
            "782/782 [==============================] - 352s 450ms/step - loss: 0.2970 - accuracy: 0.8962 - val_loss: 0.7532 - val_accuracy: 0.7721\n",
            "Epoch 23/40\n",
            "782/782 [==============================] - 335s 428ms/step - loss: 0.2871 - accuracy: 0.8972 - val_loss: 0.6007 - val_accuracy: 0.8146\n",
            "Epoch 24/40\n",
            "782/782 [==============================] - 328s 419ms/step - loss: 0.2726 - accuracy: 0.9008 - val_loss: 0.5614 - val_accuracy: 0.8235\n",
            "Epoch 25/40\n",
            "782/782 [==============================] - 348s 445ms/step - loss: 0.2645 - accuracy: 0.9053 - val_loss: 0.5767 - val_accuracy: 0.8207\n",
            "Epoch 26/40\n",
            "782/782 [==============================] - 344s 440ms/step - loss: 0.2482 - accuracy: 0.9120 - val_loss: 0.5932 - val_accuracy: 0.8195\n",
            "Epoch 27/40\n",
            "782/782 [==============================] - 340s 435ms/step - loss: 0.2499 - accuracy: 0.9092 - val_loss: 0.5831 - val_accuracy: 0.8188\n",
            "Epoch 28/40\n",
            "782/782 [==============================] - 334s 427ms/step - loss: 0.2335 - accuracy: 0.9167 - val_loss: 0.5657 - val_accuracy: 0.8290\n",
            "Epoch 29/40\n",
            "782/782 [==============================] - 342s 438ms/step - loss: 0.2289 - accuracy: 0.9183 - val_loss: 0.6085 - val_accuracy: 0.8225\n",
            "Epoch 30/40\n",
            "782/782 [==============================] - 349s 446ms/step - loss: 0.2191 - accuracy: 0.9229 - val_loss: 0.6126 - val_accuracy: 0.8189\n",
            "Epoch 31/40\n",
            "782/782 [==============================] - 336s 430ms/step - loss: 0.2126 - accuracy: 0.9256 - val_loss: 0.6036 - val_accuracy: 0.8216\n",
            "Epoch 32/40\n",
            "782/782 [==============================] - 345s 441ms/step - loss: 0.2149 - accuracy: 0.9235 - val_loss: 0.6159 - val_accuracy: 0.8224\n",
            "Epoch 33/40\n",
            "782/782 [==============================] - 335s 429ms/step - loss: 0.1991 - accuracy: 0.9289 - val_loss: 0.6113 - val_accuracy: 0.8214\n",
            "Epoch 34/40\n",
            "782/782 [==============================] - 334s 427ms/step - loss: 0.1925 - accuracy: 0.9309 - val_loss: 0.6064 - val_accuracy: 0.8241\n",
            "Epoch 35/40\n",
            "782/782 [==============================] - 341s 436ms/step - loss: 0.1956 - accuracy: 0.9302 - val_loss: 0.6094 - val_accuracy: 0.8267\n",
            "Epoch 36/40\n",
            "782/782 [==============================] - 333s 426ms/step - loss: 0.1879 - accuracy: 0.9328 - val_loss: 0.5979 - val_accuracy: 0.8283\n",
            "Epoch 37/40\n",
            "782/782 [==============================] - 341s 437ms/step - loss: 0.1851 - accuracy: 0.9363 - val_loss: 0.5974 - val_accuracy: 0.8293\n",
            "Epoch 38/40\n",
            "782/782 [==============================] - 333s 426ms/step - loss: 0.1720 - accuracy: 0.9390 - val_loss: 0.5929 - val_accuracy: 0.8298\n",
            "Epoch 39/40\n",
            "782/782 [==============================] - 333s 426ms/step - loss: 0.1687 - accuracy: 0.9404 - val_loss: 0.6423 - val_accuracy: 0.8263\n",
            "Epoch 40/40\n",
            "782/782 [==============================] - 342s 437ms/step - loss: 0.1678 - accuracy: 0.9407 - val_loss: 0.6289 - val_accuracy: 0.8293\n"
          ]
        }
      ]
    },
    {
      "cell_type": "code",
      "source": [
        "# evaluate network\n",
        "print(\"[INFO] evaluating network...\")\n",
        "predictions = model.predict(test_x, batch_size=64)\n",
        "print(\n",
        "    classification_report(\n",
        "        test_y.argmax(axis=1),\n",
        "        predictions.argmax(axis=1),\n",
        "        target_names = label_names\n",
        "    )\n",
        ")"
      ],
      "metadata": {
        "colab": {
          "base_uri": "https://localhost:8080/"
        },
        "id": "FoTrBEVpBIuO",
        "outputId": "4b047aea-c900-44d5-9be6-1e7081122880"
      },
      "execution_count": 8,
      "outputs": [
        {
          "output_type": "stream",
          "name": "stdout",
          "text": [
            "[INFO] evaluating network...\n",
            "157/157 [==============================] - 27s 170ms/step\n",
            "              precision    recall  f1-score   support\n",
            "\n",
            "    airplane       0.88      0.84      0.86      1000\n",
            "  automobile       0.89      0.94      0.91      1000\n",
            "        bird       0.71      0.78      0.74      1000\n",
            "         cat       0.72      0.62      0.67      1000\n",
            "        deer       0.78      0.84      0.81      1000\n",
            "         dog       0.79      0.72      0.76      1000\n",
            "        frog       0.84      0.90      0.87      1000\n",
            "       horse       0.88      0.87      0.87      1000\n",
            "        ship       0.90      0.90      0.90      1000\n",
            "       truck       0.90      0.88      0.89      1000\n",
            "\n",
            "    accuracy                           0.83     10000\n",
            "   macro avg       0.83      0.83      0.83     10000\n",
            "weighted avg       0.83      0.83      0.83     10000\n",
            "\n"
          ]
        }
      ]
    },
    {
      "cell_type": "code",
      "source": [
        "# plot training loss and accuracy\n",
        "plt.style.use(\"ggplot\")\n",
        "plt.figure()\n",
        "plt.plot(np.arange(0, 40), H.history[\"loss\"], label=\"train_loss\")\n",
        "plt.plot(np.arange(0, 40), H.history[\"val_loss\"], label=\"val_loss\")\n",
        "plt.plot(np.arange(0, 40), H.history[\"accuracy\"], label=\"train_acc\")\n",
        "plt.plot(np.arange(0, 40), H.history[\"val_accuracy\"], label=\"val_acc\")\n",
        "plt.title(\"Training Loss and Accuracy on CIFAR-10\")\n",
        "plt.xlabel(\"Epoch #\")\n",
        "plt.ylabel(\"Loss/Accuracy\")\n",
        "plt.legend()\n",
        "plt.show()"
      ],
      "metadata": {
        "colab": {
          "base_uri": "https://localhost:8080/",
          "height": 299
        },
        "id": "Nl33RlnRRDD7",
        "outputId": "f838fb17-1f22-401a-a1ea-d88955c80ae5"
      },
      "execution_count": 10,
      "outputs": [
        {
          "output_type": "display_data",
          "data": {
            "text/plain": [
              "<Figure size 432x288 with 1 Axes>"
            ],
            "image/png": "[encoded data removed]"
          },
          "metadata": {}
        }
      ]
    },
    {
      "cell_type": "code",
      "source": [],
      "metadata": {
        "id": "RVGlV5A32ZOo"
      },
      "execution_count": null,
      "outputs": []
    }
  ]
}