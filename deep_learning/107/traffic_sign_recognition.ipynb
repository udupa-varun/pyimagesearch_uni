{
  "nbformat": 4,
  "nbformat_minor": 0,
  "metadata": {
    "colab": {
      "provenance": [],
      "authorship_tag": "ABX9TyMX98HQGN9sZFpVLvPOtvh5",
      "include_colab_link": true
    },
    "kernelspec": {
      "name": "python3",
      "display_name": "Python 3"
    },
    "language_info": {
      "name": "python"
    },
    "gpuClass": "standard",
    "accelerator": "GPU"
  },
  "cells": [
    {
      "cell_type": "markdown",
      "metadata": {
        "id": "view-in-github",
        "colab_type": "text"
      },
      "source": [
        "<a href=\"https://colab.research.google.com/github/udupa-varun/pyimagesearch_uni/blob/main/deep_learning/107/traffic_sign_recognition.ipynb\" target=\"_parent\"><img src=\"https://colab.research.google.com/assets/colab-badge.svg\" alt=\"Open In Colab\"/></a>"
      ]
    },
    {
      "cell_type": "code",
      "execution_count": 1,
      "metadata": {
        "colab": {
          "base_uri": "https://localhost:8080/"
        },
        "id": "nSeR-4d7SNk7",
        "outputId": "dc4e0f9a-6d78-4896-92f7-a0524ff66b73"
      },
      "outputs": [
        {
          "output_type": "stream",
          "name": "stdout",
          "text": [
            "--2023-03-03 12:50:03--  https://pyimagesearch-code-downloads.s3-us-west-2.amazonaws.com/traffic-sign-recognition/traffic-sign-recognition.zip\n",
            "Resolving pyimagesearch-code-downloads.s3-us-west-2.amazonaws.com (pyimagesearch-code-downloads.s3-us-west-2.amazonaws.com)... 52.92.181.50, 3.5.78.0, 52.92.227.66, ...\n",
            "Connecting to pyimagesearch-code-downloads.s3-us-west-2.amazonaws.com (pyimagesearch-code-downloads.s3-us-west-2.amazonaws.com)|52.92.181.50|:443... connected.\n",
            "HTTP request sent, awaiting response... 200 OK\n",
            "Length: 1809294 (1.7M) [application/zip]\n",
            "Saving to: ‘traffic-sign-recognition.zip’\n",
            "\n",
            "traffic-sign-recogn 100%[===================>]   1.72M  --.-KB/s    in 0.08s   \n",
            "\n",
            "2023-03-03 12:50:03 (22.6 MB/s) - ‘traffic-sign-recognition.zip’ saved [1809294/1809294]\n",
            "\n",
            "/content/traffic-sign-recognition\n"
          ]
        }
      ],
      "source": [
        "!wget https://pyimagesearch-code-downloads.s3-us-west-2.amazonaws.com/traffic-sign-recognition/traffic-sign-recognition.zip\n",
        "!unzip -qq traffic-sign-recognition.zip\n",
        "%cd traffic-sign-recognition"
      ]
    },
    {
      "cell_type": "code",
      "source": [
        "!mkdir ~/.kaggle\n",
        "!cp /content/kaggle.json ~/.kaggle/\n",
        "!chmod 600 ~/.kaggle/kaggle.json"
      ],
      "metadata": {
        "id": "eQmZpFeuTCd_"
      },
      "execution_count": 2,
      "outputs": []
    },
    {
      "cell_type": "code",
      "source": [
        "!kaggle datasets download -d meowmeowmeowmeowmeow/gtsrb-german-traffic-sign"
      ],
      "metadata": {
        "colab": {
          "base_uri": "https://localhost:8080/"
        },
        "id": "SOr2DQsWTQUP",
        "outputId": "67e02a32-a4c5-4ac3-9985-41dcefcc1310"
      },
      "execution_count": 3,
      "outputs": [
        {
          "output_type": "stream",
          "name": "stdout",
          "text": [
            "Downloading gtsrb-german-traffic-sign.zip to /content/traffic-sign-recognition\n",
            " 97% 592M/612M [00:03<00:00, 224MB/s]\n",
            "100% 612M/612M [00:03<00:00, 201MB/s]\n"
          ]
        }
      ]
    },
    {
      "cell_type": "code",
      "source": [
        "!mkdir gtsrb-german-traffic-sign\n",
        "!cp gtsrb-german-traffic-sign.zip gtsrb-german-traffic-sign/\n",
        "!cd gtsrb-german-traffic-sign && unzip -qq gtsrb-german-traffic-sign.zip\n",
        "!cd gtsrb-german-traffic-sign && rm -rf gtsrb-german-traffic-sign.zip"
      ],
      "metadata": {
        "id": "cjYSxyqgTY1k"
      },
      "execution_count": 4,
      "outputs": []
    },
    {
      "cell_type": "code",
      "source": [
        "import argparse\n",
        "import os\n",
        "import random\n",
        "\n",
        "from imutils import paths\n",
        "from sklearn.metrics import classification_report\n",
        "from skimage import exposure, io, transform\n",
        "from tensorflow.keras.models import load_model, Sequential\n",
        "from tensorflow.keras.layers import (\n",
        "    BatchNormalization,\n",
        "    Conv2D,\n",
        "    Dense,\n",
        "    Dropout,\n",
        "    Flatten,\n",
        "    MaxPool2D\n",
        ")\n",
        "from tensorflow.keras.preprocessing.image import ImageDataGenerator\n",
        "from tensorflow.keras.optimizers import Adam\n",
        "from tensorflow.keras.optimizers.schedules import PolynomialDecay\n",
        "\n",
        "from tensorflow.keras.utils import to_categorical\n",
        "\n",
        "import cv2\n",
        "import imutils\n",
        "import matplotlib.pyplot as plt\n",
        "import numpy as np"
      ],
      "metadata": {
        "id": "YV5kXbaxTm21"
      },
      "execution_count": 12,
      "outputs": []
    },
    {
      "cell_type": "markdown",
      "source": [
        "### Implementing TrafficSignNet"
      ],
      "metadata": {
        "id": "08j5VP8hUxsT"
      }
    },
    {
      "cell_type": "code",
      "source": [
        "class TrafficSignNet:\n",
        "    @staticmethod\n",
        "    def build(width, height, depth, classes):\n",
        "        # init model with \"channels-last\" input shape\n",
        "        model = Sequential()\n",
        "        input_shape = (height, width, depth)\n",
        "        chan_dim = -1\n",
        "\n",
        "        # CONV => RELU => BN => POOL\n",
        "        model.add(\n",
        "            Conv2D(\n",
        "                filters=8,\n",
        "                kernel_size=(3, 3),\n",
        "                padding=\"same\",\n",
        "                activation=\"relu\",\n",
        "                input_shape=input_shape\n",
        "            )\n",
        "        )\n",
        "        model.add(BatchNormalization(axis=chan_dim))\n",
        "        model.add(MaxPool2D(pool_size=(2, 2)))\n",
        "\n",
        "        # first set of (CONV => RELU => BN => CONV => RELU => BN) * 2 => POOL\n",
        "        model.add(\n",
        "            Conv2D(\n",
        "                filters=16,\n",
        "                kernel_size=(3, 3),\n",
        "                padding=\"same\",\n",
        "                activation=\"relu\"\n",
        "            )\n",
        "        )\n",
        "        model.add(BatchNormalization(axis=chan_dim))\n",
        "        model.add(\n",
        "            Conv2D(\n",
        "                filters=16,\n",
        "                kernel_size=(3, 3),\n",
        "                padding=\"same\",\n",
        "                activation=\"relu\"\n",
        "            )\n",
        "        )\n",
        "        model.add(BatchNormalization(axis=chan_dim))\n",
        "        model.add(MaxPool2D(pool_size=(2, 2)))\n",
        "\n",
        "        # second set of (CONV => RELU => BN => CONV => RELU => BN) * 2 => POOL\n",
        "        model.add(\n",
        "            Conv2D(\n",
        "                filters=32,\n",
        "                kernel_size=(3, 3),\n",
        "                padding=\"same\",\n",
        "                activation=\"relu\"\n",
        "            )\n",
        "        )\n",
        "        model.add(BatchNormalization(axis=chan_dim))\n",
        "        model.add(\n",
        "            Conv2D(\n",
        "                filters=32,\n",
        "                kernel_size=(3, 3),\n",
        "                padding=\"same\",\n",
        "                activation=\"relu\"\n",
        "            )\n",
        "        )\n",
        "        model.add(BatchNormalization(axis=chan_dim))\n",
        "        model.add(MaxPool2D(pool_size=(2, 2)))\n",
        "\n",
        "        # first set of FC => RELU layers\n",
        "        model.add(Flatten())\n",
        "        model.add(Dense(128, activation=\"relu\"))\n",
        "        model.add(BatchNormalization())\n",
        "        model.add(Dropout(0.5))\n",
        "\n",
        "        # second set of FC => RELU layers\n",
        "        model.add(Flatten())\n",
        "        model.add(Dense(128, activation=\"relu\"))\n",
        "        model.add(BatchNormalization())\n",
        "        model.add(Dropout(0.5))\n",
        "\n",
        "        # softmax classifier\n",
        "        model.add(Dense(classes, activation=\"softmax\"))\n",
        "\n",
        "        # return constructed network architecture\n",
        "        return model"
      ],
      "metadata": {
        "id": "RNTANolBU6t7"
      },
      "execution_count": 6,
      "outputs": []
    },
    {
      "cell_type": "markdown",
      "source": [
        "### Training"
      ],
      "metadata": {
        "id": "hPyxWvPYXl37"
      }
    },
    {
      "cell_type": "code",
      "source": [
        "def load_split(base_path, csv_path):\n",
        "    # init data and labels\n",
        "    data = []\n",
        "    labels = []\n",
        "\n",
        "    # load contents of CSV file (skip header)\n",
        "    # and shuffle the rows\n",
        "    with open(csv_path, \"r\") as f:\n",
        "        rows = f.read().strip().split(\"\\n\")[1:]\n",
        "\n",
        "    random.shuffle(rows)\n",
        "\n",
        "    # loop over the rows\n",
        "    for (i, row) in enumerate(rows):\n",
        "        # check to see if we should show status update\n",
        "        if i > 0 and i % 1000 == 0:\n",
        "            print(f\"[INFO] processed {i} total images\")\n",
        "\n",
        "        # split row into components and grab class ID, image path\n",
        "        (label, image_path) = row.strip().split(\",\")[-2:]\n",
        "\n",
        "        # derive full path to image file and load it\n",
        "        image_path = os.path.sep.join([base_path, image_path])\n",
        "        image = io.imread(image_path)\n",
        "\n",
        "        # resize image to 32x32 (ignore aspect ratio)\n",
        "        image = transform.resize(image, (32, 32))\n",
        "        # perform Contrast Limited Adaptive Histogram Equalization (CLAHE)\n",
        "        image = exposure.equalize_adapthist(image, clip_limit=0.1)\n",
        "\n",
        "        # update list of data and labels\n",
        "        data.append(image)\n",
        "        labels.append(int(label))\n",
        "\n",
        "    # convert the data and labels to arrays\n",
        "    data = np.array(data)\n",
        "    labels = np.array(labels)\n",
        "\n",
        "    return (data, labels)"
      ],
      "metadata": {
        "id": "eGu-Foi8Xw1p"
      },
      "execution_count": 7,
      "outputs": []
    },
    {
      "cell_type": "code",
      "source": [
        "args = {\n",
        "    \"dataset\": \"gtsrb-german-traffic-sign\",\n",
        "    \"model\": \"output/trafficsignnet.model\",\n",
        "    \"plot\": \"output/plot.png\"\n",
        "}"
      ],
      "metadata": {
        "id": "RZXuYb4BaCrM"
      },
      "execution_count": 8,
      "outputs": []
    },
    {
      "cell_type": "code",
      "source": [
        "# training config\n",
        "NUM_EPOCHS = 30\n",
        "INIT_LR = 1e-3\n",
        "BS = 64\n",
        "\n",
        "# load label names\n",
        "with open(\"signnames.csv\", \"r\") as f:\n",
        "    label_names = f.read().strip().split(\"\\n\")[1:]\n",
        "    label_names = [l.split(\",\")[1] for l in label_names]\n"
      ],
      "metadata": {
        "id": "dkVQKiZZaQ61"
      },
      "execution_count": 9,
      "outputs": []
    },
    {
      "cell_type": "code",
      "source": [
        "# derive path to training and testing CSV files\n",
        "train_path = os.path.sep.join([args[\"dataset\"], \"Train.csv\"])\n",
        "test_path = os.path.sep.join([args[\"dataset\"], \"Test.csv\"])\n",
        "\n",
        "# load training and testing data\n",
        "print(\"[INFO] loading training and testing data...\")\n",
        "(train_x, train_y) = load_split(args[\"dataset\"], train_path)\n",
        "(test_x, test_y) = load_split(args[\"dataset\"], test_path)\n",
        "\n",
        "# scale data to [0, 1]\n",
        "train_x = train_x.astype(\"float32\") / 255.0\n",
        "test_x = test_x.astype(\"float32\") / 255.0\n",
        "\n",
        "# one-hot encode the labels\n",
        "num_labels = len(np.unique(train_y))\n",
        "train_y = to_categorical(train_y, num_labels)\n",
        "test_y = to_categorical(test_y, num_labels)\n",
        "\n",
        "# calculate total number of images in each class\n",
        "# init dict to store class weights\n",
        "class_totals = train_y.sum(axis=0)\n",
        "class_weight = {}\n",
        "\n",
        "# loop over classes and calculate class weight\n",
        "for i in range(0, len(class_totals)):\n",
        "    class_weight[i] = class_totals.max() / class_totals[i]"
      ],
      "metadata": {
        "colab": {
          "base_uri": "https://localhost:8080/"
        },
        "id": "49Qx9jQWaS-B",
        "outputId": "da26510c-f0aa-4b9b-877b-006a146d9bd0"
      },
      "execution_count": 10,
      "outputs": [
        {
          "output_type": "stream",
          "name": "stdout",
          "text": [
            "[INFO] loading training and testing data...\n",
            "[INFO] processed 1000 total images\n",
            "[INFO] processed 2000 total images\n",
            "[INFO] processed 3000 total images\n",
            "[INFO] processed 4000 total images\n",
            "[INFO] processed 5000 total images\n",
            "[INFO] processed 6000 total images\n",
            "[INFO] processed 7000 total images\n",
            "[INFO] processed 8000 total images\n",
            "[INFO] processed 9000 total images\n",
            "[INFO] processed 10000 total images\n",
            "[INFO] processed 11000 total images\n",
            "[INFO] processed 12000 total images\n",
            "[INFO] processed 13000 total images\n",
            "[INFO] processed 14000 total images\n",
            "[INFO] processed 15000 total images\n",
            "[INFO] processed 16000 total images\n",
            "[INFO] processed 17000 total images\n",
            "[INFO] processed 18000 total images\n",
            "[INFO] processed 19000 total images\n",
            "[INFO] processed 20000 total images\n",
            "[INFO] processed 21000 total images\n",
            "[INFO] processed 22000 total images\n",
            "[INFO] processed 23000 total images\n",
            "[INFO] processed 24000 total images\n",
            "[INFO] processed 25000 total images\n",
            "[INFO] processed 26000 total images\n",
            "[INFO] processed 27000 total images\n",
            "[INFO] processed 28000 total images\n",
            "[INFO] processed 29000 total images\n",
            "[INFO] processed 30000 total images\n",
            "[INFO] processed 31000 total images\n",
            "[INFO] processed 32000 total images\n",
            "[INFO] processed 33000 total images\n",
            "[INFO] processed 34000 total images\n",
            "[INFO] processed 35000 total images\n",
            "[INFO] processed 36000 total images\n",
            "[INFO] processed 37000 total images\n",
            "[INFO] processed 38000 total images\n",
            "[INFO] processed 39000 total images\n",
            "[INFO] processed 1000 total images\n",
            "[INFO] processed 2000 total images\n",
            "[INFO] processed 3000 total images\n",
            "[INFO] processed 4000 total images\n",
            "[INFO] processed 5000 total images\n",
            "[INFO] processed 6000 total images\n",
            "[INFO] processed 7000 total images\n",
            "[INFO] processed 8000 total images\n",
            "[INFO] processed 9000 total images\n",
            "[INFO] processed 10000 total images\n",
            "[INFO] processed 11000 total images\n",
            "[INFO] processed 12000 total images\n"
          ]
        }
      ]
    },
    {
      "cell_type": "code",
      "source": [
        "# construct image generator for data augmentation\n",
        "aug = ImageDataGenerator(\n",
        "    rotation_range=10,\n",
        "    zoom_range=0.15,\n",
        "    width_shift_range=0.1,\n",
        "    height_shift_range=0.1,\n",
        "    shear_range=0.15,\n",
        "    horizontal_flip=False,\n",
        "    vertical_flip=False,\n",
        "    fill_mode=\"nearest\"\n",
        ")\n",
        "\n",
        "# init optimizer and compile model\n",
        "print(\"[INFO] compiling model...\")\n",
        "lr_schedule = PolynomialDecay(\n",
        "    initial_learning_rate=INIT_LR, \n",
        "    decay_steps=10000\n",
        ")\n",
        "opt = Adam(learning_rate=lr_schedule)\n",
        "\n",
        "model = TrafficSignNet.build(width=32, height=32, depth=3, classes=num_labels)\n",
        "model.compile(loss=\"categorical_crossentropy\", optimizer=opt, metrics=[\"accuracy\"])\n"
      ],
      "metadata": {
        "colab": {
          "base_uri": "https://localhost:8080/"
        },
        "id": "2JWseT8haTqx",
        "outputId": "1ebe8333-4f5d-4a57-e226-a9348c709fd9"
      },
      "execution_count": 13,
      "outputs": [
        {
          "output_type": "stream",
          "name": "stdout",
          "text": [
            "[INFO] compiling model...\n"
          ]
        }
      ]
    },
    {
      "cell_type": "code",
      "source": [
        "# train network\n",
        "print(\"[INFO] training network...\")\n",
        "H = model.fit_generator(\n",
        "    aug.flow(train_x, train_y, batch_size=BS),\n",
        "    validation_data=(test_x, test_y),\n",
        "    steps_per_epoch=train_x.shape[0] // BS,\n",
        "    epochs=NUM_EPOCHS,\n",
        "    class_weight=class_weight,\n",
        "    verbose=1\n",
        ")"
      ],
      "metadata": {
        "colab": {
          "base_uri": "https://localhost:8080/"
        },
        "id": "qQFj7Hu2aT2_",
        "outputId": "ec4a8462-7be7-4c12-e344-1f1360e87e76"
      },
      "execution_count": 14,
      "outputs": [
        {
          "metadata": {
            "tags": null
          },
          "name": "stdout",
          "output_type": "stream",
          "text": [
            "[INFO] training network...\n"
          ]
        },
        {
          "metadata": {
            "tags": null
          },
          "name": "stderr",
          "output_type": "stream",
          "text": [
            "<ipython-input-14-4b91df71fd45>:3: UserWarning: `Model.fit_generator` is deprecated and will be removed in a future version. Please use `Model.fit`, which supports generators.\n",
            "  H = model.fit_generator(\n"
          ]
        },
        {
          "output_type": "stream",
          "name": "stdout",
          "text": [
            "Epoch 1/30\n",
            "612/612 [==============================] - 48s 46ms/step - loss: 7.8145 - accuracy: 0.1811 - val_loss: 3.5303 - val_accuracy: 0.1138\n",
            "Epoch 2/30\n",
            "612/612 [==============================] - 27s 45ms/step - loss: 4.5240 - accuracy: 0.4109 - val_loss: 1.2452 - val_accuracy: 0.5644\n",
            "Epoch 3/30\n",
            "612/612 [==============================] - 35s 57ms/step - loss: 3.2518 - accuracy: 0.5471 - val_loss: 1.1035 - val_accuracy: 0.6154\n",
            "Epoch 4/30\n",
            "612/612 [==============================] - 29s 47ms/step - loss: 2.5112 - accuracy: 0.6402 - val_loss: 0.7333 - val_accuracy: 0.7548\n",
            "Epoch 5/30\n",
            "612/612 [==============================] - 27s 44ms/step - loss: 2.0035 - accuracy: 0.7109 - val_loss: 0.5476 - val_accuracy: 0.8270\n",
            "Epoch 6/30\n",
            "612/612 [==============================] - 28s 46ms/step - loss: 1.6807 - accuracy: 0.7501 - val_loss: 0.4933 - val_accuracy: 0.8355\n",
            "Epoch 7/30\n",
            "612/612 [==============================] - 28s 45ms/step - loss: 1.4427 - accuracy: 0.7825 - val_loss: 0.4101 - val_accuracy: 0.8665\n",
            "Epoch 8/30\n",
            "612/612 [==============================] - 29s 47ms/step - loss: 1.2462 - accuracy: 0.8122 - val_loss: 0.3534 - val_accuracy: 0.8879\n",
            "Epoch 9/30\n",
            "612/612 [==============================] - 28s 45ms/step - loss: 1.1285 - accuracy: 0.8276 - val_loss: 0.3511 - val_accuracy: 0.8842\n",
            "Epoch 10/30\n",
            "612/612 [==============================] - 28s 46ms/step - loss: 1.0053 - accuracy: 0.8447 - val_loss: 0.4854 - val_accuracy: 0.8396\n",
            "Epoch 11/30\n",
            "612/612 [==============================] - 27s 44ms/step - loss: 0.9326 - accuracy: 0.8593 - val_loss: 0.3278 - val_accuracy: 0.8930\n",
            "Epoch 12/30\n",
            "612/612 [==============================] - 27s 45ms/step - loss: 0.8743 - accuracy: 0.8673 - val_loss: 0.3368 - val_accuracy: 0.8953\n",
            "Epoch 13/30\n",
            "612/612 [==============================] - 28s 45ms/step - loss: 0.8075 - accuracy: 0.8769 - val_loss: 0.2835 - val_accuracy: 0.9119\n",
            "Epoch 14/30\n",
            "612/612 [==============================] - 27s 45ms/step - loss: 0.7479 - accuracy: 0.8821 - val_loss: 0.2842 - val_accuracy: 0.9145\n",
            "Epoch 15/30\n",
            "612/612 [==============================] - 27s 45ms/step - loss: 0.7134 - accuracy: 0.8890 - val_loss: 0.2585 - val_accuracy: 0.9203\n",
            "Epoch 16/30\n",
            "612/612 [==============================] - 27s 45ms/step - loss: 0.6614 - accuracy: 0.8977 - val_loss: 0.2777 - val_accuracy: 0.9149\n",
            "Epoch 17/30\n",
            "612/612 [==============================] - 28s 46ms/step - loss: 0.6417 - accuracy: 0.8991 - val_loss: 0.2650 - val_accuracy: 0.9163\n",
            "Epoch 18/30\n",
            "612/612 [==============================] - 28s 46ms/step - loss: 0.6336 - accuracy: 0.9022 - val_loss: 0.2623 - val_accuracy: 0.9189\n",
            "Epoch 19/30\n",
            "612/612 [==============================] - 27s 44ms/step - loss: 0.6119 - accuracy: 0.9039 - val_loss: 0.2548 - val_accuracy: 0.9235\n",
            "Epoch 20/30\n",
            "612/612 [==============================] - 29s 47ms/step - loss: 0.5937 - accuracy: 0.9070 - val_loss: 0.2437 - val_accuracy: 0.9244\n",
            "Epoch 21/30\n",
            "612/612 [==============================] - 27s 45ms/step - loss: 0.5965 - accuracy: 0.9064 - val_loss: 0.2684 - val_accuracy: 0.9161\n",
            "Epoch 22/30\n",
            "612/612 [==============================] - 27s 45ms/step - loss: 0.5876 - accuracy: 0.9059 - val_loss: 0.2884 - val_accuracy: 0.9109\n",
            "Epoch 23/30\n",
            "612/612 [==============================] - 28s 45ms/step - loss: 0.5836 - accuracy: 0.9093 - val_loss: 0.2577 - val_accuracy: 0.9222\n",
            "Epoch 24/30\n",
            "612/612 [==============================] - 27s 45ms/step - loss: 0.5716 - accuracy: 0.9112 - val_loss: 0.2372 - val_accuracy: 0.9270\n",
            "Epoch 25/30\n",
            "612/612 [==============================] - 28s 46ms/step - loss: 0.5683 - accuracy: 0.9099 - val_loss: 0.2420 - val_accuracy: 0.9236\n",
            "Epoch 26/30\n",
            "612/612 [==============================] - 27s 44ms/step - loss: 0.5374 - accuracy: 0.9154 - val_loss: 0.2483 - val_accuracy: 0.9232\n",
            "Epoch 27/30\n",
            "612/612 [==============================] - 27s 45ms/step - loss: 0.5522 - accuracy: 0.9126 - val_loss: 0.2762 - val_accuracy: 0.9174\n",
            "Epoch 28/30\n",
            "612/612 [==============================] - 28s 45ms/step - loss: 0.5448 - accuracy: 0.9167 - val_loss: 0.2444 - val_accuracy: 0.9250\n",
            "Epoch 29/30\n",
            "612/612 [==============================] - 27s 44ms/step - loss: 0.5168 - accuracy: 0.9179 - val_loss: 0.4515 - val_accuracy: 0.8679\n",
            "Epoch 30/30\n",
            "612/612 [==============================] - 28s 46ms/step - loss: 0.5110 - accuracy: 0.9178 - val_loss: 0.2569 - val_accuracy: 0.9172\n"
          ]
        }
      ]
    },
    {
      "cell_type": "code",
      "source": [
        "# evaluate the network\n",
        "print(\"[INFO] evaluating network...\")\n",
        "predictions = model.predict(test_x, batch_size=BS)\n",
        "print(\n",
        "    classification_report(\n",
        "        test_y.argmax(axis=1),\n",
        "        predictions.argmax(axis=1), \n",
        "        target_names=label_names\n",
        "    )\n",
        ")\n",
        "\n",
        "# save the network to disk\n",
        "print(f\"[INFO] serializing network to {args['model']}...\")\n",
        "model.save(args[\"model\"])"
      ],
      "metadata": {
        "colab": {
          "base_uri": "https://localhost:8080/"
        },
        "id": "J9ESnqJxhP4-",
        "outputId": "5bb05168-44be-4a77-b83c-0a4a2c13bcbd"
      },
      "execution_count": 19,
      "outputs": [
        {
          "output_type": "stream",
          "name": "stdout",
          "text": [
            "[INFO] evaluating network...\n",
            "198/198 [==============================] - 1s 3ms/step\n",
            "                                                    precision    recall  f1-score   support\n",
            "\n",
            "                              Speed limit (20km/h)       0.34      0.98      0.50        60\n",
            "                              Speed limit (30km/h)       0.93      0.81      0.87       720\n",
            "                              Speed limit (50km/h)       0.89      0.94      0.92       750\n",
            "                              Speed limit (60km/h)       0.85      0.93      0.88       450\n",
            "                              Speed limit (70km/h)       0.95      0.86      0.91       660\n",
            "                              Speed limit (80km/h)       0.87      0.79      0.83       630\n",
            "                       End of speed limit (80km/h)       0.98      0.91      0.94       150\n",
            "                             Speed limit (100km/h)       0.88      0.83      0.85       450\n",
            "                             Speed limit (120km/h)       0.84      0.92      0.88       450\n",
            "                                        No passing       0.98      0.99      0.99       480\n",
            "      No passing for vehicles over 3.5 metric tons       1.00      0.98      0.99       660\n",
            "             Right-of-way at the next intersection       0.86      0.91      0.89       420\n",
            "                                     Priority road       1.00      0.96      0.98       690\n",
            "                                             Yield       0.99      1.00      1.00       720\n",
            "                                              Stop       0.99      1.00      1.00       270\n",
            "                                       No vehicles       0.91      0.93      0.92       210\n",
            "          Vehicles over 3.5 metric tons prohibited       0.98      0.99      0.99       150\n",
            "                                          No entry       1.00      1.00      1.00       360\n",
            "                                   General caution       0.98      0.72      0.83       390\n",
            "                       Dangerous curve to the left       0.74      0.93      0.82        60\n",
            "                      Dangerous curve to the right       0.71      1.00      0.83        90\n",
            "                                      Double curve       0.74      0.68      0.71        90\n",
            "                                        Bumpy road       1.00      0.79      0.88       120\n",
            "                                     Slippery road       0.76      0.91      0.83       150\n",
            "                         Road narrows on the right       0.68      0.93      0.79        90\n",
            "                                         Road work       0.92      0.95      0.94       480\n",
            "                                   Traffic signals       0.85      0.99      0.91       180\n",
            "                                       Pedestrians       0.49      0.52      0.50        60\n",
            "                                 Children crossing       0.92      0.96      0.94       150\n",
            "                                 Bicycles crossing       0.83      0.92      0.87        90\n",
            "                                Beware of ice/snow       0.83      0.65      0.73       150\n",
            "                             Wild animals crossing       0.99      0.96      0.97       270\n",
            "               End of all speed and passing limits       0.98      1.00      0.99        60\n",
            "                                  Turn right ahead       0.93      1.00      0.96       210\n",
            "                                   Turn left ahead       0.97      1.00      0.98       120\n",
            "                                        Ahead only       0.99      0.96      0.98       390\n",
            "                              Go straight or right       0.93      0.99      0.96       120\n",
            "                               Go straight or left       0.88      0.98      0.93        60\n",
            "                                        Keep right       1.00      0.96      0.98       690\n",
            "                                         Keep left       1.00      0.92      0.96        90\n",
            "                              Roundabout mandatory       0.86      0.98      0.92        90\n",
            "                                 End of no passing       0.79      0.95      0.86        60\n",
            "End of no passing by vehicles over 3.5 metric tons       0.95      0.83      0.89        90\n",
            "\n",
            "                                          accuracy                           0.92     12630\n",
            "                                         macro avg       0.88      0.91      0.89     12630\n",
            "                                      weighted avg       0.93      0.92      0.92     12630\n",
            "\n",
            "[INFO] serializing network to output/trafficsignnet.model...\n"
          ]
        },
        {
          "output_type": "stream",
          "name": "stderr",
          "text": [
            "WARNING:absl:Found untraced functions such as _jit_compiled_convolution_op, _jit_compiled_convolution_op, _jit_compiled_convolution_op, _jit_compiled_convolution_op, _jit_compiled_convolution_op while saving (showing 5 of 5). These functions will not be directly callable after loading.\n"
          ]
        }
      ]
    },
    {
      "cell_type": "code",
      "source": [
        "def display_learning_curves(history):\n",
        "    acc = history.history[\"accuracy\"]\n",
        "    val_acc = history.history[\"val_accuracy\"]\n",
        "\n",
        "    loss = history.history[\"loss\"]\n",
        "    val_loss = history.history[\"val_loss\"]\n",
        "\n",
        "    epochs_range = range(NUM_EPOCHS)\n",
        "\n",
        "    fig = plt.figure(figsize=(12, 6))\n",
        "\n",
        "    plt.subplot(1, 2, 1)\n",
        "    plt.plot(epochs_range, acc, label=\"train accuracy\")\n",
        "    plt.plot(epochs_range, val_acc, label=\"validation accuracy\")\n",
        "    plt.title(\"Accuracy\")\n",
        "    plt.xlabel(\"Epoch #\")\n",
        "    plt.ylabel(\"Accuracy\")\n",
        "    plt.grid()\n",
        "    plt.legend(loc=\"lower right\")\n",
        "\n",
        "    plt.subplot(1, 2, 2)\n",
        "    plt.plot(epochs_range, loss, label=\"train loss\")\n",
        "    plt.plot(epochs_range, val_loss, label=\"validation loss\")\n",
        "    plt.title(\"Loss\")\n",
        "    plt.xlabel(\"Epoch #\")\n",
        "    plt.ylabel(\"Loss\")\n",
        "    plt.grid()\n",
        "    plt.legend(loc=\"upper right\")\n",
        "\n",
        "    fig.tight_layout()\n",
        "    plt.show()"
      ],
      "metadata": {
        "id": "gT0xH4c5hQc-"
      },
      "execution_count": 20,
      "outputs": []
    },
    {
      "cell_type": "code",
      "source": [
        "display_learning_curves(H)"
      ],
      "metadata": {
        "colab": {
          "base_uri": "https://localhost:8080/",
          "height": 441
        },
        "id": "s5-SHFFxjwxz",
        "outputId": "ea0a53ae-5a47-4a17-c674-1d5ffd3243e1"
      },
      "execution_count": 21,
      "outputs": [
        {
          "output_type": "display_data",
          "data": {
            "text/plain": [
              "<Figure size 864x432 with 2 Axes>"
            ],
            "image/png": "[encoded data removed]"
          },
          "metadata": {
            "needs_background": "light"
          }
        }
      ]
    },
    {
      "cell_type": "markdown",
      "source": [
        "### Prediction script"
      ],
      "metadata": {
        "id": "dWw6urzto-HY"
      }
    },
    {
      "cell_type": "code",
      "source": [
        "args = {\n",
        "    \"model\": \"output/trafficsignnet.model\",\n",
        "    \"images\": \"gtsrb-german-traffic-sign/Test\",\n",
        "    \"examples\": \"examples\"\n",
        "}"
      ],
      "metadata": {
        "id": "ai4xbEmCpX57"
      },
      "execution_count": 28,
      "outputs": []
    },
    {
      "cell_type": "code",
      "source": [
        "# load model\n",
        "model = load_model(args[\"model\"])\n",
        "\n",
        "# load label names\n",
        "with open(\"signnames.csv\", \"r\") as f:\n",
        "    label_names = f.read().strip().split(\"\\n\")[1:]\n",
        "    label_names = [l.split(\",\")[1] for l in label_names]\n",
        "\n",
        "# grab paths to input images, shuffle, and grab a sample\n",
        "image_paths = list(paths.list_images(args[\"images\"]))\n",
        "random.shuffle(image_paths)\n",
        "image_paths = image_paths[:25]"
      ],
      "metadata": {
        "id": "eTTm4sBeph1F"
      },
      "execution_count": 29,
      "outputs": []
    },
    {
      "cell_type": "code",
      "source": [
        "# loop over image paths\n",
        "for (i, image_path) in enumerate(image_paths):\n",
        "    # load image\n",
        "    image = io.imread(image_path)\n",
        "    # resize image\n",
        "    image = transform.resize(image, (32, 32))\n",
        "    # apply CLAHE\n",
        "    image = exposure.equalize_adapthist(image, clip_limit=0.1)\n",
        "\n",
        "    # preprocess image by scaling to [0, 1]\n",
        "    image = image.astype(\"float32\") / 255.0\n",
        "    image = np.expand_dims(image, axis=0)\n",
        "\n",
        "    # make predictions using CNN\n",
        "    preds = model.predict(image)\n",
        "    j = preds.argmax(axis=1)[0]\n",
        "    label = label_names[j]\n",
        "\n",
        "    # load image using opencv, resize it, and draw label\n",
        "    image = cv2.imread(image_path)\n",
        "    image = imutils.resize(image, width=128)\n",
        "    cv2.putText(image, label, (5, 15), cv2.FONT_HERSHEY_SIMPLEX, 0.45, (0, 0, 255), 2)\n",
        "\n",
        "    # save image to disk\n",
        "    p = os.path.sep.join([args[\"examples\"], f\"{i}.png\"])\n",
        "    print(p)\n",
        "    cv2.imwrite(p, image)"
      ],
      "metadata": {
        "colab": {
          "base_uri": "https://localhost:8080/"
        },
        "id": "jOXnhYNJqLhN",
        "outputId": "2d321077-fb9c-46c4-fc98-56fad1b975fd"
      },
      "execution_count": 30,
      "outputs": [
        {
          "output_type": "stream",
          "name": "stdout",
          "text": [
            "1/1 [==============================] - 0s 308ms/step\n",
            "examples/0.png\n",
            "1/1 [==============================] - 0s 32ms/step\n",
            "examples/1.png\n",
            "1/1 [==============================] - 0s 31ms/step\n",
            "examples/2.png\n",
            "1/1 [==============================] - 0s 29ms/step\n",
            "examples/3.png\n",
            "1/1 [==============================] - 0s 28ms/step\n",
            "examples/4.png\n",
            "1/1 [==============================] - 0s 36ms/step\n",
            "examples/5.png\n",
            "1/1 [==============================] - 0s 30ms/step\n",
            "examples/6.png\n",
            "1/1 [==============================] - 0s 29ms/step\n",
            "examples/7.png\n",
            "1/1 [==============================] - 0s 37ms/step\n",
            "examples/8.png\n",
            "1/1 [==============================] - 0s 31ms/step\n",
            "examples/9.png\n",
            "1/1 [==============================] - 0s 36ms/step\n",
            "examples/10.png\n",
            "1/1 [==============================] - 0s 39ms/step\n",
            "examples/11.png\n",
            "1/1 [==============================] - 0s 42ms/step\n",
            "examples/12.png\n",
            "1/1 [==============================] - 0s 35ms/step\n",
            "examples/13.png\n",
            "1/1 [==============================] - 0s 21ms/step\n",
            "examples/14.png\n",
            "1/1 [==============================] - 0s 21ms/step\n",
            "examples/15.png\n",
            "1/1 [==============================] - 0s 23ms/step\n",
            "examples/16.png\n",
            "1/1 [==============================] - 0s 24ms/step\n",
            "examples/17.png\n",
            "1/1 [==============================] - 0s 23ms/step\n",
            "examples/18.png\n",
            "1/1 [==============================] - 0s 21ms/step\n",
            "examples/19.png\n",
            "1/1 [==============================] - 0s 20ms/step\n",
            "examples/20.png\n",
            "1/1 [==============================] - 0s 20ms/step\n",
            "examples/21.png\n",
            "1/1 [==============================] - 0s 19ms/step\n",
            "examples/22.png\n",
            "1/1 [==============================] - 0s 19ms/step\n",
            "examples/23.png\n",
            "1/1 [==============================] - 0s 19ms/step\n",
            "examples/24.png\n"
          ]
        }
      ]
    },
    {
      "cell_type": "code",
      "source": [],
      "metadata": {
        "id": "pPHH3ecRrVbM"
      },
      "execution_count": null,
      "outputs": []
    }
  ]
}