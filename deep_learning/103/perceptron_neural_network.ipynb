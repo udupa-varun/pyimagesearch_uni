{
  "nbformat": 4,
  "nbformat_minor": 0,
  "metadata": {
    "colab": {
      "provenance": [],
      "authorship_tag": "ABX9TyM7InClReZ9xrkGoWxNp2eN",
      "include_colab_link": true
    },
    "kernelspec": {
      "name": "python3",
      "display_name": "Python 3"
    },
    "language_info": {
      "name": "python"
    }
  },
  "cells": [
    {
      "cell_type": "markdown",
      "metadata": {
        "id": "view-in-github",
        "colab_type": "text"
      },
      "source": [
        "<a href=\"https://colab.research.google.com/github/udupa-varun/pyimagesearch_uni/blob/main/deep_learning/103/perceptron_neural_network.ipynb\" target=\"_parent\"><img src=\"https://colab.research.google.com/assets/colab-badge.svg\" alt=\"Open In Colab\"/></a>"
      ]
    },
    {
      "cell_type": "code",
      "execution_count": 1,
      "metadata": {
        "colab": {
          "base_uri": "https://localhost:8080/"
        },
        "id": "ScfeWFuluNJK",
        "outputId": "c72052f7-4d07-4236-9fe3-682fc684be51"
      },
      "outputs": [
        {
          "output_type": "stream",
          "name": "stdout",
          "text": [
            "--2023-02-10 09:48:45--  https://pyimagesearch-code-downloads.s3-us-west-2.amazonaws.com/perceptron-neural-network/perceptron-neural-network.zip\n",
            "Resolving pyimagesearch-code-downloads.s3-us-west-2.amazonaws.com (pyimagesearch-code-downloads.s3-us-west-2.amazonaws.com)... 52.218.216.33, 52.218.245.249, 52.92.145.58, ...\n",
            "Connecting to pyimagesearch-code-downloads.s3-us-west-2.amazonaws.com (pyimagesearch-code-downloads.s3-us-west-2.amazonaws.com)|52.218.216.33|:443... connected.\n",
            "HTTP request sent, awaiting response... 200 OK\n",
            "Length: 6167 (6.0K) [binary/octet-stream]\n",
            "Saving to: ‘perceptron-neural-network.zip’\n",
            "\n",
            "perceptron-neural-n 100%[===================>]   6.02K  --.-KB/s    in 0s      \n",
            "\n",
            "2023-02-10 09:48:45 (111 MB/s) - ‘perceptron-neural-network.zip’ saved [6167/6167]\n",
            "\n",
            "/content/perceptron-neural-network\n"
          ]
        }
      ],
      "source": [
        "!wget https://pyimagesearch-code-downloads.s3-us-west-2.amazonaws.com/perceptron-neural-network/perceptron-neural-network.zip\n",
        "!unzip -qq perceptron-neural-network.zip\n",
        "%cd perceptron-neural-network"
      ]
    },
    {
      "cell_type": "code",
      "source": [
        "import numpy as np"
      ],
      "metadata": {
        "id": "Tf18haVNuZS1"
      },
      "execution_count": 2,
      "outputs": []
    },
    {
      "cell_type": "code",
      "source": [
        "class Perceptron:\n",
        "    def __init__(self, N, alpha=0.1):\n",
        "        # init weight matrix and store learning rate\n",
        "        self.W = np.random.randn(N + 1) / np.sqrt(N)\n",
        "        self.alpha = alpha\n",
        "\n",
        "    def step(self, X):\n",
        "        # apply step function\n",
        "        return 1 if X > 0 else 0\n",
        "\n",
        "    def fit(self, X, y, epochs=10):\n",
        "        # insert a column of 1s as last entry in feature matrix\n",
        "        # bias trick\n",
        "        X = np.c_[X, np.ones((X.shape[0]))]\n",
        "\n",
        "        # loop over number of epochs\n",
        "        for epoch in np.arange(0, epochs):\n",
        "            # loop over data points\n",
        "            for (x, target) in zip(X, y):\n",
        "                # take dot product between input features and weight matrix\n",
        "                # pass output through step function to obtain prediction\n",
        "                p = self.step(np.dot(x, self.W))\n",
        "\n",
        "                # only perform weight update if prediction does not match\n",
        "                if p != target:\n",
        "                    # determine error\n",
        "                    error = p - target\n",
        "\n",
        "                    # update weight matrix\n",
        "                    self.W += -self.alpha * error * x\n",
        "\n",
        "    def predict(self, X, add_bias=True):\n",
        "        # ensure input is a matrix\n",
        "        X = np.atleast_2d(X)\n",
        "\n",
        "        # check if bias column should be added\n",
        "        if add_bias:\n",
        "            X = np.c_[X, np.ones((X.shape[0]))]\n",
        "\n",
        "        # take dot product between input features and weifth matrix\n",
        "        # pass output through step function to obtain prediction\n",
        "        return self.step(np.dot(X, self.W))"
      ],
      "metadata": {
        "id": "s30bjboXukKU"
      },
      "execution_count": 3,
      "outputs": []
    },
    {
      "cell_type": "markdown",
      "source": [
        "OR Dataset - Linearly separable"
      ],
      "metadata": {
        "id": "7NIRVp8cxWZ1"
      }
    },
    {
      "cell_type": "code",
      "source": [
        "# construct the OR dataset\n",
        "X = np.array([[0, 0], [0, 1], [1, 0], [1, 1]])\n",
        "y = np.array([[0], [1], [1], [1]])\n",
        "\n",
        "# define perceptron and train it\n",
        "print(\"[INFO] training perceptron...\")\n",
        "p = Perceptron(X.shape[1], alpha=0.1)\n",
        "p.fit(X, y, epochs=20)\n",
        "\n",
        "# evaluate perceptron\n",
        "print(\"[INFO] testing perceptron...\")\n",
        "\n",
        "# loop over data points\n",
        "for (x, target) in zip(X, y):\n",
        "    # predict on data point and display result\n",
        "    pred = p.predict(x)\n",
        "    print(f\"[INFO] data={x}, ground-truth={target[0]}, pred={pred}\")"
      ],
      "metadata": {
        "colab": {
          "base_uri": "https://localhost:8080/"
        },
        "id": "FpGeUP9nwIme",
        "outputId": "10093b3e-21c8-4447-bdf2-0f9a45a1815c"
      },
      "execution_count": 9,
      "outputs": [
        {
          "output_type": "stream",
          "name": "stdout",
          "text": [
            "[INFO] training perceptron...\n",
            "[INFO] testing perceptron...\n",
            "[INFO] data=[0 0], ground-truth=0, pred=0\n",
            "[INFO] data=[0 1], ground-truth=1, pred=1\n",
            "[INFO] data=[1 0], ground-truth=1, pred=1\n",
            "[INFO] data=[1 1], ground-truth=1, pred=1\n"
          ]
        }
      ]
    },
    {
      "cell_type": "markdown",
      "source": [
        "AND Dataset - Linearly separable"
      ],
      "metadata": {
        "id": "3g0WG91cxknx"
      }
    },
    {
      "cell_type": "code",
      "source": [
        "# construct the AND dataset\n",
        "X = np.array([[0, 0], [0, 1], [1, 0], [1, 1]])\n",
        "y = np.array([[0], [0], [0], [1]])\n",
        "\n",
        "# define perceptron and train it\n",
        "print(\"[INFO] training perceptron...\")\n",
        "p = Perceptron(X.shape[1], alpha=0.1)\n",
        "p.fit(X, y, epochs=20)\n",
        "\n",
        "# evaluate perceptron\n",
        "print(\"[INFO] testing perceptron...\")\n",
        "\n",
        "# loop over data points\n",
        "for (x, target) in zip(X, y):\n",
        "    # predict on data point and display result\n",
        "    pred = p.predict(x)\n",
        "    print(f\"[INFO] data={x}, ground-truth={target[0]}, pred={pred}\")"
      ],
      "metadata": {
        "colab": {
          "base_uri": "https://localhost:8080/"
        },
        "id": "vD9cc8soxmPr",
        "outputId": "12b3e6e3-d2da-4f48-c7b7-655a41d75f96"
      },
      "execution_count": 10,
      "outputs": [
        {
          "output_type": "stream",
          "name": "stdout",
          "text": [
            "[INFO] training perceptron...\n",
            "[INFO] testing perceptron...\n",
            "[INFO] data=[0 0], ground-truth=0, pred=0\n",
            "[INFO] data=[0 1], ground-truth=0, pred=0\n",
            "[INFO] data=[1 0], ground-truth=0, pred=0\n",
            "[INFO] data=[1 1], ground-truth=1, pred=1\n"
          ]
        }
      ]
    },
    {
      "cell_type": "markdown",
      "source": [
        "XOR Dataset - Non-Linearly separable"
      ],
      "metadata": {
        "id": "_badEES6yHT8"
      }
    },
    {
      "cell_type": "code",
      "source": [
        "# construct the XOR dataset\n",
        "X = np.array([[0, 0], [0, 1], [1, 0], [1, 1]])\n",
        "y = np.array([[0], [1], [1], [0]])\n",
        "\n",
        "# define perceptron and train it\n",
        "print(\"[INFO] training perceptron...\")\n",
        "p = Perceptron(X.shape[1], alpha=0.1)\n",
        "p.fit(X, y, epochs=20)\n",
        "\n",
        "# evaluate perceptron\n",
        "print(\"[INFO] testing perceptron...\")\n",
        "\n",
        "# loop over data points\n",
        "for (x, target) in zip(X, y):\n",
        "    # predict on data point and display result\n",
        "    pred = p.predict(x)\n",
        "    print(f\"[INFO] data={x}, ground-truth={target[0]}, pred={pred}\")"
      ],
      "metadata": {
        "colab": {
          "base_uri": "https://localhost:8080/"
        },
        "id": "AUmA_6U6xtYU",
        "outputId": "1f4a47dc-b168-496d-8f48-df8a0fea3c04"
      },
      "execution_count": 11,
      "outputs": [
        {
          "output_type": "stream",
          "name": "stdout",
          "text": [
            "[INFO] training perceptron...\n",
            "[INFO] testing perceptron...\n",
            "[INFO] data=[0 0], ground-truth=0, pred=1\n",
            "[INFO] data=[0 1], ground-truth=1, pred=0\n",
            "[INFO] data=[1 0], ground-truth=1, pred=0\n",
            "[INFO] data=[1 1], ground-truth=0, pred=0\n"
          ]
        }
      ]
    }
  ]
}