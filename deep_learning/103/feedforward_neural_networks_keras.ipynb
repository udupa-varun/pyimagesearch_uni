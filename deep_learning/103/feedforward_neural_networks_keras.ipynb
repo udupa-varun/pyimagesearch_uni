{
  "nbformat": 4,
  "nbformat_minor": 0,
  "metadata": {
    "colab": {
      "provenance": [],
      "authorship_tag": "ABX9TyMHWgxw++FjtQrJXMLyjcar",
      "include_colab_link": true
    },
    "kernelspec": {
      "name": "python3",
      "display_name": "Python 3"
    },
    "language_info": {
      "name": "python"
    }
  },
  "cells": [
    {
      "cell_type": "markdown",
      "metadata": {
        "id": "view-in-github",
        "colab_type": "text"
      },
      "source": [
        "<a href=\"https://colab.research.google.com/github/udupa-varun/pyimagesearch_uni/blob/main/deep_learning/103/feedforward_neural_networks_keras.ipynb\" target=\"_parent\"><img src=\"https://colab.research.google.com/assets/colab-badge.svg\" alt=\"Open In Colab\"/></a>"
      ]
    },
    {
      "cell_type": "code",
      "execution_count": 1,
      "metadata": {
        "colab": {
          "base_uri": "https://localhost:8080/"
        },
        "id": "p2bBrzNoPsXq",
        "outputId": "a57ffe58-ba9e-47e4-a9de-67bf3d26681a"
      },
      "outputs": [
        {
          "output_type": "stream",
          "name": "stdout",
          "text": [
            "--2023-02-10 12:14:10--  https://pyimagesearch-code-downloads.s3-us-west-2.amazonaws.com/feedforward-neural-networks-keras/feedforward-neural-networks-keras.zip\n",
            "Resolving pyimagesearch-code-downloads.s3-us-west-2.amazonaws.com (pyimagesearch-code-downloads.s3-us-west-2.amazonaws.com)... 52.218.153.249, 52.218.218.41, 3.5.83.207, ...\n",
            "Connecting to pyimagesearch-code-downloads.s3-us-west-2.amazonaws.com (pyimagesearch-code-downloads.s3-us-west-2.amazonaws.com)|52.218.153.249|:443... connected.\n",
            "HTTP request sent, awaiting response... 200 OK\n",
            "Length: 2862 (2.8K) [binary/octet-stream]\n",
            "Saving to: ‘feedforward-neural-networks-keras.zip’\n",
            "\n",
            "feedforward-neural- 100%[===================>]   2.79K  --.-KB/s    in 0s      \n",
            "\n",
            "2023-02-10 12:14:10 (98.6 MB/s) - ‘feedforward-neural-networks-keras.zip’ saved [2862/2862]\n",
            "\n",
            "/content/feedforward-neural-networks-keras\n"
          ]
        }
      ],
      "source": [
        "!wget https://pyimagesearch-code-downloads.s3-us-west-2.amazonaws.com/feedforward-neural-networks-keras/feedforward-neural-networks-keras.zip\n",
        "!unzip -qq feedforward-neural-networks-keras.zip\n",
        "%cd feedforward-neural-networks-keras"
      ]
    },
    {
      "cell_type": "code",
      "source": [
        "from sklearn.preprocessing import LabelBinarizer\n",
        "from sklearn.metrics import classification_report\n",
        "from tensorflow.keras.models import Sequential\n",
        "from tensorflow.keras.layers import Dense\n",
        "from tensorflow.keras.optimizers import SGD\n",
        "from tensorflow.keras.datasets import cifar10, mnist\n",
        "from tensorflow.keras import backend as K\n",
        "import matplotlib.pyplot as plt\n",
        "import numpy as np"
      ],
      "metadata": {
        "id": "njlGK5XZP044"
      },
      "execution_count": 3,
      "outputs": []
    },
    {
      "cell_type": "code",
      "source": [
        "# grab MNIST dataset\n",
        "print(\"[INFO] accessing MNIST...\")\n",
        "((train_x, train_y), (test_x, test_y)) = mnist.load_data()\n",
        "\n",
        "# each image is represented as 28x28x1 image,\n",
        "# first flatten to 784-dim\n",
        "train_x = train_x.reshape((train_x.shape[0], 28 * 28 * 1))\n",
        "test_x = test_x.reshape((test_x.shape[0], 28 * 28 * 1))\n",
        "\n",
        "# scale data to [0, 1]\n",
        "train_x = train_x.astype(\"float32\") / 255.0\n",
        "test_x = test_x.astype(\"float32\") / 255.0"
      ],
      "metadata": {
        "colab": {
          "base_uri": "https://localhost:8080/"
        },
        "id": "pFov1N-bQlYK",
        "outputId": "9e4a839c-6995-4277-cf1c-52bfc71aeb28"
      },
      "execution_count": 4,
      "outputs": [
        {
          "output_type": "stream",
          "name": "stdout",
          "text": [
            "[INFO] accessing MNIST...\n",
            "Downloading data from https://storage.googleapis.com/tensorflow/tf-keras-datasets/mnist.npz\n",
            "11490434/11490434 [==============================] - 0s 0us/step\n"
          ]
        }
      ]
    },
    {
      "cell_type": "code",
      "source": [
        "# convert labels from integers to vectors\n",
        "lb = LabelBinarizer()\n",
        "train_y = lb.fit_transform(train_y)\n",
        "test_y = lb.fit_transform(test_y)"
      ],
      "metadata": {
        "id": "eBf6aWpjRVbQ"
      },
      "execution_count": 5,
      "outputs": []
    },
    {
      "cell_type": "code",
      "source": [
        "# define the 784-256-128-10 architecture using Keras\n",
        "model = Sequential()\n",
        "model.add(Dense(256, input_shape=(784,), activation=\"sigmoid\"))\n",
        "model.add(Dense(128, activation=\"sigmoid\"))\n",
        "model.add(Dense(10, activation=\"softmax\"))"
      ],
      "metadata": {
        "id": "bpMBQ6_xRmA5"
      },
      "execution_count": 6,
      "outputs": []
    },
    {
      "cell_type": "code",
      "source": [
        "# train model using SGD\n",
        "print(\"[INFO] training network...\")\n",
        "sgd = SGD(0.01)\n",
        "model.compile(loss=\"categorical_crossentropy\", optimizer=sgd, metrics=[\"accuracy\"])\n",
        "H = model.fit(train_x, train_y, validation_data=(test_x, test_y), epochs=100, batch_size=128)"
      ],
      "metadata": {
        "colab": {
          "base_uri": "https://localhost:8080/"
        },
        "id": "9FroY8VwR46N",
        "outputId": "6d8face6-8a35-466b-8fdc-5595da10b6a6"
      },
      "execution_count": 7,
      "outputs": [
        {
          "output_type": "stream",
          "name": "stdout",
          "text": [
            "[INFO] training network...\n",
            "Epoch 1/100\n",
            "469/469 [==============================] - 6s 13ms/step - loss: 2.2807 - accuracy: 0.2117 - val_loss: 2.2345 - val_accuracy: 0.3783\n",
            "Epoch 2/100\n",
            "469/469 [==============================] - 4s 7ms/step - loss: 2.1998 - accuracy: 0.4111 - val_loss: 2.1548 - val_accuracy: 0.5414\n",
            "Epoch 3/100\n",
            "469/469 [==============================] - 3s 6ms/step - loss: 2.1067 - accuracy: 0.5258 - val_loss: 2.0422 - val_accuracy: 0.5980\n",
            "Epoch 4/100\n",
            "469/469 [==============================] - 4s 8ms/step - loss: 1.9712 - accuracy: 0.5871 - val_loss: 1.8775 - val_accuracy: 0.6278\n",
            "Epoch 5/100\n",
            "469/469 [==============================] - 4s 8ms/step - loss: 1.7828 - accuracy: 0.6361 - val_loss: 1.6626 - val_accuracy: 0.6703\n",
            "Epoch 6/100\n",
            "469/469 [==============================] - 3s 6ms/step - loss: 1.5596 - accuracy: 0.6781 - val_loss: 1.4341 - val_accuracy: 0.7085\n",
            "Epoch 7/100\n",
            "469/469 [==============================] - 3s 6ms/step - loss: 1.3449 - accuracy: 0.7150 - val_loss: 1.2348 - val_accuracy: 0.7351\n",
            "Epoch 8/100\n",
            "469/469 [==============================] - 6s 12ms/step - loss: 1.1671 - accuracy: 0.7428 - val_loss: 1.0772 - val_accuracy: 0.7675\n",
            "Epoch 9/100\n",
            "469/469 [==============================] - 6s 12ms/step - loss: 1.0293 - accuracy: 0.7669 - val_loss: 0.9557 - val_accuracy: 0.7859\n",
            "Epoch 10/100\n",
            "469/469 [==============================] - 7s 15ms/step - loss: 0.9231 - accuracy: 0.7853 - val_loss: 0.8625 - val_accuracy: 0.8002\n",
            "Epoch 11/100\n",
            "469/469 [==============================] - 3s 7ms/step - loss: 0.8400 - accuracy: 0.8008 - val_loss: 0.7881 - val_accuracy: 0.8106\n",
            "Epoch 12/100\n",
            "469/469 [==============================] - 4s 9ms/step - loss: 0.7734 - accuracy: 0.8121 - val_loss: 0.7281 - val_accuracy: 0.8230\n",
            "Epoch 13/100\n",
            "469/469 [==============================] - 6s 12ms/step - loss: 0.7192 - accuracy: 0.8227 - val_loss: 0.6782 - val_accuracy: 0.8330\n",
            "Epoch 14/100\n",
            "469/469 [==============================] - 4s 8ms/step - loss: 0.6743 - accuracy: 0.8316 - val_loss: 0.6375 - val_accuracy: 0.8401\n",
            "Epoch 15/100\n",
            "469/469 [==============================] - 5s 10ms/step - loss: 0.6365 - accuracy: 0.8383 - val_loss: 0.6032 - val_accuracy: 0.8497\n",
            "Epoch 16/100\n",
            "469/469 [==============================] - 5s 10ms/step - loss: 0.6044 - accuracy: 0.8446 - val_loss: 0.5740 - val_accuracy: 0.8561\n",
            "Epoch 17/100\n",
            "469/469 [==============================] - 4s 9ms/step - loss: 0.5769 - accuracy: 0.8508 - val_loss: 0.5484 - val_accuracy: 0.8611\n",
            "Epoch 18/100\n",
            "469/469 [==============================] - 3s 7ms/step - loss: 0.5529 - accuracy: 0.8557 - val_loss: 0.5263 - val_accuracy: 0.8651\n",
            "Epoch 19/100\n",
            "469/469 [==============================] - 6s 12ms/step - loss: 0.5321 - accuracy: 0.8604 - val_loss: 0.5061 - val_accuracy: 0.8682\n",
            "Epoch 20/100\n",
            "469/469 [==============================] - 4s 9ms/step - loss: 0.5137 - accuracy: 0.8653 - val_loss: 0.4892 - val_accuracy: 0.8718\n",
            "Epoch 21/100\n",
            "469/469 [==============================] - 6s 14ms/step - loss: 0.4975 - accuracy: 0.8684 - val_loss: 0.4738 - val_accuracy: 0.8757\n",
            "Epoch 22/100\n",
            "469/469 [==============================] - 4s 8ms/step - loss: 0.4830 - accuracy: 0.8720 - val_loss: 0.4601 - val_accuracy: 0.8788\n",
            "Epoch 23/100\n",
            "469/469 [==============================] - 3s 7ms/step - loss: 0.4699 - accuracy: 0.8752 - val_loss: 0.4479 - val_accuracy: 0.8802\n",
            "Epoch 24/100\n",
            "469/469 [==============================] - 3s 6ms/step - loss: 0.4582 - accuracy: 0.8773 - val_loss: 0.4375 - val_accuracy: 0.8829\n",
            "Epoch 25/100\n",
            "469/469 [==============================] - 4s 8ms/step - loss: 0.4477 - accuracy: 0.8802 - val_loss: 0.4274 - val_accuracy: 0.8850\n",
            "Epoch 26/100\n",
            "469/469 [==============================] - 3s 7ms/step - loss: 0.4382 - accuracy: 0.8824 - val_loss: 0.4183 - val_accuracy: 0.8868\n",
            "Epoch 27/100\n",
            "469/469 [==============================] - 4s 7ms/step - loss: 0.4295 - accuracy: 0.8843 - val_loss: 0.4104 - val_accuracy: 0.8889\n",
            "Epoch 28/100\n",
            "469/469 [==============================] - 6s 13ms/step - loss: 0.4216 - accuracy: 0.8859 - val_loss: 0.4029 - val_accuracy: 0.8895\n",
            "Epoch 29/100\n",
            "469/469 [==============================] - 5s 10ms/step - loss: 0.4144 - accuracy: 0.8872 - val_loss: 0.3958 - val_accuracy: 0.8911\n",
            "Epoch 30/100\n",
            "469/469 [==============================] - 5s 10ms/step - loss: 0.4077 - accuracy: 0.8886 - val_loss: 0.3903 - val_accuracy: 0.8927\n",
            "Epoch 31/100\n",
            "469/469 [==============================] - 6s 13ms/step - loss: 0.4017 - accuracy: 0.8896 - val_loss: 0.3844 - val_accuracy: 0.8945\n",
            "Epoch 32/100\n",
            "469/469 [==============================] - 5s 11ms/step - loss: 0.3960 - accuracy: 0.8910 - val_loss: 0.3786 - val_accuracy: 0.8950\n",
            "Epoch 33/100\n",
            "469/469 [==============================] - 8s 18ms/step - loss: 0.3908 - accuracy: 0.8925 - val_loss: 0.3738 - val_accuracy: 0.8957\n",
            "Epoch 34/100\n",
            "469/469 [==============================] - 5s 11ms/step - loss: 0.3859 - accuracy: 0.8935 - val_loss: 0.3693 - val_accuracy: 0.8956\n",
            "Epoch 35/100\n",
            "469/469 [==============================] - 7s 14ms/step - loss: 0.3814 - accuracy: 0.8942 - val_loss: 0.3652 - val_accuracy: 0.8975\n",
            "Epoch 36/100\n",
            "469/469 [==============================] - 6s 14ms/step - loss: 0.3771 - accuracy: 0.8949 - val_loss: 0.3612 - val_accuracy: 0.8978\n",
            "Epoch 37/100\n",
            "469/469 [==============================] - 6s 13ms/step - loss: 0.3731 - accuracy: 0.8957 - val_loss: 0.3577 - val_accuracy: 0.8986\n",
            "Epoch 38/100\n",
            "469/469 [==============================] - 6s 12ms/step - loss: 0.3693 - accuracy: 0.8965 - val_loss: 0.3541 - val_accuracy: 0.8994\n",
            "Epoch 39/100\n",
            "469/469 [==============================] - 6s 13ms/step - loss: 0.3658 - accuracy: 0.8977 - val_loss: 0.3508 - val_accuracy: 0.9002\n",
            "Epoch 40/100\n",
            "469/469 [==============================] - 6s 13ms/step - loss: 0.3625 - accuracy: 0.8983 - val_loss: 0.3475 - val_accuracy: 0.9000\n",
            "Epoch 41/100\n",
            "469/469 [==============================] - 7s 14ms/step - loss: 0.3592 - accuracy: 0.8988 - val_loss: 0.3443 - val_accuracy: 0.9022\n",
            "Epoch 42/100\n",
            "469/469 [==============================] - 6s 12ms/step - loss: 0.3562 - accuracy: 0.8997 - val_loss: 0.3418 - val_accuracy: 0.9012\n",
            "Epoch 43/100\n",
            "469/469 [==============================] - 4s 9ms/step - loss: 0.3532 - accuracy: 0.9002 - val_loss: 0.3392 - val_accuracy: 0.9029\n",
            "Epoch 44/100\n",
            "469/469 [==============================] - 5s 11ms/step - loss: 0.3504 - accuracy: 0.9011 - val_loss: 0.3363 - val_accuracy: 0.9032\n",
            "Epoch 45/100\n",
            "469/469 [==============================] - 5s 10ms/step - loss: 0.3477 - accuracy: 0.9018 - val_loss: 0.3342 - val_accuracy: 0.9042\n",
            "Epoch 46/100\n",
            "469/469 [==============================] - 5s 10ms/step - loss: 0.3452 - accuracy: 0.9024 - val_loss: 0.3314 - val_accuracy: 0.9047\n",
            "Epoch 47/100\n",
            "469/469 [==============================] - 5s 11ms/step - loss: 0.3427 - accuracy: 0.9029 - val_loss: 0.3291 - val_accuracy: 0.9048\n",
            "Epoch 48/100\n",
            "469/469 [==============================] - 4s 9ms/step - loss: 0.3404 - accuracy: 0.9033 - val_loss: 0.3272 - val_accuracy: 0.9059\n",
            "Epoch 49/100\n",
            "469/469 [==============================] - 4s 9ms/step - loss: 0.3381 - accuracy: 0.9039 - val_loss: 0.3248 - val_accuracy: 0.9058\n",
            "Epoch 50/100\n",
            "469/469 [==============================] - 6s 12ms/step - loss: 0.3358 - accuracy: 0.9043 - val_loss: 0.3227 - val_accuracy: 0.9061\n",
            "Epoch 51/100\n",
            "469/469 [==============================] - 3s 6ms/step - loss: 0.3338 - accuracy: 0.9047 - val_loss: 0.3213 - val_accuracy: 0.9076\n",
            "Epoch 52/100\n",
            "469/469 [==============================] - 4s 8ms/step - loss: 0.3316 - accuracy: 0.9053 - val_loss: 0.3192 - val_accuracy: 0.9084\n",
            "Epoch 53/100\n",
            "469/469 [==============================] - 4s 9ms/step - loss: 0.3296 - accuracy: 0.9057 - val_loss: 0.3174 - val_accuracy: 0.9087\n",
            "Epoch 54/100\n",
            "469/469 [==============================] - 3s 7ms/step - loss: 0.3276 - accuracy: 0.9060 - val_loss: 0.3158 - val_accuracy: 0.9086\n",
            "Epoch 55/100\n",
            "469/469 [==============================] - 3s 6ms/step - loss: 0.3257 - accuracy: 0.9065 - val_loss: 0.3135 - val_accuracy: 0.9097\n",
            "Epoch 56/100\n",
            "469/469 [==============================] - 3s 6ms/step - loss: 0.3240 - accuracy: 0.9071 - val_loss: 0.3119 - val_accuracy: 0.9095\n",
            "Epoch 57/100\n",
            "469/469 [==============================] - 5s 11ms/step - loss: 0.3221 - accuracy: 0.9077 - val_loss: 0.3105 - val_accuracy: 0.9106\n",
            "Epoch 58/100\n",
            "469/469 [==============================] - 3s 6ms/step - loss: 0.3204 - accuracy: 0.9076 - val_loss: 0.3092 - val_accuracy: 0.9112\n",
            "Epoch 59/100\n",
            "469/469 [==============================] - 3s 6ms/step - loss: 0.3187 - accuracy: 0.9087 - val_loss: 0.3074 - val_accuracy: 0.9124\n",
            "Epoch 60/100\n",
            "469/469 [==============================] - 3s 6ms/step - loss: 0.3170 - accuracy: 0.9090 - val_loss: 0.3061 - val_accuracy: 0.9113\n",
            "Epoch 61/100\n",
            "469/469 [==============================] - 4s 9ms/step - loss: 0.3154 - accuracy: 0.9093 - val_loss: 0.3044 - val_accuracy: 0.9126\n",
            "Epoch 62/100\n",
            "469/469 [==============================] - 3s 6ms/step - loss: 0.3139 - accuracy: 0.9097 - val_loss: 0.3030 - val_accuracy: 0.9135\n",
            "Epoch 63/100\n",
            "469/469 [==============================] - 3s 6ms/step - loss: 0.3122 - accuracy: 0.9106 - val_loss: 0.3017 - val_accuracy: 0.9133\n",
            "Epoch 64/100\n",
            "469/469 [==============================] - 3s 6ms/step - loss: 0.3107 - accuracy: 0.9110 - val_loss: 0.3006 - val_accuracy: 0.9139\n",
            "Epoch 65/100\n",
            "469/469 [==============================] - 4s 10ms/step - loss: 0.3093 - accuracy: 0.9114 - val_loss: 0.2988 - val_accuracy: 0.9148\n",
            "Epoch 66/100\n",
            "469/469 [==============================] - 3s 6ms/step - loss: 0.3078 - accuracy: 0.9115 - val_loss: 0.2975 - val_accuracy: 0.9146\n",
            "Epoch 67/100\n",
            "469/469 [==============================] - 3s 6ms/step - loss: 0.3064 - accuracy: 0.9119 - val_loss: 0.2965 - val_accuracy: 0.9153\n",
            "Epoch 68/100\n",
            "469/469 [==============================] - 4s 9ms/step - loss: 0.3050 - accuracy: 0.9123 - val_loss: 0.2950 - val_accuracy: 0.9153\n",
            "Epoch 69/100\n",
            "469/469 [==============================] - 4s 8ms/step - loss: 0.3036 - accuracy: 0.9125 - val_loss: 0.2941 - val_accuracy: 0.9155\n",
            "Epoch 70/100\n",
            "469/469 [==============================] - 3s 6ms/step - loss: 0.3023 - accuracy: 0.9131 - val_loss: 0.2926 - val_accuracy: 0.9163\n",
            "Epoch 71/100\n",
            "469/469 [==============================] - 3s 6ms/step - loss: 0.3009 - accuracy: 0.9134 - val_loss: 0.2913 - val_accuracy: 0.9156\n",
            "Epoch 72/100\n",
            "469/469 [==============================] - 3s 7ms/step - loss: 0.2997 - accuracy: 0.9137 - val_loss: 0.2904 - val_accuracy: 0.9167\n",
            "Epoch 73/100\n",
            "469/469 [==============================] - 4s 8ms/step - loss: 0.2984 - accuracy: 0.9141 - val_loss: 0.2890 - val_accuracy: 0.9171\n",
            "Epoch 74/100\n",
            "469/469 [==============================] - 3s 6ms/step - loss: 0.2971 - accuracy: 0.9143 - val_loss: 0.2881 - val_accuracy: 0.9164\n",
            "Epoch 75/100\n",
            "469/469 [==============================] - 3s 6ms/step - loss: 0.2959 - accuracy: 0.9147 - val_loss: 0.2872 - val_accuracy: 0.9172\n",
            "Epoch 76/100\n",
            "469/469 [==============================] - 3s 6ms/step - loss: 0.2947 - accuracy: 0.9150 - val_loss: 0.2855 - val_accuracy: 0.9174\n",
            "Epoch 77/100\n",
            "469/469 [==============================] - 4s 8ms/step - loss: 0.2935 - accuracy: 0.9152 - val_loss: 0.2844 - val_accuracy: 0.9177\n",
            "Epoch 78/100\n",
            "469/469 [==============================] - 3s 6ms/step - loss: 0.2923 - accuracy: 0.9155 - val_loss: 0.2834 - val_accuracy: 0.9179\n",
            "Epoch 79/100\n",
            "469/469 [==============================] - 3s 6ms/step - loss: 0.2911 - accuracy: 0.9158 - val_loss: 0.2826 - val_accuracy: 0.9189\n",
            "Epoch 80/100\n",
            "469/469 [==============================] - 3s 6ms/step - loss: 0.2899 - accuracy: 0.9164 - val_loss: 0.2817 - val_accuracy: 0.9185\n",
            "Epoch 81/100\n",
            "469/469 [==============================] - 4s 8ms/step - loss: 0.2888 - accuracy: 0.9166 - val_loss: 0.2804 - val_accuracy: 0.9191\n",
            "Epoch 82/100\n",
            "469/469 [==============================] - 3s 6ms/step - loss: 0.2877 - accuracy: 0.9167 - val_loss: 0.2797 - val_accuracy: 0.9188\n",
            "Epoch 83/100\n",
            "469/469 [==============================] - 3s 6ms/step - loss: 0.2866 - accuracy: 0.9171 - val_loss: 0.2788 - val_accuracy: 0.9193\n",
            "Epoch 84/100\n",
            "469/469 [==============================] - 5s 10ms/step - loss: 0.2855 - accuracy: 0.9175 - val_loss: 0.2778 - val_accuracy: 0.9197\n",
            "Epoch 85/100\n",
            "469/469 [==============================] - 3s 7ms/step - loss: 0.2844 - accuracy: 0.9175 - val_loss: 0.2768 - val_accuracy: 0.9208\n",
            "Epoch 86/100\n",
            "469/469 [==============================] - 3s 6ms/step - loss: 0.2834 - accuracy: 0.9178 - val_loss: 0.2758 - val_accuracy: 0.9204\n",
            "Epoch 87/100\n",
            "469/469 [==============================] - 4s 7ms/step - loss: 0.2824 - accuracy: 0.9184 - val_loss: 0.2750 - val_accuracy: 0.9221\n",
            "Epoch 88/100\n",
            "469/469 [==============================] - 4s 9ms/step - loss: 0.2812 - accuracy: 0.9186 - val_loss: 0.2744 - val_accuracy: 0.9213\n",
            "Epoch 89/100\n",
            "469/469 [==============================] - 3s 6ms/step - loss: 0.2802 - accuracy: 0.9189 - val_loss: 0.2736 - val_accuracy: 0.9214\n",
            "Epoch 90/100\n",
            "469/469 [==============================] - 3s 6ms/step - loss: 0.2792 - accuracy: 0.9191 - val_loss: 0.2723 - val_accuracy: 0.9219\n",
            "Epoch 91/100\n",
            "469/469 [==============================] - 3s 6ms/step - loss: 0.2782 - accuracy: 0.9193 - val_loss: 0.2710 - val_accuracy: 0.9229\n",
            "Epoch 92/100\n",
            "469/469 [==============================] - 5s 10ms/step - loss: 0.2772 - accuracy: 0.9194 - val_loss: 0.2707 - val_accuracy: 0.9222\n",
            "Epoch 93/100\n",
            "469/469 [==============================] - 3s 7ms/step - loss: 0.2762 - accuracy: 0.9200 - val_loss: 0.2701 - val_accuracy: 0.9216\n",
            "Epoch 94/100\n",
            "469/469 [==============================] - 3s 6ms/step - loss: 0.2753 - accuracy: 0.9203 - val_loss: 0.2686 - val_accuracy: 0.9233\n",
            "Epoch 95/100\n",
            "469/469 [==============================] - 3s 6ms/step - loss: 0.2743 - accuracy: 0.9205 - val_loss: 0.2678 - val_accuracy: 0.9232\n",
            "Epoch 96/100\n",
            "469/469 [==============================] - 3s 7ms/step - loss: 0.2733 - accuracy: 0.9206 - val_loss: 0.2670 - val_accuracy: 0.9225\n",
            "Epoch 97/100\n",
            "469/469 [==============================] - 3s 7ms/step - loss: 0.2724 - accuracy: 0.9209 - val_loss: 0.2660 - val_accuracy: 0.9234\n",
            "Epoch 98/100\n",
            "469/469 [==============================] - 3s 6ms/step - loss: 0.2714 - accuracy: 0.9214 - val_loss: 0.2650 - val_accuracy: 0.9237\n",
            "Epoch 99/100\n",
            "469/469 [==============================] - 3s 7ms/step - loss: 0.2705 - accuracy: 0.9215 - val_loss: 0.2641 - val_accuracy: 0.9246\n",
            "Epoch 100/100\n",
            "469/469 [==============================] - 4s 9ms/step - loss: 0.2696 - accuracy: 0.9217 - val_loss: 0.2637 - val_accuracy: 0.9240\n"
          ]
        }
      ]
    },
    {
      "cell_type": "code",
      "source": [
        "# evaluate network\n",
        "print(\"[INFO] evaluating network...\")\n",
        "predictions = model.predict(test_x, batch_size=128)\n",
        "print(classification_report(\n",
        "    test_y.argmax(axis=1), \n",
        "    predictions.argmax(axis=1), \n",
        "    target_names=[str(x) for x in lb.classes_])\n",
        ")"
      ],
      "metadata": {
        "colab": {
          "base_uri": "https://localhost:8080/"
        },
        "id": "VlPZXbQ1SQvo",
        "outputId": "fcd40299-33cf-4ddd-924d-fee6eae1ff2d"
      },
      "execution_count": 8,
      "outputs": [
        {
          "output_type": "stream",
          "name": "stdout",
          "text": [
            "[INFO] evaluating network...\n",
            "79/79 [==============================] - 0s 3ms/step\n",
            "              precision    recall  f1-score   support\n",
            "\n",
            "           0       0.94      0.98      0.96       980\n",
            "           1       0.97      0.98      0.97      1135\n",
            "           2       0.92      0.91      0.91      1032\n",
            "           3       0.90      0.91      0.91      1010\n",
            "           4       0.92      0.93      0.93       982\n",
            "           5       0.90      0.86      0.88       892\n",
            "           6       0.93      0.94      0.94       958\n",
            "           7       0.94      0.92      0.93      1028\n",
            "           8       0.90      0.88      0.89       974\n",
            "           9       0.91      0.91      0.91      1009\n",
            "\n",
            "    accuracy                           0.92     10000\n",
            "   macro avg       0.92      0.92      0.92     10000\n",
            "weighted avg       0.92      0.92      0.92     10000\n",
            "\n"
          ]
        }
      ]
    },
    {
      "cell_type": "code",
      "source": [
        "# plot training loss and accuracy\n",
        "plt.style.use(\"ggplot\")\n",
        "plt.figure()\n",
        "plt.plot(np.arange(0, 100), H.history[\"loss\"], label=\"train_loss\")\n",
        "plt.plot(np.arange(0, 100), H.history[\"val_loss\"], label=\"val_loss\")\n",
        "plt.plot(np.arange(0, 100), H.history[\"accuracy\"], label=\"train_acc\")\n",
        "plt.plot(np.arange(0, 100), H.history[\"val_accuracy\"], label=\"val_acc\")\n",
        "plt.title(\"Training Loss and Accuracy\")\n",
        "plt.xlabel(\"Epoch #\")\n",
        "plt.ylabel(\"Loss/Accuracy\")\n",
        "plt.legend()\n",
        "plt.tight_layout()\n",
        "\n",
        "plt.show()"
      ],
      "metadata": {
        "colab": {
          "base_uri": "https://localhost:8080/",
          "height": 297
        },
        "id": "lGVgM66XSvfC",
        "outputId": "03a0d06d-065e-4100-bc33-3bd30dfc3844"
      },
      "execution_count": 9,
      "outputs": [
        {
          "output_type": "display_data",
          "data": {
            "text/plain": [
              "<Figure size 432x288 with 1 Axes>"
            ],
            "image/png": "[encoded data removed]"
          },
          "metadata": {}
        }
      ]
    },
    {
      "cell_type": "markdown",
      "source": [
        "## CIFAR10"
      ],
      "metadata": {
        "id": "JtnZynoqT-iY"
      }
    },
    {
      "cell_type": "code",
      "source": [
        "# grab CIFAR10 dataset\n",
        "print(\"[INFO] accessing CIFAR-10 data...\")\n",
        "((train_x, train_y), (test_x, test_y)) = cifar10.load_data()\n",
        "\n",
        "# first flatten to 3072-dim\n",
        "train_x = train_x.reshape((train_x.shape[0], 32 * 32 * 3))\n",
        "test_x = test_x.reshape((test_x.shape[0], 32 * 32 * 3))\n",
        "\n",
        "# scale data to [0, 1]\n",
        "train_x = train_x.astype(\"float\") / 255.0\n",
        "test_x = test_x.astype(\"float\") / 255.0"
      ],
      "metadata": {
        "colab": {
          "base_uri": "https://localhost:8080/"
        },
        "id": "7H3Y_DguUHBW",
        "outputId": "6ed93d8a-7674-48e9-dcab-b5256ce5eccd"
      },
      "execution_count": 10,
      "outputs": [
        {
          "output_type": "stream",
          "name": "stdout",
          "text": [
            "[INFO] accessing CIFAR-10 data...\n",
            "Downloading data from https://www.cs.toronto.edu/~kriz/cifar-10-python.tar.gz\n",
            "170498071/170498071 [==============================] - 4s 0us/step\n"
          ]
        }
      ]
    },
    {
      "cell_type": "code",
      "source": [
        "# convert labels from integers to vectors\n",
        "lb = LabelBinarizer()\n",
        "train_y = lb.fit_transform(train_y)\n",
        "test_y = lb.fit_transform(test_y)\n",
        "\n",
        "# init label names for CIFAR-10 dataset\n",
        "label_names = [\n",
        "    \"airplane\", \n",
        "    \"automobile\", \n",
        "    \"bird\", \n",
        "    \"cat\", \n",
        "    \"deer\", \n",
        "    \"dog\",\n",
        "    \"frog\",\n",
        "    \"horse\",\n",
        "    \"ship\",\n",
        "    \"truck\"\n",
        "    ]"
      ],
      "metadata": {
        "id": "H7ffiOzrUmPM"
      },
      "execution_count": 12,
      "outputs": []
    },
    {
      "cell_type": "code",
      "source": [
        "# define the 3072-1024-512-10 architecture using Keras\n",
        "model = Sequential()\n",
        "model.add(Dense(1024, input_shape=(3072,), activation=\"relu\"))\n",
        "model.add(Dense(512, activation=\"relu\"))\n",
        "model.add(Dense(10, activation=\"softmax\"))"
      ],
      "metadata": {
        "id": "Uum2YefeVcZ4"
      },
      "execution_count": 14,
      "outputs": []
    },
    {
      "cell_type": "code",
      "source": [
        "# train model using SGD\n",
        "print(\"[INFO] training network...\")\n",
        "sgd = SGD(0.01)\n",
        "model.compile(loss=\"categorical_crossentropy\", optimizer=sgd, metrics=[\"accuracy\"])\n",
        "H = model.fit(train_x, train_y, validation_data=(test_x, test_y), epochs=100, batch_size=32)"
      ],
      "metadata": {
        "colab": {
          "base_uri": "https://localhost:8080/"
        },
        "id": "ruM4fMA2Xvgj",
        "outputId": "97b1e0f3-8545-4f84-b984-28ccf9240641"
      },
      "execution_count": 15,
      "outputs": [
        {
          "output_type": "stream",
          "name": "stdout",
          "text": [
            "[INFO] training network...\n",
            "Epoch 1/100\n",
            "1563/1563 [==============================] - 66s 42ms/step - loss: 1.8369 - accuracy: 0.3459 - val_loss: 1.7584 - val_accuracy: 0.3827\n",
            "Epoch 2/100\n",
            "1563/1563 [==============================] - 48s 31ms/step - loss: 1.6484 - accuracy: 0.4175 - val_loss: 1.6677 - val_accuracy: 0.4110\n",
            "Epoch 3/100\n",
            "1563/1563 [==============================] - 44s 28ms/step - loss: 1.5686 - accuracy: 0.4457 - val_loss: 1.5609 - val_accuracy: 0.4421\n",
            "Epoch 4/100\n",
            "1563/1563 [==============================] - 42s 27ms/step - loss: 1.5091 - accuracy: 0.4656 - val_loss: 1.6276 - val_accuracy: 0.4306\n",
            "Epoch 5/100\n",
            "1563/1563 [==============================] - 42s 27ms/step - loss: 1.4663 - accuracy: 0.4836 - val_loss: 1.4921 - val_accuracy: 0.4709\n",
            "Epoch 6/100\n",
            "1563/1563 [==============================] - 41s 27ms/step - loss: 1.4238 - accuracy: 0.4976 - val_loss: 1.5178 - val_accuracy: 0.4526\n",
            "Epoch 7/100\n",
            "1563/1563 [==============================] - 43s 28ms/step - loss: 1.3893 - accuracy: 0.5097 - val_loss: 1.5091 - val_accuracy: 0.4666\n",
            "Epoch 8/100\n",
            "1563/1563 [==============================] - 42s 27ms/step - loss: 1.3576 - accuracy: 0.5219 - val_loss: 1.5787 - val_accuracy: 0.4374\n",
            "Epoch 9/100\n",
            "1563/1563 [==============================] - 41s 26ms/step - loss: 1.3268 - accuracy: 0.5336 - val_loss: 1.4044 - val_accuracy: 0.5014\n",
            "Epoch 10/100\n",
            "1563/1563 [==============================] - 42s 27ms/step - loss: 1.3005 - accuracy: 0.5428 - val_loss: 1.5458 - val_accuracy: 0.4593\n",
            "Epoch 11/100\n",
            "1563/1563 [==============================] - 43s 28ms/step - loss: 1.2728 - accuracy: 0.5536 - val_loss: 1.3986 - val_accuracy: 0.5055\n",
            "Epoch 12/100\n",
            "1563/1563 [==============================] - 42s 27ms/step - loss: 1.2481 - accuracy: 0.5605 - val_loss: 1.3885 - val_accuracy: 0.5035\n",
            "Epoch 13/100\n",
            "1563/1563 [==============================] - 42s 27ms/step - loss: 1.2239 - accuracy: 0.5709 - val_loss: 1.4237 - val_accuracy: 0.4905\n",
            "Epoch 14/100\n",
            "1563/1563 [==============================] - 41s 26ms/step - loss: 1.1990 - accuracy: 0.5782 - val_loss: 1.3798 - val_accuracy: 0.5185\n",
            "Epoch 15/100\n",
            "1563/1563 [==============================] - 41s 26ms/step - loss: 1.1776 - accuracy: 0.5860 - val_loss: 1.4003 - val_accuracy: 0.5072\n",
            "Epoch 16/100\n",
            "1563/1563 [==============================] - 42s 27ms/step - loss: 1.1544 - accuracy: 0.5963 - val_loss: 1.3563 - val_accuracy: 0.5219\n",
            "Epoch 17/100\n",
            "1563/1563 [==============================] - 41s 26ms/step - loss: 1.1312 - accuracy: 0.6029 - val_loss: 1.3312 - val_accuracy: 0.5300\n",
            "Epoch 18/100\n",
            "1563/1563 [==============================] - 41s 26ms/step - loss: 1.1091 - accuracy: 0.6111 - val_loss: 1.3148 - val_accuracy: 0.5388\n",
            "Epoch 19/100\n",
            "1563/1563 [==============================] - 40s 26ms/step - loss: 1.0866 - accuracy: 0.6205 - val_loss: 1.3207 - val_accuracy: 0.5339\n",
            "Epoch 20/100\n",
            "1563/1563 [==============================] - 43s 28ms/step - loss: 1.0635 - accuracy: 0.6263 - val_loss: 1.3818 - val_accuracy: 0.5120\n",
            "Epoch 21/100\n",
            "1563/1563 [==============================] - 41s 26ms/step - loss: 1.0437 - accuracy: 0.6355 - val_loss: 1.3992 - val_accuracy: 0.5113\n",
            "Epoch 22/100\n",
            "1563/1563 [==============================] - 41s 26ms/step - loss: 1.0239 - accuracy: 0.6412 - val_loss: 1.3752 - val_accuracy: 0.5205\n",
            "Epoch 23/100\n",
            "1563/1563 [==============================] - 40s 25ms/step - loss: 1.0033 - accuracy: 0.6489 - val_loss: 1.3841 - val_accuracy: 0.5262\n",
            "Epoch 24/100\n",
            "1563/1563 [==============================] - 41s 26ms/step - loss: 0.9781 - accuracy: 0.6575 - val_loss: 1.3999 - val_accuracy: 0.5207\n",
            "Epoch 25/100\n",
            "1563/1563 [==============================] - 43s 28ms/step - loss: 0.9626 - accuracy: 0.6638 - val_loss: 1.4051 - val_accuracy: 0.5154\n",
            "Epoch 26/100\n",
            "1563/1563 [==============================] - 41s 26ms/step - loss: 0.9382 - accuracy: 0.6714 - val_loss: 1.3519 - val_accuracy: 0.5344\n",
            "Epoch 27/100\n",
            "1563/1563 [==============================] - 40s 25ms/step - loss: 0.9177 - accuracy: 0.6790 - val_loss: 1.6170 - val_accuracy: 0.4660\n",
            "Epoch 28/100\n",
            "1563/1563 [==============================] - 41s 27ms/step - loss: 0.8964 - accuracy: 0.6869 - val_loss: 1.3537 - val_accuracy: 0.5429\n",
            "Epoch 29/100\n",
            "1563/1563 [==============================] - 41s 26ms/step - loss: 0.8752 - accuracy: 0.6955 - val_loss: 1.4032 - val_accuracy: 0.5230\n",
            "Epoch 30/100\n",
            "1563/1563 [==============================] - 41s 26ms/step - loss: 0.8540 - accuracy: 0.7039 - val_loss: 1.3492 - val_accuracy: 0.5474\n",
            "Epoch 31/100\n",
            "1563/1563 [==============================] - 42s 27ms/step - loss: 0.8320 - accuracy: 0.7101 - val_loss: 1.3934 - val_accuracy: 0.5345\n",
            "Epoch 32/100\n",
            "1563/1563 [==============================] - 41s 26ms/step - loss: 0.8128 - accuracy: 0.7191 - val_loss: 1.3336 - val_accuracy: 0.5476\n",
            "Epoch 33/100\n",
            "1563/1563 [==============================] - 41s 26ms/step - loss: 0.7918 - accuracy: 0.7263 - val_loss: 1.3873 - val_accuracy: 0.5436\n",
            "Epoch 34/100\n",
            "1563/1563 [==============================] - 41s 26ms/step - loss: 0.7699 - accuracy: 0.7326 - val_loss: 1.4589 - val_accuracy: 0.5245\n",
            "Epoch 35/100\n",
            "1563/1563 [==============================] - 40s 25ms/step - loss: 0.7516 - accuracy: 0.7397 - val_loss: 1.4032 - val_accuracy: 0.5288\n",
            "Epoch 36/100\n",
            "1563/1563 [==============================] - 42s 27ms/step - loss: 0.7327 - accuracy: 0.7473 - val_loss: 1.4168 - val_accuracy: 0.5374\n",
            "Epoch 37/100\n",
            "1563/1563 [==============================] - 42s 27ms/step - loss: 0.7136 - accuracy: 0.7533 - val_loss: 1.3677 - val_accuracy: 0.5529\n",
            "Epoch 38/100\n",
            "1563/1563 [==============================] - 41s 26ms/step - loss: 0.6902 - accuracy: 0.7626 - val_loss: 1.4528 - val_accuracy: 0.5296\n",
            "Epoch 39/100\n",
            "1563/1563 [==============================] - 40s 26ms/step - loss: 0.6695 - accuracy: 0.7713 - val_loss: 1.5751 - val_accuracy: 0.5010\n",
            "Epoch 40/100\n",
            "1563/1563 [==============================] - 41s 26ms/step - loss: 0.6499 - accuracy: 0.7752 - val_loss: 1.3946 - val_accuracy: 0.5537\n",
            "Epoch 41/100\n",
            "1563/1563 [==============================] - 42s 27ms/step - loss: 0.6308 - accuracy: 0.7848 - val_loss: 1.5437 - val_accuracy: 0.5022\n",
            "Epoch 42/100\n",
            "1563/1563 [==============================] - 41s 26ms/step - loss: 0.6107 - accuracy: 0.7928 - val_loss: 1.4491 - val_accuracy: 0.5525\n",
            "Epoch 43/100\n",
            "1563/1563 [==============================] - 40s 26ms/step - loss: 0.5900 - accuracy: 0.7995 - val_loss: 1.5805 - val_accuracy: 0.5269\n",
            "Epoch 44/100\n",
            "1563/1563 [==============================] - 41s 26ms/step - loss: 0.5744 - accuracy: 0.8040 - val_loss: 1.4752 - val_accuracy: 0.5454\n",
            "Epoch 45/100\n",
            "1563/1563 [==============================] - 41s 26ms/step - loss: 0.5520 - accuracy: 0.8144 - val_loss: 1.5490 - val_accuracy: 0.5286\n",
            "Epoch 46/100\n",
            "1563/1563 [==============================] - 42s 27ms/step - loss: 0.5321 - accuracy: 0.8215 - val_loss: 1.4775 - val_accuracy: 0.5541\n",
            "Epoch 47/100\n",
            "1563/1563 [==============================] - 40s 25ms/step - loss: 0.5153 - accuracy: 0.8272 - val_loss: 1.6384 - val_accuracy: 0.5277\n",
            "Epoch 48/100\n",
            "1563/1563 [==============================] - 41s 27ms/step - loss: 0.4953 - accuracy: 0.8362 - val_loss: 1.5086 - val_accuracy: 0.5461\n",
            "Epoch 49/100\n",
            "1563/1563 [==============================] - 41s 26ms/step - loss: 0.4827 - accuracy: 0.8391 - val_loss: 1.5704 - val_accuracy: 0.5351\n",
            "Epoch 50/100\n",
            "1563/1563 [==============================] - 43s 28ms/step - loss: 0.4646 - accuracy: 0.8465 - val_loss: 1.5709 - val_accuracy: 0.5322\n",
            "Epoch 51/100\n",
            "1563/1563 [==============================] - 39s 25ms/step - loss: 0.4422 - accuracy: 0.8552 - val_loss: 1.5739 - val_accuracy: 0.5486\n",
            "Epoch 52/100\n",
            "1563/1563 [==============================] - 40s 26ms/step - loss: 0.4268 - accuracy: 0.8576 - val_loss: 1.5803 - val_accuracy: 0.5459\n",
            "Epoch 53/100\n",
            "1563/1563 [==============================] - 40s 26ms/step - loss: 0.4151 - accuracy: 0.8635 - val_loss: 1.6867 - val_accuracy: 0.5330\n",
            "Epoch 54/100\n",
            "1563/1563 [==============================] - 40s 26ms/step - loss: 0.3963 - accuracy: 0.8705 - val_loss: 1.5776 - val_accuracy: 0.5554\n",
            "Epoch 55/100\n",
            "1563/1563 [==============================] - 40s 26ms/step - loss: 0.3761 - accuracy: 0.8773 - val_loss: 1.7026 - val_accuracy: 0.5343\n",
            "Epoch 56/100\n",
            "1563/1563 [==============================] - 41s 26ms/step - loss: 0.3684 - accuracy: 0.8803 - val_loss: 1.6555 - val_accuracy: 0.5482\n",
            "Epoch 57/100\n",
            "1563/1563 [==============================] - 42s 27ms/step - loss: 0.3473 - accuracy: 0.8898 - val_loss: 1.6607 - val_accuracy: 0.5494\n",
            "Epoch 58/100\n",
            "1563/1563 [==============================] - 39s 25ms/step - loss: 0.3359 - accuracy: 0.8911 - val_loss: 1.7798 - val_accuracy: 0.5256\n",
            "Epoch 59/100\n",
            "1563/1563 [==============================] - 40s 26ms/step - loss: 0.3180 - accuracy: 0.8993 - val_loss: 1.6406 - val_accuracy: 0.5614\n",
            "Epoch 60/100\n",
            "1563/1563 [==============================] - 41s 26ms/step - loss: 0.3026 - accuracy: 0.9045 - val_loss: 1.8947 - val_accuracy: 0.5225\n",
            "Epoch 61/100\n",
            "1563/1563 [==============================] - 39s 25ms/step - loss: 0.2878 - accuracy: 0.9108 - val_loss: 1.6835 - val_accuracy: 0.5549\n",
            "Epoch 62/100\n",
            "1563/1563 [==============================] - 40s 26ms/step - loss: 0.2777 - accuracy: 0.9135 - val_loss: 1.8173 - val_accuracy: 0.5379\n",
            "Epoch 63/100\n",
            "1563/1563 [==============================] - 40s 26ms/step - loss: 0.2660 - accuracy: 0.9182 - val_loss: 1.8280 - val_accuracy: 0.5428\n",
            "Epoch 64/100\n",
            "1563/1563 [==============================] - 40s 26ms/step - loss: 0.2555 - accuracy: 0.9209 - val_loss: 1.7920 - val_accuracy: 0.5440\n",
            "Epoch 65/100\n",
            "1563/1563 [==============================] - 41s 26ms/step - loss: 0.2413 - accuracy: 0.9257 - val_loss: 1.8026 - val_accuracy: 0.5462\n",
            "Epoch 66/100\n",
            "1563/1563 [==============================] - 41s 26ms/step - loss: 0.2320 - accuracy: 0.9315 - val_loss: 1.8244 - val_accuracy: 0.5453\n",
            "Epoch 67/100\n",
            "1563/1563 [==============================] - 39s 25ms/step - loss: 0.2203 - accuracy: 0.9353 - val_loss: 1.7721 - val_accuracy: 0.5581\n",
            "Epoch 68/100\n",
            "1563/1563 [==============================] - 41s 26ms/step - loss: 0.2026 - accuracy: 0.9409 - val_loss: 1.8509 - val_accuracy: 0.5514\n",
            "Epoch 69/100\n",
            "1563/1563 [==============================] - 40s 26ms/step - loss: 0.1977 - accuracy: 0.9423 - val_loss: 1.8678 - val_accuracy: 0.5518\n",
            "Epoch 70/100\n",
            "1563/1563 [==============================] - 41s 26ms/step - loss: 0.1840 - accuracy: 0.9483 - val_loss: 1.9140 - val_accuracy: 0.5468\n",
            "Epoch 71/100\n",
            "1563/1563 [==============================] - 39s 25ms/step - loss: 0.1723 - accuracy: 0.9522 - val_loss: 1.8854 - val_accuracy: 0.5558\n",
            "Epoch 72/100\n",
            "1563/1563 [==============================] - 41s 26ms/step - loss: 0.1643 - accuracy: 0.9546 - val_loss: 1.9449 - val_accuracy: 0.5497\n",
            "Epoch 73/100\n",
            "1563/1563 [==============================] - 40s 26ms/step - loss: 0.1577 - accuracy: 0.9566 - val_loss: 1.8794 - val_accuracy: 0.5521\n",
            "Epoch 74/100\n",
            "1563/1563 [==============================] - 39s 25ms/step - loss: 0.1477 - accuracy: 0.9613 - val_loss: 2.1281 - val_accuracy: 0.5282\n",
            "Epoch 75/100\n",
            "1563/1563 [==============================] - 40s 26ms/step - loss: 0.1402 - accuracy: 0.9627 - val_loss: 1.9612 - val_accuracy: 0.5491\n",
            "Epoch 76/100\n",
            "1563/1563 [==============================] - 41s 26ms/step - loss: 0.1302 - accuracy: 0.9670 - val_loss: 2.0286 - val_accuracy: 0.5401\n",
            "Epoch 77/100\n",
            "1563/1563 [==============================] - 40s 25ms/step - loss: 0.1239 - accuracy: 0.9685 - val_loss: 1.9659 - val_accuracy: 0.5585\n",
            "Epoch 78/100\n",
            "1563/1563 [==============================] - 40s 26ms/step - loss: 0.1147 - accuracy: 0.9721 - val_loss: 2.0078 - val_accuracy: 0.5620\n",
            "Epoch 79/100\n",
            "1563/1563 [==============================] - 41s 26ms/step - loss: 0.1079 - accuracy: 0.9739 - val_loss: 2.0716 - val_accuracy: 0.5492\n",
            "Epoch 80/100\n",
            "1563/1563 [==============================] - 40s 26ms/step - loss: 0.1044 - accuracy: 0.9756 - val_loss: 2.0000 - val_accuracy: 0.5622\n",
            "Epoch 81/100\n",
            "1563/1563 [==============================] - 39s 25ms/step - loss: 0.0955 - accuracy: 0.9782 - val_loss: 2.0288 - val_accuracy: 0.5607\n",
            "Epoch 82/100\n",
            "1563/1563 [==============================] - 41s 26ms/step - loss: 0.0880 - accuracy: 0.9810 - val_loss: 2.0936 - val_accuracy: 0.5570\n",
            "Epoch 83/100\n",
            "1563/1563 [==============================] - 40s 26ms/step - loss: 0.0822 - accuracy: 0.9835 - val_loss: 2.0732 - val_accuracy: 0.5600\n",
            "Epoch 84/100\n",
            "1563/1563 [==============================] - 39s 25ms/step - loss: 0.0773 - accuracy: 0.9841 - val_loss: 2.0738 - val_accuracy: 0.5565\n",
            "Epoch 85/100\n",
            "1563/1563 [==============================] - 41s 26ms/step - loss: 0.0774 - accuracy: 0.9836 - val_loss: 2.2540 - val_accuracy: 0.5422\n",
            "Epoch 86/100\n",
            "1563/1563 [==============================] - 40s 26ms/step - loss: 0.0668 - accuracy: 0.9876 - val_loss: 2.1440 - val_accuracy: 0.5620\n",
            "Epoch 87/100\n",
            "1563/1563 [==============================] - 39s 25ms/step - loss: 0.0618 - accuracy: 0.9885 - val_loss: 2.1744 - val_accuracy: 0.5626\n",
            "Epoch 88/100\n",
            "1563/1563 [==============================] - 40s 26ms/step - loss: 0.0599 - accuracy: 0.9887 - val_loss: 2.1695 - val_accuracy: 0.5614\n",
            "Epoch 89/100\n",
            "1563/1563 [==============================] - 40s 26ms/step - loss: 0.0563 - accuracy: 0.9900 - val_loss: 2.1740 - val_accuracy: 0.5683\n",
            "Epoch 90/100\n",
            "1563/1563 [==============================] - 41s 26ms/step - loss: 0.0499 - accuracy: 0.9919 - val_loss: 2.1768 - val_accuracy: 0.5620\n",
            "Epoch 91/100\n",
            "1563/1563 [==============================] - 39s 25ms/step - loss: 0.0519 - accuracy: 0.9905 - val_loss: 2.2122 - val_accuracy: 0.5574\n",
            "Epoch 92/100\n",
            "1563/1563 [==============================] - 41s 26ms/step - loss: 0.0404 - accuracy: 0.9950 - val_loss: 2.3040 - val_accuracy: 0.5552\n",
            "Epoch 93/100\n",
            "1563/1563 [==============================] - 39s 25ms/step - loss: 0.0395 - accuracy: 0.9947 - val_loss: 2.2687 - val_accuracy: 0.5611\n",
            "Epoch 94/100\n",
            "1563/1563 [==============================] - 41s 26ms/step - loss: 0.0365 - accuracy: 0.9951 - val_loss: 2.3172 - val_accuracy: 0.5499\n",
            "Epoch 95/100\n",
            "1563/1563 [==============================] - 40s 26ms/step - loss: 0.0344 - accuracy: 0.9959 - val_loss: 2.2452 - val_accuracy: 0.5622\n",
            "Epoch 96/100\n",
            "1563/1563 [==============================] - 39s 25ms/step - loss: 0.0326 - accuracy: 0.9963 - val_loss: 2.2821 - val_accuracy: 0.5650\n",
            "Epoch 97/100\n",
            "1563/1563 [==============================] - 41s 26ms/step - loss: 0.0311 - accuracy: 0.9964 - val_loss: 2.3143 - val_accuracy: 0.5628\n",
            "Epoch 98/100\n",
            "1563/1563 [==============================] - 42s 27ms/step - loss: 0.0302 - accuracy: 0.9967 - val_loss: 2.2775 - val_accuracy: 0.5627\n",
            "Epoch 99/100\n",
            "1563/1563 [==============================] - 40s 26ms/step - loss: 0.0272 - accuracy: 0.9969 - val_loss: 2.3089 - val_accuracy: 0.5620\n",
            "Epoch 100/100\n",
            "1563/1563 [==============================] - 40s 25ms/step - loss: 0.0250 - accuracy: 0.9975 - val_loss: 2.3127 - val_accuracy: 0.5655\n"
          ]
        }
      ]
    },
    {
      "cell_type": "code",
      "source": [
        "# evaluate network\n",
        "print(\"[INFO] evaluating network...\")\n",
        "predictions = model.predict(test_x, batch_size=32)\n",
        "print(classification_report(\n",
        "    test_y.argmax(axis=1),\n",
        "    predictions.argmax(axis=1),\n",
        "    target_names=label_names\n",
        "))"
      ],
      "metadata": {
        "colab": {
          "base_uri": "https://localhost:8080/"
        },
        "id": "ote2n4PIYBfj",
        "outputId": "828ba0cd-e908-4021-dd20-f0e9c1e221ad"
      },
      "execution_count": 16,
      "outputs": [
        {
          "output_type": "stream",
          "name": "stdout",
          "text": [
            "[INFO] evaluating network...\n",
            "313/313 [==============================] - 4s 13ms/step\n",
            "              precision    recall  f1-score   support\n",
            "\n",
            "    airplane       0.62      0.70      0.66      1000\n",
            "  automobile       0.69      0.64      0.67      1000\n",
            "        bird       0.47      0.41      0.44      1000\n",
            "         cat       0.37      0.40      0.39      1000\n",
            "        deer       0.53      0.48      0.51      1000\n",
            "         dog       0.43      0.48      0.45      1000\n",
            "        frog       0.63      0.63      0.63      1000\n",
            "       horse       0.65      0.61      0.63      1000\n",
            "        ship       0.68      0.69      0.69      1000\n",
            "       truck       0.60      0.62      0.61      1000\n",
            "\n",
            "    accuracy                           0.57     10000\n",
            "   macro avg       0.57      0.57      0.57     10000\n",
            "weighted avg       0.57      0.57      0.57     10000\n",
            "\n"
          ]
        }
      ]
    },
    {
      "cell_type": "code",
      "source": [
        "# plot training loss and accuracy\n",
        "plt.style.use(\"ggplot\")\n",
        "plt.figure()\n",
        "plt.plot(np.arange(0, 100), H.history[\"loss\"], label=\"train_loss\")\n",
        "plt.plot(np.arange(0, 100), H.history[\"val_loss\"], label=\"val_loss\")\n",
        "plt.plot(np.arange(0, 100), H.history[\"accuracy\"], label=\"train_acc\")\n",
        "plt.plot(np.arange(0, 100), H.history[\"val_accuracy\"], label=\"val_acc\")\n",
        "plt.title(\"Training Loss and Accuracy\")\n",
        "plt.xlabel(\"Epoch #\")\n",
        "plt.ylabel(\"Loss/Accuracy\")\n",
        "plt.legend()\n",
        "plt.tight_layout()\n",
        "\n",
        "plt.show()"
      ],
      "metadata": {
        "colab": {
          "base_uri": "https://localhost:8080/",
          "height": 297
        },
        "id": "jtlr0DXHYCu2",
        "outputId": "87d1e6ae-9123-4c3f-f31c-fe113d6ce446"
      },
      "execution_count": 17,
      "outputs": [
        {
          "output_type": "display_data",
          "data": {
            "text/plain": [
              "<Figure size 432x288 with 1 Axes>"
            ],
            "image/png": "[encoded data removed]"
          },
          "metadata": {}
        }
      ]
    },
    {
      "cell_type": "code",
      "source": [],
      "metadata": {
        "id": "8UU1SGhuotwv"
      },
      "execution_count": null,
      "outputs": []
    }
  ]
}