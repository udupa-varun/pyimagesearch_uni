{
  "nbformat": 4,
  "nbformat_minor": 0,
  "metadata": {
    "colab": {
      "name": "Untitled0.ipynb",
      "provenance": [],
      "authorship_tag": "ABX9TyOEgWNKh4BXg+jPRKObkwOJ",
      "include_colab_link": true
    },
    "kernelspec": {
      "name": "python3",
      "display_name": "Python 3"
    },
    "language_info": {
      "name": "python"
    }
  },
  "cells": [
    {
      "cell_type": "markdown",
      "metadata": {
        "id": "view-in-github",
        "colab_type": "text"
      },
      "source": [
        "<a href=\"https://colab.research.google.com/github/udupa-varun/pyimagesearch_uni/blob/main/augmented_reality/101/opencv_generate_aruco.ipynb\" target=\"_parent\"><img src=\"https://colab.research.google.com/assets/colab-badge.svg\" alt=\"Open In Colab\"/></a>"
      ]
    },
    {
      "cell_type": "code",
      "execution_count": 1,
      "metadata": {
        "colab": {
          "base_uri": "https://localhost:8080/"
        },
        "id": "UvTdcrs2KGF3",
        "outputId": "840ba424-f6be-4557-d035-e23de0816447"
      },
      "outputs": [
        {
          "output_type": "stream",
          "name": "stdout",
          "text": [
            "--2022-06-03 06:03:10--  https://pyimagesearch-code-downloads.s3-us-west-2.amazonaws.com/opencv-generate-aruco/opencv-generate-aruco.zip\n",
            "Resolving pyimagesearch-code-downloads.s3-us-west-2.amazonaws.com (pyimagesearch-code-downloads.s3-us-west-2.amazonaws.com)... 52.218.216.201\n",
            "Connecting to pyimagesearch-code-downloads.s3-us-west-2.amazonaws.com (pyimagesearch-code-downloads.s3-us-west-2.amazonaws.com)|52.218.216.201|:443... connected.\n",
            "HTTP request sent, awaiting response... 200 OK\n",
            "Length: 3899 (3.8K) [application/zip]\n",
            "Saving to: ‘opencv-generate-aruco.zip’\n",
            "\n",
            "opencv-generate-aru 100%[===================>]   3.81K  --.-KB/s    in 0s      \n",
            "\n",
            "2022-06-03 06:03:11 (121 MB/s) - ‘opencv-generate-aruco.zip’ saved [3899/3899]\n",
            "\n",
            "/content/opencv-generate-aruco\n"
          ]
        }
      ],
      "source": [
        "!wget https://pyimagesearch-code-downloads.s3-us-west-2.amazonaws.com/opencv-generate-aruco/opencv-generate-aruco.zip\n",
        "!unzip -qq opencv-generate-aruco.zip\n",
        "%cd opencv-generate-aruco"
      ]
    },
    {
      "cell_type": "code",
      "source": [
        "# import the necessary packages\n",
        "import matplotlib.pyplot as plt\n",
        "import numpy as np\n",
        "import argparse\n",
        "import cv2\n",
        "import sys"
      ],
      "metadata": {
        "id": "OEsM7D4xKPv7"
      },
      "execution_count": 2,
      "outputs": []
    },
    {
      "cell_type": "code",
      "source": [
        "def plt_imshow(title, image):\n",
        "    # convert the image frame BGR to RGB color space and display it\n",
        "\timage = cv2.cvtColor(image, cv2.COLOR_BGR2RGB)\n",
        "\tplt.imshow(image)\n",
        "\tplt.title(title)\n",
        "\tplt.grid(False)\n",
        "\tplt.show()"
      ],
      "metadata": {
        "id": "DkOco_tNKTwA"
      },
      "execution_count": 3,
      "outputs": []
    },
    {
      "cell_type": "code",
      "source": [
        "# # construct the argument parser and parse the arguments\n",
        "# ap = argparse.ArgumentParser()\n",
        "# ap.add_argument(\"-o\", \"--output\", required=True,\n",
        "# \thelp=\"path to output image containing ArUCo tag\")\n",
        "# ap.add_argument(\"-i\", \"--id\", type=int, required=True,\n",
        "# \thelp=\"ID of ArUCo tag to generate\")\n",
        "# ap.add_argument(\"-t\", \"--type\", type=str,\n",
        "# \tdefault=\"DICT_ARUCO_ORIGINAL\",\n",
        "# \thelp=\"type of ArUCo tag to generate\")\n",
        "# args = vars(ap.parse_args())\n",
        "\n",
        "# since we are using Jupyter Notebooks we can replace our argument\n",
        "# parsing code with *hard coded* arguments and values\n",
        "args = {\n",
        "\t\"output\": \"tags/DICT_5X5_100_id24.png\",\n",
        "    \"id\": 24,\n",
        "    \"type\": \"DICT_ARUCO_ORIGINAL\",\n",
        "}"
      ],
      "metadata": {
        "id": "-OgWlJS8KVAr"
      },
      "execution_count": 4,
      "outputs": []
    },
    {
      "cell_type": "code",
      "source": [
        "# define names of each possible ArUco tag OpenCV supports\n",
        "ARUCO_DICT = {\n",
        "\t\"DICT_4X4_50\": cv2.aruco.DICT_4X4_50,\n",
        "\t\"DICT_4X4_100\": cv2.aruco.DICT_4X4_100,\n",
        "\t\"DICT_4X4_250\": cv2.aruco.DICT_4X4_250,\n",
        "\t\"DICT_4X4_1000\": cv2.aruco.DICT_4X4_1000,\n",
        "\t\"DICT_5X5_50\": cv2.aruco.DICT_5X5_50,\n",
        "\t\"DICT_5X5_100\": cv2.aruco.DICT_5X5_100,\n",
        "\t\"DICT_5X5_250\": cv2.aruco.DICT_5X5_250,\n",
        "\t\"DICT_5X5_1000\": cv2.aruco.DICT_5X5_1000,\n",
        "\t\"DICT_6X6_50\": cv2.aruco.DICT_6X6_50,\n",
        "\t\"DICT_6X6_100\": cv2.aruco.DICT_6X6_100,\n",
        "\t\"DICT_6X6_250\": cv2.aruco.DICT_6X6_250,\n",
        "\t\"DICT_6X6_1000\": cv2.aruco.DICT_6X6_1000,\n",
        "\t\"DICT_7X7_50\": cv2.aruco.DICT_7X7_50,\n",
        "\t\"DICT_7X7_100\": cv2.aruco.DICT_7X7_100,\n",
        "\t\"DICT_7X7_250\": cv2.aruco.DICT_7X7_250,\n",
        "\t\"DICT_7X7_1000\": cv2.aruco.DICT_7X7_1000,\n",
        "\t\"DICT_ARUCO_ORIGINAL\": cv2.aruco.DICT_ARUCO_ORIGINAL,\n",
        "\t\"DICT_APRILTAG_16h5\": cv2.aruco.DICT_APRILTAG_16h5,\n",
        "\t\"DICT_APRILTAG_25h9\": cv2.aruco.DICT_APRILTAG_25h9,\n",
        "\t\"DICT_APRILTAG_36h10\": cv2.aruco.DICT_APRILTAG_36h10,\n",
        "\t\"DICT_APRILTAG_36h11\": cv2.aruco.DICT_APRILTAG_36h11\n",
        "}"
      ],
      "metadata": {
        "id": "HEb1PfK0KXyU"
      },
      "execution_count": 5,
      "outputs": []
    },
    {
      "cell_type": "code",
      "source": [
        "# verify that the supplied ArUCo tag exists and is supported by\n",
        "# OpenCV\n",
        "if ARUCO_DICT.get(args[\"type\"], None) is None:\n",
        "\tprint(\"[INFO] ArUCo tag of '{}' is not supported\".format(\n",
        "\t\targs[\"type\"]))\n",
        "\tsys.exit(0)\n",
        "\n",
        "# load the ArUCo dictionary\n",
        "arucoDict = cv2.aruco.Dictionary_get(ARUCO_DICT[args[\"type\"]])"
      ],
      "metadata": {
        "id": "0PCPEej-KZ28"
      },
      "execution_count": 6,
      "outputs": []
    },
    {
      "cell_type": "code",
      "source": [
        "# allocate memory for the output ArUCo tag and then draw the ArUCo\n",
        "# tag on the output image\n",
        "print(\"[INFO] generating ArUCo tag type '{}' with ID '{}'\".format(\n",
        "\targs[\"type\"], args[\"id\"]))\n",
        "tag = np.zeros((300, 300, 1), dtype=\"uint8\")\n",
        "cv2.aruco.drawMarker(arucoDict, args[\"id\"], 300, tag, 1)\n",
        "\n",
        "# write the generated ArUCo tag to disk and then display it to our\n",
        "# screen\n",
        "cv2.imwrite(args[\"output\"], tag)\n",
        "plt_imshow(\"ArUCo Tag\", tag)"
      ],
      "metadata": {
        "colab": {
          "base_uri": "https://localhost:8080/",
          "height": 298
        },
        "id": "XjDY660lKcqF",
        "outputId": "e9a239b8-4206-42e6-a895-dacea9746005"
      },
      "execution_count": 7,
      "outputs": [
        {
          "output_type": "stream",
          "name": "stdout",
          "text": [
            "[INFO] generating ArUCo tag type 'DICT_ARUCO_ORIGINAL' with ID '24'\n"
          ]
        },
        {
          "output_type": "display_data",
          "data": {
            "text/plain": [
              "<Figure size 432x288 with 1 Axes>"
            ],
            "image/png": "[encoded data removed]"
          },
          "metadata": {
            "needs_background": "light"
          }
        }
      ]
    },
    {
      "cell_type": "markdown",
      "source": [
        "For a detailed walkthrough of the concepts and code, be sure to refer to the full tutorial, [*Generating ArUco markers with OpenCV and Python*](https://www.pyimagesearch.com/2020/12/14/generating-aruco-markers-with-opencv-and-python/) blog post published on 12-14-20."
      ],
      "metadata": {
        "id": "iO9K60k8Kp9p"
      }
    }
  ]
}