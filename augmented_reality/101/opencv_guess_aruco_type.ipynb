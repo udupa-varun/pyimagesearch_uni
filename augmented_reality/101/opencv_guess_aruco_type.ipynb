{
  "nbformat": 4,
  "nbformat_minor": 0,
  "metadata": {
    "colab": {
      "name": "opencv_guess_aruco_type.ipynb",
      "provenance": [],
      "authorship_tag": "ABX9TyOOJQG79wooAY7FZfd1pOb4",
      "include_colab_link": true
    },
    "kernelspec": {
      "name": "python3",
      "display_name": "Python 3"
    },
    "language_info": {
      "name": "python"
    }
  },
  "cells": [
    {
      "cell_type": "markdown",
      "metadata": {
        "id": "view-in-github",
        "colab_type": "text"
      },
      "source": [
        "<a href=\"https://colab.research.google.com/github/udupa-varun/pyimagesearch_uni/blob/main/augmented_reality/101/opencv_guess_aruco_type.ipynb\" target=\"_parent\"><img src=\"https://colab.research.google.com/assets/colab-badge.svg\" alt=\"Open In Colab\"/></a>"
      ]
    },
    {
      "cell_type": "code",
      "execution_count": 1,
      "metadata": {
        "colab": {
          "base_uri": "https://localhost:8080/"
        },
        "id": "XBDl83PBMfB7",
        "outputId": "05422300-2845-422e-cbb4-0136ba770514"
      },
      "outputs": [
        {
          "output_type": "stream",
          "name": "stdout",
          "text": [
            "--2022-06-03 10:52:44--  https://pyimagesearch-code-downloads.s3-us-west-2.amazonaws.com/opencv-guess-aruco-type/opencv-guess-aruco-type.zip\n",
            "Resolving pyimagesearch-code-downloads.s3-us-west-2.amazonaws.com (pyimagesearch-code-downloads.s3-us-west-2.amazonaws.com)... 52.92.144.50\n",
            "Connecting to pyimagesearch-code-downloads.s3-us-west-2.amazonaws.com (pyimagesearch-code-downloads.s3-us-west-2.amazonaws.com)|52.92.144.50|:443... connected.\n",
            "HTTP request sent, awaiting response... 200 OK\n",
            "Length: 893963 (873K) [application/zip]\n",
            "Saving to: ‘opencv-guess-aruco-type.zip’\n",
            "\n",
            "opencv-guess-aruco- 100%[===================>] 873.01K  2.73MB/s    in 0.3s    \n",
            "\n",
            "2022-06-03 10:52:44 (2.73 MB/s) - ‘opencv-guess-aruco-type.zip’ saved [893963/893963]\n",
            "\n",
            "/content/opencv-guess-aruco-type\n"
          ]
        }
      ],
      "source": [
        "!wget https://pyimagesearch-code-downloads.s3-us-west-2.amazonaws.com/opencv-guess-aruco-type/opencv-guess-aruco-type.zip\n",
        "!unzip -qq opencv-guess-aruco-type.zip\n",
        "%cd opencv-guess-aruco-type"
      ]
    },
    {
      "cell_type": "code",
      "source": [
        "# import packages\n",
        "import argparse\n",
        "\n",
        "import cv2\n",
        "import imutils\n",
        "import matplotlib.pyplot as plt"
      ],
      "metadata": {
        "id": "rQbQ_BkTMhb5"
      },
      "execution_count": 2,
      "outputs": []
    },
    {
      "cell_type": "code",
      "source": [
        "def plt_imshow(title, image):\n",
        "    # convert the image frame BGR to RGB color space and display it\n",
        "    image = cv2.cvtColor(image, cv2.COLOR_BGR2RGB)\n",
        "    plt.imshow(image)\n",
        "    plt.title(title)\n",
        "    plt.grid(False)\n",
        "    plt.show()"
      ],
      "metadata": {
        "id": "1dCSp2-7Mtm0"
      },
      "execution_count": 3,
      "outputs": []
    },
    {
      "cell_type": "code",
      "source": [
        "# # construct the argument parser and parse the arguments\n",
        "# ap = argparse.ArgumentParser()\n",
        "# ap.add_argument(\"-i\", \"--image\", required=True,\n",
        "# \thelp=\"path to input image containing ArUCo tag\")\n",
        "# args = vars(ap.parse_args())\n",
        "\n",
        "# since we are using Jupyter Notebooks we can replace our argument\n",
        "# parsing code with *hard coded* arguments and values\n",
        "args = {\n",
        "\t\"image\": \"images/example_01.png\"\n",
        "}"
      ],
      "metadata": {
        "id": "Fyr4VDzOMxOm"
      },
      "execution_count": 4,
      "outputs": []
    },
    {
      "cell_type": "code",
      "source": [
        "# define names of each possible ArUco tag OpenCV supports\n",
        "ARUCO_DICT = {\n",
        "\t\"DICT_4X4_50\": cv2.aruco.DICT_4X4_50,\n",
        "\t\"DICT_4X4_100\": cv2.aruco.DICT_4X4_100,\n",
        "\t\"DICT_4X4_250\": cv2.aruco.DICT_4X4_250,\n",
        "\t\"DICT_4X4_1000\": cv2.aruco.DICT_4X4_1000,\n",
        "\t\"DICT_5X5_50\": cv2.aruco.DICT_5X5_50,\n",
        "\t\"DICT_5X5_100\": cv2.aruco.DICT_5X5_100,\n",
        "\t\"DICT_5X5_250\": cv2.aruco.DICT_5X5_250,\n",
        "\t\"DICT_5X5_1000\": cv2.aruco.DICT_5X5_1000,\n",
        "\t\"DICT_6X6_50\": cv2.aruco.DICT_6X6_50,\n",
        "\t\"DICT_6X6_100\": cv2.aruco.DICT_6X6_100,\n",
        "\t\"DICT_6X6_250\": cv2.aruco.DICT_6X6_250,\n",
        "\t\"DICT_6X6_1000\": cv2.aruco.DICT_6X6_1000,\n",
        "\t\"DICT_7X7_50\": cv2.aruco.DICT_7X7_50,\n",
        "\t\"DICT_7X7_100\": cv2.aruco.DICT_7X7_100,\n",
        "\t\"DICT_7X7_250\": cv2.aruco.DICT_7X7_250,\n",
        "\t\"DICT_7X7_1000\": cv2.aruco.DICT_7X7_1000,\n",
        "\t\"DICT_ARUCO_ORIGINAL\": cv2.aruco.DICT_ARUCO_ORIGINAL,\n",
        "\t\"DICT_APRILTAG_16h5\": cv2.aruco.DICT_APRILTAG_16h5,\n",
        "\t\"DICT_APRILTAG_25h9\": cv2.aruco.DICT_APRILTAG_25h9,\n",
        "\t\"DICT_APRILTAG_36h10\": cv2.aruco.DICT_APRILTAG_36h10,\n",
        "\t\"DICT_APRILTAG_36h11\": cv2.aruco.DICT_APRILTAG_36h11\n",
        "}"
      ],
      "metadata": {
        "id": "uXK45m15Myyn"
      },
      "execution_count": 5,
      "outputs": []
    },
    {
      "cell_type": "code",
      "source": [
        "# load image and resize it\n",
        "print(\"[INFO] loading image...\")\n",
        "image = cv2.imread(args[\"image\"])\n",
        "image = imutils.resize(image, width=600)\n",
        "\n",
        "# loop over types of ArUCo dicts\n",
        "for (aruco_name, aruco_dict) in ARUCO_DICT.items():\n",
        "    # load aruco dict\n",
        "    aruco_dict = cv2.aruco.Dictionary_get(aruco_dict)\n",
        "    # get aruco params\n",
        "    aruco_params = cv2.aruco.DetectorParameters_create()\n",
        "    # attempt to detect markers for current dict\n",
        "    (corners, ids, rejected) = cv2.aruco.detectMarkers(\n",
        "        image, \n",
        "        aruco_dict, \n",
        "        parameters=aruco_params\n",
        "        )\n",
        "    \n",
        "    # if at least one ArUCo marker was detected, display the ArUCo name\n",
        "    if len(corners) > 0:\n",
        "        print(f\"[INFO] detected {len(corners)} markers for {aruco_name}\")\n"
      ],
      "metadata": {
        "colab": {
          "base_uri": "https://localhost:8080/"
        },
        "id": "06PTRVzSM1qX",
        "outputId": "46b7dd53-892b-4bd9-9b10-ca2b9b6481cc"
      },
      "execution_count": 6,
      "outputs": [
        {
          "output_type": "stream",
          "name": "stdout",
          "text": [
            "[INFO] loading image...\n",
            "[INFO] detected 2 markers for DICT_5X5_50\n",
            "[INFO] detected 5 markers for DICT_5X5_100\n",
            "[INFO] detected 5 markers for DICT_5X5_250\n",
            "[INFO] detected 5 markers for DICT_5X5_1000\n"
          ]
        }
      ]
    },
    {
      "cell_type": "markdown",
      "source": [
        "For a detailed walkthrough of the concepts and code, be sure to refer to the full tutorial, [*Determining ArUco marker type with OpenCV and Python*](https://www.pyimagesearch.com/2020/12/28/determining-aruco-marker-type-with-opencv-and-python/) blog post published on 12-28-20."
      ],
      "metadata": {
        "id": "1k5Xo_uUN6Y1"
      }
    }
  ]
}