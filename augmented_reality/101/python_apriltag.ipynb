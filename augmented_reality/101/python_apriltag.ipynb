{
 "cells": [
  {
   "cell_type": "code",
   "execution_count": 1,
   "id": "f00d3cff-bbf1-4037-990b-c1e815ad71b8",
   "metadata": {},
   "outputs": [
    {
     "name": "stdout",
     "output_type": "stream",
     "text": [
      "Collecting apriltag\n",
      "  Downloading apriltag-0.0.16.tar.gz (201 kB)\n",
      "     ---------------------------------------- 201.2/201.2 kB 4.1 MB/s eta 0:00:00\n",
      "  Preparing metadata (setup.py): started\n",
      "  Preparing metadata (setup.py): finished with status 'done'\n",
      "Using legacy 'setup.py install' for apriltag, since package 'wheel' is not installed.\n",
      "Installing collected packages: apriltag\n",
      "  Running setup.py install for apriltag: started\n",
      "  Running setup.py install for apriltag: finished with status 'error'\n"
     ]
    },
    {
     "name": "stderr",
     "output_type": "stream",
     "text": [
      "  error: subprocess-exited-with-error\n",
      "  \n",
      "  Running setup.py install for apriltag did not run successfully.\n",
      "  exit code: 1\n",
      "  \n",
      "  [85 lines of output]\n",
      "  running install\n",
      "  running build\n",
      "  running build_py\n",
      "  creating build\n",
      "  creating build\\lib.win-amd64-3.10\n",
      "  copying python\\apriltag.py -> build\\lib.win-amd64-3.10\n",
      "  running build_ext\n",
      "  -- Building for: Visual Studio 16 2019\n",
      "  -- Selecting Windows SDK version 10.0.19041.0 to target Windows 10.0.19043.\n",
      "  -- The C compiler identification is MSVC 19.29.30140.0\n",
      "  -- The CXX compiler identification is MSVC 19.29.30140.0\n",
      "  -- Detecting C compiler ABI info\n",
      "  -- Detecting C compiler ABI info - done\n",
      "  -- Check for working C compiler: C:/Program Files (x86)/Microsoft Visual Studio/2019/Community/VC/Tools/MSVC/14.29.30133/bin/Hostx64/x64/cl.exe - skipped\n",
      "  -- Detecting C compile features\n",
      "  -- Detecting C compile features - done\n",
      "  -- Detecting CXX compiler ABI info\n",
      "  -- Detecting CXX compiler ABI info - done\n",
      "  -- Check for working CXX compiler: C:/Program Files (x86)/Microsoft Visual Studio/2019/Community/VC/Tools/MSVC/14.29.30133/bin/Hostx64/x64/cl.exe - skipped\n",
      "  -- Detecting CXX compile features\n",
      "  -- Detecting CXX compile features - done\n",
      "  CMake Deprecation Warning at CMakeLists.txt:3 (cmake_minimum_required):\n",
      "    Compatibility with CMake < 2.8.12 will be removed from a future version of\n",
      "    CMake.\n",
      "  \n",
      "    Update the VERSION argument <min> value or use a ...<max> suffix to tell\n",
      "    CMake that the project does not need compatibility with older versions.\n",
      "  \n",
      "  \n",
      "  -- Looking for pthread.h\n",
      "  -- Looking for pthread.h - not found\n",
      "  -- Found Threads: TRUE\n",
      "  -- Could NOT find PkgConfig (missing: PKG_CONFIG_EXECUTABLE)\n",
      "  -- Checking for one of the modules 'opencv>=2.3;opencv-2.3.1;opencv-3.0.0'\n",
      "  -- Configuring done\n",
      "  -- Generating done\n",
      "  CMake Warning:\n",
      "    Manually-specified variables were not used by the project:\n",
      "  \n",
      "      PYTHON_EXECUTABLE\n",
      "  \n",
      "  \n",
      "  -- Build files have been written to: C:/Users/udupa/AppData/Local/Temp/pip-install-zvcy3bxt/apriltag_80b4e2ec03dd428d95c10454c179beb5/build/temp.win-amd64-3.10/Release\n",
      "  Microsoft (R) Build Engine version 16.11.2+f32259642 for .NET Framework\n",
      "  Copyright (C) Microsoft Corporation. All rights reserved.\n",
      "  \n",
      "  C:\\Program Files (x86)\\Microsoft Visual Studio\\2019\\Community\\MSBuild\\Microsoft\\VC\\v160\\Microsoft.CppBuild.targets(517,5): warning MSB8029: The Intermediate directory or Output directory cannot reside under the Temporary directory as it could lead to issues with incremental build. [C:\\Users\\udupa\\AppData\\Local\\Temp\\pip-install-zvcy3bxt\\apriltag_80b4e2ec03dd428d95c10454c179beb5\\build\\temp.win-amd64-3.10\\Release\\ZERO_CHECK.vcxproj]\n",
      "    Checking Build System\n",
      "  C:\\Program Files (x86)\\Microsoft Visual Studio\\2019\\Community\\MSBuild\\Microsoft\\VC\\v160\\Microsoft.CppBuild.targets(517,5): warning MSB8029: The Intermediate directory or Output directory cannot reside under the Temporary directory as it could lead to issues with incremental build. [C:\\Users\\udupa\\AppData\\Local\\Temp\\pip-install-zvcy3bxt\\apriltag_80b4e2ec03dd428d95c10454c179beb5\\build\\temp.win-amd64-3.10\\Release\\core\\apriltag.vcxproj]\n",
      "    Building Custom Rule C:/Users/udupa/AppData/Local/Temp/pip-install-zvcy3bxt/apriltag_80b4e2ec03dd428d95c10454c179beb5/core/CMakeLists.txt\n",
      "  cl : command line error D8021: invalid numeric argument '/Wsign-compare' [C:\\Users\\udupa\\AppData\\Local\\Temp\\pip-install-zvcy3bxt\\apriltag_80b4e2ec03dd428d95c10454c179beb5\\build\\temp.win-amd64-3.10\\Release\\core\\apriltag.vcxproj]\n",
      "  Traceback (most recent call last):\n",
      "    File \"<string>\", line 2, in <module>\n",
      "    File \"<pip-setuptools-caller>\", line 34, in <module>\n",
      "    File \"C:\\Users\\udupa\\AppData\\Local\\Temp\\pip-install-zvcy3bxt\\apriltag_80b4e2ec03dd428d95c10454c179beb5\\setup.py\", line 62, in <module>\n",
      "      setup(\n",
      "    File \"C:\\code\\python\\pyimagesearch_uni\\env\\lib\\site-packages\\setuptools\\__init__.py\", line 153, in setup\n",
      "      return distutils.core.setup(**attrs)\n",
      "    File \"C:\\Users\\udupa\\AppData\\Local\\Programs\\Python\\Python310\\lib\\distutils\\core.py\", line 148, in setup\n",
      "      dist.run_commands()\n",
      "    File \"C:\\Users\\udupa\\AppData\\Local\\Programs\\Python\\Python310\\lib\\distutils\\dist.py\", line 966, in run_commands\n",
      "      self.run_command(cmd)\n",
      "    File \"C:\\Users\\udupa\\AppData\\Local\\Programs\\Python\\Python310\\lib\\distutils\\dist.py\", line 985, in run_command\n",
      "      cmd_obj.run()\n",
      "    File \"C:\\code\\python\\pyimagesearch_uni\\env\\lib\\site-packages\\setuptools\\command\\install.py\", line 61, in run\n",
      "      return orig.install.run(self)\n",
      "    File \"C:\\Users\\udupa\\AppData\\Local\\Programs\\Python\\Python310\\lib\\distutils\\command\\install.py\", line 568, in run\n",
      "      self.run_command('build')\n",
      "    File \"C:\\Users\\udupa\\AppData\\Local\\Programs\\Python\\Python310\\lib\\distutils\\cmd.py\", line 313, in run_command\n",
      "      self.distribution.run_command(command)\n",
      "    File \"C:\\Users\\udupa\\AppData\\Local\\Programs\\Python\\Python310\\lib\\distutils\\dist.py\", line 985, in run_command\n",
      "      cmd_obj.run()\n",
      "    File \"C:\\Users\\udupa\\AppData\\Local\\Programs\\Python\\Python310\\lib\\distutils\\command\\build.py\", line 135, in run\n",
      "      self.run_command(cmd_name)\n",
      "    File \"C:\\Users\\udupa\\AppData\\Local\\Programs\\Python\\Python310\\lib\\distutils\\cmd.py\", line 313, in run_command\n",
      "      self.distribution.run_command(command)\n",
      "    File \"C:\\Users\\udupa\\AppData\\Local\\Programs\\Python\\Python310\\lib\\distutils\\dist.py\", line 985, in run_command\n",
      "      cmd_obj.run()\n",
      "    File \"C:\\Users\\udupa\\AppData\\Local\\Temp\\pip-install-zvcy3bxt\\apriltag_80b4e2ec03dd428d95c10454c179beb5\\setup.py\", line 35, in run\n",
      "      self.build_extension(ext)\n",
      "    File \"C:\\Users\\udupa\\AppData\\Local\\Temp\\pip-install-zvcy3bxt\\apriltag_80b4e2ec03dd428d95c10454c179beb5\\setup.py\", line 60, in build_extension\n",
      "      subprocess.check_call(['cmake', '--build', '.'] + build_args, cwd=self.build_temp)\n",
      "    File \"C:\\Users\\udupa\\AppData\\Local\\Programs\\Python\\Python310\\lib\\subprocess.py\", line 369, in check_call\n",
      "      raise CalledProcessError(retcode, cmd)\n",
      "  subprocess.CalledProcessError: Command '['cmake', '--build', '.', '--config', 'Release', '--', '/m']' returned non-zero exit status 1.\n",
      "  [end of output]\n",
      "  \n",
      "  note: This error originates from a subprocess, and is likely not a problem with pip.\n",
      "error: legacy-install-failure\n",
      "\n",
      "Encountered error while trying to install package.\n",
      "\n",
      "apriltag\n",
      "\n",
      "note: This is an issue with the package mentioned above, not pip.\n",
      "hint: See above for output from the failure.\n"
     ]
    }
   ],
   "source": [
    "!pip install apriltag"
   ]
  },
  {
   "cell_type": "code",
   "execution_count": 2,
   "id": "7267268d-5dec-4462-be61-b14cfde1d038",
   "metadata": {},
   "outputs": [
    {
     "name": "stderr",
     "output_type": "stream",
     "text": [
      "'wget' is not recognized as an internal or external command,\n",
      "operable program or batch file.\n"
     ]
    },
    {
     "name": "stdout",
     "output_type": "stream",
     "text": [
      "[WinError 2] The system cannot find the file specified: 'python-apriltag'\n",
      "C:\\code\\python\\pyimagesearch_uni\\augmented_reality\\101\n"
     ]
    },
    {
     "name": "stderr",
     "output_type": "stream",
     "text": [
      "'unzip' is not recognized as an internal or external command,\n",
      "operable program or batch file.\n"
     ]
    }
   ],
   "source": [
    "!wget https://pyimagesearch-code-downloads.s3-us-west-2.amazonaws.com/python-apriltag/python-apriltag.zip\n",
    "!unzip -qq python-apriltag.zip\n",
    "%cd python-apriltag"
   ]
  },
  {
   "cell_type": "code",
   "execution_count": 3,
   "id": "f7d6ef24-0f62-4418-aba2-2f2de1357e9b",
   "metadata": {},
   "outputs": [
    {
     "ename": "ModuleNotFoundError",
     "evalue": "No module named 'matplotlib'",
     "output_type": "error",
     "traceback": [
      "\u001b[1;31m---------------------------------------------------------------------------\u001b[0m",
      "\u001b[1;31mModuleNotFoundError\u001b[0m                       Traceback (most recent call last)",
      "Input \u001b[1;32mIn [3]\u001b[0m, in \u001b[0;36m<cell line: 2>\u001b[1;34m()\u001b[0m\n\u001b[0;32m      1\u001b[0m \u001b[38;5;66;03m# import the necessary packages\u001b[39;00m\n\u001b[1;32m----> 2\u001b[0m \u001b[38;5;28;01mimport\u001b[39;00m \u001b[38;5;21;01mmatplotlib\u001b[39;00m\u001b[38;5;21;01m.\u001b[39;00m\u001b[38;5;21;01mpyplot\u001b[39;00m \u001b[38;5;28;01mas\u001b[39;00m \u001b[38;5;21;01mplt\u001b[39;00m\n\u001b[0;32m      3\u001b[0m \u001b[38;5;28;01mimport\u001b[39;00m \u001b[38;5;21;01mapriltag\u001b[39;00m\n\u001b[0;32m      4\u001b[0m \u001b[38;5;28;01mimport\u001b[39;00m \u001b[38;5;21;01margparse\u001b[39;00m\n",
      "\u001b[1;31mModuleNotFoundError\u001b[0m: No module named 'matplotlib'"
     ]
    }
   ],
   "source": [
    "# import the necessary packages\n",
    "import matplotlib.pyplot as plt\n",
    "import apriltag\n",
    "import argparse\n",
    "import cv2"
   ]
  },
  {
   "cell_type": "code",
   "execution_count": 4,
   "id": "87da55d9-6dfe-4fb5-ba16-e3211480b7e8",
   "metadata": {},
   "outputs": [],
   "source": [
    "def plt_imshow(title, image):\n",
    "\t# convert the image frame BGR to RGB color space and display it\n",
    "\timage = cv2.cvtColor(image, cv2.COLOR_BGR2RGB)\n",
    "\tplt.imshow(image)\n",
    "\tplt.title(title)\n",
    "\tplt.grid(False)\n",
    "\tplt.show()"
   ]
  },
  {
   "cell_type": "code",
   "execution_count": 5,
   "id": "0ead036e-6bed-4766-8caa-1cd14a85995f",
   "metadata": {},
   "outputs": [],
   "source": [
    "# # construct the argument parser and parse the arguments\n",
    "# ap = argparse.ArgumentParser()\n",
    "# ap.add_argument(\"-i\", \"--image\", required=True,\n",
    "# \thelp=\"path to input image containing AprilTag\")\n",
    "# args = vars(ap.parse_args())\n",
    "\n",
    "# since we are using Jupyter Notebooks we can replace our argument\n",
    "# parsing code with *hard coded* arguments and values\n",
    "args = {\n",
    "\t\"image\": \"images/example_02.png\"\n",
    "}"
   ]
  },
  {
   "cell_type": "code",
   "execution_count": 6,
   "id": "93fd6883-e9f9-4d4e-8ab7-fdf2cde6836f",
   "metadata": {},
   "outputs": [
    {
     "name": "stdout",
     "output_type": "stream",
     "text": [
      "[INFO] loading image...\n"
     ]
    },
    {
     "ename": "NameError",
     "evalue": "name 'cv2' is not defined",
     "output_type": "error",
     "traceback": [
      "\u001b[1;31m---------------------------------------------------------------------------\u001b[0m",
      "\u001b[1;31mNameError\u001b[0m                                 Traceback (most recent call last)",
      "Input \u001b[1;32mIn [6]\u001b[0m, in \u001b[0;36m<cell line: 3>\u001b[1;34m()\u001b[0m\n\u001b[0;32m      1\u001b[0m \u001b[38;5;66;03m# load the input image and convert it to grayscale\u001b[39;00m\n\u001b[0;32m      2\u001b[0m \u001b[38;5;28mprint\u001b[39m(\u001b[38;5;124m\"\u001b[39m\u001b[38;5;124m[INFO] loading image...\u001b[39m\u001b[38;5;124m\"\u001b[39m)\n\u001b[1;32m----> 3\u001b[0m image \u001b[38;5;241m=\u001b[39m \u001b[43mcv2\u001b[49m\u001b[38;5;241m.\u001b[39mimread(args[\u001b[38;5;124m\"\u001b[39m\u001b[38;5;124mimage\u001b[39m\u001b[38;5;124m\"\u001b[39m])\n\u001b[0;32m      4\u001b[0m gray \u001b[38;5;241m=\u001b[39m cv2\u001b[38;5;241m.\u001b[39mcvtColor(image, cv2\u001b[38;5;241m.\u001b[39mCOLOR_BGR2GRAY)\n",
      "\u001b[1;31mNameError\u001b[0m: name 'cv2' is not defined"
     ]
    }
   ],
   "source": [
    "# load the input image and convert it to grayscale\n",
    "print(\"[INFO] loading image...\")\n",
    "image = cv2.imread(args[\"image\"])\n",
    "gray = cv2.cvtColor(image, cv2.COLOR_BGR2GRAY)"
   ]
  },
  {
   "cell_type": "code",
   "execution_count": 7,
   "id": "35a8bd59-8d6a-482c-a0b9-2bdd20ab7299",
   "metadata": {},
   "outputs": [
    {
     "name": "stdout",
     "output_type": "stream",
     "text": [
      "[INFO] detecting AprilTags...\n"
     ]
    },
    {
     "ename": "NameError",
     "evalue": "name 'apriltag' is not defined",
     "output_type": "error",
     "traceback": [
      "\u001b[1;31m---------------------------------------------------------------------------\u001b[0m",
      "\u001b[1;31mNameError\u001b[0m                                 Traceback (most recent call last)",
      "Input \u001b[1;32mIn [7]\u001b[0m, in \u001b[0;36m<cell line: 4>\u001b[1;34m()\u001b[0m\n\u001b[0;32m      1\u001b[0m \u001b[38;5;66;03m# define the AprilTags detector options and then detect the AprilTags\u001b[39;00m\n\u001b[0;32m      2\u001b[0m \u001b[38;5;66;03m# in the input image\u001b[39;00m\n\u001b[0;32m      3\u001b[0m \u001b[38;5;28mprint\u001b[39m(\u001b[38;5;124m\"\u001b[39m\u001b[38;5;124m[INFO] detecting AprilTags...\u001b[39m\u001b[38;5;124m\"\u001b[39m)\n\u001b[1;32m----> 4\u001b[0m options \u001b[38;5;241m=\u001b[39m \u001b[43mapriltag\u001b[49m\u001b[38;5;241m.\u001b[39mDetectorOptions(families\u001b[38;5;241m=\u001b[39m\u001b[38;5;124m\"\u001b[39m\u001b[38;5;124mtag36h11\u001b[39m\u001b[38;5;124m\"\u001b[39m)\n\u001b[0;32m      5\u001b[0m detector \u001b[38;5;241m=\u001b[39m apriltag\u001b[38;5;241m.\u001b[39mDetector(options)\n\u001b[0;32m      6\u001b[0m results \u001b[38;5;241m=\u001b[39m detector\u001b[38;5;241m.\u001b[39mdetect(gray)\n",
      "\u001b[1;31mNameError\u001b[0m: name 'apriltag' is not defined"
     ]
    }
   ],
   "source": [
    "# define the AprilTags detector options and then detect the AprilTags\n",
    "# in the input image\n",
    "print(\"[INFO] detecting AprilTags...\")\n",
    "options = apriltag.DetectorOptions(families=\"tag36h11\")\n",
    "detector = apriltag.Detector(options)\n",
    "results = detector.detect(gray)\n",
    "print(\"[INFO] {} total AprilTags detected\".format(len(results)))"
   ]
  },
  {
   "cell_type": "code",
   "execution_count": 8,
   "id": "bc130691-77ad-4855-9378-87ebf9a0683a",
   "metadata": {},
   "outputs": [
    {
     "ename": "NameError",
     "evalue": "name 'results' is not defined",
     "output_type": "error",
     "traceback": [
      "\u001b[1;31m---------------------------------------------------------------------------\u001b[0m",
      "\u001b[1;31mNameError\u001b[0m                                 Traceback (most recent call last)",
      "Input \u001b[1;32mIn [8]\u001b[0m, in \u001b[0;36m<cell line: 2>\u001b[1;34m()\u001b[0m\n\u001b[0;32m      1\u001b[0m \u001b[38;5;66;03m# loop over the AprilTag detection results\u001b[39;00m\n\u001b[1;32m----> 2\u001b[0m \u001b[38;5;28;01mfor\u001b[39;00m r \u001b[38;5;129;01min\u001b[39;00m \u001b[43mresults\u001b[49m:\n\u001b[0;32m      3\u001b[0m \t\u001b[38;5;66;03m# extract the bounding box (x, y)-coordinates for the AprilTag\u001b[39;00m\n\u001b[0;32m      4\u001b[0m \t\u001b[38;5;66;03m# and convert each of the (x, y)-coordinate pairs to integers\u001b[39;00m\n\u001b[0;32m      5\u001b[0m \t(ptA, ptB, ptC, ptD) \u001b[38;5;241m=\u001b[39m r\u001b[38;5;241m.\u001b[39mcorners\n\u001b[0;32m      6\u001b[0m \tptB \u001b[38;5;241m=\u001b[39m (\u001b[38;5;28mint\u001b[39m(ptB[\u001b[38;5;241m0\u001b[39m]), \u001b[38;5;28mint\u001b[39m(ptB[\u001b[38;5;241m1\u001b[39m]))\n",
      "\u001b[1;31mNameError\u001b[0m: name 'results' is not defined"
     ]
    }
   ],
   "source": [
    "# loop over the AprilTag detection results\n",
    "for r in results:\n",
    "\t# extract the bounding box (x, y)-coordinates for the AprilTag\n",
    "\t# and convert each of the (x, y)-coordinate pairs to integers\n",
    "\t(ptA, ptB, ptC, ptD) = r.corners\n",
    "\tptB = (int(ptB[0]), int(ptB[1]))\n",
    "\tptC = (int(ptC[0]), int(ptC[1]))\n",
    "\tptD = (int(ptD[0]), int(ptD[1]))\n",
    "\tptA = (int(ptA[0]), int(ptA[1]))\n",
    "\n",
    "\t# draw the bounding box of the AprilTag detection\n",
    "\tcv2.line(image, ptA, ptB, (0, 255, 0), 2)\n",
    "\tcv2.line(image, ptB, ptC, (0, 255, 0), 2)\n",
    "\tcv2.line(image, ptC, ptD, (0, 255, 0), 2)\n",
    "\tcv2.line(image, ptD, ptA, (0, 255, 0), 2)\n",
    "\n",
    "\t# draw the center (x, y)-coordinates of the AprilTag\n",
    "\t(cX, cY) = (int(r.center[0]), int(r.center[1]))\n",
    "\tcv2.circle(image, (cX, cY), 5, (0, 0, 255), -1)\n",
    "\n",
    "\t# draw the tag family on the image\n",
    "\ttagFamily = r.tag_family.decode(\"utf-8\")\n",
    "\tcv2.putText(image, tagFamily, (ptA[0], ptA[1] - 15),\n",
    "\t\tcv2.FONT_HERSHEY_SIMPLEX, 0.5, (0, 255, 0), 2)\n",
    "\tprint(\"[INFO] tag family: {}\".format(tagFamily))\n",
    " \n",
    " # show the output image after AprilTag detection\n",
    "plt_imshow(\"Image\", image)"
   ]
  },
  {
   "cell_type": "code",
   "execution_count": null,
   "id": "e7ea4bab-7f15-4673-8815-a5d6b1c68e9b",
   "metadata": {},
   "outputs": [],
   "source": []
  }
 ],
 "metadata": {
  "kernelspec": {
   "display_name": "pyimgsearch",
   "language": "python",
   "name": "pyimgsearch"
  },
  "language_info": {
   "codemirror_mode": {
    "name": "ipython",
    "version": 3
   },
   "file_extension": ".py",
   "mimetype": "text/x-python",
   "name": "python",
   "nbconvert_exporter": "python",
   "pygments_lexer": "ipython3",
   "version": "3.10.4"
  }
 },
 "nbformat": 4,
 "nbformat_minor": 5
}
