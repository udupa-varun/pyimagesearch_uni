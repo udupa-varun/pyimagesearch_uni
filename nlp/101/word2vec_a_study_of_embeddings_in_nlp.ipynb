{
  "nbformat": 4,
  "nbformat_minor": 0,
  "metadata": {
    "colab": {
      "provenance": [],
      "authorship_tag": "ABX9TyPBKGck1NGV0/9O0UBclNa0",
      "include_colab_link": true
    },
    "kernelspec": {
      "name": "python3",
      "display_name": "Python 3"
    },
    "language_info": {
      "name": "python"
    }
  },
  "cells": [
    {
      "cell_type": "markdown",
      "metadata": {
        "id": "view-in-github",
        "colab_type": "text"
      },
      "source": [
        "<a href=\"https://colab.research.google.com/github/udupa-varun/pyimagesearch_uni/blob/main/nlp/101/word2vec_a_study_of_embeddings_in_nlp.ipynb\" target=\"_parent\"><img src=\"https://colab.research.google.com/assets/colab-badge.svg\" alt=\"Open In Colab\"/></a>"
      ]
    },
    {
      "cell_type": "code",
      "execution_count": 1,
      "metadata": {
        "id": "IvsDa8JAkGHd"
      },
      "outputs": [],
      "source": [
        "!pip install plotly -qq"
      ]
    },
    {
      "cell_type": "code",
      "source": [
        "!wget https://pyimagesearch-code-downloads.s3-us-west-2.amazonaws.com/word2vec/word2vec.zip\n",
        "!unzip -qq word2vec.zip\n",
        "%cd word2vec"
      ],
      "metadata": {
        "id": "zM8ZSZxhkKXZ",
        "outputId": "fc150071-b24f-4a64-9faa-100e98616e42",
        "colab": {
          "base_uri": "https://localhost:8080/"
        }
      },
      "execution_count": 2,
      "outputs": [
        {
          "output_type": "stream",
          "name": "stdout",
          "text": [
            "--2024-01-14 22:42:37--  https://pyimagesearch-code-downloads.s3-us-west-2.amazonaws.com/word2vec/word2vec.zip\n",
            "Resolving pyimagesearch-code-downloads.s3-us-west-2.amazonaws.com (pyimagesearch-code-downloads.s3-us-west-2.amazonaws.com)... 3.5.82.189, 3.5.80.149, 52.218.180.41, ...\n",
            "Connecting to pyimagesearch-code-downloads.s3-us-west-2.amazonaws.com (pyimagesearch-code-downloads.s3-us-west-2.amazonaws.com)|3.5.82.189|:443... connected.\n",
            "HTTP request sent, awaiting response... 200 OK\n",
            "Length: 190090 (186K) [binary/octet-stream]\n",
            "Saving to: ‘word2vec.zip’\n",
            "\n",
            "word2vec.zip        100%[===================>] 185.63K   873KB/s    in 0.2s    \n",
            "\n",
            "2024-01-14 22:42:38 (873 KB/s) - ‘word2vec.zip’ saved [190090/190090]\n",
            "\n",
            "/content/word2vec\n"
          ]
        }
      ]
    },
    {
      "cell_type": "code",
      "source": [
        "import os\n",
        "\n",
        "import tensorflow as tf\n",
        "tf.random.set_seed(42)\n",
        "\n",
        "from sklearn.manifold import TSNE\n",
        "from tqdm import tqdm\n",
        "import matplotlib.pyplot as plt\n",
        "import plotly.express as px\n",
        "import numpy as np\n",
        "import pandas as pd"
      ],
      "metadata": {
        "id": "ukfD4vUHkL2I"
      },
      "execution_count": 3,
      "outputs": []
    },
    {
      "cell_type": "code",
      "source": [
        "class Config:\n",
        "    EMBEDDING_SIZE = 10\n",
        "\n",
        "    WINDOW_SIZE = 5\n",
        "    ITERATIONS = 200\n",
        "\n",
        "    OUTPUT_PATH = \"outputs\"\n",
        "\n",
        "    # path to skipgram outputs\n",
        "    SKIPGRAM_LOSS = os.path.join(OUTPUT_PATH, \"loss_skipgram\")\n",
        "    SKIPGRAM_LOSS = os.path.join(OUTPUT_PATH, \"tsne_skipgram\")\n",
        "\n",
        "    # path to CBOW outputs\n",
        "    CBOW_LOSS = os.path.join(OUTPUT_PATH, \"loss_cbow\")\n",
        "    CBOW_LOSS = os.path.join(OUTPUT_PATH, \"tsne_cbow\")\n",
        "\n",
        "config = Config()"
      ],
      "metadata": {
        "id": "vBlIYTZfI-IL"
      },
      "execution_count": 4,
      "outputs": []
    },
    {
      "cell_type": "markdown",
      "source": [
        "### Tokenize the data"
      ],
      "metadata": {
        "id": "06rilcC3KssP"
      }
    },
    {
      "cell_type": "code",
      "source": [
        "def tokenize_data(data):\n",
        "    # convert data into tokens\n",
        "    tokenized_text = tf.keras.preprocessing.text.text_to_word_sequence(data)\n",
        "    # tokenized_text = tf.strings.split(data).ref()\n",
        "    # print(tokenized_text)\n",
        "\n",
        "    # create and store vocabulary of unique words\n",
        "    # along with the size of the tokenized texts\n",
        "    vocab = sorted(set(tokenized_text))\n",
        "    tokenized_text_size = len(tokenized_text)\n",
        "\n",
        "    return (vocab, tokenized_text_size, tokenized_text)"
      ],
      "metadata": {
        "id": "1isWKDu7KrAl"
      },
      "execution_count": 25,
      "outputs": []
    },
    {
      "cell_type": "markdown",
      "source": [
        "### CBOW"
      ],
      "metadata": {
        "id": "ZubUBdzfMMfb"
      }
    },
    {
      "cell_type": "code",
      "source": [
        "# read input data from disk\n",
        "print(\"[INFO] reading data from file...\")\n",
        "with open(\"data.txt\", \"r\") as fp:\n",
        "    lines = fp.readlines()\n",
        "text_data = \"\".join(lines)"
      ],
      "metadata": {
        "colab": {
          "base_uri": "https://localhost:8080/"
        },
        "id": "fgYkSzV5MLsU",
        "outputId": "376b78f5-6573-4801-df21-3df9b4e60beb"
      },
      "execution_count": 9,
      "outputs": [
        {
          "output_type": "stream",
          "name": "stdout",
          "text": [
            "[INFO] reading data from file...\n"
          ]
        }
      ]
    },
    {
      "cell_type": "code",
      "source": [
        "# tokenize text data\n",
        "(vocab, tokenized_text_size, tokenized_text) = tokenize_data(text_data)\n",
        "\n",
        "# map vocab words to individual indices\n",
        "# and map the indices to the words in vocab\n",
        "vocab_to_index = {unique_word:idx for (idx, unique_word) in enumerate(vocab)}\n",
        "index_to_vocab = np.array(vocab)\n",
        "\n",
        "# convert tokens to numbers\n",
        "text_as_int = np.array([vocab_to_index[word] for word in tokenized_text])\n",
        "\n",
        "# create representational matrices as variable tensors\n",
        "context_vector_matrix = tf.Variable(\n",
        "    np.random.rand(tokenized_text_size, config.EMBEDDING_SIZE)\n",
        ")\n",
        "center_vector_matrix = tf.Variable(\n",
        "    np.random.rand(tokenized_text_size, config.EMBEDDING_SIZE)\n",
        ")"
      ],
      "metadata": {
        "id": "JUUjcOsrMfQO"
      },
      "execution_count": 26,
      "outputs": []
    },
    {
      "cell_type": "code",
      "source": [
        "# init optimizer and create empty list to log loss\n",
        "optimizer = tf.optimizers.Adam()\n",
        "loss_list = list()\n",
        "\n",
        "# loop over training epochs\n",
        "print(\"[INFO] Starting CBOW training...\")\n",
        "for iter in tqdm(range(config.ITERATIONS)):\n",
        "    # init loss per epoch\n",
        "    loss_per_epoch = 0\n",
        "\n",
        "    # the window for center vector prediction is created\n",
        "    for start in range(tokenized_text_size - config.WINDOW_SIZE):\n",
        "        # generate indices for the window\n",
        "        indices = text_as_int[start:start + config.WINDOW_SIZE]\n",
        "\n",
        "        # init gradient tape\n",
        "        with tf.GradientTape() as tape:\n",
        "            # init context vector\n",
        "            combined_context = 0\n",
        "\n",
        "            # loop over indices and grab neighboring word representation\n",
        "            # from embedding matrix\n",
        "            for (count, idx) in enumerate(indices):\n",
        "                if count != config.WINDOW_SIZE // 2:\n",
        "                    combined_context += context_vector_matrix[idx, :]\n",
        "\n",
        "            # standardize result according to window size\n",
        "            combined_context /= (config.WINDOW_SIZE - 1)\n",
        "\n",
        "            # calculate center word embedding predictions\n",
        "            output = tf.matmul(\n",
        "                center_vector_matrix,\n",
        "                tf.expand_dims(combined_context, 1)\n",
        "            )\n",
        "\n",
        "            # apply softmax loss and grab relevant index\n",
        "            soft_out = tf.nn.softmax(output, axis=0)\n",
        "            loss = soft_out[indices[config.WINDOW_SIZE // 2]]\n",
        "\n",
        "            # calculate log loss\n",
        "            log_loss = -tf.math.log(loss)\n",
        "\n",
        "        # update loss per epoch\n",
        "        loss_per_epoch += log_loss.numpy()\n",
        "        # apply gradients to embedding matrices\n",
        "        grad = tape.gradient(\n",
        "            log_loss, [context_vector_matrix, center_vector_matrix]\n",
        "        )\n",
        "        optimizer.apply_gradients(\n",
        "            zip(grad, [context_vector_matrix, center_vector_matrix])\n",
        "        )\n",
        "\n",
        "    # update loss list\n",
        "    loss_list.append(loss_per_epoch)"
      ],
      "metadata": {
        "colab": {
          "base_uri": "https://localhost:8080/"
        },
        "id": "qq1tK6m1N7vC",
        "outputId": "c763bc0f-a816-476e-c661-410651c71ecb"
      },
      "execution_count": 28,
      "outputs": [
        {
          "output_type": "stream",
          "name": "stdout",
          "text": [
            "[INFO] Starting CBOW training...\n"
          ]
        },
        {
          "output_type": "stream",
          "name": "stderr",
          "text": [
            "100%|██████████| 200/200 [20:04<00:00,  6.02s/it]\n"
          ]
        }
      ]
    },
    {
      "cell_type": "code",
      "source": [
        "# plot the loss for evaluation\n",
        "print(\"[INFO] Plotting loss...\")\n",
        "plt.plot(loss_list)\n",
        "plt.xlabel(\"epoch\")\n",
        "plt.ylabel(\"loss\")"
      ],
      "metadata": {
        "colab": {
          "base_uri": "https://localhost:8080/",
          "height": 487
        },
        "id": "kPn6JD_DR9i8",
        "outputId": "6444bb9c-a50b-4848-bc8e-f83303679134"
      },
      "execution_count": 36,
      "outputs": [
        {
          "output_type": "stream",
          "name": "stdout",
          "text": [
            "[INFO] Plotting loss...\n"
          ]
        },
        {
          "output_type": "execute_result",
          "data": {
            "text/plain": [
              "Text(0, 0.5, 'loss')"
            ]
          },
          "metadata": {},
          "execution_count": 36
        },
        {
          "output_type": "display_data",
          "data": {
            "text/plain": [
              "<Figure size 640x480 with 1 Axes>"
            ],
            "image/png": "[encoded data removed]"
          },
          "metadata": {}
        }
      ]
    },
    {
      "cell_type": "code",
      "source": [
        "# apply dimensional reductionality using tsne for representation matrices\n",
        "tsne_embed = (\n",
        "    TSNE(n_components=2).fit_transform(center_vector_matrix.numpy())\n",
        ")\n",
        "tsne_decode = (\n",
        "    TSNE(n_components=2).fit_transform(context_vector_matrix.numpy())\n",
        ")"
      ],
      "metadata": {
        "id": "V3VGb9juS8cI"
      },
      "execution_count": 30,
      "outputs": []
    },
    {
      "cell_type": "code",
      "source": [
        "# build a dataset of tsne for plotly\n",
        "cbow_tsne_df = pd.DataFrame(\n",
        "    {\n",
        "        \"x\": tsne_decode[:100, 0],\n",
        "        \"y\": tsne_decode[:100, 1],\n",
        "        \"word\": index_to_vocab[list(range(100))]\n",
        "    }\n",
        ")"
      ],
      "metadata": {
        "id": "NkJ_f5U-Tws8"
      },
      "execution_count": 31,
      "outputs": []
    },
    {
      "cell_type": "code",
      "source": [
        "# tsne plot\n",
        "px.scatter(data_frame=cbow_tsne_df, x=\"x\", y=\"y\", hover_data=[\"word\"])"
      ],
      "metadata": {
        "colab": {
          "base_uri": "https://localhost:8080/",
          "height": 542
        },
        "id": "dTvQNAHoUKqk",
        "outputId": "b91e46e7-636a-4779-f45d-ece894cd0019"
      },
      "execution_count": 32,
      "outputs": [
        {
          "output_type": "display_data",
          "data": {
            "text/html": [
              "<html>\n",
              "<head><meta charset=\"utf-8\" /></head>\n",
              "<body>\n",
              "    <div>            <script src=\"https://cdnjs.cloudflare.com/ajax/libs/mathjax/2.7.5/MathJax.js?config=TeX-AMS-MML_SVG\"></script><script type=\"text/javascript\">if (window.MathJax && window.MathJax.Hub && window.MathJax.Hub.Config) {window.MathJax.Hub.Config({SVG: {font: \"STIX-Web\"}});}</script>                <script type=\"text/javascript\">window.PlotlyConfig = {MathJaxConfig: 'local'};</script>\n",
              "        <script charset=\"utf-8\" src=\"https://cdn.plot.ly/plotly-2.24.1.min.js\"></script>                <div id=\"c6c57623-8d30-43ed-874b-914a823e1637\" class=\"plotly-graph-div\" style=\"height:525px; width:100%;\"></div>            <script type=\"text/javascript\">                                    window.PLOTLYENV=window.PLOTLYENV || {};                                    if (document.getElementById(\"c6c57623-8d30-43ed-874b-914a823e1637\")) {                    Plotly.newPlot(                        \"c6c57623-8d30-43ed-874b-914a823e1637\",                        [{\"customdata\":[[\"1867\"],[\"1891\"],[\"1895\"],[\"1906\"],[\"1911\"],[\"a\"],[\"about\"],[\"accomplished\"],[\"after\"],[\"age\"],[\"although\"],[\"amicable\"],[\"an\"],[\"and\"],[\"anguish\"],[\"as\"],[\"asked\"],[\"at\"],[\"atom\"],[\"be\"],[\"became\"],[\"began\"],[\"blithe\"],[\"born\"],[\"brilliant\"],[\"by\"],[\"cancer\"],[\"chemistry\"],[\"close\"],[\"closed\"],[\"collaboration\"],[\"consequences\"],[\"continue\"],[\"curie\"],[\"curie\\u2019s\"],[\"daughters\"],[\"day\"],[\"dedicated\"],[\"defiantly\"],[\"degree\"],[\"desolation\"],[\"despondently\"],[\"determined\"],[\"discovered\"],[\"disgruntled\"],[\"disillusioned\"],[\"displayed\"],[\"distress\"],[\"doctorate\"],[\"drawn\"],[\"early\"],[\"earned\"],[\"education\"],[\"element\"],[\"endured\"],[\"entered\"],[\"eventually\"],[\"exposure\"],[\"exuberance\"],[\"fact\"],[\"fade\"],[\"famous\"],[\"fatal\"],[\"father\"],[\"feeling\"],[\"finally\"],[\"first\"],[\"for\"],[\"fortunate\"],[\"french\"],[\"from\"],[\"given\"],[\"great\"],[\"greatest\"],[\"greatly\"],[\"had\"],[\"have\"],[\"heartbreaking\"],[\"helped\"],[\"her\"],[\"herself\"],[\"high\"],[\"higher\"],[\"history\"],[\"horrible\"],[\"horse\"],[\"however\"],[\"husband\"],[\"illness\"],[\"in\"],[\"increased\"],[\"isolating\"],[\"joy\"],[\"killed\"],[\"laboratory\"],[\"later\"],[\"learned\"],[\"learning\"],[\"left\"],[\"long\"]],\"hovertemplate\":\"x=%{x}\\u003cbr\\u003ey=%{y}\\u003cbr\\u003eword=%{customdata[0]}\\u003cextra\\u003e\\u003c\\u002fextra\\u003e\",\"legendgroup\":\"\",\"marker\":{\"color\":\"#636efa\",\"symbol\":\"circle\"},\"mode\":\"markers\",\"name\":\"\",\"orientation\":\"v\",\"showlegend\":false,\"x\":[-6.6981096267700195,-3.2169997692108154,-4.940164089202881,-0.37956395745277405,16.619121551513672,-10.331067085266113,-8.981725692749023,-15.57498550415039,-11.131027221679688,11.957711219787598,10.914379119873047,14.65298080444336,6.431637287139893,11.658255577087402,19.739990234375,17.55976104736328,-4.310631275177002,-13.070695877075195,-2.9658408164978027,-9.524332046508789,10.773560523986816,10.362298011779785,-6.274016380310059,-0.1394493281841278,-15.77272891998291,-19.61485481262207,13.145007133483887,10.5490140914917,-14.441192626953125,-2.96282958984375,11.335851669311523,4.275378704071045,-12.402742385864258,18.98493003845215,-13.377877235412598,-21.615076065063477,15.186375617980957,12.705774307250977,-2.1065285205841064,-9.003437995910645,8.283221244812012,-21.43405532836914,18.546092987060547,15.25868034362793,17.144264221191406,-9.410609245300293,18.361469268798828,-15.267562866210938,17.112384796142578,-18.074010848999023,17.602846145629883,19.119789123535156,15.597635269165039,10.267390251159668,-4.852459907531738,-6.157083988189697,3.1936464309692383,10.443764686584473,9.8377046585083,13.091720581054688,12.71651840209961,-2.089294910430908,11.278770446777344,-0.8740290403366089,4.417613506317139,15.541210174560547,-2.805872678756714,8.29675006866455,-0.4665636718273163,3.4755496978759766,-10.842428207397461,-21.22939109802246,-13.146544456481934,3.3186721801757812,-13.480405807495117,-9.339277267456055,11.449358940124512,-12.307995796203613,10.286437034606934,-8.370440483093262,-21.554189682006836,20.764795303344727,-16.608219146728516,-7.60939884185791,-21.215728759765625,-15.599568367004395,-21.47992706298828,18.49163818359375,-8.575408935546875,-11.8303861618042,18.922117233276367,-0.5238898992538452,-12.503534317016602,-2.9044747352600098,0.4463505148887634,-21.205047607421875,-12.120543479919434,-13.206607818603516,-21.219219207763672,-9.2183256149292],\"xaxis\":\"x\",\"y\":[19.540678024291992,-22.024059295654297,19.2672061920166,-12.39384937286377,-0.21729877591133118,11.523576736450195,-14.45704460144043,11.853687286376953,11.578790664672852,-10.788915634155273,-2.9027597904205322,14.276083946228027,16.29983139038086,-1.6028300523757935,-4.683712959289551,11.522279739379883,-20.778066635131836,8.403579711914062,-15.047943115234375,-18.986042022705078,-10.906827926635742,18.398399353027344,-16.79502296447754,-11.77389144897461,-9.387343406677246,3.286858558654785,6.4639410972595215,11.424120903015137,1.2109086513519287,-15.611337661743164,-19.45348358154297,-14.952817916870117,-15.400751113891602,4.857856273651123,-13.556695938110352,-3.540189743041992,-5.4372878074646,-12.840339660644531,15.22298812866211,-14.582411766052246,-12.241991996765137,10.369430541992188,11.212124824523926,0.7498469352722168,4.828709602355957,10.984830856323242,-4.037379264831543,-12.599550247192383,11.761863708496094,-11.785168647766113,-1.668159008026123,-4.371922016143799,-6.383345127105713,18.3253173828125,-10.694923400878906,18.26600456237793,-12.145950317382812,-3.414820432662964,12.18828296661377,6.529619216918945,-12.560745239257812,20.198379516601562,-18.97834014892578,-14.015006065368652,-18.8569278717041,-8.612552642822266,-16.861934661865234,16.98714828491211,-12.777374267578125,-13.863541603088379,16.905147552490234,-1.1651519536972046,17.531002044677734,-17.839231491088867,-11.5614652633667,15.673852920532227,-1.9820945262908936,0.7999458909034729,-15.898502349853516,-8.697516441345215,-3.1694304943084717,-1.2531850337982178,-7.883996486663818,-8.357636451721191,8.326945304870605,-9.593937873840332,10.736213684082031,-5.573890686035156,-18.0655460357666,3.7701640129089355,-9.833883285522461,21.812265396118164,7.334567546844482,-10.853424072265625,-18.36954689025879,-0.9219443798065186,7.023001194000244,17.57367515563965,8.751770973205566,-18.546300888061523],\"yaxis\":\"y\",\"type\":\"scatter\"}],                        {\"template\":{\"data\":{\"histogram2dcontour\":[{\"type\":\"histogram2dcontour\",\"colorbar\":{\"outlinewidth\":0,\"ticks\":\"\"},\"colorscale\":[[0.0,\"#0d0887\"],[0.1111111111111111,\"#46039f\"],[0.2222222222222222,\"#7201a8\"],[0.3333333333333333,\"#9c179e\"],[0.4444444444444444,\"#bd3786\"],[0.5555555555555556,\"#d8576b\"],[0.6666666666666666,\"#ed7953\"],[0.7777777777777778,\"#fb9f3a\"],[0.8888888888888888,\"#fdca26\"],[1.0,\"#f0f921\"]]}],\"choropleth\":[{\"type\":\"choropleth\",\"colorbar\":{\"outlinewidth\":0,\"ticks\":\"\"}}],\"histogram2d\":[{\"type\":\"histogram2d\",\"colorbar\":{\"outlinewidth\":0,\"ticks\":\"\"},\"colorscale\":[[0.0,\"#0d0887\"],[0.1111111111111111,\"#46039f\"],[0.2222222222222222,\"#7201a8\"],[0.3333333333333333,\"#9c179e\"],[0.4444444444444444,\"#bd3786\"],[0.5555555555555556,\"#d8576b\"],[0.6666666666666666,\"#ed7953\"],[0.7777777777777778,\"#fb9f3a\"],[0.8888888888888888,\"#fdca26\"],[1.0,\"#f0f921\"]]}],\"heatmap\":[{\"type\":\"heatmap\",\"colorbar\":{\"outlinewidth\":0,\"ticks\":\"\"},\"colorscale\":[[0.0,\"#0d0887\"],[0.1111111111111111,\"#46039f\"],[0.2222222222222222,\"#7201a8\"],[0.3333333333333333,\"#9c179e\"],[0.4444444444444444,\"#bd3786\"],[0.5555555555555556,\"#d8576b\"],[0.6666666666666666,\"#ed7953\"],[0.7777777777777778,\"#fb9f3a\"],[0.8888888888888888,\"#fdca26\"],[1.0,\"#f0f921\"]]}],\"heatmapgl\":[{\"type\":\"heatmapgl\",\"colorbar\":{\"outlinewidth\":0,\"ticks\":\"\"},\"colorscale\":[[0.0,\"#0d0887\"],[0.1111111111111111,\"#46039f\"],[0.2222222222222222,\"#7201a8\"],[0.3333333333333333,\"#9c179e\"],[0.4444444444444444,\"#bd3786\"],[0.5555555555555556,\"#d8576b\"],[0.6666666666666666,\"#ed7953\"],[0.7777777777777778,\"#fb9f3a\"],[0.8888888888888888,\"#fdca26\"],[1.0,\"#f0f921\"]]}],\"contourcarpet\":[{\"type\":\"contourcarpet\",\"colorbar\":{\"outlinewidth\":0,\"ticks\":\"\"}}],\"contour\":[{\"type\":\"contour\",\"colorbar\":{\"outlinewidth\":0,\"ticks\":\"\"},\"colorscale\":[[0.0,\"#0d0887\"],[0.1111111111111111,\"#46039f\"],[0.2222222222222222,\"#7201a8\"],[0.3333333333333333,\"#9c179e\"],[0.4444444444444444,\"#bd3786\"],[0.5555555555555556,\"#d8576b\"],[0.6666666666666666,\"#ed7953\"],[0.7777777777777778,\"#fb9f3a\"],[0.8888888888888888,\"#fdca26\"],[1.0,\"#f0f921\"]]}],\"surface\":[{\"type\":\"surface\",\"colorbar\":{\"outlinewidth\":0,\"ticks\":\"\"},\"colorscale\":[[0.0,\"#0d0887\"],[0.1111111111111111,\"#46039f\"],[0.2222222222222222,\"#7201a8\"],[0.3333333333333333,\"#9c179e\"],[0.4444444444444444,\"#bd3786\"],[0.5555555555555556,\"#d8576b\"],[0.6666666666666666,\"#ed7953\"],[0.7777777777777778,\"#fb9f3a\"],[0.8888888888888888,\"#fdca26\"],[1.0,\"#f0f921\"]]}],\"mesh3d\":[{\"type\":\"mesh3d\",\"colorbar\":{\"outlinewidth\":0,\"ticks\":\"\"}}],\"scatter\":[{\"fillpattern\":{\"fillmode\":\"overlay\",\"size\":10,\"solidity\":0.2},\"type\":\"scatter\"}],\"parcoords\":[{\"type\":\"parcoords\",\"line\":{\"colorbar\":{\"outlinewidth\":0,\"ticks\":\"\"}}}],\"scatterpolargl\":[{\"type\":\"scatterpolargl\",\"marker\":{\"colorbar\":{\"outlinewidth\":0,\"ticks\":\"\"}}}],\"bar\":[{\"error_x\":{\"color\":\"#2a3f5f\"},\"error_y\":{\"color\":\"#2a3f5f\"},\"marker\":{\"line\":{\"color\":\"#E5ECF6\",\"width\":0.5},\"pattern\":{\"fillmode\":\"overlay\",\"size\":10,\"solidity\":0.2}},\"type\":\"bar\"}],\"scattergeo\":[{\"type\":\"scattergeo\",\"marker\":{\"colorbar\":{\"outlinewidth\":0,\"ticks\":\"\"}}}],\"scatterpolar\":[{\"type\":\"scatterpolar\",\"marker\":{\"colorbar\":{\"outlinewidth\":0,\"ticks\":\"\"}}}],\"histogram\":[{\"marker\":{\"pattern\":{\"fillmode\":\"overlay\",\"size\":10,\"solidity\":0.2}},\"type\":\"histogram\"}],\"scattergl\":[{\"type\":\"scattergl\",\"marker\":{\"colorbar\":{\"outlinewidth\":0,\"ticks\":\"\"}}}],\"scatter3d\":[{\"type\":\"scatter3d\",\"line\":{\"colorbar\":{\"outlinewidth\":0,\"ticks\":\"\"}},\"marker\":{\"colorbar\":{\"outlinewidth\":0,\"ticks\":\"\"}}}],\"scattermapbox\":[{\"type\":\"scattermapbox\",\"marker\":{\"colorbar\":{\"outlinewidth\":0,\"ticks\":\"\"}}}],\"scatterternary\":[{\"type\":\"scatterternary\",\"marker\":{\"colorbar\":{\"outlinewidth\":0,\"ticks\":\"\"}}}],\"scattercarpet\":[{\"type\":\"scattercarpet\",\"marker\":{\"colorbar\":{\"outlinewidth\":0,\"ticks\":\"\"}}}],\"carpet\":[{\"aaxis\":{\"endlinecolor\":\"#2a3f5f\",\"gridcolor\":\"white\",\"linecolor\":\"white\",\"minorgridcolor\":\"white\",\"startlinecolor\":\"#2a3f5f\"},\"baxis\":{\"endlinecolor\":\"#2a3f5f\",\"gridcolor\":\"white\",\"linecolor\":\"white\",\"minorgridcolor\":\"white\",\"startlinecolor\":\"#2a3f5f\"},\"type\":\"carpet\"}],\"table\":[{\"cells\":{\"fill\":{\"color\":\"#EBF0F8\"},\"line\":{\"color\":\"white\"}},\"header\":{\"fill\":{\"color\":\"#C8D4E3\"},\"line\":{\"color\":\"white\"}},\"type\":\"table\"}],\"barpolar\":[{\"marker\":{\"line\":{\"color\":\"#E5ECF6\",\"width\":0.5},\"pattern\":{\"fillmode\":\"overlay\",\"size\":10,\"solidity\":0.2}},\"type\":\"barpolar\"}],\"pie\":[{\"automargin\":true,\"type\":\"pie\"}]},\"layout\":{\"autotypenumbers\":\"strict\",\"colorway\":[\"#636efa\",\"#EF553B\",\"#00cc96\",\"#ab63fa\",\"#FFA15A\",\"#19d3f3\",\"#FF6692\",\"#B6E880\",\"#FF97FF\",\"#FECB52\"],\"font\":{\"color\":\"#2a3f5f\"},\"hovermode\":\"closest\",\"hoverlabel\":{\"align\":\"left\"},\"paper_bgcolor\":\"white\",\"plot_bgcolor\":\"#E5ECF6\",\"polar\":{\"bgcolor\":\"#E5ECF6\",\"angularaxis\":{\"gridcolor\":\"white\",\"linecolor\":\"white\",\"ticks\":\"\"},\"radialaxis\":{\"gridcolor\":\"white\",\"linecolor\":\"white\",\"ticks\":\"\"}},\"ternary\":{\"bgcolor\":\"#E5ECF6\",\"aaxis\":{\"gridcolor\":\"white\",\"linecolor\":\"white\",\"ticks\":\"\"},\"baxis\":{\"gridcolor\":\"white\",\"linecolor\":\"white\",\"ticks\":\"\"},\"caxis\":{\"gridcolor\":\"white\",\"linecolor\":\"white\",\"ticks\":\"\"}},\"coloraxis\":{\"colorbar\":{\"outlinewidth\":0,\"ticks\":\"\"}},\"colorscale\":{\"sequential\":[[0.0,\"#0d0887\"],[0.1111111111111111,\"#46039f\"],[0.2222222222222222,\"#7201a8\"],[0.3333333333333333,\"#9c179e\"],[0.4444444444444444,\"#bd3786\"],[0.5555555555555556,\"#d8576b\"],[0.6666666666666666,\"#ed7953\"],[0.7777777777777778,\"#fb9f3a\"],[0.8888888888888888,\"#fdca26\"],[1.0,\"#f0f921\"]],\"sequentialminus\":[[0.0,\"#0d0887\"],[0.1111111111111111,\"#46039f\"],[0.2222222222222222,\"#7201a8\"],[0.3333333333333333,\"#9c179e\"],[0.4444444444444444,\"#bd3786\"],[0.5555555555555556,\"#d8576b\"],[0.6666666666666666,\"#ed7953\"],[0.7777777777777778,\"#fb9f3a\"],[0.8888888888888888,\"#fdca26\"],[1.0,\"#f0f921\"]],\"diverging\":[[0,\"#8e0152\"],[0.1,\"#c51b7d\"],[0.2,\"#de77ae\"],[0.3,\"#f1b6da\"],[0.4,\"#fde0ef\"],[0.5,\"#f7f7f7\"],[0.6,\"#e6f5d0\"],[0.7,\"#b8e186\"],[0.8,\"#7fbc41\"],[0.9,\"#4d9221\"],[1,\"#276419\"]]},\"xaxis\":{\"gridcolor\":\"white\",\"linecolor\":\"white\",\"ticks\":\"\",\"title\":{\"standoff\":15},\"zerolinecolor\":\"white\",\"automargin\":true,\"zerolinewidth\":2},\"yaxis\":{\"gridcolor\":\"white\",\"linecolor\":\"white\",\"ticks\":\"\",\"title\":{\"standoff\":15},\"zerolinecolor\":\"white\",\"automargin\":true,\"zerolinewidth\":2},\"scene\":{\"xaxis\":{\"backgroundcolor\":\"#E5ECF6\",\"gridcolor\":\"white\",\"linecolor\":\"white\",\"showbackground\":true,\"ticks\":\"\",\"zerolinecolor\":\"white\",\"gridwidth\":2},\"yaxis\":{\"backgroundcolor\":\"#E5ECF6\",\"gridcolor\":\"white\",\"linecolor\":\"white\",\"showbackground\":true,\"ticks\":\"\",\"zerolinecolor\":\"white\",\"gridwidth\":2},\"zaxis\":{\"backgroundcolor\":\"#E5ECF6\",\"gridcolor\":\"white\",\"linecolor\":\"white\",\"showbackground\":true,\"ticks\":\"\",\"zerolinecolor\":\"white\",\"gridwidth\":2}},\"shapedefaults\":{\"line\":{\"color\":\"#2a3f5f\"}},\"annotationdefaults\":{\"arrowcolor\":\"#2a3f5f\",\"arrowhead\":0,\"arrowwidth\":1},\"geo\":{\"bgcolor\":\"white\",\"landcolor\":\"#E5ECF6\",\"subunitcolor\":\"white\",\"showland\":true,\"showlakes\":true,\"lakecolor\":\"white\"},\"title\":{\"x\":0.05},\"mapbox\":{\"style\":\"light\"}}},\"xaxis\":{\"anchor\":\"y\",\"domain\":[0.0,1.0],\"title\":{\"text\":\"x\"}},\"yaxis\":{\"anchor\":\"x\",\"domain\":[0.0,1.0],\"title\":{\"text\":\"y\"}},\"legend\":{\"tracegroupgap\":0},\"margin\":{\"t\":60}},                        {\"responsive\": true}                    ).then(function(){\n",
              "                            \n",
              "var gd = document.getElementById('c6c57623-8d30-43ed-874b-914a823e1637');\n",
              "var x = new MutationObserver(function (mutations, observer) {{\n",
              "        var display = window.getComputedStyle(gd).display;\n",
              "        if (!display || display === 'none') {{\n",
              "            console.log([gd, 'removed!']);\n",
              "            Plotly.purge(gd);\n",
              "            observer.disconnect();\n",
              "        }}\n",
              "}});\n",
              "\n",
              "// Listen for the removal of the full notebook cells\n",
              "var notebookContainer = gd.closest('#notebook-container');\n",
              "if (notebookContainer) {{\n",
              "    x.observe(notebookContainer, {childList: true});\n",
              "}}\n",
              "\n",
              "// Listen for the clearing of the current output cell\n",
              "var outputEl = gd.closest('.output');\n",
              "if (outputEl) {{\n",
              "    x.observe(outputEl, {childList: true});\n",
              "}}\n",
              "\n",
              "                        })                };                            </script>        </div>\n",
              "</body>\n",
              "</html>"
            ]
          },
          "metadata": {}
        }
      ]
    },
    {
      "cell_type": "markdown",
      "source": [
        "### Skip Gram"
      ],
      "metadata": {
        "id": "rm9BPxAeS3hm"
      }
    },
    {
      "cell_type": "code",
      "source": [
        "# read input data from disk\n",
        "print(\"[INFO] reading data from file...\")\n",
        "with open(\"data.txt\", \"r\") as fp:\n",
        "    lines = fp.readlines()\n",
        "text_data = \"\".join(lines)"
      ],
      "metadata": {
        "colab": {
          "base_uri": "https://localhost:8080/"
        },
        "id": "bNcqGNPKS08t",
        "outputId": "d498bd44-4647-44b6-c4d6-36cb1c328a76"
      },
      "execution_count": 33,
      "outputs": [
        {
          "output_type": "stream",
          "name": "stdout",
          "text": [
            "[INFO] reading data from file...\n"
          ]
        }
      ]
    },
    {
      "cell_type": "code",
      "source": [
        "# tokenize text data\n",
        "(vocab, tokenized_text_size, tokenized_text) = tokenize_data(text_data)\n",
        "\n",
        "# map vocab words to individual indices\n",
        "# and map the indices to the words in vocab\n",
        "vocab_to_index = {unique_word:idx for (idx, unique_word) in enumerate(vocab)}\n",
        "index_to_vocab = np.array(vocab)\n",
        "\n",
        "# convert tokens to numbers\n",
        "text_as_int = np.array([vocab_to_index[word] for word in tokenized_text])\n",
        "\n",
        "# create representational matrices as variable tensors\n",
        "context_vector_matrix = tf.Variable(\n",
        "    np.random.rand(tokenized_text_size, config.EMBEDDING_SIZE)\n",
        ")\n",
        "center_vector_matrix = tf.Variable(\n",
        "    np.random.rand(tokenized_text_size, config.EMBEDDING_SIZE)\n",
        ")"
      ],
      "metadata": {
        "id": "0r75yOLnXVVM"
      },
      "execution_count": 34,
      "outputs": []
    },
    {
      "cell_type": "code",
      "source": [
        "# init optimizer and list for log loss\n",
        "optimizer = tf.optimizers.Adam()\n",
        "loss_list = list()\n",
        "\n",
        "# loop over training epochs\n",
        "print(\"[INFO] Starting SkipGram training...\")\n",
        "for iter in tqdm(range(config.ITERATIONS)):\n",
        "    # init loss per epoch\n",
        "    loss_per_epoch = 0\n",
        "\n",
        "    # window for center vector prediction is created\n",
        "    for start in range(tokenized_text_size - config.WINDOW_SIZE):\n",
        "        # generate indices for this window\n",
        "        indices = text_as_int[start:start + config.WINDOW_SIZE]\n",
        "\n",
        "        # init gradient tape\n",
        "        with tf.GradientTape() as tape:\n",
        "            # init context loss\n",
        "            loss = 0\n",
        "\n",
        "            # grab center word vector\n",
        "            # and matmul the context embeddings with center word vector\n",
        "            center_vector = center_vector_matrix[\n",
        "                indices[config.WINDOW_SIZE // 2], :\n",
        "            ]\n",
        "            output = tf.matmul(\n",
        "                context_vector_matrix, tf.expand_dims(center_vector, 1)\n",
        "            )\n",
        "\n",
        "            # pass output through softmax\n",
        "            softmax_output = tf.nn.softmax(output, axis=0)\n",
        "\n",
        "            # loop over indices of neighboring words\n",
        "            # update  context loss w.r.t each neighbor\n",
        "            for (count, idx) in enumerate(indices):\n",
        "                if count != config.WINDOW_SIZE // 2:\n",
        "                    loss += softmax_output[idx]\n",
        "\n",
        "            # calculate log loss\n",
        "            log_loss = -tf.math.log(loss)\n",
        "\n",
        "        # update loss per epoch\n",
        "        loss_per_epoch += log_loss.numpy()\n",
        "\n",
        "        # apply gradients to embedding matrices\n",
        "        grad = tape.gradient(\n",
        "            log_loss, [context_vector_matrix, center_vector_matrix]\n",
        "        )\n",
        "        optimizer.apply_gradients(\n",
        "            zip(grad, [context_vector_matrix, center_vector_matrix])\n",
        "        )\n",
        "\n",
        "    # update loss list\n",
        "    loss_list.append(loss_per_epoch)\n"
      ],
      "metadata": {
        "colab": {
          "base_uri": "https://localhost:8080/"
        },
        "id": "W7vdnQMaXYBf",
        "outputId": "c6bc3e01-fa20-4957-98ca-b04e1f31ebb7"
      },
      "execution_count": 35,
      "outputs": [
        {
          "output_type": "stream",
          "name": "stdout",
          "text": [
            "[INFO] Starting SkipGram training...\n"
          ]
        },
        {
          "output_type": "stream",
          "name": "stderr",
          "text": [
            "100%|██████████| 200/200 [17:34<00:00,  5.27s/it]\n"
          ]
        }
      ]
    },
    {
      "cell_type": "code",
      "source": [
        "# plot the loss for evaluation\n",
        "print(\"[INFO] Plotting loss...\")\n",
        "plt.plot(loss_list)\n",
        "plt.xlabel(\"epoch\")\n",
        "plt.ylabel(\"loss\")"
      ],
      "metadata": {
        "colab": {
          "base_uri": "https://localhost:8080/",
          "height": 487
        },
        "id": "cpQs8c8FZbrE",
        "outputId": "56747278-538e-4c0f-fb12-8b0fbc79f32a"
      },
      "execution_count": 37,
      "outputs": [
        {
          "output_type": "stream",
          "name": "stdout",
          "text": [
            "[INFO] Plotting loss...\n"
          ]
        },
        {
          "output_type": "execute_result",
          "data": {
            "text/plain": [
              "Text(0, 0.5, 'loss')"
            ]
          },
          "metadata": {},
          "execution_count": 37
        },
        {
          "output_type": "display_data",
          "data": {
            "text/plain": [
              "<Figure size 640x480 with 1 Axes>"
            ],
            "image/png": "[encoded data removed]"
          },
          "metadata": {}
        }
      ]
    },
    {
      "cell_type": "code",
      "source": [
        "# apply dimensional reductionality using tsne for the\n",
        "# representation matrices\n",
        "tsne_embed = (\n",
        "\tTSNE(n_components=2)\n",
        "\t.fit_transform(center_vector_matrix.numpy())\n",
        ")\n",
        "tsne_decode = (\n",
        "\tTSNE(n_components=2)\n",
        "\t.fit_transform(context_vector_matrix.numpy())\n",
        ")"
      ],
      "metadata": {
        "id": "xkFR079VZgtr"
      },
      "execution_count": 38,
      "outputs": []
    },
    {
      "cell_type": "code",
      "source": [
        "# build a dataset of tsne for plotly\n",
        "skip_tsne_df = pd.DataFrame(\n",
        "    {\n",
        "        \"x\": tsne_embed[:100, 0],\n",
        "        \"y\": tsne_embed[:100, 1],\n",
        "        \"word\": index_to_vocab[list(range(100))]\n",
        "    }\n",
        ")"
      ],
      "metadata": {
        "id": "mB-qcgeMZrEx"
      },
      "execution_count": 41,
      "outputs": []
    },
    {
      "cell_type": "code",
      "source": [
        "# plot tsne\n",
        "px.scatter(data_frame=skip_tsne_df, x=\"x\", y=\"y\", hover_data=\"word\")"
      ],
      "metadata": {
        "colab": {
          "base_uri": "https://localhost:8080/",
          "height": 542
        },
        "id": "6TYZAGsuZwlL",
        "outputId": "61d40fbd-9297-4947-a61e-2cf2d4f5afc0"
      },
      "execution_count": 42,
      "outputs": [
        {
          "output_type": "display_data",
          "data": {
            "text/html": [
              "<html>\n",
              "<head><meta charset=\"utf-8\" /></head>\n",
              "<body>\n",
              "    <div>            <script src=\"https://cdnjs.cloudflare.com/ajax/libs/mathjax/2.7.5/MathJax.js?config=TeX-AMS-MML_SVG\"></script><script type=\"text/javascript\">if (window.MathJax && window.MathJax.Hub && window.MathJax.Hub.Config) {window.MathJax.Hub.Config({SVG: {font: \"STIX-Web\"}});}</script>                <script type=\"text/javascript\">window.PlotlyConfig = {MathJaxConfig: 'local'};</script>\n",
              "        <script charset=\"utf-8\" src=\"https://cdn.plot.ly/plotly-2.24.1.min.js\"></script>                <div id=\"c6c3a2bb-c0fc-48fb-9c18-c181dbb93a9e\" class=\"plotly-graph-div\" style=\"height:525px; width:100%;\"></div>            <script type=\"text/javascript\">                                    window.PLOTLYENV=window.PLOTLYENV || {};                                    if (document.getElementById(\"c6c3a2bb-c0fc-48fb-9c18-c181dbb93a9e\")) {                    Plotly.newPlot(                        \"c6c3a2bb-c0fc-48fb-9c18-c181dbb93a9e\",                        [{\"customdata\":[[\"1867\"],[\"1891\"],[\"1895\"],[\"1906\"],[\"1911\"],[\"a\"],[\"about\"],[\"accomplished\"],[\"after\"],[\"age\"],[\"although\"],[\"amicable\"],[\"an\"],[\"and\"],[\"anguish\"],[\"as\"],[\"asked\"],[\"at\"],[\"atom\"],[\"be\"],[\"became\"],[\"began\"],[\"blithe\"],[\"born\"],[\"brilliant\"],[\"by\"],[\"cancer\"],[\"chemistry\"],[\"close\"],[\"closed\"],[\"collaboration\"],[\"consequences\"],[\"continue\"],[\"curie\"],[\"curie\\u2019s\"],[\"daughters\"],[\"day\"],[\"dedicated\"],[\"defiantly\"],[\"degree\"],[\"desolation\"],[\"despondently\"],[\"determined\"],[\"discovered\"],[\"disgruntled\"],[\"disillusioned\"],[\"displayed\"],[\"distress\"],[\"doctorate\"],[\"drawn\"],[\"early\"],[\"earned\"],[\"education\"],[\"element\"],[\"endured\"],[\"entered\"],[\"eventually\"],[\"exposure\"],[\"exuberance\"],[\"fact\"],[\"fade\"],[\"famous\"],[\"fatal\"],[\"father\"],[\"feeling\"],[\"finally\"],[\"first\"],[\"for\"],[\"fortunate\"],[\"french\"],[\"from\"],[\"given\"],[\"great\"],[\"greatest\"],[\"greatly\"],[\"had\"],[\"have\"],[\"heartbreaking\"],[\"helped\"],[\"her\"],[\"herself\"],[\"high\"],[\"higher\"],[\"history\"],[\"horrible\"],[\"horse\"],[\"however\"],[\"husband\"],[\"illness\"],[\"in\"],[\"increased\"],[\"isolating\"],[\"joy\"],[\"killed\"],[\"laboratory\"],[\"later\"],[\"learned\"],[\"learning\"],[\"left\"],[\"long\"]],\"hovertemplate\":\"x=%{x}\\u003cbr\\u003ey=%{y}\\u003cbr\\u003eword=%{customdata[0]}\\u003cextra\\u003e\\u003c\\u002fextra\\u003e\",\"legendgroup\":\"\",\"marker\":{\"color\":\"#636efa\",\"symbol\":\"circle\"},\"mode\":\"markers\",\"name\":\"\",\"orientation\":\"v\",\"showlegend\":false,\"x\":[-19.25541114807129,-0.7656569480895996,-0.9803068041801453,-19.518095016479492,21.291362762451172,3.191581964492798,6.522590637207031,-18.888540267944336,-0.8717069029808044,21.671646118164062,3.6739797592163086,-0.7009822726249695,4.552511692047119,1.1807646751403809,20.936176300048828,7.138765811920166,20.851831436157227,-3.7296535968780518,-4.9327874183654785,12.333413124084473,20.94910430908203,11.84521198272705,7.673091888427734,-19.696674346923828,-0.6960827708244324,3.662898063659668,-1.2205140590667725,-19.12942123413086,-1.3291659355163574,11.916199684143066,-7.581065654754639,20.332233428955078,6.74331521987915,3.6730213165283203,7.5890045166015625,11.861787796020508,-4.607405662536621,21.372304916381836,20.502065658569336,-1.0812292098999023,-5.667542934417725,20.257410049438477,12.196916580200195,-7.16513204574585,20.781631469726562,6.459083080291748,20.331077575683594,6.542418003082275,-18.512765884399414,-19.553123474121094,21.083114624023438,21.632904052734375,21.26797103881836,-5.6459059715271,-1.2739118337631226,-18.445016860961914,3.6745212078094482,7.570906162261963,6.628036975860596,19.647212982177734,21.086368560791016,-19.0052547454834,9.259312629699707,7.15923547744751,-5.704630374908447,-5.699466228485107,-4.68355655670166,-4.497979164123535,12.47127914428711,9.259952545166016,6.448976039886475,12.186785697937012,7.151722431182861,-4.0688066482543945,6.624183654785156,-9.447433471679688,12.05810260772705,-1.5500671863555908,11.879606246948242,-0.286215603351593,3.471874952316284,20.30878448486328,20.492774963378906,-18.43423080444336,-0.6859308481216431,9.259448051452637,20.89427375793457,7.6047043800354,6.5934038162231445,0.7314245104789734,6.642251014709473,-3.537061929702759,-1.08892822265625,5.6295366287231445,-4.44618558883667,11.953422546386719,-4.942138195037842,7.233126640319824,20.720529556274414,7.242987155914307],\"xaxis\":\"x\",\"y\":[3.71703839302063,18.95600700378418,18.504756927490234,3.762653350830078,15.585305213928223,-3.8166844844818115,-23.88785743713379,3.7168142795562744,-3.4036026000976562,15.32752799987793,8.417344093322754,18.009553909301758,-2.941608190536499,-5.957131385803223,15.530895233154297,-23.917234420776367,15.996676445007324,-5.42458963394165,-12.483807563781738,-6.612853050231934,14.758137702941895,-6.254776954650879,-23.653282165527344,4.3369832038879395,17.780986785888672,5.4283766746521,18.12152862548828,4.3536248207092285,17.782150268554688,-6.388492584228516,0.8629968762397766,14.689959526062012,-23.569438934326172,8.417739868164062,-23.624929428100586,-5.995938777923584,-3.8317835330963135,15.92239761352539,15.168217658996582,17.773292541503906,-5.70281982421875,15.633689880371094,-6.359862804412842,4.6972575187683105,14.8624849319458,-23.638221740722656,15.717584609985352,-23.200719833374023,3.637190818786621,4.002808570861816,14.648991584777832,16.063995361328125,16.11174201965332,-1.1504559516906738,18.584014892578125,3.810858726501465,8.416626930236816,-22.937803268432617,-23.88825035095215,15.358663558959961,15.442231178283691,3.597168445587158,1.1935516595840454,-23.92645835876465,-5.706610679626465,-5.709902763366699,-12.098007202148438,6.451918601989746,-6.433152675628662,1.1952438354492188,-23.04950714111328,-6.279618740081787,-23.08083152770996,-5.795505523681641,-23.04351806640625,2.678290605545044,-6.90921688079834,18.25523567199707,-6.709341526031494,-5.871234893798828,5.465306282043457,15.013484001159668,15.833772659301758,4.230405807495117,18.108606338500977,1.1936362981796265,15.968717575073242,-23.99696922302246,-23.532472610473633,7.070085048675537,-22.803672790527344,8.642851829528809,18.745370864868164,5.318268775939941,-12.24009895324707,-6.854011058807373,-12.671902656555176,-23.107379913330078,16.02898406982422,-22.731016159057617],\"yaxis\":\"y\",\"type\":\"scatter\"}],                        {\"template\":{\"data\":{\"histogram2dcontour\":[{\"type\":\"histogram2dcontour\",\"colorbar\":{\"outlinewidth\":0,\"ticks\":\"\"},\"colorscale\":[[0.0,\"#0d0887\"],[0.1111111111111111,\"#46039f\"],[0.2222222222222222,\"#7201a8\"],[0.3333333333333333,\"#9c179e\"],[0.4444444444444444,\"#bd3786\"],[0.5555555555555556,\"#d8576b\"],[0.6666666666666666,\"#ed7953\"],[0.7777777777777778,\"#fb9f3a\"],[0.8888888888888888,\"#fdca26\"],[1.0,\"#f0f921\"]]}],\"choropleth\":[{\"type\":\"choropleth\",\"colorbar\":{\"outlinewidth\":0,\"ticks\":\"\"}}],\"histogram2d\":[{\"type\":\"histogram2d\",\"colorbar\":{\"outlinewidth\":0,\"ticks\":\"\"},\"colorscale\":[[0.0,\"#0d0887\"],[0.1111111111111111,\"#46039f\"],[0.2222222222222222,\"#7201a8\"],[0.3333333333333333,\"#9c179e\"],[0.4444444444444444,\"#bd3786\"],[0.5555555555555556,\"#d8576b\"],[0.6666666666666666,\"#ed7953\"],[0.7777777777777778,\"#fb9f3a\"],[0.8888888888888888,\"#fdca26\"],[1.0,\"#f0f921\"]]}],\"heatmap\":[{\"type\":\"heatmap\",\"colorbar\":{\"outlinewidth\":0,\"ticks\":\"\"},\"colorscale\":[[0.0,\"#0d0887\"],[0.1111111111111111,\"#46039f\"],[0.2222222222222222,\"#7201a8\"],[0.3333333333333333,\"#9c179e\"],[0.4444444444444444,\"#bd3786\"],[0.5555555555555556,\"#d8576b\"],[0.6666666666666666,\"#ed7953\"],[0.7777777777777778,\"#fb9f3a\"],[0.8888888888888888,\"#fdca26\"],[1.0,\"#f0f921\"]]}],\"heatmapgl\":[{\"type\":\"heatmapgl\",\"colorbar\":{\"outlinewidth\":0,\"ticks\":\"\"},\"colorscale\":[[0.0,\"#0d0887\"],[0.1111111111111111,\"#46039f\"],[0.2222222222222222,\"#7201a8\"],[0.3333333333333333,\"#9c179e\"],[0.4444444444444444,\"#bd3786\"],[0.5555555555555556,\"#d8576b\"],[0.6666666666666666,\"#ed7953\"],[0.7777777777777778,\"#fb9f3a\"],[0.8888888888888888,\"#fdca26\"],[1.0,\"#f0f921\"]]}],\"contourcarpet\":[{\"type\":\"contourcarpet\",\"colorbar\":{\"outlinewidth\":0,\"ticks\":\"\"}}],\"contour\":[{\"type\":\"contour\",\"colorbar\":{\"outlinewidth\":0,\"ticks\":\"\"},\"colorscale\":[[0.0,\"#0d0887\"],[0.1111111111111111,\"#46039f\"],[0.2222222222222222,\"#7201a8\"],[0.3333333333333333,\"#9c179e\"],[0.4444444444444444,\"#bd3786\"],[0.5555555555555556,\"#d8576b\"],[0.6666666666666666,\"#ed7953\"],[0.7777777777777778,\"#fb9f3a\"],[0.8888888888888888,\"#fdca26\"],[1.0,\"#f0f921\"]]}],\"surface\":[{\"type\":\"surface\",\"colorbar\":{\"outlinewidth\":0,\"ticks\":\"\"},\"colorscale\":[[0.0,\"#0d0887\"],[0.1111111111111111,\"#46039f\"],[0.2222222222222222,\"#7201a8\"],[0.3333333333333333,\"#9c179e\"],[0.4444444444444444,\"#bd3786\"],[0.5555555555555556,\"#d8576b\"],[0.6666666666666666,\"#ed7953\"],[0.7777777777777778,\"#fb9f3a\"],[0.8888888888888888,\"#fdca26\"],[1.0,\"#f0f921\"]]}],\"mesh3d\":[{\"type\":\"mesh3d\",\"colorbar\":{\"outlinewidth\":0,\"ticks\":\"\"}}],\"scatter\":[{\"fillpattern\":{\"fillmode\":\"overlay\",\"size\":10,\"solidity\":0.2},\"type\":\"scatter\"}],\"parcoords\":[{\"type\":\"parcoords\",\"line\":{\"colorbar\":{\"outlinewidth\":0,\"ticks\":\"\"}}}],\"scatterpolargl\":[{\"type\":\"scatterpolargl\",\"marker\":{\"colorbar\":{\"outlinewidth\":0,\"ticks\":\"\"}}}],\"bar\":[{\"error_x\":{\"color\":\"#2a3f5f\"},\"error_y\":{\"color\":\"#2a3f5f\"},\"marker\":{\"line\":{\"color\":\"#E5ECF6\",\"width\":0.5},\"pattern\":{\"fillmode\":\"overlay\",\"size\":10,\"solidity\":0.2}},\"type\":\"bar\"}],\"scattergeo\":[{\"type\":\"scattergeo\",\"marker\":{\"colorbar\":{\"outlinewidth\":0,\"ticks\":\"\"}}}],\"scatterpolar\":[{\"type\":\"scatterpolar\",\"marker\":{\"colorbar\":{\"outlinewidth\":0,\"ticks\":\"\"}}}],\"histogram\":[{\"marker\":{\"pattern\":{\"fillmode\":\"overlay\",\"size\":10,\"solidity\":0.2}},\"type\":\"histogram\"}],\"scattergl\":[{\"type\":\"scattergl\",\"marker\":{\"colorbar\":{\"outlinewidth\":0,\"ticks\":\"\"}}}],\"scatter3d\":[{\"type\":\"scatter3d\",\"line\":{\"colorbar\":{\"outlinewidth\":0,\"ticks\":\"\"}},\"marker\":{\"colorbar\":{\"outlinewidth\":0,\"ticks\":\"\"}}}],\"scattermapbox\":[{\"type\":\"scattermapbox\",\"marker\":{\"colorbar\":{\"outlinewidth\":0,\"ticks\":\"\"}}}],\"scatterternary\":[{\"type\":\"scatterternary\",\"marker\":{\"colorbar\":{\"outlinewidth\":0,\"ticks\":\"\"}}}],\"scattercarpet\":[{\"type\":\"scattercarpet\",\"marker\":{\"colorbar\":{\"outlinewidth\":0,\"ticks\":\"\"}}}],\"carpet\":[{\"aaxis\":{\"endlinecolor\":\"#2a3f5f\",\"gridcolor\":\"white\",\"linecolor\":\"white\",\"minorgridcolor\":\"white\",\"startlinecolor\":\"#2a3f5f\"},\"baxis\":{\"endlinecolor\":\"#2a3f5f\",\"gridcolor\":\"white\",\"linecolor\":\"white\",\"minorgridcolor\":\"white\",\"startlinecolor\":\"#2a3f5f\"},\"type\":\"carpet\"}],\"table\":[{\"cells\":{\"fill\":{\"color\":\"#EBF0F8\"},\"line\":{\"color\":\"white\"}},\"header\":{\"fill\":{\"color\":\"#C8D4E3\"},\"line\":{\"color\":\"white\"}},\"type\":\"table\"}],\"barpolar\":[{\"marker\":{\"line\":{\"color\":\"#E5ECF6\",\"width\":0.5},\"pattern\":{\"fillmode\":\"overlay\",\"size\":10,\"solidity\":0.2}},\"type\":\"barpolar\"}],\"pie\":[{\"automargin\":true,\"type\":\"pie\"}]},\"layout\":{\"autotypenumbers\":\"strict\",\"colorway\":[\"#636efa\",\"#EF553B\",\"#00cc96\",\"#ab63fa\",\"#FFA15A\",\"#19d3f3\",\"#FF6692\",\"#B6E880\",\"#FF97FF\",\"#FECB52\"],\"font\":{\"color\":\"#2a3f5f\"},\"hovermode\":\"closest\",\"hoverlabel\":{\"align\":\"left\"},\"paper_bgcolor\":\"white\",\"plot_bgcolor\":\"#E5ECF6\",\"polar\":{\"bgcolor\":\"#E5ECF6\",\"angularaxis\":{\"gridcolor\":\"white\",\"linecolor\":\"white\",\"ticks\":\"\"},\"radialaxis\":{\"gridcolor\":\"white\",\"linecolor\":\"white\",\"ticks\":\"\"}},\"ternary\":{\"bgcolor\":\"#E5ECF6\",\"aaxis\":{\"gridcolor\":\"white\",\"linecolor\":\"white\",\"ticks\":\"\"},\"baxis\":{\"gridcolor\":\"white\",\"linecolor\":\"white\",\"ticks\":\"\"},\"caxis\":{\"gridcolor\":\"white\",\"linecolor\":\"white\",\"ticks\":\"\"}},\"coloraxis\":{\"colorbar\":{\"outlinewidth\":0,\"ticks\":\"\"}},\"colorscale\":{\"sequential\":[[0.0,\"#0d0887\"],[0.1111111111111111,\"#46039f\"],[0.2222222222222222,\"#7201a8\"],[0.3333333333333333,\"#9c179e\"],[0.4444444444444444,\"#bd3786\"],[0.5555555555555556,\"#d8576b\"],[0.6666666666666666,\"#ed7953\"],[0.7777777777777778,\"#fb9f3a\"],[0.8888888888888888,\"#fdca26\"],[1.0,\"#f0f921\"]],\"sequentialminus\":[[0.0,\"#0d0887\"],[0.1111111111111111,\"#46039f\"],[0.2222222222222222,\"#7201a8\"],[0.3333333333333333,\"#9c179e\"],[0.4444444444444444,\"#bd3786\"],[0.5555555555555556,\"#d8576b\"],[0.6666666666666666,\"#ed7953\"],[0.7777777777777778,\"#fb9f3a\"],[0.8888888888888888,\"#fdca26\"],[1.0,\"#f0f921\"]],\"diverging\":[[0,\"#8e0152\"],[0.1,\"#c51b7d\"],[0.2,\"#de77ae\"],[0.3,\"#f1b6da\"],[0.4,\"#fde0ef\"],[0.5,\"#f7f7f7\"],[0.6,\"#e6f5d0\"],[0.7,\"#b8e186\"],[0.8,\"#7fbc41\"],[0.9,\"#4d9221\"],[1,\"#276419\"]]},\"xaxis\":{\"gridcolor\":\"white\",\"linecolor\":\"white\",\"ticks\":\"\",\"title\":{\"standoff\":15},\"zerolinecolor\":\"white\",\"automargin\":true,\"zerolinewidth\":2},\"yaxis\":{\"gridcolor\":\"white\",\"linecolor\":\"white\",\"ticks\":\"\",\"title\":{\"standoff\":15},\"zerolinecolor\":\"white\",\"automargin\":true,\"zerolinewidth\":2},\"scene\":{\"xaxis\":{\"backgroundcolor\":\"#E5ECF6\",\"gridcolor\":\"white\",\"linecolor\":\"white\",\"showbackground\":true,\"ticks\":\"\",\"zerolinecolor\":\"white\",\"gridwidth\":2},\"yaxis\":{\"backgroundcolor\":\"#E5ECF6\",\"gridcolor\":\"white\",\"linecolor\":\"white\",\"showbackground\":true,\"ticks\":\"\",\"zerolinecolor\":\"white\",\"gridwidth\":2},\"zaxis\":{\"backgroundcolor\":\"#E5ECF6\",\"gridcolor\":\"white\",\"linecolor\":\"white\",\"showbackground\":true,\"ticks\":\"\",\"zerolinecolor\":\"white\",\"gridwidth\":2}},\"shapedefaults\":{\"line\":{\"color\":\"#2a3f5f\"}},\"annotationdefaults\":{\"arrowcolor\":\"#2a3f5f\",\"arrowhead\":0,\"arrowwidth\":1},\"geo\":{\"bgcolor\":\"white\",\"landcolor\":\"#E5ECF6\",\"subunitcolor\":\"white\",\"showland\":true,\"showlakes\":true,\"lakecolor\":\"white\"},\"title\":{\"x\":0.05},\"mapbox\":{\"style\":\"light\"}}},\"xaxis\":{\"anchor\":\"y\",\"domain\":[0.0,1.0],\"title\":{\"text\":\"x\"}},\"yaxis\":{\"anchor\":\"x\",\"domain\":[0.0,1.0],\"title\":{\"text\":\"y\"}},\"legend\":{\"tracegroupgap\":0},\"margin\":{\"t\":60}},                        {\"responsive\": true}                    ).then(function(){\n",
              "                            \n",
              "var gd = document.getElementById('c6c3a2bb-c0fc-48fb-9c18-c181dbb93a9e');\n",
              "var x = new MutationObserver(function (mutations, observer) {{\n",
              "        var display = window.getComputedStyle(gd).display;\n",
              "        if (!display || display === 'none') {{\n",
              "            console.log([gd, 'removed!']);\n",
              "            Plotly.purge(gd);\n",
              "            observer.disconnect();\n",
              "        }}\n",
              "}});\n",
              "\n",
              "// Listen for the removal of the full notebook cells\n",
              "var notebookContainer = gd.closest('#notebook-container');\n",
              "if (notebookContainer) {{\n",
              "    x.observe(notebookContainer, {childList: true});\n",
              "}}\n",
              "\n",
              "// Listen for the clearing of the current output cell\n",
              "var outputEl = gd.closest('.output');\n",
              "if (outputEl) {{\n",
              "    x.observe(outputEl, {childList: true});\n",
              "}}\n",
              "\n",
              "                        })                };                            </script>        </div>\n",
              "</body>\n",
              "</html>"
            ]
          },
          "metadata": {}
        }
      ]
    },
    {
      "cell_type": "code",
      "source": [],
      "metadata": {
        "id": "zEzWq4KXd7h-"
      },
      "execution_count": null,
      "outputs": []
    }
  ]
}